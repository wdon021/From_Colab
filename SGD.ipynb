{
  "nbformat": 4,
  "nbformat_minor": 0,
  "metadata": {
    "colab": {
      "name": "SGD",
      "provenance": [],
      "include_colab_link": true
    },
    "kernelspec": {
      "name": "python3",
      "display_name": "Python 3"
    },
    "accelerator": "GPU"
  },
  "cells": [
    {
      "cell_type": "markdown",
      "metadata": {
        "id": "view-in-github",
        "colab_type": "text"
      },
      "source": [
        "<a href=\"https://colab.research.google.com/github/wdon021/From_Colab/blob/master/SGD.ipynb\" target=\"_parent\"><img src=\"https://colab.research.google.com/assets/colab-badge.svg\" alt=\"Open In Colab\"/></a>"
      ]
    },
    {
      "cell_type": "code",
      "metadata": {
        "id": "gxTEQWPD8O0N",
        "colab_type": "code",
        "outputId": "d15085c4-f046-44b6-d1b4-eac440cd90e4",
        "colab": {
          "base_uri": "https://localhost:8080/",
          "height": 34
        }
      },
      "source": [
        "!which python3"
      ],
      "execution_count": 0,
      "outputs": [
        {
          "output_type": "stream",
          "text": [
            "/usr/bin/python3\n"
          ],
          "name": "stdout"
        }
      ]
    },
    {
      "cell_type": "code",
      "metadata": {
        "id": "9-V34rrw8vGg",
        "colab_type": "code",
        "outputId": "07398b40-b9ab-4f41-c0d8-8cbeba6eacb7",
        "colab": {
          "base_uri": "https://localhost:8080/",
          "height": 156
        }
      },
      "source": [
        "!pip install torchvision==0.2.2"
      ],
      "execution_count": 2,
      "outputs": [
        {
          "output_type": "stream",
          "text": [
            "Requirement already satisfied: torchvision==0.2.2 in /usr/local/lib/python3.6/dist-packages (0.2.2)\n",
            "Requirement already satisfied: tqdm==4.19.9 in /usr/local/lib/python3.6/dist-packages (from torchvision==0.2.2) (4.19.9)\n",
            "Requirement already satisfied: pillow>=4.1.1 in /usr/local/lib/python3.6/dist-packages (from torchvision==0.2.2) (4.3.0)\n",
            "Requirement already satisfied: six in /usr/local/lib/python3.6/dist-packages (from torchvision==0.2.2) (1.12.0)\n",
            "Requirement already satisfied: numpy in /usr/local/lib/python3.6/dist-packages (from torchvision==0.2.2) (1.17.3)\n",
            "Requirement already satisfied: torch in /usr/local/lib/python3.6/dist-packages (from torchvision==0.2.2) (1.3.0+cu100)\n",
            "Requirement already satisfied: olefile in /usr/local/lib/python3.6/dist-packages (from pillow>=4.1.1->torchvision==0.2.2) (0.46)\n"
          ],
          "name": "stdout"
        }
      ]
    },
    {
      "cell_type": "code",
      "metadata": {
        "id": "1ffpskvG9yyb",
        "colab_type": "code",
        "outputId": "199de7f2-a8b1-443b-aafd-5957a222ae27",
        "colab": {
          "base_uri": "https://localhost:8080/",
          "height": 34
        }
      },
      "source": [
        "import torchvision\n",
        "print(torchvision)"
      ],
      "execution_count": 6,
      "outputs": [
        {
          "output_type": "stream",
          "text": [
            "<module 'torchvision' from '/usr/local/lib/python3.6/dist-packages/torchvision/__init__.py'>\n"
          ],
          "name": "stdout"
        }
      ]
    },
    {
      "cell_type": "code",
      "metadata": {
        "id": "ui2vXmon-vQP",
        "colab_type": "code",
        "colab": {
          "base_uri": "https://localhost:8080/",
          "height": 1000
        },
        "outputId": "8bd350d5-df2a-48c6-bdb2-ed24b315c093"
      },
      "source": [
        "!pip install fastai==0.7.0"
      ],
      "execution_count": 7,
      "outputs": [
        {
          "output_type": "stream",
          "text": [
            "Collecting fastai==0.7.0\n",
            "\u001b[?25l  Downloading https://files.pythonhosted.org/packages/50/6d/9d0d6e17a78b0598d5e8c49a0d03ffc7ff265ae62eca3e2345fab14edb9b/fastai-0.7.0-py3-none-any.whl (112kB)\n",
            "\r\u001b[K     |███                             | 10kB 17.0MB/s eta 0:00:01\r\u001b[K     |█████▉                          | 20kB 1.6MB/s eta 0:00:01\r\u001b[K     |████████▊                       | 30kB 2.4MB/s eta 0:00:01\r\u001b[K     |███████████▋                    | 40kB 1.7MB/s eta 0:00:01\r\u001b[K     |██████████████▌                 | 51kB 2.0MB/s eta 0:00:01\r\u001b[K     |█████████████████▍              | 61kB 2.4MB/s eta 0:00:01\r\u001b[K     |████████████████████▍           | 71kB 2.8MB/s eta 0:00:01\r\u001b[K     |███████████████████████▎        | 81kB 3.2MB/s eta 0:00:01\r\u001b[K     |██████████████████████████▏     | 92kB 3.6MB/s eta 0:00:01\r\u001b[K     |█████████████████████████████   | 102kB 2.9MB/s eta 0:00:01\r\u001b[K     |████████████████████████████████| 112kB 2.9MB/s eta 0:00:01\r\u001b[K     |████████████████████████████████| 122kB 2.9MB/s \n",
            "\u001b[?25hRequirement already satisfied: certifi in /usr/local/lib/python3.6/dist-packages (from fastai==0.7.0) (2019.9.11)\n",
            "Requirement already satisfied: Pygments in /usr/local/lib/python3.6/dist-packages (from fastai==0.7.0) (2.1.3)\n",
            "Requirement already satisfied: bleach in /usr/local/lib/python3.6/dist-packages (from fastai==0.7.0) (3.1.0)\n",
            "Requirement already satisfied: Jinja2 in /usr/local/lib/python3.6/dist-packages (from fastai==0.7.0) (2.10.3)\n",
            "Requirement already satisfied: plotnine in /usr/local/lib/python3.6/dist-packages (from fastai==0.7.0) (0.5.1)\n",
            "Requirement already satisfied: webencodings in /usr/local/lib/python3.6/dist-packages (from fastai==0.7.0) (0.5.1)\n",
            "Requirement already satisfied: decorator in /usr/local/lib/python3.6/dist-packages (from fastai==0.7.0) (4.4.1)\n",
            "Requirement already satisfied: opencv-python in /usr/local/lib/python3.6/dist-packages (from fastai==0.7.0) (3.4.7.28)\n",
            "Requirement already satisfied: pandas in /usr/local/lib/python3.6/dist-packages (from fastai==0.7.0) (0.25.3)\n",
            "Requirement already satisfied: seaborn in /usr/local/lib/python3.6/dist-packages (from fastai==0.7.0) (0.9.0)\n",
            "Collecting pandas-summary\n",
            "  Downloading https://files.pythonhosted.org/packages/f5/20/865d4785f86e86f7ad7ebd52fc14810ef59ef13cd959f1363a2615d1c665/pandas_summary-0.0.7-py2.py3-none-any.whl\n",
            "Requirement already satisfied: Pillow in /usr/local/lib/python3.6/dist-packages (from fastai==0.7.0) (4.3.0)\n",
            "Requirement already satisfied: traitlets in /usr/local/lib/python3.6/dist-packages (from fastai==0.7.0) (4.3.3)\n",
            "Requirement already satisfied: feather-format in /usr/local/lib/python3.6/dist-packages (from fastai==0.7.0) (0.4.0)\n",
            "Requirement already satisfied: entrypoints in /usr/local/lib/python3.6/dist-packages (from fastai==0.7.0) (0.3)\n",
            "Requirement already satisfied: pytz in /usr/local/lib/python3.6/dist-packages (from fastai==0.7.0) (2018.9)\n",
            "Requirement already satisfied: cycler in /usr/local/lib/python3.6/dist-packages (from fastai==0.7.0) (0.10.0)\n",
            "Requirement already satisfied: scipy in /usr/local/lib/python3.6/dist-packages (from fastai==0.7.0) (1.3.1)\n",
            "Collecting bcolz\n",
            "\u001b[?25l  Downloading https://files.pythonhosted.org/packages/5c/4e/23942de9d5c0fb16f10335fa83e52b431bcb8c0d4a8419c9ac206268c279/bcolz-1.2.1.tar.gz (1.5MB)\n",
            "\r\u001b[K     |▎                               | 10kB 31.6MB/s eta 0:00:01\r\u001b[K     |▌                               | 20kB 38.4MB/s eta 0:00:01\r\u001b[K     |▊                               | 30kB 44.9MB/s eta 0:00:01\r\u001b[K     |█                               | 40kB 49.6MB/s eta 0:00:01\r\u001b[K     |█▏                              | 51kB 53.0MB/s eta 0:00:01\r\u001b[K     |█▍                              | 61kB 56.2MB/s eta 0:00:01\r\u001b[K     |█▋                              | 71kB 58.5MB/s eta 0:00:01\r\u001b[K     |█▉                              | 81kB 57.9MB/s eta 0:00:01\r\u001b[K     |██                              | 92kB 58.9MB/s eta 0:00:01\r\u001b[K     |██▎                             | 102kB 60.6MB/s eta 0:00:01\r\u001b[K     |██▌                             | 112kB 60.6MB/s eta 0:00:01\r\u001b[K     |██▊                             | 122kB 60.6MB/s eta 0:00:01\r\u001b[K     |███                             | 133kB 60.6MB/s eta 0:00:01\r\u001b[K     |███▏                            | 143kB 60.6MB/s eta 0:00:01\r\u001b[K     |███▍                            | 153kB 60.6MB/s eta 0:00:01\r\u001b[K     |███▋                            | 163kB 60.6MB/s eta 0:00:01\r\u001b[K     |███▉                            | 174kB 60.6MB/s eta 0:00:01\r\u001b[K     |████                            | 184kB 60.6MB/s eta 0:00:01\r\u001b[K     |████▎                           | 194kB 60.6MB/s eta 0:00:01\r\u001b[K     |████▌                           | 204kB 60.6MB/s eta 0:00:01\r\u001b[K     |████▊                           | 215kB 60.6MB/s eta 0:00:01\r\u001b[K     |█████                           | 225kB 60.6MB/s eta 0:00:01\r\u001b[K     |█████▏                          | 235kB 60.6MB/s eta 0:00:01\r\u001b[K     |█████▍                          | 245kB 60.6MB/s eta 0:00:01\r\u001b[K     |█████▋                          | 256kB 60.6MB/s eta 0:00:01\r\u001b[K     |█████▉                          | 266kB 60.6MB/s eta 0:00:01\r\u001b[K     |██████                          | 276kB 60.6MB/s eta 0:00:01\r\u001b[K     |██████▎                         | 286kB 60.6MB/s eta 0:00:01\r\u001b[K     |██████▌                         | 296kB 60.6MB/s eta 0:00:01\r\u001b[K     |██████▊                         | 307kB 60.6MB/s eta 0:00:01\r\u001b[K     |███████                         | 317kB 60.6MB/s eta 0:00:01\r\u001b[K     |███████▏                        | 327kB 60.6MB/s eta 0:00:01\r\u001b[K     |███████▍                        | 337kB 60.6MB/s eta 0:00:01\r\u001b[K     |███████▋                        | 348kB 60.6MB/s eta 0:00:01\r\u001b[K     |███████▉                        | 358kB 60.6MB/s eta 0:00:01\r\u001b[K     |████████                        | 368kB 60.6MB/s eta 0:00:01\r\u001b[K     |████████▎                       | 378kB 60.6MB/s eta 0:00:01\r\u001b[K     |████████▌                       | 389kB 60.6MB/s eta 0:00:01\r\u001b[K     |████████▊                       | 399kB 60.6MB/s eta 0:00:01\r\u001b[K     |█████████                       | 409kB 60.6MB/s eta 0:00:01\r\u001b[K     |█████████▏                      | 419kB 60.6MB/s eta 0:00:01\r\u001b[K     |█████████▍                      | 430kB 60.6MB/s eta 0:00:01\r\u001b[K     |█████████▋                      | 440kB 60.6MB/s eta 0:00:01\r\u001b[K     |█████████▉                      | 450kB 60.6MB/s eta 0:00:01\r\u001b[K     |██████████                      | 460kB 60.6MB/s eta 0:00:01\r\u001b[K     |██████████▎                     | 471kB 60.6MB/s eta 0:00:01\r\u001b[K     |██████████▋                     | 481kB 60.6MB/s eta 0:00:01\r\u001b[K     |██████████▉                     | 491kB 60.6MB/s eta 0:00:01\r\u001b[K     |███████████                     | 501kB 60.6MB/s eta 0:00:01\r\u001b[K     |███████████▎                    | 512kB 60.6MB/s eta 0:00:01\r\u001b[K     |███████████▌                    | 522kB 60.6MB/s eta 0:00:01\r\u001b[K     |███████████▊                    | 532kB 60.6MB/s eta 0:00:01\r\u001b[K     |████████████                    | 542kB 60.6MB/s eta 0:00:01\r\u001b[K     |████████████▏                   | 552kB 60.6MB/s eta 0:00:01\r\u001b[K     |████████████▍                   | 563kB 60.6MB/s eta 0:00:01\r\u001b[K     |████████████▋                   | 573kB 60.6MB/s eta 0:00:01\r\u001b[K     |████████████▉                   | 583kB 60.6MB/s eta 0:00:01\r\u001b[K     |█████████████                   | 593kB 60.6MB/s eta 0:00:01\r\u001b[K     |█████████████▎                  | 604kB 60.6MB/s eta 0:00:01\r\u001b[K     |█████████████▌                  | 614kB 60.6MB/s eta 0:00:01\r\u001b[K     |█████████████▊                  | 624kB 60.6MB/s eta 0:00:01\r\u001b[K     |██████████████                  | 634kB 60.6MB/s eta 0:00:01\r\u001b[K     |██████████████▏                 | 645kB 60.6MB/s eta 0:00:01\r\u001b[K     |██████████████▍                 | 655kB 60.6MB/s eta 0:00:01\r\u001b[K     |██████████████▋                 | 665kB 60.6MB/s eta 0:00:01\r\u001b[K     |██████████████▉                 | 675kB 60.6MB/s eta 0:00:01\r\u001b[K     |███████████████                 | 686kB 60.6MB/s eta 0:00:01\r\u001b[K     |███████████████▎                | 696kB 60.6MB/s eta 0:00:01\r\u001b[K     |███████████████▌                | 706kB 60.6MB/s eta 0:00:01\r\u001b[K     |███████████████▊                | 716kB 60.6MB/s eta 0:00:01\r\u001b[K     |████████████████                | 727kB 60.6MB/s eta 0:00:01\r\u001b[K     |████████████████▏               | 737kB 60.6MB/s eta 0:00:01\r\u001b[K     |████████████████▍               | 747kB 60.6MB/s eta 0:00:01\r\u001b[K     |████████████████▋               | 757kB 60.6MB/s eta 0:00:01\r\u001b[K     |████████████████▉               | 768kB 60.6MB/s eta 0:00:01\r\u001b[K     |█████████████████               | 778kB 60.6MB/s eta 0:00:01\r\u001b[K     |█████████████████▎              | 788kB 60.6MB/s eta 0:00:01\r\u001b[K     |█████████████████▌              | 798kB 60.6MB/s eta 0:00:01\r\u001b[K     |█████████████████▊              | 808kB 60.6MB/s eta 0:00:01\r\u001b[K     |██████████████████              | 819kB 60.6MB/s eta 0:00:01\r\u001b[K     |██████████████████▏             | 829kB 60.6MB/s eta 0:00:01\r\u001b[K     |██████████████████▍             | 839kB 60.6MB/s eta 0:00:01\r\u001b[K     |██████████████████▋             | 849kB 60.6MB/s eta 0:00:01\r\u001b[K     |██████████████████▉             | 860kB 60.6MB/s eta 0:00:01\r\u001b[K     |███████████████████             | 870kB 60.6MB/s eta 0:00:01\r\u001b[K     |███████████████████▎            | 880kB 60.6MB/s eta 0:00:01\r\u001b[K     |███████████████████▌            | 890kB 60.6MB/s eta 0:00:01\r\u001b[K     |███████████████████▊            | 901kB 60.6MB/s eta 0:00:01\r\u001b[K     |████████████████████            | 911kB 60.6MB/s eta 0:00:01\r\u001b[K     |████████████████████▏           | 921kB 60.6MB/s eta 0:00:01\r\u001b[K     |████████████████████▍           | 931kB 60.6MB/s eta 0:00:01\r\u001b[K     |████████████████████▋           | 942kB 60.6MB/s eta 0:00:01\r\u001b[K     |████████████████████▉           | 952kB 60.6MB/s eta 0:00:01\r\u001b[K     |█████████████████████▏          | 962kB 60.6MB/s eta 0:00:01\r\u001b[K     |█████████████████████▍          | 972kB 60.6MB/s eta 0:00:01\r\u001b[K     |█████████████████████▋          | 983kB 60.6MB/s eta 0:00:01\r\u001b[K     |█████████████████████▉          | 993kB 60.6MB/s eta 0:00:01\r\u001b[K     |██████████████████████          | 1.0MB 60.6MB/s eta 0:00:01\r\u001b[K     |██████████████████████▎         | 1.0MB 60.6MB/s eta 0:00:01\r\u001b[K     |██████████████████████▌         | 1.0MB 60.6MB/s eta 0:00:01\r\u001b[K     |██████████████████████▊         | 1.0MB 60.6MB/s eta 0:00:01\r\u001b[K     |███████████████████████         | 1.0MB 60.6MB/s eta 0:00:01\r\u001b[K     |███████████████████████▏        | 1.1MB 60.6MB/s eta 0:00:01\r\u001b[K     |███████████████████████▍        | 1.1MB 60.6MB/s eta 0:00:01\r\u001b[K     |███████████████████████▋        | 1.1MB 60.6MB/s eta 0:00:01\r\u001b[K     |███████████████████████▉        | 1.1MB 60.6MB/s eta 0:00:01\r\u001b[K     |████████████████████████        | 1.1MB 60.6MB/s eta 0:00:01\r\u001b[K     |████████████████████████▎       | 1.1MB 60.6MB/s eta 0:00:01\r\u001b[K     |████████████████████████▌       | 1.1MB 60.6MB/s eta 0:00:01\r\u001b[K     |████████████████████████▊       | 1.1MB 60.6MB/s eta 0:00:01\r\u001b[K     |█████████████████████████       | 1.1MB 60.6MB/s eta 0:00:01\r\u001b[K     |█████████████████████████▏      | 1.1MB 60.6MB/s eta 0:00:01\r\u001b[K     |█████████████████████████▍      | 1.2MB 60.6MB/s eta 0:00:01\r\u001b[K     |█████████████████████████▋      | 1.2MB 60.6MB/s eta 0:00:01\r\u001b[K     |█████████████████████████▉      | 1.2MB 60.6MB/s eta 0:00:01\r\u001b[K     |██████████████████████████      | 1.2MB 60.6MB/s eta 0:00:01\r\u001b[K     |██████████████████████████▎     | 1.2MB 60.6MB/s eta 0:00:01\r\u001b[K     |██████████████████████████▌     | 1.2MB 60.6MB/s eta 0:00:01\r\u001b[K     |██████████████████████████▊     | 1.2MB 60.6MB/s eta 0:00:01\r\u001b[K     |███████████████████████████     | 1.2MB 60.6MB/s eta 0:00:01\r\u001b[K     |███████████████████████████▏    | 1.2MB 60.6MB/s eta 0:00:01\r\u001b[K     |███████████████████████████▍    | 1.2MB 60.6MB/s eta 0:00:01\r\u001b[K     |███████████████████████████▋    | 1.3MB 60.6MB/s eta 0:00:01\r\u001b[K     |███████████████████████████▉    | 1.3MB 60.6MB/s eta 0:00:01\r\u001b[K     |████████████████████████████    | 1.3MB 60.6MB/s eta 0:00:01\r\u001b[K     |████████████████████████████▎   | 1.3MB 60.6MB/s eta 0:00:01\r\u001b[K     |████████████████████████████▌   | 1.3MB 60.6MB/s eta 0:00:01\r\u001b[K     |████████████████████████████▊   | 1.3MB 60.6MB/s eta 0:00:01\r\u001b[K     |█████████████████████████████   | 1.3MB 60.6MB/s eta 0:00:01\r\u001b[K     |█████████████████████████████▏  | 1.3MB 60.6MB/s eta 0:00:01\r\u001b[K     |█████████████████████████████▍  | 1.3MB 60.6MB/s eta 0:00:01\r\u001b[K     |█████████████████████████████▋  | 1.4MB 60.6MB/s eta 0:00:01\r\u001b[K     |█████████████████████████████▉  | 1.4MB 60.6MB/s eta 0:00:01\r\u001b[K     |██████████████████████████████  | 1.4MB 60.6MB/s eta 0:00:01\r\u001b[K     |██████████████████████████████▎ | 1.4MB 60.6MB/s eta 0:00:01\r\u001b[K     |██████████████████████████████▌ | 1.4MB 60.6MB/s eta 0:00:01\r\u001b[K     |██████████████████████████████▊ | 1.4MB 60.6MB/s eta 0:00:01\r\u001b[K     |███████████████████████████████ | 1.4MB 60.6MB/s eta 0:00:01\r\u001b[K     |███████████████████████████████▏| 1.4MB 60.6MB/s eta 0:00:01\r\u001b[K     |███████████████████████████████▍| 1.4MB 60.6MB/s eta 0:00:01\r\u001b[K     |███████████████████████████████▊| 1.4MB 60.6MB/s eta 0:00:01\r\u001b[K     |████████████████████████████████| 1.5MB 60.6MB/s eta 0:00:01\r\u001b[K     |████████████████████████████████| 1.5MB 60.6MB/s \n",
            "\u001b[?25hRequirement already satisfied: pyparsing in /usr/local/lib/python3.6/dist-packages (from fastai==0.7.0) (2.4.2)\n",
            "Requirement already satisfied: ipykernel in /usr/local/lib/python3.6/dist-packages (from fastai==0.7.0) (4.6.1)\n",
            "Requirement already satisfied: ptyprocess in /usr/local/lib/python3.6/dist-packages (from fastai==0.7.0) (0.6.0)\n",
            "Requirement already satisfied: python-dateutil in /usr/local/lib/python3.6/dist-packages (from fastai==0.7.0) (2.6.1)\n",
            "Requirement already satisfied: sklearn-pandas in /usr/local/lib/python3.6/dist-packages (from fastai==0.7.0) (1.8.0)\n",
            "Requirement already satisfied: ipython-genutils in /usr/local/lib/python3.6/dist-packages (from fastai==0.7.0) (0.2.0)\n",
            "Requirement already satisfied: jsonschema in /usr/local/lib/python3.6/dist-packages (from fastai==0.7.0) (2.6.0)\n",
            "Requirement already satisfied: wcwidth in /usr/local/lib/python3.6/dist-packages (from fastai==0.7.0) (0.1.7)\n",
            "Requirement already satisfied: widgetsnbextension in /usr/local/lib/python3.6/dist-packages (from fastai==0.7.0) (3.5.1)\n",
            "Requirement already satisfied: pickleshare in /usr/local/lib/python3.6/dist-packages (from fastai==0.7.0) (0.7.5)\n",
            "Requirement already satisfied: matplotlib in /usr/local/lib/python3.6/dist-packages (from fastai==0.7.0) (3.1.1)\n",
            "Requirement already satisfied: testpath in /usr/local/lib/python3.6/dist-packages (from fastai==0.7.0) (0.4.2)\n",
            "Requirement already satisfied: simplegeneric in /usr/local/lib/python3.6/dist-packages (from fastai==0.7.0) (0.8.1)\n",
            "Requirement already satisfied: MarkupSafe in /usr/local/lib/python3.6/dist-packages (from fastai==0.7.0) (1.1.1)\n",
            "Requirement already satisfied: torchvision in /usr/local/lib/python3.6/dist-packages (from fastai==0.7.0) (0.2.2)\n",
            "Requirement already satisfied: torchtext in /usr/local/lib/python3.6/dist-packages (from fastai==0.7.0) (0.3.1)\n",
            "Requirement already satisfied: tornado in /usr/local/lib/python3.6/dist-packages (from fastai==0.7.0) (4.5.3)\n",
            "Collecting isoweek\n",
            "  Downloading https://files.pythonhosted.org/packages/c2/d4/fe7e2637975c476734fcbf53776e650a29680194eb0dd21dbdc020ca92de/isoweek-1.3.3-py2.py3-none-any.whl\n",
            "Requirement already satisfied: jedi in /usr/local/lib/python3.6/dist-packages (from fastai==0.7.0) (0.15.1)\n",
            "Requirement already satisfied: PyYAML in /usr/local/lib/python3.6/dist-packages (from fastai==0.7.0) (3.13)\n",
            "Requirement already satisfied: numpy in /usr/local/lib/python3.6/dist-packages (from fastai==0.7.0) (1.17.3)\n",
            "Requirement already satisfied: jupyter in /usr/local/lib/python3.6/dist-packages (from fastai==0.7.0) (1.0.0)\n",
            "Requirement already satisfied: pyzmq in /usr/local/lib/python3.6/dist-packages (from fastai==0.7.0) (17.0.0)\n",
            "Requirement already satisfied: graphviz in /usr/local/lib/python3.6/dist-packages (from fastai==0.7.0) (0.10.1)\n",
            "Collecting torch<0.4\n",
            "\u001b[?25l  Downloading https://files.pythonhosted.org/packages/5b/a5/e8b50b55b1abac9f1e3346c4242f1e42a82d368a8442cbd50c532922f6c4/torch-0.3.1-cp36-cp36m-manylinux1_x86_64.whl (496.4MB)\n",
            "\u001b[K     |████████████████████████████████| 496.4MB 32kB/s \n",
            "\u001b[?25hRequirement already satisfied: html5lib in /usr/local/lib/python3.6/dist-packages (from fastai==0.7.0) (1.0.1)\n",
            "Requirement already satisfied: tqdm in /usr/local/lib/python3.6/dist-packages (from fastai==0.7.0) (4.19.9)\n",
            "Requirement already satisfied: ipywidgets in /usr/local/lib/python3.6/dist-packages (from fastai==0.7.0) (7.5.1)\n",
            "Requirement already satisfied: ipython in /usr/local/lib/python3.6/dist-packages (from fastai==0.7.0) (5.5.0)\n",
            "Requirement already satisfied: six>=1.9.0 in /usr/local/lib/python3.6/dist-packages (from bleach->fastai==0.7.0) (1.12.0)\n",
            "Requirement already satisfied: patsy>=0.4.1 in /usr/local/lib/python3.6/dist-packages (from plotnine->fastai==0.7.0) (0.5.1)\n",
            "Requirement already satisfied: mizani>=0.5.2 in /usr/local/lib/python3.6/dist-packages (from plotnine->fastai==0.7.0) (0.5.4)\n",
            "Requirement already satisfied: descartes>=1.1.0 in /usr/local/lib/python3.6/dist-packages (from plotnine->fastai==0.7.0) (1.1.0)\n",
            "Requirement already satisfied: statsmodels>=0.8.0 in /usr/local/lib/python3.6/dist-packages (from plotnine->fastai==0.7.0) (0.10.1)\n",
            "Requirement already satisfied: olefile in /usr/local/lib/python3.6/dist-packages (from Pillow->fastai==0.7.0) (0.46)\n",
            "Requirement already satisfied: pyarrow>=0.4.0 in /usr/local/lib/python3.6/dist-packages (from feather-format->fastai==0.7.0) (0.14.1)\n",
            "Requirement already satisfied: jupyter-client in /usr/local/lib/python3.6/dist-packages (from ipykernel->fastai==0.7.0) (5.3.4)\n",
            "Requirement already satisfied: scikit-learn>=0.15.0 in /usr/local/lib/python3.6/dist-packages (from sklearn-pandas->fastai==0.7.0) (0.21.3)\n",
            "Requirement already satisfied: notebook>=4.4.1 in /usr/local/lib/python3.6/dist-packages (from widgetsnbextension->fastai==0.7.0) (5.2.2)\n",
            "Requirement already satisfied: kiwisolver>=1.0.1 in /usr/local/lib/python3.6/dist-packages (from matplotlib->fastai==0.7.0) (1.1.0)\n",
            "Requirement already satisfied: requests in /usr/local/lib/python3.6/dist-packages (from torchtext->fastai==0.7.0) (2.21.0)\n",
            "Requirement already satisfied: parso>=0.5.0 in /usr/local/lib/python3.6/dist-packages (from jedi->fastai==0.7.0) (0.5.1)\n",
            "Requirement already satisfied: qtconsole in /usr/local/lib/python3.6/dist-packages (from jupyter->fastai==0.7.0) (4.5.5)\n",
            "Requirement already satisfied: nbconvert in /usr/local/lib/python3.6/dist-packages (from jupyter->fastai==0.7.0) (5.6.1)\n",
            "Requirement already satisfied: jupyter-console in /usr/local/lib/python3.6/dist-packages (from jupyter->fastai==0.7.0) (5.2.0)\n",
            "Requirement already satisfied: nbformat>=4.2.0 in /usr/local/lib/python3.6/dist-packages (from ipywidgets->fastai==0.7.0) (4.4.0)\n",
            "Requirement already satisfied: pexpect; sys_platform != \"win32\" in /usr/local/lib/python3.6/dist-packages (from ipython->fastai==0.7.0) (4.7.0)\n",
            "Requirement already satisfied: prompt-toolkit<2.0.0,>=1.0.4 in /usr/local/lib/python3.6/dist-packages (from ipython->fastai==0.7.0) (1.0.18)\n",
            "Requirement already satisfied: setuptools>=18.5 in /usr/local/lib/python3.6/dist-packages (from ipython->fastai==0.7.0) (41.4.0)\n",
            "Requirement already satisfied: palettable in /usr/local/lib/python3.6/dist-packages (from mizani>=0.5.2->plotnine->fastai==0.7.0) (3.3.0)\n",
            "Requirement already satisfied: jupyter-core>=4.6.0 in /usr/local/lib/python3.6/dist-packages (from jupyter-client->ipykernel->fastai==0.7.0) (4.6.1)\n",
            "Requirement already satisfied: joblib>=0.11 in /usr/local/lib/python3.6/dist-packages (from scikit-learn>=0.15.0->sklearn-pandas->fastai==0.7.0) (0.14.0)\n",
            "Requirement already satisfied: terminado>=0.3.3; sys_platform != \"win32\" in /usr/local/lib/python3.6/dist-packages (from notebook>=4.4.1->widgetsnbextension->fastai==0.7.0) (0.8.2)\n",
            "Requirement already satisfied: idna<2.9,>=2.5 in /usr/local/lib/python3.6/dist-packages (from requests->torchtext->fastai==0.7.0) (2.8)\n",
            "Requirement already satisfied: urllib3<1.25,>=1.21.1 in /usr/local/lib/python3.6/dist-packages (from requests->torchtext->fastai==0.7.0) (1.24.3)\n",
            "Requirement already satisfied: chardet<3.1.0,>=3.0.2 in /usr/local/lib/python3.6/dist-packages (from requests->torchtext->fastai==0.7.0) (3.0.4)\n",
            "Requirement already satisfied: mistune<2,>=0.8.1 in /usr/local/lib/python3.6/dist-packages (from nbconvert->jupyter->fastai==0.7.0) (0.8.4)\n",
            "Requirement already satisfied: pandocfilters>=1.4.1 in /usr/local/lib/python3.6/dist-packages (from nbconvert->jupyter->fastai==0.7.0) (1.4.2)\n",
            "Requirement already satisfied: defusedxml in /usr/local/lib/python3.6/dist-packages (from nbconvert->jupyter->fastai==0.7.0) (0.6.0)\n",
            "Building wheels for collected packages: bcolz\n",
            "  Building wheel for bcolz (setup.py) ... \u001b[?25l\u001b[?25hdone\n",
            "  Created wheel for bcolz: filename=bcolz-1.2.1-cp36-cp36m-linux_x86_64.whl size=2661163 sha256=946d13066c0c9021f5e591e67bcac97cc489d897f7bd7d745f67c6ae7f1ff782\n",
            "  Stored in directory: /root/.cache/pip/wheels/9f/78/26/fb8c0acb91a100dc8914bf236c4eaa4b207cb876893c40b745\n",
            "Successfully built bcolz\n",
            "Installing collected packages: pandas-summary, bcolz, isoweek, torch, fastai\n",
            "  Found existing installation: torch 1.3.0+cu100\n",
            "    Uninstalling torch-1.3.0+cu100:\n",
            "      Successfully uninstalled torch-1.3.0+cu100\n",
            "  Found existing installation: fastai 1.0.59\n",
            "    Uninstalling fastai-1.0.59:\n",
            "      Successfully uninstalled fastai-1.0.59\n",
            "Successfully installed bcolz-1.2.1 fastai-0.7.0 isoweek-1.3.3 pandas-summary-0.0.7 torch-0.3.1\n"
          ],
          "name": "stdout"
        },
        {
          "output_type": "display_data",
          "data": {
            "application/vnd.colab-display-data+json": {
              "pip_warning": {
                "packages": [
                  "torch"
                ]
              }
            }
          },
          "metadata": {
            "tags": []
          }
        }
      ]
    },
    {
      "cell_type": "code",
      "metadata": {
        "id": "I2RWkY-O_W6H",
        "colab_type": "code",
        "colab": {}
      },
      "source": [
        "from fastai.imports import *\n",
        "from fastai.torch_imports import *\n",
        "from fastai.io import *"
      ],
      "execution_count": 0,
      "outputs": []
    },
    {
      "cell_type": "code",
      "metadata": {
        "id": "MAWaDd5S_ajX",
        "colab_type": "code",
        "colab": {}
      },
      "source": [
        "from fastai.metrics import *\n",
        "from fastai.model import *\n",
        "from fastai.dataset import *"
      ],
      "execution_count": 0,
      "outputs": []
    },
    {
      "cell_type": "code",
      "metadata": {
        "id": "zipuyrZ1_cD-",
        "colab_type": "code",
        "colab": {}
      },
      "source": [
        "import torch.nn as nn"
      ],
      "execution_count": 0,
      "outputs": []
    },
    {
      "cell_type": "markdown",
      "metadata": {
        "id": "y2Y5CD8_ryEM",
        "colab_type": "text"
      },
      "source": [
        ""
      ]
    }
  ]
}