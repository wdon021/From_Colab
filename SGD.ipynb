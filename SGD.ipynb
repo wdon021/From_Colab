{
  "nbformat": 4,
  "nbformat_minor": 0,
  "metadata": {
    "colab": {
      "name": "SGD",
      "provenance": [],
      "include_colab_link": true
    },
    "kernelspec": {
      "name": "python3",
      "display_name": "Python 3"
    },
    "accelerator": "GPU"
  },
  "cells": [
    {
      "cell_type": "markdown",
      "metadata": {
        "id": "view-in-github",
        "colab_type": "text"
      },
      "source": [
        "<a href=\"https://colab.research.google.com/github/wdon021/From_Colab/blob/master/SGD.ipynb\" target=\"_parent\"><img src=\"https://colab.research.google.com/assets/colab-badge.svg\" alt=\"Open In Colab\"/></a>"
      ]
    },
    {
      "cell_type": "code",
      "metadata": {
        "id": "Cu3tjfMY1wGG",
        "colab_type": "code",
        "outputId": "b0953c17-a022-468b-8b2c-4497fc16455f",
        "colab": {
          "base_uri": "https://localhost:8080/",
          "height": 54
        }
      },
      "source": [
        "from google.colab import drive\n",
        "drive.mount('/content/gdrive/')"
      ],
      "execution_count": 2,
      "outputs": [
        {
          "output_type": "stream",
          "text": [
            "Drive already mounted at /content/gdrive/; to attempt to forcibly remount, call drive.mount(\"/content/gdrive/\", force_remount=True).\n"
          ],
          "name": "stdout"
        }
      ]
    },
    {
      "cell_type": "code",
      "metadata": {
        "id": "gxTEQWPD8O0N",
        "colab_type": "code",
        "outputId": "40507f4f-9eff-4e45-bd13-bed3f3942192",
        "colab": {
          "base_uri": "https://localhost:8080/",
          "height": 34
        }
      },
      "source": [
        "!which python3"
      ],
      "execution_count": 3,
      "outputs": [
        {
          "output_type": "stream",
          "text": [
            "/usr/bin/python3\n"
          ],
          "name": "stdout"
        }
      ]
    },
    {
      "cell_type": "code",
      "metadata": {
        "id": "Q2_HY4uN77I3",
        "colab_type": "code",
        "outputId": "2aad747f-83ff-4577-b025-6de0e09fac1f",
        "colab": {
          "base_uri": "https://localhost:8080/",
          "height": 360
        }
      },
      "source": [
        "!pip install torchtext==0.2.3"
      ],
      "execution_count": 4,
      "outputs": [
        {
          "output_type": "stream",
          "text": [
            "Collecting torchtext==0.2.3\n",
            "\u001b[?25l  Downloading https://files.pythonhosted.org/packages/78/90/474d5944d43001a6e72b9aaed5c3e4f77516fbef2317002da2096fd8b5ea/torchtext-0.2.3.tar.gz (42kB)\n",
            "\r\u001b[K     |███████▊                        | 10kB 25.6MB/s eta 0:00:01\r\u001b[K     |███████████████▍                | 20kB 30.6MB/s eta 0:00:01\r\u001b[K     |███████████████████████         | 30kB 35.5MB/s eta 0:00:01\r\u001b[K     |██████████████████████████████▊ | 40kB 39.6MB/s eta 0:00:01\r\u001b[K     |████████████████████████████████| 51kB 7.5MB/s \n",
            "\u001b[?25hRequirement already satisfied: tqdm in /usr/local/lib/python3.6/dist-packages (from torchtext==0.2.3) (4.28.1)\n",
            "Requirement already satisfied: requests in /usr/local/lib/python3.6/dist-packages (from torchtext==0.2.3) (2.21.0)\n",
            "Requirement already satisfied: chardet<3.1.0,>=3.0.2 in /usr/local/lib/python3.6/dist-packages (from requests->torchtext==0.2.3) (3.0.4)\n",
            "Requirement already satisfied: idna<2.9,>=2.5 in /usr/local/lib/python3.6/dist-packages (from requests->torchtext==0.2.3) (2.8)\n",
            "Requirement already satisfied: certifi>=2017.4.17 in /usr/local/lib/python3.6/dist-packages (from requests->torchtext==0.2.3) (2019.9.11)\n",
            "Requirement already satisfied: urllib3<1.25,>=1.21.1 in /usr/local/lib/python3.6/dist-packages (from requests->torchtext==0.2.3) (1.24.3)\n",
            "Building wheels for collected packages: torchtext\n",
            "  Building wheel for torchtext (setup.py) ... \u001b[?25l\u001b[?25hdone\n",
            "  Created wheel for torchtext: filename=torchtext-0.2.3-cp36-none-any.whl size=40134 sha256=066fee721c53cdd359f4fdc31a52c5e41bff7d4f010e0f101a9b816a591ebc6c\n",
            "  Stored in directory: /root/.cache/pip/wheels/42/a6/f4/b267328bde6bb680094a0c173e8e5627ccc99543abded97204\n",
            "Successfully built torchtext\n",
            "Installing collected packages: torchtext\n",
            "  Found existing installation: torchtext 0.3.1\n",
            "    Uninstalling torchtext-0.3.1:\n",
            "      Successfully uninstalled torchtext-0.3.1\n",
            "Successfully installed torchtext-0.2.3\n"
          ],
          "name": "stdout"
        }
      ]
    },
    {
      "cell_type": "code",
      "metadata": {
        "id": "9-V34rrw8vGg",
        "colab_type": "code",
        "outputId": "88ded8b6-b729-4bef-cb23-2b2c512f25c1",
        "colab": {
          "base_uri": "https://localhost:8080/",
          "height": 445
        }
      },
      "source": [
        "!pip install torchvision==0.2.2"
      ],
      "execution_count": 5,
      "outputs": [
        {
          "output_type": "stream",
          "text": [
            "Collecting torchvision==0.2.2\n",
            "\u001b[?25l  Downloading https://files.pythonhosted.org/packages/ce/a1/66d72a2fe580a9f0fcbaaa5b976911fbbde9dce9b330ba12791997b856e9/torchvision-0.2.2-py2.py3-none-any.whl (64kB)\n",
            "\r\u001b[K     |█████                           | 10kB 25.8MB/s eta 0:00:01\r\u001b[K     |██████████▏                     | 20kB 28.4MB/s eta 0:00:01\r\u001b[K     |███████████████▎                | 30kB 32.5MB/s eta 0:00:01\r\u001b[K     |████████████████████▍           | 40kB 36.0MB/s eta 0:00:01\r\u001b[K     |█████████████████████████▌      | 51kB 29.0MB/s eta 0:00:01\r\u001b[K     |██████████████████████████████▋ | 61kB 31.7MB/s eta 0:00:01\r\u001b[K     |████████████████████████████████| 71kB 8.3MB/s \n",
            "\u001b[?25hRequirement already satisfied: pillow>=4.1.1 in /usr/local/lib/python3.6/dist-packages (from torchvision==0.2.2) (4.3.0)\n",
            "Requirement already satisfied: torch in /usr/local/lib/python3.6/dist-packages (from torchvision==0.2.2) (1.3.1+cu100)\n",
            "Requirement already satisfied: numpy in /usr/local/lib/python3.6/dist-packages (from torchvision==0.2.2) (1.17.4)\n",
            "Requirement already satisfied: six in /usr/local/lib/python3.6/dist-packages (from torchvision==0.2.2) (1.12.0)\n",
            "Collecting tqdm==4.19.9\n",
            "\u001b[?25l  Downloading https://files.pythonhosted.org/packages/b3/c4/b67cf1ab472b770e08e94105a0c7ca7032cd070627c435f5998c9cf6e64f/tqdm-4.19.9-py2.py3-none-any.whl (52kB)\n",
            "\u001b[K     |████████████████████████████████| 61kB 7.0MB/s \n",
            "\u001b[?25hRequirement already satisfied: olefile in /usr/local/lib/python3.6/dist-packages (from pillow>=4.1.1->torchvision==0.2.2) (0.46)\n",
            "Installing collected packages: tqdm, torchvision\n",
            "  Found existing installation: tqdm 4.28.1\n",
            "    Uninstalling tqdm-4.28.1:\n",
            "      Successfully uninstalled tqdm-4.28.1\n",
            "  Found existing installation: torchvision 0.4.2+cu100\n",
            "    Uninstalling torchvision-0.4.2+cu100:\n",
            "      Successfully uninstalled torchvision-0.4.2+cu100\n",
            "Successfully installed torchvision-0.2.2 tqdm-4.19.9\n"
          ],
          "name": "stdout"
        },
        {
          "output_type": "display_data",
          "data": {
            "application/vnd.colab-display-data+json": {
              "pip_warning": {
                "packages": [
                  "tqdm"
                ]
              }
            }
          },
          "metadata": {
            "tags": []
          }
        }
      ]
    },
    {
      "cell_type": "code",
      "metadata": {
        "id": "1ffpskvG9yyb",
        "colab_type": "code",
        "colab": {}
      },
      "source": [
        "import torchvision"
      ],
      "execution_count": 0,
      "outputs": []
    },
    {
      "cell_type": "code",
      "metadata": {
        "id": "ui2vXmon-vQP",
        "colab_type": "code",
        "outputId": "b8f66362-c7eb-4d63-969c-3e5ee1a00fe2",
        "colab": {
          "base_uri": "https://localhost:8080/",
          "height": 1000
        }
      },
      "source": [
        "!pip install fastai==0.7.0"
      ],
      "execution_count": 7,
      "outputs": [
        {
          "output_type": "stream",
          "text": [
            "Collecting fastai==0.7.0\n",
            "\u001b[?25l  Downloading https://files.pythonhosted.org/packages/50/6d/9d0d6e17a78b0598d5e8c49a0d03ffc7ff265ae62eca3e2345fab14edb9b/fastai-0.7.0-py3-none-any.whl (112kB)\n",
            "\r\u001b[K     |███                             | 10kB 27.1MB/s eta 0:00:01\r\u001b[K     |█████▉                          | 20kB 28.7MB/s eta 0:00:01\r\u001b[K     |████████▊                       | 30kB 35.8MB/s eta 0:00:01\r\u001b[K     |███████████▋                    | 40kB 40.9MB/s eta 0:00:01\r\u001b[K     |██████████████▌                 | 51kB 26.7MB/s eta 0:00:01\r\u001b[K     |█████████████████▍              | 61kB 29.6MB/s eta 0:00:01\r\u001b[K     |████████████████████▍           | 71kB 22.6MB/s eta 0:00:01\r\u001b[K     |███████████████████████▎        | 81kB 24.0MB/s eta 0:00:01\r\u001b[K     |██████████████████████████▏     | 92kB 25.9MB/s eta 0:00:01\r\u001b[K     |█████████████████████████████   | 102kB 25.5MB/s eta 0:00:01\r\u001b[K     |████████████████████████████████| 112kB 25.5MB/s eta 0:00:01\r\u001b[K     |████████████████████████████████| 122kB 25.5MB/s \n",
            "\u001b[?25hRequirement already satisfied: Jinja2 in /usr/local/lib/python3.6/dist-packages (from fastai==0.7.0) (2.10.3)\n",
            "Requirement already satisfied: html5lib in /usr/local/lib/python3.6/dist-packages (from fastai==0.7.0) (1.0.1)\n",
            "Requirement already satisfied: torchtext in /usr/local/lib/python3.6/dist-packages (from fastai==0.7.0) (0.2.3)\n",
            "Requirement already satisfied: pyzmq in /usr/local/lib/python3.6/dist-packages (from fastai==0.7.0) (17.0.0)\n",
            "Requirement already satisfied: jedi in /usr/local/lib/python3.6/dist-packages (from fastai==0.7.0) (0.15.1)\n",
            "Requirement already satisfied: MarkupSafe in /usr/local/lib/python3.6/dist-packages (from fastai==0.7.0) (1.1.1)\n",
            "Requirement already satisfied: python-dateutil in /usr/local/lib/python3.6/dist-packages (from fastai==0.7.0) (2.6.1)\n",
            "Requirement already satisfied: scipy in /usr/local/lib/python3.6/dist-packages (from fastai==0.7.0) (1.3.2)\n",
            "Requirement already satisfied: torchvision in /usr/local/lib/python3.6/dist-packages (from fastai==0.7.0) (0.2.2)\n",
            "Requirement already satisfied: tornado in /usr/local/lib/python3.6/dist-packages (from fastai==0.7.0) (4.5.3)\n",
            "Requirement already satisfied: ipython in /usr/local/lib/python3.6/dist-packages (from fastai==0.7.0) (5.5.0)\n",
            "Requirement already satisfied: tqdm in /usr/local/lib/python3.6/dist-packages (from fastai==0.7.0) (4.19.9)\n",
            "Requirement already satisfied: decorator in /usr/local/lib/python3.6/dist-packages (from fastai==0.7.0) (4.4.1)\n",
            "Requirement already satisfied: simplegeneric in /usr/local/lib/python3.6/dist-packages (from fastai==0.7.0) (0.8.1)\n",
            "Requirement already satisfied: pytz in /usr/local/lib/python3.6/dist-packages (from fastai==0.7.0) (2018.9)\n",
            "Collecting bcolz\n",
            "\u001b[?25l  Downloading https://files.pythonhosted.org/packages/5c/4e/23942de9d5c0fb16f10335fa83e52b431bcb8c0d4a8419c9ac206268c279/bcolz-1.2.1.tar.gz (1.5MB)\n",
            "\u001b[K     |████████████████████████████████| 1.5MB 33.4MB/s \n",
            "\u001b[?25hRequirement already satisfied: opencv-python in /usr/local/lib/python3.6/dist-packages (from fastai==0.7.0) (3.4.7.28)\n",
            "Requirement already satisfied: jupyter in /usr/local/lib/python3.6/dist-packages (from fastai==0.7.0) (1.0.0)\n",
            "Collecting pandas-summary\n",
            "  Downloading https://files.pythonhosted.org/packages/f5/20/865d4785f86e86f7ad7ebd52fc14810ef59ef13cd959f1363a2615d1c665/pandas_summary-0.0.7-py2.py3-none-any.whl\n",
            "Requirement already satisfied: pyparsing in /usr/local/lib/python3.6/dist-packages (from fastai==0.7.0) (2.4.5)\n",
            "Requirement already satisfied: testpath in /usr/local/lib/python3.6/dist-packages (from fastai==0.7.0) (0.4.4)\n",
            "Requirement already satisfied: cycler in /usr/local/lib/python3.6/dist-packages (from fastai==0.7.0) (0.10.0)\n",
            "Requirement already satisfied: numpy in /usr/local/lib/python3.6/dist-packages (from fastai==0.7.0) (1.17.4)\n",
            "Requirement already satisfied: certifi in /usr/local/lib/python3.6/dist-packages (from fastai==0.7.0) (2019.9.11)\n",
            "Requirement already satisfied: seaborn in /usr/local/lib/python3.6/dist-packages (from fastai==0.7.0) (0.9.0)\n",
            "Requirement already satisfied: plotnine in /usr/local/lib/python3.6/dist-packages (from fastai==0.7.0) (0.5.1)\n",
            "Requirement already satisfied: ipykernel in /usr/local/lib/python3.6/dist-packages (from fastai==0.7.0) (4.6.1)\n",
            "Collecting isoweek\n",
            "  Downloading https://files.pythonhosted.org/packages/c2/d4/fe7e2637975c476734fcbf53776e650a29680194eb0dd21dbdc020ca92de/isoweek-1.3.3-py2.py3-none-any.whl\n",
            "Requirement already satisfied: Pillow in /usr/local/lib/python3.6/dist-packages (from fastai==0.7.0) (4.3.0)\n",
            "Requirement already satisfied: wcwidth in /usr/local/lib/python3.6/dist-packages (from fastai==0.7.0) (0.1.7)\n",
            "Requirement already satisfied: ptyprocess in /usr/local/lib/python3.6/dist-packages (from fastai==0.7.0) (0.6.0)\n",
            "Collecting torch<0.4\n",
            "\u001b[?25l  Downloading https://files.pythonhosted.org/packages/5b/a5/e8b50b55b1abac9f1e3346c4242f1e42a82d368a8442cbd50c532922f6c4/torch-0.3.1-cp36-cp36m-manylinux1_x86_64.whl (496.4MB)\n",
            "\u001b[K     |████████████████████████████████| 496.4MB 30kB/s \n",
            "\u001b[?25hRequirement already satisfied: graphviz in /usr/local/lib/python3.6/dist-packages (from fastai==0.7.0) (0.10.1)\n",
            "Requirement already satisfied: widgetsnbextension in /usr/local/lib/python3.6/dist-packages (from fastai==0.7.0) (3.5.1)\n",
            "Requirement already satisfied: sklearn-pandas in /usr/local/lib/python3.6/dist-packages (from fastai==0.7.0) (1.8.0)\n",
            "Requirement already satisfied: entrypoints in /usr/local/lib/python3.6/dist-packages (from fastai==0.7.0) (0.3)\n",
            "Requirement already satisfied: Pygments in /usr/local/lib/python3.6/dist-packages (from fastai==0.7.0) (2.1.3)\n",
            "Requirement already satisfied: webencodings in /usr/local/lib/python3.6/dist-packages (from fastai==0.7.0) (0.5.1)\n",
            "Requirement already satisfied: bleach in /usr/local/lib/python3.6/dist-packages (from fastai==0.7.0) (3.1.0)\n",
            "Requirement already satisfied: traitlets in /usr/local/lib/python3.6/dist-packages (from fastai==0.7.0) (4.3.3)\n",
            "Requirement already satisfied: pickleshare in /usr/local/lib/python3.6/dist-packages (from fastai==0.7.0) (0.7.5)\n",
            "Requirement already satisfied: jsonschema in /usr/local/lib/python3.6/dist-packages (from fastai==0.7.0) (2.6.0)\n",
            "Requirement already satisfied: feather-format in /usr/local/lib/python3.6/dist-packages (from fastai==0.7.0) (0.4.0)\n",
            "Requirement already satisfied: pandas in /usr/local/lib/python3.6/dist-packages (from fastai==0.7.0) (0.25.3)\n",
            "Requirement already satisfied: matplotlib in /usr/local/lib/python3.6/dist-packages (from fastai==0.7.0) (3.1.1)\n",
            "Requirement already satisfied: PyYAML in /usr/local/lib/python3.6/dist-packages (from fastai==0.7.0) (3.13)\n",
            "Requirement already satisfied: ipython-genutils in /usr/local/lib/python3.6/dist-packages (from fastai==0.7.0) (0.2.0)\n",
            "Requirement already satisfied: ipywidgets in /usr/local/lib/python3.6/dist-packages (from fastai==0.7.0) (7.5.1)\n",
            "Requirement already satisfied: six>=1.9 in /usr/local/lib/python3.6/dist-packages (from html5lib->fastai==0.7.0) (1.12.0)\n",
            "Requirement already satisfied: requests in /usr/local/lib/python3.6/dist-packages (from torchtext->fastai==0.7.0) (2.21.0)\n",
            "Requirement already satisfied: parso>=0.5.0 in /usr/local/lib/python3.6/dist-packages (from jedi->fastai==0.7.0) (0.5.1)\n",
            "Requirement already satisfied: prompt-toolkit<2.0.0,>=1.0.4 in /usr/local/lib/python3.6/dist-packages (from ipython->fastai==0.7.0) (1.0.18)\n",
            "Requirement already satisfied: setuptools>=18.5 in /usr/local/lib/python3.6/dist-packages (from ipython->fastai==0.7.0) (41.4.0)\n",
            "Requirement already satisfied: pexpect; sys_platform != \"win32\" in /usr/local/lib/python3.6/dist-packages (from ipython->fastai==0.7.0) (4.7.0)\n",
            "Requirement already satisfied: jupyter-console in /usr/local/lib/python3.6/dist-packages (from jupyter->fastai==0.7.0) (5.2.0)\n",
            "Requirement already satisfied: qtconsole in /usr/local/lib/python3.6/dist-packages (from jupyter->fastai==0.7.0) (4.5.5)\n",
            "Requirement already satisfied: notebook in /usr/local/lib/python3.6/dist-packages (from jupyter->fastai==0.7.0) (5.2.2)\n",
            "Requirement already satisfied: nbconvert in /usr/local/lib/python3.6/dist-packages (from jupyter->fastai==0.7.0) (5.6.1)\n",
            "Requirement already satisfied: patsy>=0.4.1 in /usr/local/lib/python3.6/dist-packages (from plotnine->fastai==0.7.0) (0.5.1)\n",
            "Requirement already satisfied: descartes>=1.1.0 in /usr/local/lib/python3.6/dist-packages (from plotnine->fastai==0.7.0) (1.1.0)\n",
            "Requirement already satisfied: statsmodels>=0.8.0 in /usr/local/lib/python3.6/dist-packages (from plotnine->fastai==0.7.0) (0.10.1)\n",
            "Requirement already satisfied: mizani>=0.5.2 in /usr/local/lib/python3.6/dist-packages (from plotnine->fastai==0.7.0) (0.5.4)\n",
            "Requirement already satisfied: jupyter-client in /usr/local/lib/python3.6/dist-packages (from ipykernel->fastai==0.7.0) (5.3.4)\n",
            "Requirement already satisfied: olefile in /usr/local/lib/python3.6/dist-packages (from Pillow->fastai==0.7.0) (0.46)\n",
            "Requirement already satisfied: scikit-learn>=0.15.0 in /usr/local/lib/python3.6/dist-packages (from sklearn-pandas->fastai==0.7.0) (0.21.3)\n",
            "Requirement already satisfied: pyarrow>=0.4.0 in /usr/local/lib/python3.6/dist-packages (from feather-format->fastai==0.7.0) (0.14.1)\n",
            "Requirement already satisfied: kiwisolver>=1.0.1 in /usr/local/lib/python3.6/dist-packages (from matplotlib->fastai==0.7.0) (1.1.0)\n",
            "Requirement already satisfied: nbformat>=4.2.0 in /usr/local/lib/python3.6/dist-packages (from ipywidgets->fastai==0.7.0) (4.4.0)\n",
            "Requirement already satisfied: urllib3<1.25,>=1.21.1 in /usr/local/lib/python3.6/dist-packages (from requests->torchtext->fastai==0.7.0) (1.24.3)\n",
            "Requirement already satisfied: chardet<3.1.0,>=3.0.2 in /usr/local/lib/python3.6/dist-packages (from requests->torchtext->fastai==0.7.0) (3.0.4)\n",
            "Requirement already satisfied: idna<2.9,>=2.5 in /usr/local/lib/python3.6/dist-packages (from requests->torchtext->fastai==0.7.0) (2.8)\n",
            "Requirement already satisfied: jupyter-core in /usr/local/lib/python3.6/dist-packages (from qtconsole->jupyter->fastai==0.7.0) (4.6.1)\n",
            "Requirement already satisfied: terminado>=0.3.3; sys_platform != \"win32\" in /usr/local/lib/python3.6/dist-packages (from notebook->jupyter->fastai==0.7.0) (0.8.2)\n",
            "Requirement already satisfied: mistune<2,>=0.8.1 in /usr/local/lib/python3.6/dist-packages (from nbconvert->jupyter->fastai==0.7.0) (0.8.4)\n",
            "Requirement already satisfied: pandocfilters>=1.4.1 in /usr/local/lib/python3.6/dist-packages (from nbconvert->jupyter->fastai==0.7.0) (1.4.2)\n",
            "Requirement already satisfied: defusedxml in /usr/local/lib/python3.6/dist-packages (from nbconvert->jupyter->fastai==0.7.0) (0.6.0)\n",
            "Requirement already satisfied: palettable in /usr/local/lib/python3.6/dist-packages (from mizani>=0.5.2->plotnine->fastai==0.7.0) (3.3.0)\n",
            "Requirement already satisfied: joblib>=0.11 in /usr/local/lib/python3.6/dist-packages (from scikit-learn>=0.15.0->sklearn-pandas->fastai==0.7.0) (0.14.0)\n",
            "Building wheels for collected packages: bcolz\n",
            "  Building wheel for bcolz (setup.py) ... \u001b[?25l\u001b[?25hdone\n",
            "  Created wheel for bcolz: filename=bcolz-1.2.1-cp36-cp36m-linux_x86_64.whl size=2658249 sha256=9a2acef420a30b40019c6d1ced92b4902d8d8d9376ea8d10254f4880a02122e7\n",
            "  Stored in directory: /root/.cache/pip/wheels/9f/78/26/fb8c0acb91a100dc8914bf236c4eaa4b207cb876893c40b745\n",
            "Successfully built bcolz\n",
            "Installing collected packages: bcolz, pandas-summary, isoweek, torch, fastai\n",
            "  Found existing installation: torch 1.3.1+cu100\n",
            "    Uninstalling torch-1.3.1+cu100:\n",
            "      Successfully uninstalled torch-1.3.1+cu100\n",
            "  Found existing installation: fastai 1.0.59\n",
            "    Uninstalling fastai-1.0.59:\n",
            "      Successfully uninstalled fastai-1.0.59\n",
            "Successfully installed bcolz-1.2.1 fastai-0.7.0 isoweek-1.3.3 pandas-summary-0.0.7 torch-0.3.1\n"
          ],
          "name": "stdout"
        },
        {
          "output_type": "display_data",
          "data": {
            "application/vnd.colab-display-data+json": {
              "pip_warning": {
                "packages": [
                  "torch"
                ]
              }
            }
          },
          "metadata": {
            "tags": []
          }
        }
      ]
    },
    {
      "cell_type": "code",
      "metadata": {
        "id": "FyNONA4t1JmR",
        "colab_type": "code",
        "outputId": "f7b750f3-b900-4fae-9e6d-95422b018cf8",
        "colab": {
          "base_uri": "https://localhost:8080/",
          "height": 292
        }
      },
      "source": [
        "!pip install torch==1.3.1"
      ],
      "execution_count": 8,
      "outputs": [
        {
          "output_type": "stream",
          "text": [
            "Collecting torch==1.3.1\n",
            "\u001b[?25l  Downloading https://files.pythonhosted.org/packages/88/95/90e8c4c31cfc67248bf944ba42029295b77159982f532c5689bcfe4e9108/torch-1.3.1-cp36-cp36m-manylinux1_x86_64.whl (734.6MB)\n",
            "\u001b[K     |████████████████████████████████| 734.6MB 22kB/s \n",
            "\u001b[?25hRequirement already satisfied: numpy in /usr/local/lib/python3.6/dist-packages (from torch==1.3.1) (1.17.4)\n",
            "\u001b[31mERROR: fastai 0.7.0 has requirement torch<0.4, but you'll have torch 1.3.1 which is incompatible.\u001b[0m\n",
            "Installing collected packages: torch\n",
            "  Found existing installation: torch 0.3.1\n",
            "    Uninstalling torch-0.3.1:\n",
            "      Successfully uninstalled torch-0.3.1\n",
            "Successfully installed torch-1.3.1\n"
          ],
          "name": "stdout"
        },
        {
          "output_type": "display_data",
          "data": {
            "application/vnd.colab-display-data+json": {
              "pip_warning": {
                "packages": [
                  "torch"
                ]
              }
            }
          },
          "metadata": {
            "tags": []
          }
        }
      ]
    },
    {
      "cell_type": "code",
      "metadata": {
        "id": "pt2nrnna7Rde",
        "colab_type": "code",
        "colab": {}
      },
      "source": [
        "import torch.nn as nn"
      ],
      "execution_count": 0,
      "outputs": []
    },
    {
      "cell_type": "code",
      "metadata": {
        "id": "I2RWkY-O_W6H",
        "colab_type": "code",
        "colab": {}
      },
      "source": [
        "from fastai.imports import *\n",
        "from fastai.torch_imports import *\n",
        "from fastai.io import *"
      ],
      "execution_count": 0,
      "outputs": []
    },
    {
      "cell_type": "code",
      "metadata": {
        "id": "MAWaDd5S_ajX",
        "colab_type": "code",
        "colab": {}
      },
      "source": [
        "from fastai.metrics import *\n",
        "from fastai.model import *\n",
        "from fastai.dataset import *"
      ],
      "execution_count": 0,
      "outputs": []
    },
    {
      "cell_type": "code",
      "metadata": {
        "id": "8O70Mt452uhB",
        "colab_type": "code",
        "colab": {}
      },
      "source": [
        "PATH = \"/content/gdrive/My Drive/Fastai/\""
      ],
      "execution_count": 0,
      "outputs": []
    },
    {
      "cell_type": "code",
      "metadata": {
        "id": "UuyMOvTI3YTi",
        "colab_type": "code",
        "colab": {}
      },
      "source": [
        "import os\n",
        "os.makedirs(PATH, exist_ok = True)"
      ],
      "execution_count": 0,
      "outputs": []
    },
    {
      "cell_type": "code",
      "metadata": {
        "id": "n6DSuxlC3kZa",
        "colab_type": "code",
        "colab": {}
      },
      "source": [
        "URL = \"http://deeplearning.net/data/mnist/\"\n",
        "FILENAME = 'mnist.pkl.gz'\n",
        "def load_mnist(filename):\n",
        "  return pickle.load(gzip.open(filename, 'rb'), encoding='latin-1')"
      ],
      "execution_count": 0,
      "outputs": []
    },
    {
      "cell_type": "code",
      "metadata": {
        "id": "d1KIlkgr8-pu",
        "colab_type": "code",
        "outputId": "d8dbf1c0-dc42-44df-f76e-9876964f9aff",
        "colab": {
          "base_uri": "https://localhost:8080/",
          "height": 731
        }
      },
      "source": [
        "%ls /content/gdrive/My\\ Drive/"
      ],
      "execution_count": 15,
      "outputs": [
        {
          "output_type": "stream",
          "text": [
            " 15032017151120-0001.pdf\n",
            " 20170311.txt.gdoc\n",
            "\u001b[0m\u001b[01;34m'Anyfile Notepad Files'\u001b[0m/\n",
            " \u001b[01;34mapp\u001b[0m/\n",
            " assignment_1_projections_file.gsheet\n",
            " assignment3.gsheet\n",
            " bathdata.xlsx\n",
            "'Britain Elects   Public Opinion.gsheet'\n",
            "\u001b[01;34m'Colab Notebooks'\u001b[0m/\n",
            " COMP102_2019.zip\n",
            "'Copy of HbA1c Comparison  study (1).gsheet'\n",
            "'Copy of HbA1c Comparison  study.gsheet'\n",
            "'Copy of R-code-draft.R'\n",
            " cv.gdoc\n",
            "'CV of danqing.gdoc'\n",
            " dass.gdoc\n",
            " \u001b[01;34mdata\u001b[0m/\n",
            " eoi.docx\n",
            " eoi.docx.gdoc\n",
            " \u001b[01;34mFastai\u001b[0m/\n",
            " Group1_Journalpaper.docx\n",
            "'HC _ Illustrations.pdf'\n",
            " HospitalERCore.java\n",
            "'Hua Li Depreciation 2016.pdf'\n",
            "'Hua Li Income Statement 2016.pdf'\n",
            " img-814134807-0001.pdf\n",
            "'InspectionID201741815754 (1).pdf'\n",
            " InspectionID201741815754.pdf\n",
            " invoice_34036.pdf\n",
            " Japan.gsheet\n",
            " \u001b[01;34mKK\u001b[0m/\n",
            " \u001b[01;34mpersonal\u001b[0m/\n",
            " QQ图片20140919102610.jpg\n",
            "'REAA - NZ Residential Property Sale and Purchase Agreements Guide.pdf'\n",
            "'stock list.xlsx'\n",
            " traffic-violations-in-maryland-county-20122018.zip\n",
            "'Untitled document (1).gdoc'\n",
            "'Untitled document (2).gdoc'\n",
            "'Untitled document (3).gdoc'\n",
            "'Untitled document (4).gdoc'\n",
            "'Untitled document.gdoc'\n",
            " 小包裹托运清单.xls\n"
          ],
          "name": "stdout"
        }
      ]
    },
    {
      "cell_type": "code",
      "metadata": {
        "id": "-JGvDUId4Swp",
        "colab_type": "code",
        "colab": {}
      },
      "source": [
        "get_data(URL+FILENAME, PATH+FILENAME)\n",
        "((x, y), (x_valid, y_valid), _) = load_mnist(PATH + FILENAME)"
      ],
      "execution_count": 0,
      "outputs": []
    },
    {
      "cell_type": "code",
      "metadata": {
        "id": "GOTPY6Je-vWP",
        "colab_type": "code",
        "outputId": "451574ca-39af-4f6e-98f2-b5aebca48e26",
        "colab": {
          "base_uri": "https://localhost:8080/",
          "height": 34
        }
      },
      "source": [
        "type(x), x.shape, type(y), y.shape"
      ],
      "execution_count": 17,
      "outputs": [
        {
          "output_type": "execute_result",
          "data": {
            "text/plain": [
              "(numpy.ndarray, (50000, 784), numpy.ndarray, (50000,))"
            ]
          },
          "metadata": {
            "tags": []
          },
          "execution_count": 17
        }
      ]
    },
    {
      "cell_type": "code",
      "metadata": {
        "id": "FqRSd03AAZh9",
        "colab_type": "code",
        "outputId": "27d60fb5-b44f-4ed6-e159-e814c259d787",
        "colab": {
          "base_uri": "https://localhost:8080/",
          "height": 34
        }
      },
      "source": [
        "mean = x.mean()\n",
        "std = x.std()\n",
        "\n",
        "x = (x-mean)/std\n",
        "mean, std, x.mean(), x.std()"
      ],
      "execution_count": 18,
      "outputs": [
        {
          "output_type": "execute_result",
          "data": {
            "text/plain": [
              "(0.13044983, 0.3072898, -3.1638146e-07, 0.99999934)"
            ]
          },
          "metadata": {
            "tags": []
          },
          "execution_count": 18
        }
      ]
    },
    {
      "cell_type": "code",
      "metadata": {
        "id": "B6f-_irkBAqi",
        "colab_type": "code",
        "colab": {}
      },
      "source": [
        "def show(img, title=None):\n",
        "  plt.imshow(img, cmap=\"gray\")\n",
        "  if title is not None: plt.title(title)"
      ],
      "execution_count": 0,
      "outputs": []
    },
    {
      "cell_type": "code",
      "metadata": {
        "id": "o4QPaSXG4JDA",
        "colab_type": "code",
        "colab": {}
      },
      "source": [
        ""
      ],
      "execution_count": 0,
      "outputs": []
    },
    {
      "cell_type": "code",
      "metadata": {
        "id": "0H9vIYCTEcT4",
        "colab_type": "code",
        "colab": {}
      },
      "source": [
        "def plots(ims, figsize=(12,6), rows=2, titles=None):\n",
        "  f = plt.figure(figsize=figsize)\n",
        "  cols = len(ims)//rows\n",
        "  for i in range(len(ims)):\n",
        "    sp = f.add_subplot(rows, cols, i+1)\n",
        "    sp.axis('Off')\n",
        "    if titles is not None: sp.set_title(titles[i], fontsize=16)\n",
        "    plt.imshow(ims[i], cmap='gray')"
      ],
      "execution_count": 0,
      "outputs": []
    },
    {
      "cell_type": "code",
      "metadata": {
        "id": "shueDh0CG7RD",
        "colab_type": "code",
        "outputId": "8c926bfe-01cd-4049-a2cf-9b44c4649e67",
        "colab": {
          "base_uri": "https://localhost:8080/",
          "height": 34
        }
      },
      "source": [
        "x_valid.shape"
      ],
      "execution_count": 21,
      "outputs": [
        {
          "output_type": "execute_result",
          "data": {
            "text/plain": [
              "(10000, 784)"
            ]
          },
          "metadata": {
            "tags": []
          },
          "execution_count": 21
        }
      ]
    },
    {
      "cell_type": "code",
      "metadata": {
        "id": "y0_cWZI9G9JY",
        "colab_type": "code",
        "outputId": "bf0462f7-2376-433f-c29d-4f9580dbd153",
        "colab": {
          "base_uri": "https://localhost:8080/",
          "height": 34
        }
      },
      "source": [
        "x_imgs = np.reshape(x_valid, (-1, 28, 28)); x_imgs.shape"
      ],
      "execution_count": 22,
      "outputs": [
        {
          "output_type": "execute_result",
          "data": {
            "text/plain": [
              "(10000, 28, 28)"
            ]
          },
          "metadata": {
            "tags": []
          },
          "execution_count": 22
        }
      ]
    },
    {
      "cell_type": "code",
      "metadata": {
        "id": "WoOA2zYXLc6j",
        "colab_type": "code",
        "outputId": "fb95801e-85a0-4e44-a2a3-1bd7f89101cd",
        "colab": {
          "base_uri": "https://localhost:8080/",
          "height": 281
        }
      },
      "source": [
        "show(x_imgs[0], y_valid[0])"
      ],
      "execution_count": 23,
      "outputs": [
        {
          "output_type": "display_data",
          "data": {
            "image/png": "[encoded data removed]",
            "text/plain": [
              "<Figure size 432x288 with 1 Axes>"
            ]
          },
          "metadata": {
            "tags": []
          }
        }
      ]
    },
    {
      "cell_type": "code",
      "metadata": {
        "id": "7sCmNM7fTwwQ",
        "colab_type": "code",
        "outputId": "de19b4fa-4927-42b6-80f4-2b72f5ba7d3a",
        "colab": {
          "base_uri": "https://localhost:8080/",
          "height": 34
        }
      },
      "source": [
        "y_valid.shape"
      ],
      "execution_count": 24,
      "outputs": [
        {
          "output_type": "execute_result",
          "data": {
            "text/plain": [
              "(10000,)"
            ]
          },
          "metadata": {
            "tags": []
          },
          "execution_count": 24
        }
      ]
    },
    {
      "cell_type": "code",
      "metadata": {
        "id": "iUYtDNTfTzei",
        "colab_type": "code",
        "outputId": "8b5a5c1e-39de-4257-a416-f7b11b1271da",
        "colab": {
          "base_uri": "https://localhost:8080/",
          "height": 34
        }
      },
      "source": [
        "y_valid[0]"
      ],
      "execution_count": 25,
      "outputs": [
        {
          "output_type": "execute_result",
          "data": {
            "text/plain": [
              "3"
            ]
          },
          "metadata": {
            "tags": []
          },
          "execution_count": 25
        }
      ]
    },
    {
      "cell_type": "code",
      "metadata": {
        "id": "WYd-J0fST2Hm",
        "colab_type": "code",
        "outputId": "5e1b80ca-82c9-43f6-dbb3-9b47caafefba",
        "colab": {
          "base_uri": "https://localhost:8080/",
          "height": 204
        }
      },
      "source": [
        "x_imgs[0, 10:20, 10:20]"
      ],
      "execution_count": 26,
      "outputs": [
        {
          "output_type": "execute_result",
          "data": {
            "text/plain": [
              "array([[0.     , 0.     , 0.     , 0.     , 0.18359, 0.85156, 0.99219, 0.84375, 0.11328, 0.     ],\n",
              "       [0.     , 0.     , 0.     , 0.37109, 0.87891, 0.99219, 0.95703, 0.25391, 0.     , 0.     ],\n",
              "       [0.     , 0.04688, 0.5    , 0.98438, 0.99219, 0.92188, 0.15625, 0.     , 0.     , 0.     ],\n",
              "       [0.     , 0.67188, 0.99219, 0.99219, 0.66406, 0.22656, 0.     , 0.     , 0.     , 0.     ],\n",
              "       [0.     , 0.80859, 0.99219, 0.99219, 0.25391, 0.     , 0.     , 0.     , 0.     , 0.     ],\n",
              "       [0.     , 0.53516, 0.99219, 0.99219, 0.98047, 0.57031, 0.10156, 0.     , 0.     , 0.     ],\n",
              "       [0.     , 0.03516, 0.67578, 0.875  , 0.99219, 0.99219, 0.89844, 0.27734, 0.     , 0.     ],\n",
              "       [0.     , 0.     , 0.03125, 0.04688, 0.99219, 0.99219, 0.99219, 0.96094, 0.40625, 0.     ],\n",
              "       [0.     , 0.     , 0.     , 0.     , 0.17969, 0.73828, 0.99219, 0.99219, 0.875  , 0.     ],\n",
              "       [0.     , 0.     , 0.     , 0.     , 0.     , 0.06641, 0.68359, 0.99219, 0.99219, 0.09766]],\n",
              "      dtype=float32)"
            ]
          },
          "metadata": {
            "tags": []
          },
          "execution_count": 26
        }
      ]
    },
    {
      "cell_type": "code",
      "metadata": {
        "id": "8WTE0ZBvUAOb",
        "colab_type": "code",
        "outputId": "308e606e-bbc1-43cb-b013-56cc4d619941",
        "colab": {
          "base_uri": "https://localhost:8080/",
          "height": 265
        }
      },
      "source": [
        "show(x_imgs[0, 10:20, 10:20])"
      ],
      "execution_count": 27,
      "outputs": [
        {
          "output_type": "display_data",
          "data": {
            "image/png": "[encoded data removed]",
            "text/plain": [
              "<Figure size 432x288 with 1 Axes>"
            ]
          },
          "metadata": {
            "tags": []
          }
        }
      ]
    },
    {
      "cell_type": "code",
      "metadata": {
        "id": "WHPW5pdfUR-Z",
        "colab_type": "code",
        "colab": {}
      },
      "source": [
        "#:8 means 到8 #### 8:means 从8开始"
      ],
      "execution_count": 0,
      "outputs": []
    },
    {
      "cell_type": "code",
      "metadata": {
        "id": "-heN75QvUHQ9",
        "colab_type": "code",
        "outputId": "5a95db0e-8848-4c6e-9edc-4900cf22ae3d",
        "colab": {
          "base_uri": "https://localhost:8080/",
          "height": 372
        }
      },
      "source": [
        "plots(x_imgs[:8], titles=y_valid[:8])"
      ],
      "execution_count": 29,
      "outputs": [
        {
          "output_type": "display_data",
          "data": {
            "image/png": "[encoded data removed]",
            "text/plain": [
              "<Figure size 864x432 with 8 Axes>"
            ]
          },
          "metadata": {
            "tags": []
          }
        }
      ]
    },
    {
      "cell_type": "markdown",
      "metadata": {
        "id": "y2Y5CD8_ryEM",
        "colab_type": "text"
      },
      "source": [
        ""
      ]
    },
    {
      "cell_type": "code",
      "metadata": {
        "id": "preSiZsNBcLD",
        "colab_type": "code",
        "colab": {}
      },
      "source": [
        "\n",
        "net = nn.Sequential(\n",
        "    nn.Linear(28*28, 100),\n",
        "    nn.ReLU(),\n",
        "    nn.Linear(100, 100),\n",
        "    nn.ReLU(),\n",
        "    nn.Linear(100, 10),\n",
        "    nn.LogSoftmax()\n",
        ").cuda()"
      ],
      "execution_count": 0,
      "outputs": []
    },
    {
      "cell_type": "code",
      "metadata": {
        "id": "04_cgQlrBl3o",
        "colab_type": "code",
        "colab": {}
      },
      "source": [
        "md = ImageClassifierData.from_arrays(PATH, (x,y), (x_valid, y_valid))"
      ],
      "execution_count": 0,
      "outputs": []
    },
    {
      "cell_type": "code",
      "metadata": {
        "id": "RhXJKvLYBqJN",
        "colab_type": "code",
        "colab": {}
      },
      "source": [
        "\n",
        "loss=nn.NLLLoss()\n",
        "metrics=[]\n",
        "# opt=optim.SGD(net.parameters(), 1e-1, momentum=0.9)\n",
        "opt=optim.SGD(net.parameters(), 1e-1, momentum=0.9, weight_decay=1e-3)"
      ],
      "execution_count": 0,
      "outputs": []
    },
    {
      "cell_type": "code",
      "metadata": {
        "id": "qLyqUQSaBt4p",
        "colab_type": "code",
        "colab": {}
      },
      "source": [
        "def binary_loss(y, p):\n",
        "    return np.mean(-(y * np.log(p) + (1-y)*np.log(1-p)))"
      ],
      "execution_count": 0,
      "outputs": []
    },
    {
      "cell_type": "code",
      "metadata": {
        "id": "xrYAi353B4pE",
        "colab_type": "code",
        "outputId": "f3cc92be-770f-45be-c0d6-9dc9a5c65161",
        "colab": {
          "base_uri": "https://localhost:8080/",
          "height": 153
        }
      },
      "source": [
        "fit(net, md, n_epochs=5, crit=loss, opt=opt, metrics=metrics)"
      ],
      "execution_count": 34,
      "outputs": [
        {
          "output_type": "display_data",
          "data": {
            "application/vnd.jupyter.widget-view+json": {
              "model_id": "d9dab2cd12d743faa9cda87bb4369e8d",
              "version_minor": 0,
              "version_major": 2
            },
            "text/plain": [
              "HBox(children=(IntProgress(value=0, description='Epoch', max=5), HTML(value='')))"
            ]
          },
          "metadata": {
            "tags": []
          }
        },
        {
          "output_type": "stream",
          "text": [
            "epoch      trn_loss   val_loss   \n",
            "    0      0.240447   0.83535   \n",
            "    1      0.186014   0.503083  \n",
            "    2      0.196346   0.599403  \n",
            "    3      0.204255   0.549576  \n",
            "    4      0.196815   0.596819  \n",
            "\n"
          ],
          "name": "stdout"
        },
        {
          "output_type": "execute_result",
          "data": {
            "text/plain": [
              "[0.5968194566726684]"
            ]
          },
          "metadata": {
            "tags": []
          },
          "execution_count": 34
        }
      ]
    },
    {
      "cell_type": "code",
      "metadata": {
        "id": "uiMb4k1ACp1T",
        "colab_type": "code",
        "colab": {}
      },
      "source": [
        "set_lrs(opt, 1e-2)"
      ],
      "execution_count": 0,
      "outputs": []
    },
    {
      "cell_type": "code",
      "metadata": {
        "id": "m-KDXw33DLRN",
        "colab_type": "code",
        "outputId": "df243473-e78d-4b81-b2db-33a704d81792",
        "colab": {
          "base_uri": "https://localhost:8080/",
          "height": 119
        }
      },
      "source": [
        "fit(net, md, n_epochs=3, crit=loss, opt=opt, metrics=metrics)"
      ],
      "execution_count": 36,
      "outputs": [
        {
          "output_type": "display_data",
          "data": {
            "application/vnd.jupyter.widget-view+json": {
              "model_id": "71320b8338cf46fc8fe13559b40d0d52",
              "version_minor": 0,
              "version_major": 2
            },
            "text/plain": [
              "HBox(children=(IntProgress(value=0, description='Epoch', max=3), HTML(value='')))"
            ]
          },
          "metadata": {
            "tags": []
          }
        },
        {
          "output_type": "stream",
          "text": [
            "epoch      trn_loss   val_loss   \n",
            "    0      0.077463   0.505742  \n",
            "    1      0.050033   0.468442  \n",
            "    2      0.051025   0.430792  \n",
            "\n"
          ],
          "name": "stdout"
        },
        {
          "output_type": "execute_result",
          "data": {
            "text/plain": [
              "[0.43079245953559875]"
            ]
          },
          "metadata": {
            "tags": []
          },
          "execution_count": 36
        }
      ]
    },
    {
      "cell_type": "code",
      "metadata": {
        "id": "0wdRCMRPEF1O",
        "colab_type": "code",
        "outputId": "8f67838d-0d96-46ac-ad0d-62c3ef9daa51",
        "colab": {
          "base_uri": "https://localhost:8080/",
          "height": 34
        }
      },
      "source": [
        "t = [o.numel() for o in net.parameters()]\n",
        "t, sum(t)"
      ],
      "execution_count": 37,
      "outputs": [
        {
          "output_type": "execute_result",
          "data": {
            "text/plain": [
              "([78400, 100, 10000, 100, 1000, 10], 89610)"
            ]
          },
          "metadata": {
            "tags": []
          },
          "execution_count": 37
        }
      ]
    },
    {
      "cell_type": "code",
      "metadata": {
        "id": "iY7o4sccGVfg",
        "colab_type": "code",
        "outputId": "4a511a7a-d77a-4cdc-abd4-63767fcffd54",
        "colab": {
          "base_uri": "https://localhost:8080/",
          "height": 34
        }
      },
      "source": [
        "torch.cuda.is_available()"
      ],
      "execution_count": 38,
      "outputs": [
        {
          "output_type": "execute_result",
          "data": {
            "text/plain": [
              "True"
            ]
          },
          "metadata": {
            "tags": []
          },
          "execution_count": 38
        }
      ]
    },
    {
      "cell_type": "code",
      "metadata": {
        "id": "lO_f5zli0RnE",
        "colab_type": "code",
        "colab": {
          "base_uri": "https://localhost:8080/",
          "height": 1000
        },
        "outputId": "0e83afef-c2c5-450c-9cdc-4e5074062cec"
      },
      "source": [
        "!ls /usr/local/lib/python3.6/dist-packages"
      ],
      "execution_count": 39,
      "outputs": [
        {
          "output_type": "stream",
          "text": [
            "absl\n",
            "absl_py-0.8.1.dist-info\n",
            "alabaster\n",
            "alabaster-0.7.12.dist-info\n",
            "albumentations\n",
            "albumentations-0.1.12.dist-info\n",
            "altair\n",
            "altair-3.2.0.dist-info\n",
            "apiclient\n",
            "astor\n",
            "astor-0.8.0.dist-info\n",
            "astropy\n",
            "astropy-3.0.5.dist-info\n",
            "atari_py\n",
            "atari_py-0.2.6.dist-info\n",
            "atomicwrites\n",
            "atomicwrites-1.3.0.dist-info\n",
            "attr\n",
            "attrs-19.3.0.dist-info\n",
            "audioread\n",
            "audioread-2.1.8.dist-info\n",
            "autograd\n",
            "autograd-1.3.dist-info\n",
            "babel\n",
            "Babel-2.7.0.dist-info\n",
            "backcall\n",
            "backcall-0.1.0.dist-info\n",
            "backports\n",
            "backports.tempfile-1.0.dist-info\n",
            "backports.weakref-1.0.post1.dist-info\n",
            "bcolz\n",
            "bcolz-1.2.1.dist-info\n",
            "beautifulsoup4-4.6.3.dist-info\n",
            "bin\n",
            "bleach\n",
            "bleach-3.1.0.dist-info\n",
            "blis\n",
            "blis-0.2.4.dist-info\n",
            "bokeh\n",
            "bokeh-1.0.4.dist-info\n",
            "boto\n",
            "boto-2.49.0.dist-info\n",
            "boto3\n",
            "boto3-1.10.14.dist-info\n",
            "botocore\n",
            "botocore-1.13.14.dist-info\n",
            "bottleneck\n",
            "Bottleneck-1.2.1.dist-info\n",
            "branca\n",
            "branca-0.3.1.dist-info\n",
            "bs4\n",
            "bs4-0.0.1.dist-info\n",
            "bson\n",
            "bz2file-0.98.dist-info\n",
            "bz2file.py\n",
            "cachetools\n",
            "cachetools-3.1.1.dist-info\n",
            "caffe2\n",
            "certifi\n",
            "certifi-2019.9.11.dist-info\n",
            "cffi\n",
            "cffi-1.13.2.dist-info\n",
            "_cffi_backend.cpython-36m-x86_64-linux-gnu.so\n",
            "chainer\n",
            "chainer-6.5.0.dist-info\n",
            "chainermn\n",
            "chainerx\n",
            "chardet\n",
            "chardet-3.0.4.dist-info\n",
            "chart_studio\n",
            "chart_studio-1.0.0.dist-info\n",
            "chess\n",
            "click\n",
            "Click-7.0.dist-info\n",
            "client\n",
            "cloudpickle\n",
            "cloudpickle-1.2.2.dist-info\n",
            "cmake\n",
            "cmake-3.12.0.dist-info\n",
            "colab\n",
            "colorlover\n",
            "colorlover-0.3.0.dist-info\n",
            "community\n",
            "community-1.0.0b1.dist-info\n",
            "contextlib2-0.5.5.dist-info\n",
            "contextlib2.py\n",
            "convertdate\n",
            "convertdate-2.2.0.dist-info\n",
            "coverage\n",
            "coverage-3.7.1.dist-info\n",
            "coveralls\n",
            "coveralls-0.5.dist-info\n",
            "crcmod\n",
            "crcmod-1.7.dist-info\n",
            "cufflinks\n",
            "cufflinks-0.17.0.dist-info\n",
            "cupy\n",
            "cupy_cuda100-6.5.0.dist-info\n",
            "cupyx\n",
            "cv2\n",
            "_cvxcore.cpython-36m-x86_64-linux-gnu.so\n",
            "cvxopt\n",
            "cvxopt-1.2.3.dist-info\n",
            "cvxpy\n",
            "cvxpy-1.0.25.dist-info\n",
            "cycler-0.10.0.dist-info\n",
            "cycler.py\n",
            "cymem\n",
            "cymem-2.0.2.dist-info\n",
            "Cython\n",
            "Cython-0.29.14.dist-info\n",
            "cython.py\n",
            "daft-0.0.4.dist-info\n",
            "daft.py\n",
            "dask\n",
            "dask-1.1.5.dist-info\n",
            "dataclasses-0.7.dist-info\n",
            "dataclasses.py\n",
            "datascience\n",
            "datascience-0.10.6.dist-info\n",
            "dateutil\n",
            "decorator-4.4.1.dist-info\n",
            "decorator.py\n",
            "defusedxml\n",
            "defusedxml-0.6.0.dist-info\n",
            "descartes\n",
            "descartes-1.1.0.dist-info\n",
            "dill\n",
            "dill-0.3.1.1.dist-info\n",
            "distributed\n",
            "distributed-1.25.3.dist-info\n",
            "django\n",
            "Django-2.2.7.dist-info\n",
            "dlib-19.16.0.dist-info\n",
            "dlib.cpython-36m-x86_64-linux-gnu.so\n",
            "dm_sonnet-1.35.dist-info\n",
            "docopt-0.6.2.dist-info\n",
            "docopt.py\n",
            "docs\n",
            "docutils\n",
            "docutils-0.15.2.dist-info\n",
            "dopamine\n",
            "dopamine_rl-1.0.5.dist-info\n",
            "dot_parser.py\n",
            "earthengine_api-0.1.205.dist-info\n",
            "easydict\n",
            "easydict-1.9.dist-info\n",
            "easy_install.py\n",
            "ecos\n",
            "ecos-2.0.7.post1.dist-info\n",
            "_ecos.cpython-36m-x86_64-linux-gnu.so\n",
            "editdistance\n",
            "editdistance-0.5.3.dist-info\n",
            "ee\n",
            "en_core_web_sm\n",
            "en_core_web_sm-2.1.0.dist-info\n",
            "entrypoints-0.3.dist-info\n",
            "entrypoints.py\n",
            "et_xmlfile\n",
            "et_xmlfile-1.0.1.dist-info\n",
            "examples\n",
            "fa2\n",
            "fa2-0.3.5.dist-info\n",
            "fancyimpute\n",
            "fancyimpute-0.4.3.dist-info\n",
            "fastai\n",
            "fastai-0.7.0.dist-info\n",
            "fastcache\n",
            "fastcache-1.1.0.dist-info\n",
            "fastdtw\n",
            "fastdtw-0.3.4.dist-info\n",
            "fastprogress\n",
            "fastprogress-0.1.21.dist-info\n",
            "fastrlock\n",
            "fastrlock-0.4.dist-info\n",
            "fbprophet\n",
            "fbprophet-0.5.dist-info\n",
            "feather\n",
            "feather_format-0.4.0.dist-info\n",
            "featuretools\n",
            "featuretools-0.4.1.dist-info\n",
            "filelock-3.0.12.dist-info\n",
            "filelock.py\n",
            "fix_yahoo_finance\n",
            "fix_yahoo_finance-0.0.22.dist-info\n",
            "flask\n",
            "Flask-1.1.1.dist-info\n",
            "folium\n",
            "folium-0.8.3.dist-info\n",
            "fsspec\n",
            "fsspec-0.5.2.dist-info\n",
            "future\n",
            "future-0.16.0.dist-info\n",
            "gast\n",
            "gast-0.2.2.dist-info\n",
            "gdown\n",
            "gdown-3.6.4.dist-info\n",
            "gensim\n",
            "gensim-3.6.0.dist-info\n",
            "geographiclib\n",
            "geographiclib-1.50.dist-info\n",
            "geopy\n",
            "geopy-1.17.0.dist-info\n",
            "gevent\n",
            "gevent-1.4.0.dist-info\n",
            "gin\n",
            "gin_config-0.2.1.dist-info\n",
            "github2pypi\n",
            "glob2\n",
            "glob2-0.7.dist-info\n",
            "google\n",
            "google-2.0.2.dist-info\n",
            "googleapiclient\n",
            "google_api_core-1.14.3.dist-info\n",
            "google_api_core-1.14.3-py3.6-nspkg.pth\n",
            "google_api_python_client-1.7.11.dist-info\n",
            "googleapis_common_protos-1.6.0.dist-info\n",
            "googleapis_common_protos-1.6.0-py3.6-nspkg.pth\n",
            "google_auth-1.4.2.dist-info\n",
            "google_auth-1.4.2-py2.7-nspkg.pth\n",
            "google_auth_httplib2-0.0.3.dist-info\n",
            "google_auth_httplib2.py\n",
            "google_auth_oauthlib\n",
            "google_auth_oauthlib-0.4.1.dist-info\n",
            "google_cloud_bigquery-1.21.0.dist-info\n",
            "google_cloud_bigquery-1.21.0-py3.6-nspkg.pth\n",
            "google_cloud_core-1.0.3.dist-info\n",
            "google_cloud_core-1.0.3-py3.6-nspkg.pth\n",
            "google_cloud_datastore-1.8.0.dist-info\n",
            "google_cloud_datastore-1.8.0-py3.6-nspkg.pth\n",
            "google_cloud_language-1.2.0.dist-info\n",
            "google_cloud_language-1.2.0-py3.6-nspkg.pth\n",
            "google_cloud_storage-1.16.2.dist-info\n",
            "google_cloud_storage-1.16.2-py3.7-nspkg.pth\n",
            "google_cloud_translate-1.5.0.dist-info\n",
            "google_cloud_translate-1.5.0-py3.6-nspkg.pth\n",
            "google_colab-1.0.0.dist-info\n",
            "google_colab-1.0.0-py3.6-nspkg.pth\n",
            "google_drive_downloader\n",
            "googledrivedownloader-0.4.dist-info\n",
            "google_pasta-0.1.8.dist-info\n",
            "google_resumable_media-0.4.1.dist-info\n",
            "google_resumable_media-0.4.1-py3.6-nspkg.pth\n",
            "googlesearch\n",
            "graph_nets\n",
            "graph_nets-1.0.5.dist-info\n",
            "graphviz\n",
            "graphviz-0.10.1.dist-info\n",
            "greenlet-0.4.15.dist-info\n",
            "greenlet.cpython-36m-x86_64-linux-gnu.so\n",
            "gridfs\n",
            "grpc\n",
            "grpcio-1.15.0.dist-info\n",
            "gspread\n",
            "gspread-3.0.1.dist-info\n",
            "gspread_dataframe-3.0.3.dist-info\n",
            "gspread_dataframe.py\n",
            "gunicorn\n",
            "gunicorn-20.0.0.dist-info\n",
            "gym\n",
            "gym-0.15.4.dist-info\n",
            "h5py\n",
            "h5py-2.8.0.dist-info\n",
            "HeapDict-1.0.1.dist-info\n",
            "heapdict.py\n",
            "helper\n",
            "holidays-0.9.11.dist-info\n",
            "holidays.py\n",
            "html5lib\n",
            "html5lib-1.0.1.dist-info\n",
            "httpimport-0.5.18.dist-info\n",
            "httpimport.py\n",
            "httplib2\n",
            "httplib2-0.11.3.dist-info\n",
            "humanize\n",
            "humanize-0.5.1.dist-info\n",
            "hyperopt\n",
            "hyperopt-0.1.2.dist-info\n",
            "ideep4py\n",
            "ideep4py-2.0.0.post3.dist-info\n",
            "idna\n",
            "idna-2.8.dist-info\n",
            "image\n",
            "image-1.5.27.dist-info\n",
            "imageio\n",
            "imageio-2.4.1.dist-info\n",
            "imagesize-1.1.0.dist-info\n",
            "imagesize.py\n",
            "imbalanced_learn-0.4.3.dist-info\n",
            "imblearn\n",
            "imblearn-0.0.dist-info\n",
            "imgaug\n",
            "imgaug-0.2.9.dist-info\n",
            "importlib_metadata\n",
            "importlib_metadata-0.23.dist-info\n",
            "imutils\n",
            "imutils-0.5.3.dist-info\n",
            "inflect-2.1.0.dist-info\n",
            "inflect.py\n",
            "intel_openmp-2019.0.dist-info\n",
            "intervaltree\n",
            "intervaltree-2.1.0.dist-info\n",
            "ipykernel\n",
            "ipykernel-4.6.1.dist-info\n",
            "ipykernel_launcher.py\n",
            "IPython\n",
            "ipython-5.5.0.dist-info\n",
            "ipython_genutils\n",
            "ipython_genutils-0.2.0.dist-info\n",
            "ipython_sql-0.3.9.dist-info\n",
            "ipywidgets\n",
            "ipywidgets-7.5.1.dist-info\n",
            "isoweek-1.3.3.dist-info\n",
            "isoweek.py\n",
            "itsdangerous\n",
            "itsdangerous-1.1.0.dist-info\n",
            "jax\n",
            "jax-0.1.50.dist-info\n",
            "jaxlib\n",
            "jaxlib-0.1.32.dist-info\n",
            "jdcal-1.4.1.dist-info\n",
            "jdcal.py\n",
            "jedi\n",
            "jedi-0.15.1.dist-info\n",
            "jieba\n",
            "jieba-0.39.dist-info\n",
            "jinja2\n",
            "Jinja2-2.10.3.dist-info\n",
            "jmespath\n",
            "jmespath-0.9.4.dist-info\n",
            "joblib\n",
            "joblib-0.14.0.dist-info\n",
            "jpeg4py\n",
            "jpeg4py-0.1.4.dist-info\n",
            "jsonschema\n",
            "jsonschema-2.6.0.dist-info\n",
            "jupyter-1.0.0.dist-info\n",
            "jupyter_client\n",
            "jupyter_client-5.3.4.dist-info\n",
            "jupyter_console\n",
            "jupyter_console-5.2.0.dist-info\n",
            "jupyter_core\n",
            "jupyter_core-4.6.1.dist-info\n",
            "jupyter.py\n",
            "kaggle\n",
            "kaggle-1.5.6.dist-info\n",
            "kapre\n",
            "kapre-0.1.3.1.dist-info\n",
            "keras\n",
            "Keras-2.2.5.dist-info\n",
            "keras_applications\n",
            "Keras_Applications-1.0.8.dist-info\n",
            "keras_preprocessing\n",
            "Keras_Preprocessing-1.1.0.dist-info\n",
            "keras_vis-0.4.1.dist-info\n",
            "kfac\n",
            "kfac-0.2.0.dist-info\n",
            "kiwisolver-1.1.0.dist-info\n",
            "kiwisolver.cpython-36m-x86_64-linux-gnu.so\n",
            "knnimpute\n",
            "knnimpute-0.1.0.dist-info\n",
            "libfuturize\n",
            "libpasteurize\n",
            "librosa\n",
            "librosa-0.6.3.dist-info\n",
            "lightgbm\n",
            "lightgbm-2.2.3.dist-info\n",
            "llvmlite\n",
            "llvmlite-0.30.0.dist-info\n",
            "lmdb\n",
            "lmdb-0.98.dist-info\n",
            "lucid\n",
            "lucid-0.3.8.dist-info\n",
            "lunardate-0.2.0.dist-info\n",
            "lunardate.py\n",
            "lxml\n",
            "lxml-4.2.6.dist-info\n",
            "magenta\n",
            "magenta-0.3.19.dist-info\n",
            "markdown\n",
            "Markdown-3.1.1.dist-info\n",
            "markupsafe\n",
            "MarkupSafe-1.1.1.dist-info\n",
            "matplotlib\n",
            "matplotlib-3.1.1.dist-info\n",
            "matplotlib-3.1.1-py3.6-nspkg.pth\n",
            "matplotlib_venn\n",
            "matplotlib_venn-0.11.5.dist-info\n",
            "mesh_tensorflow\n",
            "mesh_tensorflow-0.1.4.dist-info\n",
            "mido\n",
            "mido-1.2.6.dist-info\n",
            "mir_eval\n",
            "mir_eval-0.5.dist-info\n",
            "missingno\n",
            "missingno-0.4.2.dist-info\n",
            "mistune-0.8.4.dist-info\n",
            "mistune.py\n",
            "mizani\n",
            "mizani-0.5.4.dist-info\n",
            "mkl-2019.0.dist-info\n",
            "mlxtend\n",
            "mlxtend-0.14.0.dist-info\n",
            "more_itertools\n",
            "more_itertools-7.2.0.dist-info\n",
            "moviepy\n",
            "moviepy-0.2.3.5.dist-info\n",
            "mpi4py\n",
            "mpi4py-3.0.3.dist-info\n",
            "mpl_toolkits\n",
            "mpmath\n",
            "mpmath-1.1.0.dist-info\n",
            "msgpack\n",
            "msgpack-0.5.6.dist-info\n",
            "multiprocess\n",
            "_multiprocess\n",
            "multiprocess-0.70.9.dist-info\n",
            "multitasking\n",
            "multitasking-0.0.9.dist-info\n",
            "murmurhash\n",
            "murmurhash-1.0.2.dist-info\n",
            "music21\n",
            "music21-5.5.0.dist-info\n",
            "natsort\n",
            "natsort-5.5.0.dist-info\n",
            "nbconvert\n",
            "nbconvert-5.6.1.dist-info\n",
            "nbformat\n",
            "nbformat-4.4.0.dist-info\n",
            "networkx\n",
            "networkx-2.4.dist-info\n",
            "nibabel\n",
            "nibabel-2.3.3.dist-info\n",
            "nisext\n",
            "nltk\n",
            "nltk-3.2.5.dist-info\n",
            "notebook\n",
            "notebook-5.2.2.dist-info\n",
            "np_utils\n",
            "np_utils-0.5.11.1.dist-info\n",
            "numba\n",
            "numba-0.40.1.dist-info\n",
            "numexpr\n",
            "numexpr-2.7.0.dist-info\n",
            "numpy\n",
            "numpy-1.17.4.dist-info\n",
            "nvidia_ml_py3-7.352.0.dist-info\n",
            "nvidia_smi.py\n",
            "oauth2client\n",
            "oauth2client-4.1.3.dist-info\n",
            "oauthlib\n",
            "oauthlib-3.1.0.dist-info\n",
            "okgrade\n",
            "okgrade-0.4.3.dist-info\n",
            "olefile\n",
            "olefile-0.46.dist-info\n",
            "opencv_contrib_python-3.4.3.18.dist-info\n",
            "opencv_python-3.4.7.28.dist-info\n",
            "OpenGL\n",
            "openpyxl\n",
            "openpyxl-2.5.9.dist-info\n",
            "opt_einsum\n",
            "opt_einsum-3.1.0.dist-info\n",
            "osqp\n",
            "osqp-0.6.1.dist-info\n",
            "osqppurepy\n",
            "packaging\n",
            "packaging-19.2.dist-info\n",
            "palettable\n",
            "palettable-3.3.0.dist-info\n",
            "pandas\n",
            "pandas-0.25.3.dist-info\n",
            "pandas_datareader\n",
            "pandas_datareader-0.7.4.dist-info\n",
            "pandas_gbq\n",
            "pandas_gbq-0.11.0.dist-info\n",
            "pandas_profiling\n",
            "pandas_profiling-1.4.1.dist-info\n",
            "pandas_summary\n",
            "pandas_summary-0.0.7.dist-info\n",
            "pandocfilters-1.4.2.dist-info\n",
            "pandocfilters.py\n",
            "parso\n",
            "parso-0.5.1.dist-info\n",
            "past\n",
            "pasta\n",
            "pathlib-1.0.1.dist-info\n",
            "pathlib.py\n",
            "patsy\n",
            "patsy-0.5.1.dist-info\n",
            "pexpect\n",
            "pexpect-4.7.0.dist-info\n",
            "pickleshare-0.7.5.dist-info\n",
            "pickleshare.py\n",
            "PIL\n",
            "Pillow-4.3.0.dist-info\n",
            "pip\n",
            "pip-19.3.1.dist-info\n",
            "piptools\n",
            "pip_tools-4.2.0.dist-info\n",
            "pkg_resources\n",
            "plac-0.9.6.dist-info\n",
            "plac_core.py\n",
            "plac_ext.py\n",
            "plac.py\n",
            "plac_tk.py\n",
            "plotly\n",
            "plotly-4.1.1.dist-info\n",
            "_plotly_future_\n",
            "_plotly_utils\n",
            "plotlywidget\n",
            "plotnine\n",
            "plotnine-0.5.1.dist-info\n",
            "pluggy\n",
            "pluggy-0.7.1.dist-info\n",
            "png.py\n",
            "pngsuite.py\n",
            "portpicker-1.2.0.dist-info\n",
            "portpicker.py\n",
            "prefetch_generator\n",
            "prefetch_generator-1.0.1.dist-info\n",
            "preshed\n",
            "preshed-2.0.1.dist-info\n",
            "pretty_midi\n",
            "pretty_midi-0.2.8.dist-info\n",
            "prettytable-0.7.2.dist-info\n",
            "prettytable.py\n",
            "progressbar\n",
            "progressbar2-3.38.0.dist-info\n",
            "prometheus_client\n",
            "prometheus_client-0.7.1.dist-info\n",
            "promise\n",
            "promise-2.2.1.dist-info\n",
            "prompt_toolkit\n",
            "prompt_toolkit-1.0.18.dist-info\n",
            "protobuf-3.10.0.dist-info\n",
            "protobuf-3.10.0-py3.6-nspkg.pth\n",
            "psutil\n",
            "psutil-5.4.8.dist-info\n",
            "psycopg2\n",
            "psycopg2-2.7.6.1.dist-info\n",
            "ptyprocess\n",
            "ptyprocess-0.6.0.dist-info\n",
            "pvectorc.cpython-36m-x86_64-linux-gnu.so\n",
            "py\n",
            "py-1.8.0.dist-info\n",
            "pyarrow\n",
            "pyarrow-0.14.1.dist-info\n",
            "pyasn1\n",
            "pyasn1-0.4.7.dist-info\n",
            "pyasn1_modules\n",
            "pyasn1_modules-0.2.7.dist-info\n",
            "__pycache__\n",
            "pycocotools\n",
            "pycocotools-2.0.0.dist-info\n",
            "pycparser\n",
            "pycparser-2.19.dist-info\n",
            "pydata_google_auth\n",
            "pydata_google_auth-0.1.3.dist-info\n",
            "pydot-1.3.0.dist-info\n",
            "pydot_ng\n",
            "pydot_ng-2.0.0.dist-info\n",
            "pydotplus\n",
            "pydotplus-2.0.2.dist-info\n",
            "pydot.py\n",
            "pydrive\n",
            "PyDrive-1.3.1.dist-info\n",
            "pyemd\n",
            "pyemd-0.5.1.dist-info\n",
            "pyglet\n",
            "pyglet-1.3.2.dist-info\n",
            "pygments\n",
            "Pygments-2.1.3.dist-info\n",
            "pylab.py\n",
            "pymc3\n",
            "pymc3-3.7.dist-info\n",
            "pymeeus\n",
            "PyMeeus-0.3.6.dist-info\n",
            "pymongo\n",
            "pymongo-3.9.0.dist-info\n",
            "pymystem3\n",
            "pymystem3-0.2.0.dist-info\n",
            "pynvml.py\n",
            "PyOpenGL-3.1.0.dist-info\n",
            "pyparsing-2.4.5.dist-info\n",
            "pyparsing.py\n",
            "pypng-0.0.20.dist-info\n",
            "pyrsistent\n",
            "pyrsistent-0.15.5.dist-info\n",
            "_pyrsistent_version.py\n",
            "pysndfile\n",
            "pysndfile-1.3.8.dist-info\n",
            "PySocks-1.7.1.dist-info\n",
            "pystan\n",
            "pystan-2.19.1.1.dist-info\n",
            "_pytest\n",
            "pytest-3.6.4.dist-info\n",
            "pytest.py\n",
            "python_chess-0.23.11.dist-info\n",
            "python_dateutil-2.6.1.dist-info\n",
            "python_louvain-0.13.dist-info\n",
            "python_rtmidi-1.3.1.dist-info\n",
            "python_slugify-4.0.0.dist-info\n",
            "python_utils\n",
            "python_utils-2.3.0.dist-info\n",
            "pytz\n",
            "pytz-2018.9.dist-info\n",
            "PyWavelets-1.1.1.dist-info\n",
            "pywt\n",
            "pyximport\n",
            "PyYAML-3.13.dist-info\n",
            "pyzmq-17.0.0.dist-info\n",
            "qtconsole\n",
            "qtconsole-4.5.5.dist-info\n",
            "requests\n",
            "requests-2.21.0.dist-info\n",
            "requests_oauthlib\n",
            "requests_oauthlib-1.3.0.dist-info\n",
            "resampy\n",
            "resampy-0.2.2.dist-info\n",
            "retrying-1.3.3.dist-info\n",
            "retrying.py\n",
            "rpy2\n",
            "rpy2-2.9.5.dist-info\n",
            "rsa\n",
            "rsa-4.0.dist-info\n",
            "rtmidi\n",
            "s3fs\n",
            "s3fs-0.3.5.dist-info\n",
            "s3transfer\n",
            "s3transfer-0.2.1.dist-info\n",
            "scikit_image-0.15.0.dist-info\n",
            "scikit_learn-0.21.3.dist-info\n",
            "scipy\n",
            "scipy-1.3.2.dist-info\n",
            "scs\n",
            "scs-2.1.1.post2.dist-info\n",
            "_scs_direct.cpython-36m-x86_64-linux-gnu.so\n",
            "_scs_indirect.cpython-36m-x86_64-linux-gnu.so\n",
            "_scs_python.cpython-36m-x86_64-linux-gnu.so\n",
            "seaborn\n",
            "seaborn-0.9.0.dist-info\n",
            "semantic_version\n",
            "semantic_version-2.8.2.dist-info\n",
            "send2trash\n",
            "Send2Trash-1.5.0.dist-info\n",
            "setuptools\n",
            "setuptools-41.4.0.dist-info\n",
            "setuptools_git\n",
            "setuptools_git-1.2.dist-info\n",
            "shapely\n",
            "Shapely-1.6.4.post2.dist-info\n",
            "simplegeneric-0.8.1.dist-info\n",
            "simplegeneric.py\n",
            "six-1.12.0.dist-info\n",
            "six.py\n",
            "skimage\n",
            "sklearn\n",
            "sklearn-0.0.dist-info\n",
            "sklearn_pandas\n",
            "sklearn_pandas-1.8.0.dist-info\n",
            "slugify\n",
            "smart_open\n",
            "smart_open-1.9.0.dist-info\n",
            "snowballstemmer\n",
            "snowballstemmer-2.0.0.dist-info\n",
            "sockshandler.py\n",
            "socks.py\n",
            "sonnet\n",
            "sortedcontainers\n",
            "sortedcontainers-2.1.0.dist-info\n",
            "spacy\n",
            "spacy-2.1.9.dist-info\n",
            "sphinx\n",
            "Sphinx-1.8.5.dist-info\n",
            "sphinxcontrib\n",
            "sphinxcontrib_websupport-1.1.2.dist-info\n",
            "sphinxcontrib_websupport-1.1.2-py3.7-nspkg.pth\n",
            "sql\n",
            "sqlalchemy\n",
            "SQLAlchemy-1.3.10.dist-info\n",
            "sqlparse\n",
            "sqlparse-0.3.0.dist-info\n",
            "srsly\n",
            "srsly-0.2.0.dist-info\n",
            "stable_baselines\n",
            "stable_baselines-2.2.1.dist-info\n",
            "statsmodels\n",
            "statsmodels-0.10.1.dist-info\n",
            "sympy\n",
            "sympy-1.1.1.dist-info\n",
            "tables\n",
            "tables-3.4.4.dist-info\n",
            "tabulate-0.8.5.dist-info\n",
            "tabulate.py\n",
            "tblib\n",
            "tblib-1.5.0.dist-info\n",
            "tensor2tensor\n",
            "tensor2tensor-1.14.1.dist-info\n",
            "tensorboard\n",
            "tensorboard-1.15.0.dist-info\n",
            "tensorboardcolab\n",
            "tensorboardcolab-0.0.22.dist-info\n",
            "tensorflow\n",
            "tensorflow-1.15.0.dist-info\n",
            "tensorflow_core\n",
            "tensorflow_datasets\n",
            "tensorflow_datasets-1.3.0.dist-info\n",
            "tensorflow_estimator\n",
            "tensorflow_estimator-1.15.1.dist-info\n",
            "tensorflow_gan\n",
            "tensorflow_gan-2.0.0.dist-info\n",
            "tensorflow_hub\n",
            "tensorflow_hub-0.7.0.dist-info\n",
            "tensorflow_metadata\n",
            "tensorflow_metadata-0.15.0.dist-info\n",
            "tensorflow_privacy\n",
            "tensorflow_privacy-0.2.2.dist-info\n",
            "tensorflow_probability\n",
            "tensorflow_probability-0.7.0.dist-info\n",
            "termcolor-1.1.0.dist-info\n",
            "termcolor.py\n",
            "terminado\n",
            "terminado-0.8.2.dist-info\n",
            "test\n",
            "testpath\n",
            "testpath-0.4.4.dist-info\n",
            "test_png.py\n",
            "tests\n",
            "textblob\n",
            "textblob-0.15.3.dist-info\n",
            "textgenrnn\n",
            "textgenrnn-1.4.1.dist-info\n",
            "text_unidecode\n",
            "text_unidecode-1.3.dist-info\n",
            "tflearn\n",
            "tflearn-0.3.2.dist-info\n",
            "theano\n",
            "Theano-1.0.4.dist-info\n",
            "thinc\n",
            "thinc-7.0.8.dist-info\n",
            "tlz\n",
            "toolz\n",
            "toolz-0.10.0.dist-info\n",
            "torch\n",
            "torch-1.3.1.dist-info\n",
            "torchsummary\n",
            "torchsummary-1.5.1.dist-info\n",
            "torchtext\n",
            "torchtext-0.2.3.dist-info\n",
            "torchvision\n",
            "torchvision-0.2.2.dist-info\n",
            "tornado\n",
            "tornado-4.5.3.dist-info\n",
            "tqdm\n",
            "tqdm-4.19.9.dist-info\n",
            "traitlets\n",
            "traitlets-4.3.3.dist-info\n",
            "tweepy\n",
            "tweepy-3.6.0.dist-info\n",
            "typing-3.6.6.dist-info\n",
            "typing_extensions-3.6.6.dist-info\n",
            "typing_extensions.py\n",
            "typing.py\n",
            "tzlocal\n",
            "tzlocal-1.5.1.dist-info\n",
            "umap\n",
            "umap_learn-0.3.10.dist-info\n",
            "uritemplate\n",
            "uritemplate-3.0.0.dist-info\n",
            "urllib3\n",
            "urllib3-1.24.3.dist-info\n",
            "vega_datasets\n",
            "vega_datasets-0.7.0.dist-info\n",
            "vis\n",
            "wasabi\n",
            "wasabi-0.4.0.dist-info\n",
            "wcwidth\n",
            "wcwidth-0.1.7.dist-info\n",
            "webencodings\n",
            "webencodings-0.5.1.dist-info\n",
            "werkzeug\n",
            "Werkzeug-0.16.0.dist-info\n",
            "wheel\n",
            "wheel-0.33.6.dist-info\n",
            "widgetsnbextension\n",
            "widgetsnbextension-3.5.1.dist-info\n",
            "wordcloud\n",
            "wordcloud-1.5.0.dist-info\n",
            "wrapt\n",
            "wrapt-1.11.2.dist-info\n",
            "xarray\n",
            "xarray-0.11.3.dist-info\n",
            "xgboost\n",
            "xgboost-0.90.dist-info\n",
            "xlrd\n",
            "xlrd-1.1.0.dist-info\n",
            "xlwt\n",
            "xlwt-1.3.0.dist-info\n",
            "yaml\n",
            "yellowbrick\n",
            "yellowbrick-0.9.1.dist-info\n",
            "zict\n",
            "zict-1.0.0.dist-info\n",
            "zipp-0.6.0.dist-info\n",
            "zipp.py\n",
            "zmq\n",
            "zmq-0.0.0.dist-info\n"
          ],
          "name": "stdout"
        }
      ]
    },
    {
      "cell_type": "code",
      "metadata": {
        "id": "CArkGSOaE29q",
        "colab_type": "code",
        "colab": {}
      },
      "source": [
        "preds = predict(net, md.val_dl)"
      ],
      "execution_count": 0,
      "outputs": []
    },
    {
      "cell_type": "code",
      "metadata": {
        "id": "l1GvYBO3544_",
        "colab_type": "code",
        "outputId": "46aaf572-4d5e-465c-d700-b28f9cade934",
        "colab": {
          "base_uri": "https://localhost:8080/",
          "height": 34
        }
      },
      "source": [
        "preds.shape"
      ],
      "execution_count": 41,
      "outputs": [
        {
          "output_type": "execute_result",
          "data": {
            "text/plain": [
              "(10000, 10)"
            ]
          },
          "metadata": {
            "tags": []
          },
          "execution_count": 41
        }
      ]
    },
    {
      "cell_type": "code",
      "metadata": {
        "id": "X28JBKY-BdwU",
        "colab_type": "code",
        "outputId": "9616a82c-60ac-423f-88e3-f189115af9dd",
        "colab": {
          "base_uri": "https://localhost:8080/",
          "height": 34
        }
      },
      "source": [
        "preds.argmax(axis=1)[:5]"
      ],
      "execution_count": 42,
      "outputs": [
        {
          "output_type": "execute_result",
          "data": {
            "text/plain": [
              "array([3, 8, 6, 9, 6])"
            ]
          },
          "metadata": {
            "tags": []
          },
          "execution_count": 42
        }
      ]
    },
    {
      "cell_type": "code",
      "metadata": {
        "id": "ePHgFATiBdm5",
        "colab_type": "code",
        "colab": {}
      },
      "source": [
        "preds = preds.argmax(1)"
      ],
      "execution_count": 0,
      "outputs": []
    },
    {
      "cell_type": "code",
      "metadata": {
        "id": "-nYyf86qBnLU",
        "colab_type": "code",
        "outputId": "f6e9e61e-2354-4af0-fc14-175b9a6856b9",
        "colab": {
          "base_uri": "https://localhost:8080/",
          "height": 34
        }
      },
      "source": [
        "np.mean(preds == y_valid)"
      ],
      "execution_count": 44,
      "outputs": [
        {
          "output_type": "execute_result",
          "data": {
            "text/plain": [
              "0.9351"
            ]
          },
          "metadata": {
            "tags": []
          },
          "execution_count": 44
        }
      ]
    },
    {
      "cell_type": "code",
      "metadata": {
        "id": "JYLhFjijB3E0",
        "colab_type": "code",
        "outputId": "2a238a6b-aff3-4ad2-e878-594f150ec322",
        "colab": {
          "base_uri": "https://localhost:8080/",
          "height": 372
        }
      },
      "source": [
        "plots(x_imgs[:8], titles=preds[:8])"
      ],
      "execution_count": 45,
      "outputs": [
        {
          "output_type": "display_data",
          "data": {
            "image/png": "[encoded data removed]",
            "text/plain": [
              "<Figure size 864x432 with 8 Axes>"
            ]
          },
          "metadata": {
            "tags": []
          }
        }
      ]
    },
    {
      "cell_type": "markdown",
      "metadata": {
        "id": "TnvuR64gB-cR",
        "colab_type": "text"
      },
      "source": [
        "**Defining Logistic Regression ourselves**"
      ]
    },
    {
      "cell_type": "code",
      "metadata": {
        "id": "GfLpTTeICJ70",
        "colab_type": "code",
        "colab": {}
      },
      "source": [
        "def get_weights(*dims): return nn.Parameter(torch.randn(dims)/dims[0])\n",
        "def softmax(x): return torch.exp(x)/(torch.exp(x).sum(dim=1)[:,None])\n",
        "\n",
        "class LogReg(nn.Module):\n",
        "    def __init__(self):\n",
        "        super().__init__()\n",
        "        self.l1_w = get_weights(28*28, 10)  # Layer 1 weights\n",
        "        self.l1_b = get_weights(10)         # Layer 1 bias\n",
        "\n",
        "    def forward(self, x):\n",
        "        x = x.view(x.size(0), -1)\n",
        "        x = (x @ self.l1_w) + self.l1_b  # Linear Layer\n",
        "        x = torch.log(softmax(x)) # Non-linear (LogSoftmax) Layer\n",
        "        return x"
      ],
      "execution_count": 0,
      "outputs": []
    },
    {
      "cell_type": "code",
      "metadata": {
        "id": "usnj8NVdF-3B",
        "colab_type": "code",
        "colab": {}
      },
      "source": [
        "net2 = LogReg().cuda()\n",
        "opt = optim.Adam(net2.parameters())"
      ],
      "execution_count": 0,
      "outputs": []
    },
    {
      "cell_type": "code",
      "metadata": {
        "id": "aSloXBcrIVJt",
        "colab_type": "code",
        "outputId": "4959b271-8edb-4f64-c7c2-5099f7fcf60a",
        "colab": {
          "base_uri": "https://localhost:8080/",
          "height": 85
        }
      },
      "source": [
        "fit(net2, md, n_epochs=1, crit=loss, opt=opt, metrics=metrics )"
      ],
      "execution_count": 48,
      "outputs": [
        {
          "output_type": "display_data",
          "data": {
            "application/vnd.jupyter.widget-view+json": {
              "model_id": "2f52ee3433664424b741f803e0caa791",
              "version_minor": 0,
              "version_major": 2
            },
            "text/plain": [
              "HBox(children=(IntProgress(value=0, description='Epoch', max=1), HTML(value='')))"
            ]
          },
          "metadata": {
            "tags": []
          }
        },
        {
          "output_type": "stream",
          "text": [
            "epoch      trn_loss   val_loss   \n",
            "    0      0.329091   0.873973  \n",
            "\n"
          ],
          "name": "stdout"
        },
        {
          "output_type": "execute_result",
          "data": {
            "text/plain": [
              "[0.8739732896804809]"
            ]
          },
          "metadata": {
            "tags": []
          },
          "execution_count": 48
        }
      ]
    },
    {
      "cell_type": "code",
      "metadata": {
        "id": "3NebU6NLDbqw",
        "colab_type": "code",
        "colab": {}
      },
      "source": [
        "dl = iter(md.trn_dl)"
      ],
      "execution_count": 0,
      "outputs": []
    },
    {
      "cell_type": "code",
      "metadata": {
        "id": "V9C3C09IDgO7",
        "colab_type": "code",
        "colab": {}
      },
      "source": [
        "xmb, ymb = next(dl)"
      ],
      "execution_count": 0,
      "outputs": []
    },
    {
      "cell_type": "code",
      "metadata": {
        "id": "cXInKCJ7Dny7",
        "colab_type": "code",
        "outputId": "aca6f5a2-31b5-46eb-e4cb-1fe7e235ef78",
        "colab": {
          "base_uri": "https://localhost:8080/",
          "height": 153
        }
      },
      "source": [
        "vxmb = Variable(xmb.cuda())\n",
        "vxmb"
      ],
      "execution_count": 51,
      "outputs": [
        {
          "output_type": "execute_result",
          "data": {
            "text/plain": [
              "tensor([[-0.4245, -0.4245, -0.4245,  ..., -0.4245, -0.4245, -0.4245],\n",
              "        [-0.4245, -0.4245, -0.4245,  ..., -0.4245, -0.4245, -0.4245],\n",
              "        [-0.4245, -0.4245, -0.4245,  ..., -0.4245, -0.4245, -0.4245],\n",
              "        ...,\n",
              "        [-0.4245, -0.4245, -0.4245,  ..., -0.4245, -0.4245, -0.4245],\n",
              "        [-0.4245, -0.4245, -0.4245,  ..., -0.4245, -0.4245, -0.4245],\n",
              "        [-0.4245, -0.4245, -0.4245,  ..., -0.4245, -0.4245, -0.4245]],\n",
              "       device='cuda:0')"
            ]
          },
          "metadata": {
            "tags": []
          },
          "execution_count": 51
        }
      ]
    },
    {
      "cell_type": "code",
      "metadata": {
        "id": "DSK_fV8cD2wW",
        "colab_type": "code",
        "outputId": "7944d827-bb51-4c43-96fd-b6ec1deaac22",
        "colab": {
          "base_uri": "https://localhost:8080/",
          "height": 136
        }
      },
      "source": [
        "preds = net2(vxmb).exp(); preds[:3]"
      ],
      "execution_count": 52,
      "outputs": [
        {
          "output_type": "execute_result",
          "data": {
            "text/plain": [
              "tensor([[9.7742e-01, 3.7015e-06, 1.1815e-03, 4.5432e-05, 1.6638e-06, 1.5634e-02,\n",
              "         4.7265e-03, 2.8807e-04, 6.8958e-04, 1.1519e-05],\n",
              "        [1.3575e-03, 6.7999e-08, 1.7024e-06, 2.9539e-04, 2.2887e-02, 8.2368e-04,\n",
              "         1.6503e-04, 2.7692e-02, 6.0062e-04, 9.4618e-01],\n",
              "        [7.3384e-06, 9.3493e-01, 2.7093e-02, 1.5624e-03, 4.1938e-06, 6.6846e-05,\n",
              "         1.7961e-03, 1.1383e-05, 3.4353e-02, 1.7467e-04]], device='cuda:0',\n",
              "       grad_fn=<SliceBackward>)"
            ]
          },
          "metadata": {
            "tags": []
          },
          "execution_count": 52
        }
      ]
    },
    {
      "cell_type": "code",
      "metadata": {
        "id": "gS_bqQ--EIwa",
        "colab_type": "code",
        "colab": {}
      },
      "source": [
        "preds = preds.data.max(1)[1]"
      ],
      "execution_count": 0,
      "outputs": []
    },
    {
      "cell_type": "code",
      "metadata": {
        "id": "119-ZfNNEPBu",
        "colab_type": "code",
        "outputId": "b851bb08-9eee-45ef-d95d-489ef144802e",
        "colab": {
          "base_uri": "https://localhost:8080/",
          "height": 372
        }
      },
      "source": [
        "preds = predict(net2, md.val_dl).argmax(1)\n",
        "plots(x_imgs[:8], titles=preds[:8])"
      ],
      "execution_count": 54,
      "outputs": [
        {
          "output_type": "display_data",
          "data": {
            "image/png": "[encoded data removed]",
            "text/plain": [
              "<Figure size 864x432 with 8 Axes>"
            ]
          },
          "metadata": {
            "tags": []
          }
        }
      ]
    },
    {
      "cell_type": "code",
      "metadata": {
        "id": "gv-039dLEoWd",
        "colab_type": "code",
        "outputId": "335c4136-95fd-486a-b7f8-84bb290d3ad5",
        "colab": {
          "base_uri": "https://localhost:8080/",
          "height": 34
        }
      },
      "source": [
        "np.mean(preds == y_valid)"
      ],
      "execution_count": 0,
      "outputs": [
        {
          "output_type": "execute_result",
          "data": {
            "text/plain": [
              "0.8188"
            ]
          },
          "metadata": {
            "tags": []
          },
          "execution_count": 38
        }
      ]
    },
    {
      "cell_type": "code",
      "metadata": {
        "id": "JGRkQ4l5Uu71",
        "colab_type": "code",
        "outputId": "7018465a-92dd-4138-8e3f-cab727af5314",
        "colab": {
          "base_uri": "https://localhost:8080/",
          "height": 34
        }
      },
      "source": [
        "a = np.array([10, 6, -4])\n",
        "b = np.array([2, 8, 7])\n",
        "a,b"
      ],
      "execution_count": 0,
      "outputs": [
        {
          "output_type": "execute_result",
          "data": {
            "text/plain": [
              "(array([10,  6, -4]), array([2, 8, 7]))"
            ]
          },
          "metadata": {
            "tags": []
          },
          "execution_count": 39
        }
      ]
    },
    {
      "cell_type": "code",
      "metadata": {
        "id": "2l8f99FiU8Ik",
        "colab_type": "code",
        "outputId": "c4340e2a-d115-4b12-9566-1d16063faf0d",
        "colab": {
          "base_uri": "https://localhost:8080/",
          "height": 34
        }
      },
      "source": [
        "a+b"
      ],
      "execution_count": 0,
      "outputs": [
        {
          "output_type": "execute_result",
          "data": {
            "text/plain": [
              "array([12, 14,  3])"
            ]
          },
          "metadata": {
            "tags": []
          },
          "execution_count": 40
        }
      ]
    },
    {
      "cell_type": "code",
      "metadata": {
        "id": "0vSNQ-vVU9ap",
        "colab_type": "code",
        "outputId": "c23f9ff1-72f8-4a31-8bc5-5ecc2cd1777a",
        "colab": {
          "base_uri": "https://localhost:8080/",
          "height": 34
        }
      },
      "source": [
        "(a<b).mean()"
      ],
      "execution_count": 0,
      "outputs": [
        {
          "output_type": "execute_result",
          "data": {
            "text/plain": [
              "0.6666666666666666"
            ]
          },
          "metadata": {
            "tags": []
          },
          "execution_count": 41
        }
      ]
    },
    {
      "cell_type": "code",
      "metadata": {
        "id": "z_7h3Fg4VGs_",
        "colab_type": "code",
        "outputId": "71123d38-c22e-44c8-a211-66ac54b6c263",
        "colab": {
          "base_uri": "https://localhost:8080/",
          "height": 34
        }
      },
      "source": [
        "a"
      ],
      "execution_count": 0,
      "outputs": [
        {
          "output_type": "execute_result",
          "data": {
            "text/plain": [
              "array([10,  6, -4])"
            ]
          },
          "metadata": {
            "tags": []
          },
          "execution_count": 42
        }
      ]
    },
    {
      "cell_type": "code",
      "metadata": {
        "id": "zGAR62I8VH6Y",
        "colab_type": "code",
        "outputId": "79e1eb0c-f845-468e-ae2b-e8072dbb461d",
        "colab": {
          "base_uri": "https://localhost:8080/",
          "height": 34
        }
      },
      "source": [
        "a>0"
      ],
      "execution_count": 0,
      "outputs": [
        {
          "output_type": "execute_result",
          "data": {
            "text/plain": [
              "array([ True,  True, False])"
            ]
          },
          "metadata": {
            "tags": []
          },
          "execution_count": 43
        }
      ]
    },
    {
      "cell_type": "code",
      "metadata": {
        "id": "sw83omchVJm4",
        "colab_type": "code",
        "outputId": "fe3576b8-4a76-4d3d-db01-494908fcb2c8",
        "colab": {
          "base_uri": "https://localhost:8080/",
          "height": 34
        }
      },
      "source": [
        "a+1"
      ],
      "execution_count": 0,
      "outputs": [
        {
          "output_type": "execute_result",
          "data": {
            "text/plain": [
              "array([11,  7, -3])"
            ]
          },
          "metadata": {
            "tags": []
          },
          "execution_count": 44
        }
      ]
    },
    {
      "cell_type": "code",
      "metadata": {
        "id": "ti2M8QUKVLQp",
        "colab_type": "code",
        "outputId": "65a355c1-1b80-4d9c-b921-9ee9560a74af",
        "colab": {
          "base_uri": "https://localhost:8080/",
          "height": 68
        }
      },
      "source": [
        "m = np.array([[1, 2, 3], [4, 5, 6], [7, 8, 9]]); m"
      ],
      "execution_count": 56,
      "outputs": [
        {
          "output_type": "execute_result",
          "data": {
            "text/plain": [
              "array([[1, 2, 3],\n",
              "       [4, 5, 6],\n",
              "       [7, 8, 9]])"
            ]
          },
          "metadata": {
            "tags": []
          },
          "execution_count": 56
        }
      ]
    },
    {
      "cell_type": "code",
      "metadata": {
        "id": "6ti3s_iOG3lD",
        "colab_type": "code",
        "colab": {}
      },
      "source": [
        ""
      ],
      "execution_count": 0,
      "outputs": []
    },
    {
      "cell_type": "code",
      "metadata": {
        "id": "gwvOZBPnVY-X",
        "colab_type": "code",
        "outputId": "5140cb6e-0073-4487-e86c-adfd7a34a1a8",
        "colab": {
          "base_uri": "https://localhost:8080/",
          "height": 68
        }
      },
      "source": [
        "2*m"
      ],
      "execution_count": 0,
      "outputs": [
        {
          "output_type": "execute_result",
          "data": {
            "text/plain": [
              "array([[ 2,  4,  6],\n",
              "       [ 8, 10, 12],\n",
              "       [14, 16, 18]])"
            ]
          },
          "metadata": {
            "tags": []
          },
          "execution_count": 47
        }
      ]
    },
    {
      "cell_type": "code",
      "metadata": {
        "id": "xZqDHJ3cVbIg",
        "colab_type": "code",
        "outputId": "fe0256c9-2c42-49ab-b41a-df0833195b11",
        "colab": {
          "base_uri": "https://localhost:8080/",
          "height": 34
        }
      },
      "source": [
        "c = np.array([10, 20, 30]); c"
      ],
      "execution_count": 57,
      "outputs": [
        {
          "output_type": "execute_result",
          "data": {
            "text/plain": [
              "array([10, 20, 30])"
            ]
          },
          "metadata": {
            "tags": []
          },
          "execution_count": 57
        }
      ]
    },
    {
      "cell_type": "code",
      "metadata": {
        "id": "B3ux46pMG4Lb",
        "colab_type": "code",
        "colab": {}
      },
      "source": [
        ""
      ],
      "execution_count": 0,
      "outputs": []
    },
    {
      "cell_type": "code",
      "metadata": {
        "id": "VwdHzJbYVf6n",
        "colab_type": "code",
        "outputId": "a867a7ba-fcfb-4c70-ff99-115a894ca373",
        "colab": {
          "base_uri": "https://localhost:8080/",
          "height": 68
        }
      },
      "source": [
        "m + c"
      ],
      "execution_count": 0,
      "outputs": [
        {
          "output_type": "execute_result",
          "data": {
            "text/plain": [
              "array([[11, 22, 33],\n",
              "       [14, 25, 36],\n",
              "       [17, 28, 39]])"
            ]
          },
          "metadata": {
            "tags": []
          },
          "execution_count": 49
        }
      ]
    },
    {
      "cell_type": "code",
      "metadata": {
        "id": "sIURHn8IVlcE",
        "colab_type": "code",
        "outputId": "df0e084f-c6b0-47be-e828-8cbf41104081",
        "colab": {
          "base_uri": "https://localhost:8080/",
          "height": 68
        }
      },
      "source": [
        "c+m"
      ],
      "execution_count": 0,
      "outputs": [
        {
          "output_type": "execute_result",
          "data": {
            "text/plain": [
              "array([[11, 22, 33],\n",
              "       [14, 25, 36],\n",
              "       [17, 28, 39]])"
            ]
          },
          "metadata": {
            "tags": []
          },
          "execution_count": 50
        }
      ]
    },
    {
      "cell_type": "code",
      "metadata": {
        "id": "8oKjtfUlVngp",
        "colab_type": "code",
        "outputId": "c8a49ded-aed1-4ff9-ed79-403f3eb047a2",
        "colab": {
          "base_uri": "https://localhost:8080/",
          "height": 34
        }
      },
      "source": [
        "c.shape"
      ],
      "execution_count": 0,
      "outputs": [
        {
          "output_type": "execute_result",
          "data": {
            "text/plain": [
              "(3,)"
            ]
          },
          "metadata": {
            "tags": []
          },
          "execution_count": 51
        }
      ]
    },
    {
      "cell_type": "code",
      "metadata": {
        "id": "jLCq26HLVo6F",
        "colab_type": "code",
        "outputId": "44c70cf9-3f2d-4812-9a4e-3b0fce49b053",
        "colab": {
          "base_uri": "https://localhost:8080/",
          "height": 68
        }
      },
      "source": [
        "np.broadcast_to(np.expand_dims(c, 0), (3, 3))"
      ],
      "execution_count": 0,
      "outputs": [
        {
          "output_type": "execute_result",
          "data": {
            "text/plain": [
              "array([[10, 20, 30],\n",
              "       [10, 20, 30],\n",
              "       [10, 20, 30]])"
            ]
          },
          "metadata": {
            "tags": []
          },
          "execution_count": 52
        }
      ]
    },
    {
      "cell_type": "code",
      "metadata": {
        "id": "6Ahv1MTrVzpw",
        "colab_type": "code",
        "outputId": "c672fc05-8188-4334-d9d3-7d4bdf66c611",
        "colab": {
          "base_uri": "https://localhost:8080/",
          "height": 68
        }
      },
      "source": [
        "np.broadcast_to(c[:, None], m.shape)"
      ],
      "execution_count": 0,
      "outputs": [
        {
          "output_type": "execute_result",
          "data": {
            "text/plain": [
              "array([[10, 10, 10],\n",
              "       [20, 20, 20],\n",
              "       [30, 30, 30]])"
            ]
          },
          "metadata": {
            "tags": []
          },
          "execution_count": 53
        }
      ]
    },
    {
      "cell_type": "code",
      "metadata": {
        "id": "42AObJkQV6zf",
        "colab_type": "code",
        "outputId": "f2a9d213-8c07-433a-b1eb-183f666b9068",
        "colab": {
          "base_uri": "https://localhost:8080/",
          "height": 34
        }
      },
      "source": [
        "c.shape"
      ],
      "execution_count": 0,
      "outputs": [
        {
          "output_type": "execute_result",
          "data": {
            "text/plain": [
              "(3,)"
            ]
          },
          "metadata": {
            "tags": []
          },
          "execution_count": 54
        }
      ]
    },
    {
      "cell_type": "code",
      "metadata": {
        "id": "CEsEk7vMV8Kg",
        "colab_type": "code",
        "outputId": "3fc4d800-de13-4034-b368-2a906a8441f9",
        "colab": {
          "base_uri": "https://localhost:8080/",
          "height": 34
        }
      },
      "source": [
        "np.expand_dims(c, 0).shape"
      ],
      "execution_count": 0,
      "outputs": [
        {
          "output_type": "execute_result",
          "data": {
            "text/plain": [
              "(1, 3)"
            ]
          },
          "metadata": {
            "tags": []
          },
          "execution_count": 55
        }
      ]
    },
    {
      "cell_type": "code",
      "metadata": {
        "id": "VAI8qB7WWFeb",
        "colab_type": "code",
        "outputId": "ab6a3304-88b8-45b5-b7f9-a983d4a0f3ca",
        "colab": {
          "base_uri": "https://localhost:8080/",
          "height": 68
        }
      },
      "source": [
        "m+np.expand_dims(c, 0)"
      ],
      "execution_count": 0,
      "outputs": [
        {
          "output_type": "execute_result",
          "data": {
            "text/plain": [
              "array([[11, 22, 33],\n",
              "       [14, 25, 36],\n",
              "       [17, 28, 39]])"
            ]
          },
          "metadata": {
            "tags": []
          },
          "execution_count": 56
        }
      ]
    },
    {
      "cell_type": "code",
      "metadata": {
        "id": "epiETnXfWJmd",
        "colab_type": "code",
        "outputId": "75a46287-29b0-4674-b522-50d69b491186",
        "colab": {
          "base_uri": "https://localhost:8080/",
          "height": 68
        }
      },
      "source": [
        "np.expand_dims(c, 1)"
      ],
      "execution_count": 0,
      "outputs": [
        {
          "output_type": "execute_result",
          "data": {
            "text/plain": [
              "array([[10],\n",
              "       [20],\n",
              "       [30]])"
            ]
          },
          "metadata": {
            "tags": []
          },
          "execution_count": 57
        }
      ]
    },
    {
      "cell_type": "code",
      "metadata": {
        "id": "3l9vi7o3WOFE",
        "colab_type": "code",
        "outputId": "63014f2f-3fca-43f3-9427-8952a6ca1bce",
        "colab": {
          "base_uri": "https://localhost:8080/",
          "height": 34
        }
      },
      "source": [
        "c[:, None].shape"
      ],
      "execution_count": 0,
      "outputs": [
        {
          "output_type": "execute_result",
          "data": {
            "text/plain": [
              "(3, 1)"
            ]
          },
          "metadata": {
            "tags": []
          },
          "execution_count": 58
        }
      ]
    },
    {
      "cell_type": "code",
      "metadata": {
        "id": "PXboNGA5WSQm",
        "colab_type": "code",
        "outputId": "459dabfd-5b54-4a6c-fe91-9457ec16d3e5",
        "colab": {
          "base_uri": "https://localhost:8080/",
          "height": 68
        }
      },
      "source": [
        "m+np.expand_dims(c,1)"
      ],
      "execution_count": 0,
      "outputs": [
        {
          "output_type": "execute_result",
          "data": {
            "text/plain": [
              "array([[11, 12, 13],\n",
              "       [24, 25, 26],\n",
              "       [37, 38, 39]])"
            ]
          },
          "metadata": {
            "tags": []
          },
          "execution_count": 59
        }
      ]
    },
    {
      "cell_type": "code",
      "metadata": {
        "id": "Y6TkPfNAWWR_",
        "colab_type": "code",
        "outputId": "1cba7fec-ce72-446c-dda0-8747a247add1",
        "colab": {
          "base_uri": "https://localhost:8080/",
          "height": 68
        }
      },
      "source": [
        "np.broadcast_to(np.expand_dims(c,1), (3,3))"
      ],
      "execution_count": 0,
      "outputs": [
        {
          "output_type": "execute_result",
          "data": {
            "text/plain": [
              "array([[10, 10, 10],\n",
              "       [20, 20, 20],\n",
              "       [30, 30, 30]])"
            ]
          },
          "metadata": {
            "tags": []
          },
          "execution_count": 60
        }
      ]
    },
    {
      "cell_type": "code",
      "metadata": {
        "id": "DD1oYzUyWeo2",
        "colab_type": "code",
        "outputId": "726759d2-80dc-425a-d948-04b8379077e2",
        "colab": {
          "base_uri": "https://localhost:8080/",
          "height": 34
        }
      },
      "source": [
        "c[None]"
      ],
      "execution_count": 0,
      "outputs": [
        {
          "output_type": "execute_result",
          "data": {
            "text/plain": [
              "array([[10, 20, 30]])"
            ]
          },
          "metadata": {
            "tags": []
          },
          "execution_count": 61
        }
      ]
    },
    {
      "cell_type": "code",
      "metadata": {
        "id": "zwHiJACJWhmT",
        "colab_type": "code",
        "outputId": "998f3585-10aa-498a-fc0f-baac2b3ceccb",
        "colab": {
          "base_uri": "https://localhost:8080/",
          "height": 68
        }
      },
      "source": [
        "c[:, None]"
      ],
      "execution_count": 0,
      "outputs": [
        {
          "output_type": "execute_result",
          "data": {
            "text/plain": [
              "array([[10],\n",
              "       [20],\n",
              "       [30]])"
            ]
          },
          "metadata": {
            "tags": []
          },
          "execution_count": 62
        }
      ]
    },
    {
      "cell_type": "code",
      "metadata": {
        "id": "gOLaMYnxWmIP",
        "colab_type": "code",
        "outputId": "2682a217-981c-48e5-e7dc-c8168ed4a2ca",
        "colab": {
          "base_uri": "https://localhost:8080/",
          "height": 68
        }
      },
      "source": [
        "c[None] >c[:,None]"
      ],
      "execution_count": 0,
      "outputs": [
        {
          "output_type": "execute_result",
          "data": {
            "text/plain": [
              "array([[False,  True,  True],\n",
              "       [False, False,  True],\n",
              "       [False, False, False]])"
            ]
          },
          "metadata": {
            "tags": []
          },
          "execution_count": 64
        }
      ]
    },
    {
      "cell_type": "code",
      "metadata": {
        "id": "6Zw47aqgWsxw",
        "colab_type": "code",
        "colab": {}
      },
      "source": [
        "xg, yg = np.ogrid[0:5, 0:5]"
      ],
      "execution_count": 0,
      "outputs": []
    },
    {
      "cell_type": "markdown",
      "metadata": {
        "id": "hYYJN4B3GvoX",
        "colab_type": "text"
      },
      "source": [
        "**Matrix Multiplication**"
      ]
    },
    {
      "cell_type": "code",
      "metadata": {
        "id": "9yfbIu5sGysw",
        "colab_type": "code",
        "colab": {
          "base_uri": "https://localhost:8080/",
          "height": 68
        },
        "outputId": "607e284e-6ed4-4927-dcf8-ee1a1f4cf868"
      },
      "source": [
        "m, c"
      ],
      "execution_count": 58,
      "outputs": [
        {
          "output_type": "execute_result",
          "data": {
            "text/plain": [
              "(array([[1, 2, 3],\n",
              "        [4, 5, 6],\n",
              "        [7, 8, 9]]), array([10, 20, 30]))"
            ]
          },
          "metadata": {
            "tags": []
          },
          "execution_count": 58
        }
      ]
    },
    {
      "cell_type": "code",
      "metadata": {
        "id": "yTSrwbA9G6ev",
        "colab_type": "code",
        "colab": {
          "base_uri": "https://localhost:8080/",
          "height": 34
        },
        "outputId": "b68e3723-2616-43d9-e338-7efc785f5094"
      },
      "source": [
        "m @ c"
      ],
      "execution_count": 59,
      "outputs": [
        {
          "output_type": "execute_result",
          "data": {
            "text/plain": [
              "array([140, 320, 500])"
            ]
          },
          "metadata": {
            "tags": []
          },
          "execution_count": 59
        }
      ]
    },
    {
      "cell_type": "code",
      "metadata": {
        "id": "dow19jQdG8gF",
        "colab_type": "code",
        "colab": {
          "base_uri": "https://localhost:8080/",
          "height": 183
        },
        "outputId": "3f7b29b6-a291-4a59-c330-af8cfb3eba6d"
      },
      "source": [
        "T(m) @ T(c)"
      ],
      "execution_count": 60,
      "outputs": [
        {
          "output_type": "error",
          "ename": "RuntimeError",
          "evalue": "ignored",
          "traceback": [
            "\u001b[0;31m---------------------------------------------------------------------------\u001b[0m",
            "\u001b[0;31mRuntimeError\u001b[0m                              Traceback (most recent call last)",
            "\u001b[0;32m<ipython-input-60-8683d98c77af>\u001b[0m in \u001b[0;36m<module>\u001b[0;34m()\u001b[0m\n\u001b[0;32m----> 1\u001b[0;31m \u001b[0mT\u001b[0m\u001b[0;34m(\u001b[0m\u001b[0mm\u001b[0m\u001b[0;34m)\u001b[0m \u001b[0;34m@\u001b[0m \u001b[0mT\u001b[0m\u001b[0;34m(\u001b[0m\u001b[0mc\u001b[0m\u001b[0;34m)\u001b[0m\u001b[0;34m\u001b[0m\u001b[0;34m\u001b[0m\u001b[0m\n\u001b[0m",
            "\u001b[0;31mRuntimeError\u001b[0m: addmv for CUDA tensors only supports floating-point types. Try converting the tensors with .float() at /pytorch/aten/src/THC/generic/THCTensorMathBlas.cu:160"
          ]
        }
      ]
    },
    {
      "cell_type": "markdown",
      "metadata": {
        "id": "LCAQ9EgAHKpu",
        "colab_type": "text"
      },
      "source": [
        "Writing our Own Training Loop\n"
      ]
    },
    {
      "cell_type": "code",
      "metadata": {
        "id": "jFKRaLpuHO5R",
        "colab_type": "code",
        "colab": {
          "base_uri": "https://localhost:8080/",
          "height": 85
        },
        "outputId": "5e99f4f3-18ab-494d-f9a9-d43b31dbe28a"
      },
      "source": [
        "# Our code from above\n",
        "class LogReg(nn.Module):\n",
        "    def __init__(self):\n",
        "        super().__init__()\n",
        "        self.l1_w = get_weights(28*28, 10)  # Layer 1 weights\n",
        "        self.l1_b = get_weights(10)         # Layer 1 bias\n",
        "\n",
        "    def forward(self, x):\n",
        "        x = x.view(x.size(0), -1)\n",
        "        x = x @ self.l1_w + self.l1_b \n",
        "        return torch.log(softmax(x))\n",
        "\n",
        "net2 = LogReg().cuda()\n",
        "opt=optim.Adam(net2.parameters())\n",
        "\n",
        "fit(net2, md, n_epochs=1, crit=loss, opt=opt, metrics=metrics)"
      ],
      "execution_count": 78,
      "outputs": [
        {
          "output_type": "display_data",
          "data": {
            "application/vnd.jupyter.widget-view+json": {
              "model_id": "9b4468f8dcd346b3aed02e0631bd268d",
              "version_minor": 0,
              "version_major": 2
            },
            "text/plain": [
              "HBox(children=(IntProgress(value=0, description='Epoch', max=1), HTML(value='')))"
            ]
          },
          "metadata": {
            "tags": []
          }
        },
        {
          "output_type": "stream",
          "text": [
            "epoch      trn_loss   val_loss   \n",
            "    0      0.318904   0.87293   \n",
            "\n"
          ],
          "name": "stdout"
        },
        {
          "output_type": "execute_result",
          "data": {
            "text/plain": [
              "[0.8729296744346619]"
            ]
          },
          "metadata": {
            "tags": []
          },
          "execution_count": 78
        }
      ]
    },
    {
      "cell_type": "code",
      "metadata": {
        "id": "LCknGb3qKECf",
        "colab_type": "code",
        "colab": {}
      },
      "source": [
        "net2 = LogReg().cuda()\n",
        "loss = nn.NLLLoss()\n",
        "learning_rate = 1e-3\n",
        "optimizer = optim.Adam(net2.parameters(), lr=learning_rate)"
      ],
      "execution_count": 0,
      "outputs": []
    },
    {
      "cell_type": "code",
      "metadata": {
        "id": "O2eCG8bpKbV9",
        "colab_type": "code",
        "colab": {}
      },
      "source": [
        "dl = iter(md.trn_dl)"
      ],
      "execution_count": 0,
      "outputs": []
    },
    {
      "cell_type": "code",
      "metadata": {
        "id": "ACqdyviHKfBQ",
        "colab_type": "code",
        "colab": {}
      },
      "source": [
        "xt, yt = next(dl)\n",
        "y_pred = net2(Variable(xt).cuda())"
      ],
      "execution_count": 0,
      "outputs": []
    },
    {
      "cell_type": "code",
      "metadata": {
        "id": "Ecevkga3Knky",
        "colab_type": "code",
        "colab": {
          "base_uri": "https://localhost:8080/",
          "height": 34
        },
        "outputId": "21bebc94-9f38-4435-a3ce-f2bb822b19be"
      },
      "source": [
        "l = loss(y_pred, Variable(yt).cuda())\n",
        "print(l)"
      ],
      "execution_count": 82,
      "outputs": [
        {
          "output_type": "stream",
          "text": [
            "tensor(2.3240, device='cuda:0', grad_fn=<NllLossBackward>)\n"
          ],
          "name": "stdout"
        }
      ]
    },
    {
      "cell_type": "code",
      "metadata": {
        "id": "1uFQHoWkK3gw",
        "colab_type": "code",
        "colab": {
          "base_uri": "https://localhost:8080/",
          "height": 34
        },
        "outputId": "6ff18906-8dd9-44e7-8616-d4b353c3f51b"
      },
      "source": [
        "np.mean(to_np(y_pred).argmax(axis=1) == to_np(yt))"
      ],
      "execution_count": 83,
      "outputs": [
        {
          "output_type": "execute_result",
          "data": {
            "text/plain": [
              "0.0625"
            ]
          },
          "metadata": {
            "tags": []
          },
          "execution_count": 83
        }
      ]
    },
    {
      "cell_type": "code",
      "metadata": {
        "id": "UZpr7dGNLJjt",
        "colab_type": "code",
        "colab": {}
      },
      "source": [
        "# before the backward pass, use the optimizer object to zero all of the\n",
        "# gradients for the variables it will update (which are the learnable weights of the model)\n",
        "optimizer.zero_grad()\n",
        "\n",
        "# Backward pass: compute gradient of the loss with respect to model parameters\n",
        "l.backward()\n",
        "\n",
        "# calling the step function on an optimizer makes an update to its parameters\n",
        "optimizer.step()"
      ],
      "execution_count": 0,
      "outputs": []
    },
    {
      "cell_type": "code",
      "metadata": {
        "id": "pSr3kMtgY2CJ",
        "colab_type": "code",
        "colab": {}
      },
      "source": [
        "xt, yt = next(dl)"
      ],
      "execution_count": 0,
      "outputs": []
    },
    {
      "cell_type": "code",
      "metadata": {
        "id": "gBTPUpbHY16N",
        "colab_type": "code",
        "colab": {}
      },
      "source": [
        "y_pred = net2(Variable(xt).cuda())"
      ],
      "execution_count": 0,
      "outputs": []
    },
    {
      "cell_type": "code",
      "metadata": {
        "id": "lg505OZcZCr6",
        "colab_type": "code",
        "colab": {
          "base_uri": "https://localhost:8080/",
          "height": 34
        },
        "outputId": "6bb510ed-b632-4723-9e79-eb31365243ce"
      },
      "source": [
        "l = loss(y_pred, Variable(yt).cuda())\n",
        "print(l)"
      ],
      "execution_count": 87,
      "outputs": [
        {
          "output_type": "stream",
          "text": [
            "tensor(2.1890, device='cuda:0', grad_fn=<NllLossBackward>)\n"
          ],
          "name": "stdout"
        }
      ]
    },
    {
      "cell_type": "markdown",
      "metadata": {
        "id": "M2-3-fdDZaWL",
        "colab_type": "text"
      },
      "source": [
        "Note that we are using stochastic gradient descent, so the loss is not guaranteed to be strictly better each time, the stochasticity comes from the fact that we are using mini-batches; we are jst using 64 images to calculate our prediction and update the weights, not the whole dataset"
      ]
    },
    {
      "cell_type": "code",
      "metadata": {
        "id": "2j-wLq9kZKQA",
        "colab_type": "code",
        "colab": {
          "base_uri": "https://localhost:8080/",
          "height": 34
        },
        "outputId": "a05e119a-78fa-4855-a660-df643f9285fe"
      },
      "source": [
        "np.mean(to_np(y_pred).argmax(axis=1) == to_np(yt))"
      ],
      "execution_count": 88,
      "outputs": [
        {
          "output_type": "execute_result",
          "data": {
            "text/plain": [
              "0.1875"
            ]
          },
          "metadata": {
            "tags": []
          },
          "execution_count": 88
        }
      ]
    },
    {
      "cell_type": "markdown",
      "metadata": {
        "id": "gaiXWjfNZx2v",
        "colab_type": "text"
      },
      "source": [
        "if we run several iteration in a loop, we should see the loss decrease and the accuracy increase with time\n"
      ]
    },
    {
      "cell_type": "code",
      "metadata": {
        "id": "QtNK5SAnZS3_",
        "colab_type": "code",
        "colab": {
          "base_uri": "https://localhost:8080/",
          "height": 187
        },
        "outputId": "5fb0b105-8c47-4c93-ae92-209684faaa8b"
      },
      "source": [
        "for t in range(100):\n",
        "    xt, yt = next(dl)\n",
        "    y_pred = net2(Variable(xt).cuda())\n",
        "    l = loss(y_pred, Variable(yt).cuda())\n",
        "    \n",
        "    if t % 10 == 0:\n",
        "        accuracy = np.mean(to_np(y_pred).argmax(axis=1) == to_np(yt))\n",
        "        print(\"loss: \", l.data, \"\\t accuracy: \", accuracy) #change l.data[0] to l.data to fix error\n",
        "\n",
        "    optimizer.zero_grad()\n",
        "    l.backward()\n",
        "    optimizer.step()"
      ],
      "execution_count": 90,
      "outputs": [
        {
          "output_type": "stream",
          "text": [
            "loss:  tensor(2.2041, device='cuda:0') \t accuracy:  0.3125\n",
            "loss:  tensor(1.3390, device='cuda:0') \t accuracy:  0.703125\n",
            "loss:  tensor(0.8628, device='cuda:0') \t accuracy:  0.8125\n",
            "loss:  tensor(0.7757, device='cuda:0') \t accuracy:  0.765625\n",
            "loss:  tensor(0.6695, device='cuda:0') \t accuracy:  0.859375\n",
            "loss:  tensor(0.5472, device='cuda:0') \t accuracy:  0.859375\n",
            "loss:  tensor(0.6503, device='cuda:0') \t accuracy:  0.8125\n",
            "loss:  tensor(0.5058, device='cuda:0') \t accuracy:  0.84375\n",
            "loss:  tensor(0.5108, device='cuda:0') \t accuracy:  0.921875\n",
            "loss:  tensor(0.5252, device='cuda:0') \t accuracy:  0.875\n"
          ],
          "name": "stdout"
        }
      ]
    },
    {
      "cell_type": "markdown",
      "metadata": {
        "id": "653msvXDnjxr",
        "colab_type": "text"
      },
      "source": [
        "Put it all togather in a training loop\n"
      ]
    },
    {
      "cell_type": "markdown",
      "metadata": {
        "id": "HnOEgWXMo_pc",
        "colab_type": "text"
      },
      "source": [
        "Stochastic Gradient Descent\n"
      ]
    },
    {
      "cell_type": "markdown",
      "metadata": {
        "id": "4S2F73qWpDD0",
        "colab_type": "text"
      },
      "source": [
        "Nearly all of deep learning is powered by one very important algorithm: stochastic gradient descent(SGD). SGD can be seeing as an approximation of gradient descent(GD). in GD you have to run through all the samples in your training set to do a single itaration. In SGD you use only a subset of training samples to do the update fro a parameter in a particular iteration. The subset used in each iteration is called a batch or minibatch.\n",
        "\n",
        "Now, instead of using the optimizer, we will do the optimization our selves."
      ]
    },
    {
      "cell_type": "code",
      "metadata": {
        "id": "KKNL4HTtrW5F",
        "colab_type": "code",
        "colab": {}
      },
      "source": [
        "def score(x, y):\n",
        "  y_pred = to_np(net2(V(x)))\n",
        "  return np.sum(y_pred.argmax(axis=1) == to_np(y))/len(y_pred)"
      ],
      "execution_count": 0,
      "outputs": []
    },
    {
      "cell_type": "code",
      "metadata": {
        "id": "LOsyLd-tsqNg",
        "colab_type": "code",
        "colab": {
          "base_uri": "https://localhost:8080/",
          "height": 51
        },
        "outputId": "b42ed193-69bc-4ee9-a8f8-aa37408d7d73"
      },
      "source": [
        "net2 = LogReg().cuda()\n",
        "loss = nn.NLLLoss()\n",
        "learning_rate = 1e-2\n",
        "optimizer = optim.SGD(net2.parameters(), lr=learning_rate)\n",
        "\n",
        "for epoch in range(2):\n",
        "  losses=[]\n",
        "  dl = iter(md.trn_dl)\n",
        "  for t in enumerate(dl): # instead of range(len(dl))\n",
        "    xt, yt = next(dl)\n",
        "    y_pred = net2(V(xt))\n",
        "    l = loss(y_pred, V(yt))\n",
        "    losses.append(l)\n",
        "\n",
        "    # before the backward pass, use the optimizer object to zero all of the \n",
        "    #gradients for the variables it will update (which are the learnable weights of the model)\n",
        "    optimizer.zero_grad()\n",
        "    #backward pass: compute gradient of the loss with respect to model parameters\n",
        "    l.backward()\n",
        "\n",
        "    #calling the step function on an optimizer makes an update to its parameters\n",
        "    optimizer.step()\n",
        "  val_dl = iter(md.val_dl)\n",
        "  val_scores = [score(*next(val_dl)) for i in range(len(val_dl.__next__()))]\n",
        "  print(np.mean(val_scores))"
      ],
      "execution_count": 127,
      "outputs": [
        {
          "output_type": "stream",
          "text": [
            "0.8203125\n",
            "0.8359375\n"
          ],
          "name": "stdout"
        }
      ]
    },
    {
      "cell_type": "code",
      "metadata": {
        "id": "UfCst5PeyvpJ",
        "colab_type": "code",
        "colab": {}
      },
      "source": [
        ""
      ],
      "execution_count": 0,
      "outputs": []
    },
    {
      "cell_type": "code",
      "metadata": {
        "id": "qUDMSkSRveM-",
        "colab_type": "code",
        "colab": {}
      },
      "source": [
        "val_dl = iter(md.val_dl)"
      ],
      "execution_count": 0,
      "outputs": []
    },
    {
      "cell_type": "code",
      "metadata": {
        "id": "OFrNobjXvwSU",
        "colab_type": "code",
        "colab": {
          "base_uri": "https://localhost:8080/",
          "height": 34
        },
        "outputId": "ec3bce59-8ea1-4c70-81bf-0dc6ee501c76"
      },
      "source": [
        "for i in len(val_dl.__next__()):"
      ],
      "execution_count": 120,
      "outputs": [
        {
          "output_type": "execute_result",
          "data": {
            "text/plain": [
              "2"
            ]
          },
          "metadata": {
            "tags": []
          },
          "execution_count": 120
        }
      ]
    },
    {
      "cell_type": "code",
      "metadata": {
        "id": "D3fEq831uOWB",
        "colab_type": "code",
        "colab": {}
      },
      "source": [
        ""
      ],
      "execution_count": 0,
      "outputs": []
    },
    {
      "cell_type": "code",
      "metadata": {
        "id": "81mh-hspp39x",
        "colab_type": "code",
        "colab": {
          "base_uri": "https://localhost:8080/",
          "height": 231
        },
        "outputId": "df579c05-1646-4ef7-cef5-ca3361675a77"
      },
      "source": [
        "net2 = LogReg().cuda()\n",
        "loss_fn=nn.NLLLoss()\n",
        "lr = 1e-2\n",
        "w,b = net2.l1_w,net2.l1_b\n",
        "\n",
        "for epoch in range(1):\n",
        "    losses=[]\n",
        "    dl = iter(md.trn_dl)\n",
        "    for t in range(len(dl)):\n",
        "        xt, yt = next(dl)\n",
        "        y_pred = net2(V(xt))\n",
        "        l = loss(y_pred, Variable(yt).cuda())\n",
        "        losses.append(loss)\n",
        "\n",
        "        # Backward pass: compute gradient of the loss with respect to model parameters\n",
        "        l.backward()\n",
        "        w.data -= w.grad.data * lr\n",
        "        b.data -= b.grad.data * lr\n",
        "        \n",
        "        w.grad.data.zero_()\n",
        "        b.grad.data.zero_()   \n",
        "\n",
        "    val_dl = iter(md.val_dl)\n",
        "    val_scores = [score(*next(val_dl)) for i in range(len(val_dl))]\n",
        "    print(np.mean(val_scores))"
      ],
      "execution_count": 92,
      "outputs": [
        {
          "output_type": "error",
          "ename": "TypeError",
          "evalue": "ignored",
          "traceback": [
            "\u001b[0;31m---------------------------------------------------------------------------\u001b[0m",
            "\u001b[0;31mTypeError\u001b[0m                                 Traceback (most recent call last)",
            "\u001b[0;32m<ipython-input-92-ba9af86e4308>\u001b[0m in \u001b[0;36m<module>\u001b[0;34m()\u001b[0m\n\u001b[1;32m      7\u001b[0m     \u001b[0mlosses\u001b[0m\u001b[0;34m=\u001b[0m\u001b[0;34m[\u001b[0m\u001b[0;34m]\u001b[0m\u001b[0;34m\u001b[0m\u001b[0;34m\u001b[0m\u001b[0m\n\u001b[1;32m      8\u001b[0m     \u001b[0mdl\u001b[0m \u001b[0;34m=\u001b[0m \u001b[0miter\u001b[0m\u001b[0;34m(\u001b[0m\u001b[0mmd\u001b[0m\u001b[0;34m.\u001b[0m\u001b[0mtrn_dl\u001b[0m\u001b[0;34m)\u001b[0m\u001b[0;34m\u001b[0m\u001b[0;34m\u001b[0m\u001b[0m\n\u001b[0;32m----> 9\u001b[0;31m     \u001b[0;32mfor\u001b[0m \u001b[0mt\u001b[0m \u001b[0;32min\u001b[0m \u001b[0mrange\u001b[0m\u001b[0;34m(\u001b[0m\u001b[0mlen\u001b[0m\u001b[0;34m(\u001b[0m\u001b[0mdl\u001b[0m\u001b[0;34m)\u001b[0m\u001b[0;34m)\u001b[0m\u001b[0;34m:\u001b[0m\u001b[0;34m\u001b[0m\u001b[0;34m\u001b[0m\u001b[0m\n\u001b[0m\u001b[1;32m     10\u001b[0m         \u001b[0mxt\u001b[0m\u001b[0;34m,\u001b[0m \u001b[0myt\u001b[0m \u001b[0;34m=\u001b[0m \u001b[0mnext\u001b[0m\u001b[0;34m(\u001b[0m\u001b[0mdl\u001b[0m\u001b[0;34m)\u001b[0m\u001b[0;34m\u001b[0m\u001b[0;34m\u001b[0m\u001b[0m\n\u001b[1;32m     11\u001b[0m         \u001b[0my_pred\u001b[0m \u001b[0;34m=\u001b[0m \u001b[0mnet2\u001b[0m\u001b[0;34m(\u001b[0m\u001b[0mV\u001b[0m\u001b[0;34m(\u001b[0m\u001b[0mxt\u001b[0m\u001b[0;34m)\u001b[0m\u001b[0;34m)\u001b[0m\u001b[0;34m\u001b[0m\u001b[0;34m\u001b[0m\u001b[0m\n",
            "\u001b[0;31mTypeError\u001b[0m: object of type 'generator' has no len()"
          ]
        }
      ]
    }
  ]
}