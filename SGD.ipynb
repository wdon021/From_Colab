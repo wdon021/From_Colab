{
  "nbformat": 4,
  "nbformat_minor": 0,
  "metadata": {
    "colab": {
      "name": "SGD",
      "provenance": [],
      "include_colab_link": true
    },
    "kernelspec": {
      "name": "python3",
      "display_name": "Python 3"
    },
    "accelerator": "GPU"
  },
  "cells": [
    {
      "cell_type": "markdown",
      "metadata": {
        "id": "view-in-github",
        "colab_type": "text"
      },
      "source": [
        "<a href=\"https://colab.research.google.com/github/wdon021/From_Colab/blob/master/SGD.ipynb\" target=\"_parent\"><img src=\"https://colab.research.google.com/assets/colab-badge.svg\" alt=\"Open In Colab\"/></a>"
      ]
    },
    {
      "cell_type": "code",
      "metadata": {
        "id": "Cu3tjfMY1wGG",
        "colab_type": "code",
        "outputId": "c257240b-cd05-4c1c-d3cc-94a2a4cba0e1",
        "colab": {
          "base_uri": "https://localhost:8080/",
          "height": 122
        }
      },
      "source": [
        "from google.colab import drive\n",
        "drive.mount('/content/gdrive/')"
      ],
      "execution_count": 1,
      "outputs": [
        {
          "output_type": "stream",
          "text": [
            "Go to this URL in a browser: https://accounts.google.com/o/oauth2/auth?client_id=947318989803-6bn6qk8qdgf4n4g3pfee6491hc0brc4i.apps.googleusercontent.com&redirect_uri=urn%3Aietf%3Awg%3Aoauth%3A2.0%3Aoob&scope=email%20https%3A%2F%2Fwww.googleapis.com%2Fauth%2Fdocs.test%20https%3A%2F%2Fwww.googleapis.com%2Fauth%2Fdrive%20https%3A%2F%2Fwww.googleapis.com%2Fauth%2Fdrive.photos.readonly%20https%3A%2F%2Fwww.googleapis.com%2Fauth%2Fpeopleapi.readonly&response_type=code\n",
            "\n",
            "Enter your authorization code:\n",
            "··········\n",
            "Mounted at /content/gdrive/\n"
          ],
          "name": "stdout"
        }
      ]
    },
    {
      "cell_type": "code",
      "metadata": {
        "id": "gxTEQWPD8O0N",
        "colab_type": "code",
        "outputId": "6d15557d-3388-4044-c921-e06897b22c61",
        "colab": {
          "base_uri": "https://localhost:8080/",
          "height": 34
        }
      },
      "source": [
        "!which python3"
      ],
      "execution_count": 0,
      "outputs": [
        {
          "output_type": "stream",
          "text": [
            "/usr/bin/python3\n"
          ],
          "name": "stdout"
        }
      ]
    },
    {
      "cell_type": "code",
      "metadata": {
        "id": "Q2_HY4uN77I3",
        "colab_type": "code",
        "outputId": "de4801f9-ac65-4503-cb19-e7bfc12766e3",
        "colab": {
          "base_uri": "https://localhost:8080/",
          "height": 360
        }
      },
      "source": [
        "!pip install torchtext==0.2.3"
      ],
      "execution_count": 2,
      "outputs": [
        {
          "output_type": "stream",
          "text": [
            "Collecting torchtext==0.2.3\n",
            "\u001b[?25l  Downloading https://files.pythonhosted.org/packages/78/90/474d5944d43001a6e72b9aaed5c3e4f77516fbef2317002da2096fd8b5ea/torchtext-0.2.3.tar.gz (42kB)\n",
            "\r\u001b[K     |███████▊                        | 10kB 21.0MB/s eta 0:00:01\r\u001b[K     |███████████████▍                | 20kB 3.2MB/s eta 0:00:01\r\u001b[K     |███████████████████████         | 30kB 4.7MB/s eta 0:00:01\r\u001b[K     |██████████████████████████████▊ | 40kB 3.0MB/s eta 0:00:01\r\u001b[K     |████████████████████████████████| 51kB 2.7MB/s \n",
            "\u001b[?25hRequirement already satisfied: tqdm in /usr/local/lib/python3.6/dist-packages (from torchtext==0.2.3) (4.28.1)\n",
            "Requirement already satisfied: requests in /usr/local/lib/python3.6/dist-packages (from torchtext==0.2.3) (2.21.0)\n",
            "Requirement already satisfied: idna<2.9,>=2.5 in /usr/local/lib/python3.6/dist-packages (from requests->torchtext==0.2.3) (2.8)\n",
            "Requirement already satisfied: chardet<3.1.0,>=3.0.2 in /usr/local/lib/python3.6/dist-packages (from requests->torchtext==0.2.3) (3.0.4)\n",
            "Requirement already satisfied: urllib3<1.25,>=1.21.1 in /usr/local/lib/python3.6/dist-packages (from requests->torchtext==0.2.3) (1.24.3)\n",
            "Requirement already satisfied: certifi>=2017.4.17 in /usr/local/lib/python3.6/dist-packages (from requests->torchtext==0.2.3) (2019.9.11)\n",
            "Building wheels for collected packages: torchtext\n",
            "  Building wheel for torchtext (setup.py) ... \u001b[?25l\u001b[?25hdone\n",
            "  Created wheel for torchtext: filename=torchtext-0.2.3-cp36-none-any.whl size=40134 sha256=54bafe26e495313f080d6552013ee2e87178b7ab0b53100bbf9e2accb168d926\n",
            "  Stored in directory: /root/.cache/pip/wheels/42/a6/f4/b267328bde6bb680094a0c173e8e5627ccc99543abded97204\n",
            "Successfully built torchtext\n",
            "Installing collected packages: torchtext\n",
            "  Found existing installation: torchtext 0.3.1\n",
            "    Uninstalling torchtext-0.3.1:\n",
            "      Successfully uninstalled torchtext-0.3.1\n",
            "Successfully installed torchtext-0.2.3\n"
          ],
          "name": "stdout"
        }
      ]
    },
    {
      "cell_type": "code",
      "metadata": {
        "id": "9-V34rrw8vGg",
        "colab_type": "code",
        "outputId": "b2ccb0c3-7844-4b54-9b91-5adf5a03a060",
        "colab": {
          "base_uri": "https://localhost:8080/",
          "height": 445
        }
      },
      "source": [
        "!pip install torchvision==0.2.2"
      ],
      "execution_count": 3,
      "outputs": [
        {
          "output_type": "stream",
          "text": [
            "Collecting torchvision==0.2.2\n",
            "\u001b[?25l  Downloading https://files.pythonhosted.org/packages/ce/a1/66d72a2fe580a9f0fcbaaa5b976911fbbde9dce9b330ba12791997b856e9/torchvision-0.2.2-py2.py3-none-any.whl (64kB)\n",
            "\r\u001b[K     |█████                           | 10kB 22.7MB/s eta 0:00:01\r\u001b[K     |██████████▏                     | 20kB 3.2MB/s eta 0:00:01\r\u001b[K     |███████████████▎                | 30kB 4.6MB/s eta 0:00:01\r\u001b[K     |████████████████████▍           | 40kB 2.9MB/s eta 0:00:01\r\u001b[K     |█████████████████████████▌      | 51kB 3.6MB/s eta 0:00:01\r\u001b[K     |██████████████████████████████▋ | 61kB 4.3MB/s eta 0:00:01\r\u001b[K     |████████████████████████████████| 71kB 3.6MB/s \n",
            "\u001b[?25hRequirement already satisfied: pillow>=4.1.1 in /usr/local/lib/python3.6/dist-packages (from torchvision==0.2.2) (4.3.0)\n",
            "Requirement already satisfied: six in /usr/local/lib/python3.6/dist-packages (from torchvision==0.2.2) (1.12.0)\n",
            "Requirement already satisfied: numpy in /usr/local/lib/python3.6/dist-packages (from torchvision==0.2.2) (1.17.3)\n",
            "Collecting tqdm==4.19.9\n",
            "\u001b[?25l  Downloading https://files.pythonhosted.org/packages/b3/c4/b67cf1ab472b770e08e94105a0c7ca7032cd070627c435f5998c9cf6e64f/tqdm-4.19.9-py2.py3-none-any.whl (52kB)\n",
            "\r\u001b[K     |██████▏                         | 10kB 31.6MB/s eta 0:00:01\r\u001b[K     |████████████▍                   | 20kB 40.5MB/s eta 0:00:01\r\u001b[K     |██████████████████▋             | 30kB 47.5MB/s eta 0:00:01\r\u001b[K     |████████████████████████▉       | 40kB 50.1MB/s eta 0:00:01\r\u001b[K     |███████████████████████████████ | 51kB 51.8MB/s eta 0:00:01\r\u001b[K     |████████████████████████████████| 61kB 10.7MB/s \n",
            "\u001b[?25hRequirement already satisfied: torch in /usr/local/lib/python3.6/dist-packages (from torchvision==0.2.2) (1.3.0+cu100)\n",
            "Requirement already satisfied: olefile in /usr/local/lib/python3.6/dist-packages (from pillow>=4.1.1->torchvision==0.2.2) (0.46)\n",
            "Installing collected packages: tqdm, torchvision\n",
            "  Found existing installation: tqdm 4.28.1\n",
            "    Uninstalling tqdm-4.28.1:\n",
            "      Successfully uninstalled tqdm-4.28.1\n",
            "  Found existing installation: torchvision 0.4.1+cu100\n",
            "    Uninstalling torchvision-0.4.1+cu100:\n",
            "      Successfully uninstalled torchvision-0.4.1+cu100\n",
            "Successfully installed torchvision-0.2.2 tqdm-4.19.9\n"
          ],
          "name": "stdout"
        },
        {
          "output_type": "display_data",
          "data": {
            "application/vnd.colab-display-data+json": {
              "pip_warning": {
                "packages": [
                  "tqdm"
                ]
              }
            }
          },
          "metadata": {
            "tags": []
          }
        }
      ]
    },
    {
      "cell_type": "code",
      "metadata": {
        "id": "1ffpskvG9yyb",
        "colab_type": "code",
        "colab": {}
      },
      "source": [
        "import torchvision"
      ],
      "execution_count": 0,
      "outputs": []
    },
    {
      "cell_type": "code",
      "metadata": {
        "id": "ui2vXmon-vQP",
        "colab_type": "code",
        "outputId": "ccf9b0c2-fb74-44e1-baf8-bb1701698445",
        "colab": {
          "base_uri": "https://localhost:8080/",
          "height": 1000
        }
      },
      "source": [
        "!pip install fastai==0.7.0"
      ],
      "execution_count": 4,
      "outputs": [
        {
          "output_type": "stream",
          "text": [
            "Collecting fastai==0.7.0\n",
            "\u001b[?25l  Downloading https://files.pythonhosted.org/packages/50/6d/9d0d6e17a78b0598d5e8c49a0d03ffc7ff265ae62eca3e2345fab14edb9b/fastai-0.7.0-py3-none-any.whl (112kB)\n",
            "\r\u001b[K     |███                             | 10kB 21.9MB/s eta 0:00:01\r\u001b[K     |█████▉                          | 20kB 3.3MB/s eta 0:00:01\r\u001b[K     |████████▊                       | 30kB 4.8MB/s eta 0:00:01\r\u001b[K     |███████████▋                    | 40kB 3.1MB/s eta 0:00:01\r\u001b[K     |██████████████▌                 | 51kB 3.8MB/s eta 0:00:01\r\u001b[K     |█████████████████▍              | 61kB 4.5MB/s eta 0:00:01\r\u001b[K     |████████████████████▍           | 71kB 5.2MB/s eta 0:00:01\r\u001b[K     |███████████████████████▎        | 81kB 5.8MB/s eta 0:00:01\r\u001b[K     |██████████████████████████▏     | 92kB 6.5MB/s eta 0:00:01\r\u001b[K     |█████████████████████████████   | 102kB 5.1MB/s eta 0:00:01\r\u001b[K     |████████████████████████████████| 112kB 5.1MB/s eta 0:00:01\r\u001b[K     |████████████████████████████████| 122kB 5.1MB/s \n",
            "\u001b[?25hRequirement already satisfied: html5lib in /usr/local/lib/python3.6/dist-packages (from fastai==0.7.0) (1.0.1)\n",
            "Requirement already satisfied: plotnine in /usr/local/lib/python3.6/dist-packages (from fastai==0.7.0) (0.5.1)\n",
            "Requirement already satisfied: ipykernel in /usr/local/lib/python3.6/dist-packages (from fastai==0.7.0) (4.6.1)\n",
            "Requirement already satisfied: traitlets in /usr/local/lib/python3.6/dist-packages (from fastai==0.7.0) (4.3.3)\n",
            "Requirement already satisfied: certifi in /usr/local/lib/python3.6/dist-packages (from fastai==0.7.0) (2019.9.11)\n",
            "Requirement already satisfied: pyparsing in /usr/local/lib/python3.6/dist-packages (from fastai==0.7.0) (2.4.2)\n",
            "Requirement already satisfied: pandas in /usr/local/lib/python3.6/dist-packages (from fastai==0.7.0) (0.25.3)\n",
            "Requirement already satisfied: wcwidth in /usr/local/lib/python3.6/dist-packages (from fastai==0.7.0) (0.1.7)\n",
            "Requirement already satisfied: MarkupSafe in /usr/local/lib/python3.6/dist-packages (from fastai==0.7.0) (1.1.1)\n",
            "Requirement already satisfied: jupyter in /usr/local/lib/python3.6/dist-packages (from fastai==0.7.0) (1.0.0)\n",
            "Requirement already satisfied: matplotlib in /usr/local/lib/python3.6/dist-packages (from fastai==0.7.0) (3.1.1)\n",
            "Requirement already satisfied: feather-format in /usr/local/lib/python3.6/dist-packages (from fastai==0.7.0) (0.4.0)\n",
            "Requirement already satisfied: Pillow in /usr/local/lib/python3.6/dist-packages (from fastai==0.7.0) (4.3.0)\n",
            "Collecting pandas-summary\n",
            "  Downloading https://files.pythonhosted.org/packages/f5/20/865d4785f86e86f7ad7ebd52fc14810ef59ef13cd959f1363a2615d1c665/pandas_summary-0.0.7-py2.py3-none-any.whl\n",
            "Requirement already satisfied: PyYAML in /usr/local/lib/python3.6/dist-packages (from fastai==0.7.0) (3.13)\n",
            "Requirement already satisfied: opencv-python in /usr/local/lib/python3.6/dist-packages (from fastai==0.7.0) (3.4.7.28)\n",
            "Requirement already satisfied: torchvision in /usr/local/lib/python3.6/dist-packages (from fastai==0.7.0) (0.2.2)\n",
            "Requirement already satisfied: webencodings in /usr/local/lib/python3.6/dist-packages (from fastai==0.7.0) (0.5.1)\n",
            "Requirement already satisfied: numpy in /usr/local/lib/python3.6/dist-packages (from fastai==0.7.0) (1.17.3)\n",
            "Requirement already satisfied: decorator in /usr/local/lib/python3.6/dist-packages (from fastai==0.7.0) (4.4.1)\n",
            "Requirement already satisfied: cycler in /usr/local/lib/python3.6/dist-packages (from fastai==0.7.0) (0.10.0)\n",
            "Requirement already satisfied: jedi in /usr/local/lib/python3.6/dist-packages (from fastai==0.7.0) (0.15.1)\n",
            "Requirement already satisfied: seaborn in /usr/local/lib/python3.6/dist-packages (from fastai==0.7.0) (0.9.0)\n",
            "Requirement already satisfied: torchtext in /usr/local/lib/python3.6/dist-packages (from fastai==0.7.0) (0.2.3)\n",
            "Requirement already satisfied: ipywidgets in /usr/local/lib/python3.6/dist-packages (from fastai==0.7.0) (7.5.1)\n",
            "Requirement already satisfied: widgetsnbextension in /usr/local/lib/python3.6/dist-packages (from fastai==0.7.0) (3.5.1)\n",
            "Requirement already satisfied: python-dateutil in /usr/local/lib/python3.6/dist-packages (from fastai==0.7.0) (2.6.1)\n",
            "Requirement already satisfied: sklearn-pandas in /usr/local/lib/python3.6/dist-packages (from fastai==0.7.0) (1.8.0)\n",
            "Requirement already satisfied: jsonschema in /usr/local/lib/python3.6/dist-packages (from fastai==0.7.0) (2.6.0)\n",
            "Requirement already satisfied: simplegeneric in /usr/local/lib/python3.6/dist-packages (from fastai==0.7.0) (0.8.1)\n",
            "Requirement already satisfied: ipython in /usr/local/lib/python3.6/dist-packages (from fastai==0.7.0) (5.5.0)\n",
            "Requirement already satisfied: ptyprocess in /usr/local/lib/python3.6/dist-packages (from fastai==0.7.0) (0.6.0)\n",
            "Requirement already satisfied: pickleshare in /usr/local/lib/python3.6/dist-packages (from fastai==0.7.0) (0.7.5)\n",
            "Requirement already satisfied: tqdm in /usr/local/lib/python3.6/dist-packages (from fastai==0.7.0) (4.19.9)\n",
            "Requirement already satisfied: Jinja2 in /usr/local/lib/python3.6/dist-packages (from fastai==0.7.0) (2.10.3)\n",
            "Requirement already satisfied: bleach in /usr/local/lib/python3.6/dist-packages (from fastai==0.7.0) (3.1.0)\n",
            "Requirement already satisfied: testpath in /usr/local/lib/python3.6/dist-packages (from fastai==0.7.0) (0.4.2)\n",
            "Collecting torch<0.4\n",
            "\u001b[?25l  Downloading https://files.pythonhosted.org/packages/5b/a5/e8b50b55b1abac9f1e3346c4242f1e42a82d368a8442cbd50c532922f6c4/torch-0.3.1-cp36-cp36m-manylinux1_x86_64.whl (496.4MB)\n",
            "\u001b[K     |████████████████████████████████| 496.4MB 29kB/s \n",
            "\u001b[?25hRequirement already satisfied: pytz in /usr/local/lib/python3.6/dist-packages (from fastai==0.7.0) (2018.9)\n",
            "Requirement already satisfied: graphviz in /usr/local/lib/python3.6/dist-packages (from fastai==0.7.0) (0.10.1)\n",
            "Requirement already satisfied: scipy in /usr/local/lib/python3.6/dist-packages (from fastai==0.7.0) (1.3.1)\n",
            "Requirement already satisfied: tornado in /usr/local/lib/python3.6/dist-packages (from fastai==0.7.0) (4.5.3)\n",
            "Requirement already satisfied: entrypoints in /usr/local/lib/python3.6/dist-packages (from fastai==0.7.0) (0.3)\n",
            "Requirement already satisfied: ipython-genutils in /usr/local/lib/python3.6/dist-packages (from fastai==0.7.0) (0.2.0)\n",
            "Requirement already satisfied: Pygments in /usr/local/lib/python3.6/dist-packages (from fastai==0.7.0) (2.1.3)\n",
            "Requirement already satisfied: pyzmq in /usr/local/lib/python3.6/dist-packages (from fastai==0.7.0) (17.0.0)\n",
            "Collecting bcolz\n",
            "\u001b[?25l  Downloading https://files.pythonhosted.org/packages/5c/4e/23942de9d5c0fb16f10335fa83e52b431bcb8c0d4a8419c9ac206268c279/bcolz-1.2.1.tar.gz (1.5MB)\n",
            "\u001b[K     |████████████████████████████████| 1.5MB 47.1MB/s \n",
            "\u001b[?25hCollecting isoweek\n",
            "  Downloading https://files.pythonhosted.org/packages/c2/d4/fe7e2637975c476734fcbf53776e650a29680194eb0dd21dbdc020ca92de/isoweek-1.3.3-py2.py3-none-any.whl\n",
            "Requirement already satisfied: six>=1.9 in /usr/local/lib/python3.6/dist-packages (from html5lib->fastai==0.7.0) (1.12.0)\n",
            "Requirement already satisfied: mizani>=0.5.2 in /usr/local/lib/python3.6/dist-packages (from plotnine->fastai==0.7.0) (0.5.4)\n",
            "Requirement already satisfied: patsy>=0.4.1 in /usr/local/lib/python3.6/dist-packages (from plotnine->fastai==0.7.0) (0.5.1)\n",
            "Requirement already satisfied: statsmodels>=0.8.0 in /usr/local/lib/python3.6/dist-packages (from plotnine->fastai==0.7.0) (0.10.1)\n",
            "Requirement already satisfied: descartes>=1.1.0 in /usr/local/lib/python3.6/dist-packages (from plotnine->fastai==0.7.0) (1.1.0)\n",
            "Requirement already satisfied: jupyter-client in /usr/local/lib/python3.6/dist-packages (from ipykernel->fastai==0.7.0) (5.3.4)\n",
            "Requirement already satisfied: qtconsole in /usr/local/lib/python3.6/dist-packages (from jupyter->fastai==0.7.0) (4.5.5)\n",
            "Requirement already satisfied: nbconvert in /usr/local/lib/python3.6/dist-packages (from jupyter->fastai==0.7.0) (5.6.1)\n",
            "Requirement already satisfied: jupyter-console in /usr/local/lib/python3.6/dist-packages (from jupyter->fastai==0.7.0) (5.2.0)\n",
            "Requirement already satisfied: notebook in /usr/local/lib/python3.6/dist-packages (from jupyter->fastai==0.7.0) (5.2.2)\n",
            "Requirement already satisfied: kiwisolver>=1.0.1 in /usr/local/lib/python3.6/dist-packages (from matplotlib->fastai==0.7.0) (1.1.0)\n",
            "Requirement already satisfied: pyarrow>=0.4.0 in /usr/local/lib/python3.6/dist-packages (from feather-format->fastai==0.7.0) (0.14.1)\n",
            "Requirement already satisfied: olefile in /usr/local/lib/python3.6/dist-packages (from Pillow->fastai==0.7.0) (0.46)\n",
            "Requirement already satisfied: parso>=0.5.0 in /usr/local/lib/python3.6/dist-packages (from jedi->fastai==0.7.0) (0.5.1)\n",
            "Requirement already satisfied: requests in /usr/local/lib/python3.6/dist-packages (from torchtext->fastai==0.7.0) (2.21.0)\n",
            "Requirement already satisfied: nbformat>=4.2.0 in /usr/local/lib/python3.6/dist-packages (from ipywidgets->fastai==0.7.0) (4.4.0)\n",
            "Requirement already satisfied: scikit-learn>=0.15.0 in /usr/local/lib/python3.6/dist-packages (from sklearn-pandas->fastai==0.7.0) (0.21.3)\n",
            "Requirement already satisfied: pexpect; sys_platform != \"win32\" in /usr/local/lib/python3.6/dist-packages (from ipython->fastai==0.7.0) (4.7.0)\n",
            "Requirement already satisfied: setuptools>=18.5 in /usr/local/lib/python3.6/dist-packages (from ipython->fastai==0.7.0) (41.4.0)\n",
            "Requirement already satisfied: prompt-toolkit<2.0.0,>=1.0.4 in /usr/local/lib/python3.6/dist-packages (from ipython->fastai==0.7.0) (1.0.18)\n",
            "Requirement already satisfied: palettable in /usr/local/lib/python3.6/dist-packages (from mizani>=0.5.2->plotnine->fastai==0.7.0) (3.3.0)\n",
            "Requirement already satisfied: jupyter-core>=4.6.0 in /usr/local/lib/python3.6/dist-packages (from jupyter-client->ipykernel->fastai==0.7.0) (4.6.1)\n",
            "Requirement already satisfied: mistune<2,>=0.8.1 in /usr/local/lib/python3.6/dist-packages (from nbconvert->jupyter->fastai==0.7.0) (0.8.4)\n",
            "Requirement already satisfied: pandocfilters>=1.4.1 in /usr/local/lib/python3.6/dist-packages (from nbconvert->jupyter->fastai==0.7.0) (1.4.2)\n",
            "Requirement already satisfied: defusedxml in /usr/local/lib/python3.6/dist-packages (from nbconvert->jupyter->fastai==0.7.0) (0.6.0)\n",
            "Requirement already satisfied: terminado>=0.3.3; sys_platform != \"win32\" in /usr/local/lib/python3.6/dist-packages (from notebook->jupyter->fastai==0.7.0) (0.8.2)\n",
            "Requirement already satisfied: urllib3<1.25,>=1.21.1 in /usr/local/lib/python3.6/dist-packages (from requests->torchtext->fastai==0.7.0) (1.24.3)\n",
            "Requirement already satisfied: chardet<3.1.0,>=3.0.2 in /usr/local/lib/python3.6/dist-packages (from requests->torchtext->fastai==0.7.0) (3.0.4)\n",
            "Requirement already satisfied: idna<2.9,>=2.5 in /usr/local/lib/python3.6/dist-packages (from requests->torchtext->fastai==0.7.0) (2.8)\n",
            "Requirement already satisfied: joblib>=0.11 in /usr/local/lib/python3.6/dist-packages (from scikit-learn>=0.15.0->sklearn-pandas->fastai==0.7.0) (0.14.0)\n",
            "Building wheels for collected packages: bcolz\n",
            "  Building wheel for bcolz (setup.py) ... \u001b[?25l\u001b[?25hdone\n",
            "  Created wheel for bcolz: filename=bcolz-1.2.1-cp36-cp36m-linux_x86_64.whl size=2664393 sha256=ba50429b159419439ec5ec0352ba120d9b0632b1e0242301c14d7e4f69665ff4\n",
            "  Stored in directory: /root/.cache/pip/wheels/9f/78/26/fb8c0acb91a100dc8914bf236c4eaa4b207cb876893c40b745\n",
            "Successfully built bcolz\n",
            "Installing collected packages: pandas-summary, torch, bcolz, isoweek, fastai\n",
            "  Found existing installation: torch 1.3.0+cu100\n",
            "    Uninstalling torch-1.3.0+cu100:\n",
            "      Successfully uninstalled torch-1.3.0+cu100\n",
            "  Found existing installation: fastai 1.0.59\n",
            "    Uninstalling fastai-1.0.59:\n",
            "      Successfully uninstalled fastai-1.0.59\n",
            "Successfully installed bcolz-1.2.1 fastai-0.7.0 isoweek-1.3.3 pandas-summary-0.0.7 torch-0.3.1\n"
          ],
          "name": "stdout"
        }
      ]
    },
    {
      "cell_type": "code",
      "metadata": {
        "id": "FyNONA4t1JmR",
        "colab_type": "code",
        "colab": {
          "base_uri": "https://localhost:8080/",
          "height": 292
        },
        "outputId": "93c9193b-7783-43ec-b6d3-9bf009b29868"
      },
      "source": [
        "!pip install torch==1.3.1"
      ],
      "execution_count": 24,
      "outputs": [
        {
          "output_type": "stream",
          "text": [
            "Collecting torch==1.3.1\n",
            "\u001b[?25l  Downloading https://files.pythonhosted.org/packages/88/95/90e8c4c31cfc67248bf944ba42029295b77159982f532c5689bcfe4e9108/torch-1.3.1-cp36-cp36m-manylinux1_x86_64.whl (734.6MB)\n",
            "\u001b[K     |████████████████████████████████| 734.6MB 23kB/s \n",
            "\u001b[?25hRequirement already satisfied: numpy in /usr/local/lib/python3.6/dist-packages (from torch==1.3.1) (1.17.3)\n",
            "\u001b[31mERROR: fastai 0.7.0 has requirement torch<0.4, but you'll have torch 1.3.1 which is incompatible.\u001b[0m\n",
            "Installing collected packages: torch\n",
            "  Found existing installation: torch 0.3.1\n",
            "    Uninstalling torch-0.3.1:\n",
            "      Successfully uninstalled torch-0.3.1\n",
            "Successfully installed torch-1.3.1\n"
          ],
          "name": "stdout"
        },
        {
          "output_type": "display_data",
          "data": {
            "application/vnd.colab-display-data+json": {
              "pip_warning": {
                "packages": [
                  "torch"
                ]
              }
            }
          },
          "metadata": {
            "tags": []
          }
        }
      ]
    },
    {
      "cell_type": "code",
      "metadata": {
        "id": "pt2nrnna7Rde",
        "colab_type": "code",
        "colab": {}
      },
      "source": [
        "import torch.nn as nn"
      ],
      "execution_count": 0,
      "outputs": []
    },
    {
      "cell_type": "code",
      "metadata": {
        "id": "I2RWkY-O_W6H",
        "colab_type": "code",
        "colab": {}
      },
      "source": [
        "from fastai.imports import *\n",
        "from fastai.torch_imports import *\n",
        "from fastai.io import *"
      ],
      "execution_count": 0,
      "outputs": []
    },
    {
      "cell_type": "code",
      "metadata": {
        "id": "MAWaDd5S_ajX",
        "colab_type": "code",
        "colab": {}
      },
      "source": [
        "from fastai.metrics import *\n",
        "from fastai.model import *\n",
        "from fastai.dataset import *"
      ],
      "execution_count": 0,
      "outputs": []
    },
    {
      "cell_type": "code",
      "metadata": {
        "id": "8O70Mt452uhB",
        "colab_type": "code",
        "colab": {}
      },
      "source": [
        "PATH = \"/content/gdrive/My Drive/Fastai/\""
      ],
      "execution_count": 0,
      "outputs": []
    },
    {
      "cell_type": "code",
      "metadata": {
        "id": "UuyMOvTI3YTi",
        "colab_type": "code",
        "colab": {}
      },
      "source": [
        "import os\n",
        "os.makedirs(PATH, exist_ok = True)"
      ],
      "execution_count": 0,
      "outputs": []
    },
    {
      "cell_type": "code",
      "metadata": {
        "id": "n6DSuxlC3kZa",
        "colab_type": "code",
        "colab": {}
      },
      "source": [
        "URL = \"http://deeplearning.net/data/mnist/\"\n",
        "FILENAME = 'mnist.pkl.gz'\n",
        "def load_mnist(filename):\n",
        "  return pickle.load(gzip.open(filename, 'rb'), encoding='latin-1')"
      ],
      "execution_count": 0,
      "outputs": []
    },
    {
      "cell_type": "code",
      "metadata": {
        "id": "d1KIlkgr8-pu",
        "colab_type": "code",
        "outputId": "9cd0fa14-6e9a-40cd-e3f9-238b5b9d3ba3",
        "colab": {
          "base_uri": "https://localhost:8080/",
          "height": 34
        }
      },
      "source": [
        "%ls /content/gdrive/My\\ Drive/"
      ],
      "execution_count": 7,
      "outputs": [
        {
          "output_type": "stream",
          "text": [
            "\u001b[0m\u001b[01;34mFastai\u001b[0m/\n"
          ],
          "name": "stdout"
        }
      ]
    },
    {
      "cell_type": "code",
      "metadata": {
        "id": "-JGvDUId4Swp",
        "colab_type": "code",
        "colab": {
          "base_uri": "https://localhost:8080/",
          "height": 34
        },
        "outputId": "5070cb8a-b097-40ad-d3cd-836f7687ea6b"
      },
      "source": [
        "get_data(URL+FILENAME, PATH+FILENAME)\n",
        "((x, y), (x_valid, y_valid), _) = load_mnist(PATH + FILENAME)"
      ],
      "execution_count": 8,
      "outputs": [
        {
          "output_type": "stream",
          "text": [
            "mnist.pkl.gz: 16.2MB [00:02, 6.82MB/s]                            \n"
          ],
          "name": "stderr"
        }
      ]
    },
    {
      "cell_type": "code",
      "metadata": {
        "id": "GOTPY6Je-vWP",
        "colab_type": "code",
        "outputId": "3328020f-993a-4448-cde6-340603f231a1",
        "colab": {
          "base_uri": "https://localhost:8080/",
          "height": 34
        }
      },
      "source": [
        "type(x), x.shape, type(y), y.shape"
      ],
      "execution_count": 9,
      "outputs": [
        {
          "output_type": "execute_result",
          "data": {
            "text/plain": [
              "(numpy.ndarray, (50000, 784), numpy.ndarray, (50000,))"
            ]
          },
          "metadata": {
            "tags": []
          },
          "execution_count": 9
        }
      ]
    },
    {
      "cell_type": "code",
      "metadata": {
        "id": "FqRSd03AAZh9",
        "colab_type": "code",
        "outputId": "f8a04442-11bb-40fe-8ad2-26e8c6dde380",
        "colab": {
          "base_uri": "https://localhost:8080/",
          "height": 34
        }
      },
      "source": [
        "mean = x.mean()\n",
        "std = x.std()\n",
        "\n",
        "x = (x-mean)/std\n",
        "mean, std, x.mean(), x.std()"
      ],
      "execution_count": 10,
      "outputs": [
        {
          "output_type": "execute_result",
          "data": {
            "text/plain": [
              "(0.13044983, 0.3072898, -3.1638146e-07, 0.99999934)"
            ]
          },
          "metadata": {
            "tags": []
          },
          "execution_count": 10
        }
      ]
    },
    {
      "cell_type": "code",
      "metadata": {
        "id": "B6f-_irkBAqi",
        "colab_type": "code",
        "colab": {}
      },
      "source": [
        "def show(img, title=None):\n",
        "  plt.imshow(img, cmap=\"gray\")\n",
        "  if title is not None: plt.title(title)"
      ],
      "execution_count": 0,
      "outputs": []
    },
    {
      "cell_type": "code",
      "metadata": {
        "id": "o4QPaSXG4JDA",
        "colab_type": "code",
        "colab": {}
      },
      "source": [
        ""
      ],
      "execution_count": 0,
      "outputs": []
    },
    {
      "cell_type": "code",
      "metadata": {
        "id": "0H9vIYCTEcT4",
        "colab_type": "code",
        "colab": {}
      },
      "source": [
        "def plots(ims, figsize=(12,6), rows=2, titles=None):\n",
        "  f = plt.figure(figsize=figsize)\n",
        "  cols = len(ims)//rows\n",
        "  for i in range(len(ims)):\n",
        "    sp = f.add_subplot(rows, cols, i+1)\n",
        "    sp.axis('Off')\n",
        "    if titles is not None: sp.set_title(titles[i], fontsize=16)\n",
        "    plt.imshow(ims[i], cmap='gray')"
      ],
      "execution_count": 0,
      "outputs": []
    },
    {
      "cell_type": "code",
      "metadata": {
        "id": "shueDh0CG7RD",
        "colab_type": "code",
        "outputId": "a3a7e680-59c0-44cf-9f16-7e9e1b86a236",
        "colab": {
          "base_uri": "https://localhost:8080/",
          "height": 34
        }
      },
      "source": [
        "x_valid.shape"
      ],
      "execution_count": 13,
      "outputs": [
        {
          "output_type": "execute_result",
          "data": {
            "text/plain": [
              "(10000, 784)"
            ]
          },
          "metadata": {
            "tags": []
          },
          "execution_count": 13
        }
      ]
    },
    {
      "cell_type": "code",
      "metadata": {
        "id": "y0_cWZI9G9JY",
        "colab_type": "code",
        "outputId": "057b9d88-795b-4ec1-a871-75521f726108",
        "colab": {
          "base_uri": "https://localhost:8080/",
          "height": 34
        }
      },
      "source": [
        "x_imgs = np.reshape(x_valid, (-1, 28, 28)); x_imgs.shape"
      ],
      "execution_count": 14,
      "outputs": [
        {
          "output_type": "execute_result",
          "data": {
            "text/plain": [
              "(10000, 28, 28)"
            ]
          },
          "metadata": {
            "tags": []
          },
          "execution_count": 14
        }
      ]
    },
    {
      "cell_type": "code",
      "metadata": {
        "id": "WoOA2zYXLc6j",
        "colab_type": "code",
        "outputId": "3b7a78a8-f21c-4d41-9820-5b809cb060b6",
        "colab": {
          "base_uri": "https://localhost:8080/",
          "height": 281
        }
      },
      "source": [
        "show(x_imgs[0], y_valid[0])"
      ],
      "execution_count": 15,
      "outputs": [
        {
          "output_type": "display_data",
          "data": {
            "image/png": "[encoded data removed]",
            "text/plain": [
              "<Figure size 432x288 with 1 Axes>"
            ]
          },
          "metadata": {
            "tags": []
          }
        }
      ]
    },
    {
      "cell_type": "code",
      "metadata": {
        "id": "7sCmNM7fTwwQ",
        "colab_type": "code",
        "outputId": "b25b669b-06b5-40e9-bf15-fe48bcdc5c36",
        "colab": {
          "base_uri": "https://localhost:8080/",
          "height": 34
        }
      },
      "source": [
        "y_valid.shape"
      ],
      "execution_count": 16,
      "outputs": [
        {
          "output_type": "execute_result",
          "data": {
            "text/plain": [
              "(10000,)"
            ]
          },
          "metadata": {
            "tags": []
          },
          "execution_count": 16
        }
      ]
    },
    {
      "cell_type": "code",
      "metadata": {
        "id": "iUYtDNTfTzei",
        "colab_type": "code",
        "outputId": "40933388-ea91-4c87-9bce-041b184f228f",
        "colab": {
          "base_uri": "https://localhost:8080/",
          "height": 34
        }
      },
      "source": [
        "y_valid[0]"
      ],
      "execution_count": 17,
      "outputs": [
        {
          "output_type": "execute_result",
          "data": {
            "text/plain": [
              "3"
            ]
          },
          "metadata": {
            "tags": []
          },
          "execution_count": 17
        }
      ]
    },
    {
      "cell_type": "code",
      "metadata": {
        "id": "WYd-J0fST2Hm",
        "colab_type": "code",
        "outputId": "13b1231d-f429-4785-b1da-6a7d0ef5256c",
        "colab": {
          "base_uri": "https://localhost:8080/",
          "height": 204
        }
      },
      "source": [
        "x_imgs[0, 10:20, 10:20]"
      ],
      "execution_count": 18,
      "outputs": [
        {
          "output_type": "execute_result",
          "data": {
            "text/plain": [
              "array([[0.     , 0.     , 0.     , 0.     , 0.18359, 0.85156, 0.99219, 0.84375, 0.11328, 0.     ],\n",
              "       [0.     , 0.     , 0.     , 0.37109, 0.87891, 0.99219, 0.95703, 0.25391, 0.     , 0.     ],\n",
              "       [0.     , 0.04688, 0.5    , 0.98438, 0.99219, 0.92188, 0.15625, 0.     , 0.     , 0.     ],\n",
              "       [0.     , 0.67188, 0.99219, 0.99219, 0.66406, 0.22656, 0.     , 0.     , 0.     , 0.     ],\n",
              "       [0.     , 0.80859, 0.99219, 0.99219, 0.25391, 0.     , 0.     , 0.     , 0.     , 0.     ],\n",
              "       [0.     , 0.53516, 0.99219, 0.99219, 0.98047, 0.57031, 0.10156, 0.     , 0.     , 0.     ],\n",
              "       [0.     , 0.03516, 0.67578, 0.875  , 0.99219, 0.99219, 0.89844, 0.27734, 0.     , 0.     ],\n",
              "       [0.     , 0.     , 0.03125, 0.04688, 0.99219, 0.99219, 0.99219, 0.96094, 0.40625, 0.     ],\n",
              "       [0.     , 0.     , 0.     , 0.     , 0.17969, 0.73828, 0.99219, 0.99219, 0.875  , 0.     ],\n",
              "       [0.     , 0.     , 0.     , 0.     , 0.     , 0.06641, 0.68359, 0.99219, 0.99219, 0.09766]],\n",
              "      dtype=float32)"
            ]
          },
          "metadata": {
            "tags": []
          },
          "execution_count": 18
        }
      ]
    },
    {
      "cell_type": "code",
      "metadata": {
        "id": "8WTE0ZBvUAOb",
        "colab_type": "code",
        "outputId": "4eea160b-5c85-494e-8d98-b1cdec8963d7",
        "colab": {
          "base_uri": "https://localhost:8080/",
          "height": 265
        }
      },
      "source": [
        "show(x_imgs[0, 10:20, 10:20])"
      ],
      "execution_count": 25,
      "outputs": [
        {
          "output_type": "display_data",
          "data": {
            "image/png": "[encoded data removed]",
            "text/plain": [
              "<Figure size 432x288 with 1 Axes>"
            ]
          },
          "metadata": {
            "tags": []
          }
        }
      ]
    },
    {
      "cell_type": "code",
      "metadata": {
        "id": "WHPW5pdfUR-Z",
        "colab_type": "code",
        "colab": {}
      },
      "source": [
        "#:8 means 到8 #### 8:means 从8开始"
      ],
      "execution_count": 0,
      "outputs": []
    },
    {
      "cell_type": "code",
      "metadata": {
        "id": "-heN75QvUHQ9",
        "colab_type": "code",
        "outputId": "6adbf8b1-1094-4c0a-9a5c-f3a721bb5940",
        "colab": {
          "base_uri": "https://localhost:8080/",
          "height": 372
        }
      },
      "source": [
        "plots(x_imgs[:8], titles=y_valid[:8])"
      ],
      "execution_count": 26,
      "outputs": [
        {
          "output_type": "display_data",
          "data": {
            "image/png": "[encoded data removed]",
            "text/plain": [
              "<Figure size 864x432 with 8 Axes>"
            ]
          },
          "metadata": {
            "tags": []
          }
        }
      ]
    },
    {
      "cell_type": "markdown",
      "metadata": {
        "id": "y2Y5CD8_ryEM",
        "colab_type": "text"
      },
      "source": [
        ""
      ]
    },
    {
      "cell_type": "code",
      "metadata": {
        "id": "preSiZsNBcLD",
        "colab_type": "code",
        "colab": {}
      },
      "source": [
        "\n",
        "net = nn.Sequential(\n",
        "    nn.Linear(28*28, 100),\n",
        "    nn.ReLU(),\n",
        "    nn.Linear(100, 100),\n",
        "    nn.ReLU(),\n",
        "    nn.Linear(100, 10),\n",
        "    nn.LogSoftmax()\n",
        ").cuda()"
      ],
      "execution_count": 0,
      "outputs": []
    },
    {
      "cell_type": "code",
      "metadata": {
        "id": "04_cgQlrBl3o",
        "colab_type": "code",
        "colab": {}
      },
      "source": [
        "md = ImageClassifierData.from_arrays(PATH, (x,y), (x_valid, y_valid))"
      ],
      "execution_count": 0,
      "outputs": []
    },
    {
      "cell_type": "code",
      "metadata": {
        "id": "RhXJKvLYBqJN",
        "colab_type": "code",
        "colab": {}
      },
      "source": [
        "\n",
        "loss=nn.NLLLoss()\n",
        "metrics=[]\n",
        "# opt=optim.SGD(net.parameters(), 1e-1, momentum=0.9)\n",
        "opt=optim.SGD(net.parameters(), 1e-1, momentum=0.9, weight_decay=1e-3)"
      ],
      "execution_count": 0,
      "outputs": []
    },
    {
      "cell_type": "code",
      "metadata": {
        "id": "qLyqUQSaBt4p",
        "colab_type": "code",
        "colab": {}
      },
      "source": [
        "def binary_loss(y, p):\n",
        "    return np.mean(-(y * np.log(p) + (1-y)*np.log(1-p)))"
      ],
      "execution_count": 0,
      "outputs": []
    },
    {
      "cell_type": "code",
      "metadata": {
        "id": "xrYAi353B4pE",
        "colab_type": "code",
        "colab": {
          "base_uri": "https://localhost:8080/",
          "height": 153
        },
        "outputId": "b9c950b4-ae7a-4e33-baf9-7fb2a875050e"
      },
      "source": [
        "fit(net, md, n_epochs=5, crit=loss, opt=opt, metrics=metrics)"
      ],
      "execution_count": 64,
      "outputs": [
        {
          "output_type": "display_data",
          "data": {
            "application/vnd.jupyter.widget-view+json": {
              "model_id": "df92032af9694ee19ecb1d9075b537c9",
              "version_minor": 0,
              "version_major": 2
            },
            "text/plain": [
              "HBox(children=(IntProgress(value=0, description='Epoch', max=5), HTML(value='')))"
            ]
          },
          "metadata": {
            "tags": []
          }
        },
        {
          "output_type": "stream",
          "text": [
            "epoch      trn_loss   val_loss   \n",
            "    0      0.248774   0.552487  \n",
            "    1      0.215327   0.753747  \n",
            "    2      0.223459   0.62881   \n",
            "    3      0.210748   0.648794  \n",
            "    4      0.197776   0.667404  \n",
            "\n"
          ],
          "name": "stdout"
        },
        {
          "output_type": "execute_result",
          "data": {
            "text/plain": [
              "[0.6674042699813842]"
            ]
          },
          "metadata": {
            "tags": []
          },
          "execution_count": 64
        }
      ]
    },
    {
      "cell_type": "code",
      "metadata": {
        "id": "uiMb4k1ACp1T",
        "colab_type": "code",
        "colab": {}
      },
      "source": [
        "set_lrs(opt, 1e-2)"
      ],
      "execution_count": 0,
      "outputs": []
    },
    {
      "cell_type": "code",
      "metadata": {
        "id": "m-KDXw33DLRN",
        "colab_type": "code",
        "colab": {
          "base_uri": "https://localhost:8080/",
          "height": 119
        },
        "outputId": "7e6d3959-8bf6-4788-e337-dd3e1a1c1af4"
      },
      "source": [
        "fit(net, md, n_epochs=3, crit=loss, opt=opt, metrics=metrics)"
      ],
      "execution_count": 23,
      "outputs": [
        {
          "output_type": "display_data",
          "data": {
            "application/vnd.jupyter.widget-view+json": {
              "model_id": "e53f72fb5be94b0c89d8db97b4a0c1d8",
              "version_minor": 0,
              "version_major": 2
            },
            "text/plain": [
              "HBox(children=(IntProgress(value=0, description='Epoch', max=3), HTML(value='')))"
            ]
          },
          "metadata": {
            "tags": []
          }
        },
        {
          "output_type": "stream",
          "text": [
            "epoch      trn_loss   val_loss   \n",
            "    0      0.185506   0.850078  \n",
            "    1      0.128099   0.763724  \n",
            "    2      0.089429   0.705102  \n",
            "\n"
          ],
          "name": "stdout"
        },
        {
          "output_type": "execute_result",
          "data": {
            "text/plain": [
              "[0.7051019660949707]"
            ]
          },
          "metadata": {
            "tags": []
          },
          "execution_count": 23
        }
      ]
    },
    {
      "cell_type": "code",
      "metadata": {
        "id": "0wdRCMRPEF1O",
        "colab_type": "code",
        "colab": {
          "base_uri": "https://localhost:8080/",
          "height": 34
        },
        "outputId": "c52cbfee-dc51-41a8-dab1-829a09995310"
      },
      "source": [
        "t = [o.numel() for o in net.parameters()]\n",
        "t, sum(t)"
      ],
      "execution_count": 78,
      "outputs": [
        {
          "output_type": "execute_result",
          "data": {
            "text/plain": [
              "([78400, 100, 10000, 100, 1000, 10], 89610)"
            ]
          },
          "metadata": {
            "tags": []
          },
          "execution_count": 78
        }
      ]
    },
    {
      "cell_type": "code",
      "metadata": {
        "id": "iY7o4sccGVfg",
        "colab_type": "code",
        "colab": {
          "base_uri": "https://localhost:8080/",
          "height": 34
        },
        "outputId": "aba8d2a0-8ffe-492d-8167-92f5ba1c44e3"
      },
      "source": [
        "torch.cuda.is_available()"
      ],
      "execution_count": 24,
      "outputs": [
        {
          "output_type": "execute_result",
          "data": {
            "text/plain": [
              "True"
            ]
          },
          "metadata": {
            "tags": []
          },
          "execution_count": 24
        }
      ]
    },
    {
      "cell_type": "code",
      "metadata": {
        "id": "lO_f5zli0RnE",
        "colab_type": "code",
        "colab": {
          "base_uri": "https://localhost:8080/",
          "height": 1000
        },
        "outputId": "469e90e3-f9b9-480f-bc0e-d8f85661fc5d"
      },
      "source": [
        "!ls /usr/local/lib/python3.6/dist-packages"
      ],
      "execution_count": 18,
      "outputs": [
        {
          "output_type": "stream",
          "text": [
            "absl\n",
            "absl_py-0.8.1.dist-info\n",
            "alabaster\n",
            "alabaster-0.7.12.dist-info\n",
            "albumentations\n",
            "albumentations-0.1.12.dist-info\n",
            "altair\n",
            "altair-3.2.0.dist-info\n",
            "apiclient\n",
            "astor\n",
            "astor-0.8.0.dist-info\n",
            "astropy\n",
            "astropy-3.0.5.dist-info\n",
            "atari_py\n",
            "atari_py-0.2.6.dist-info\n",
            "atomicwrites\n",
            "atomicwrites-1.3.0.dist-info\n",
            "attr\n",
            "attrs-19.3.0.dist-info\n",
            "audioread\n",
            "audioread-2.1.8.dist-info\n",
            "autograd\n",
            "autograd-1.3.dist-info\n",
            "babel\n",
            "Babel-2.7.0.dist-info\n",
            "backcall\n",
            "backcall-0.1.0.dist-info\n",
            "backports\n",
            "backports.tempfile-1.0.dist-info\n",
            "backports.weakref-1.0.post1.dist-info\n",
            "bcolz\n",
            "bcolz-1.2.1.dist-info\n",
            "beautifulsoup4-4.6.3.dist-info\n",
            "bin\n",
            "bleach\n",
            "bleach-3.1.0.dist-info\n",
            "blis\n",
            "blis-0.2.4.dist-info\n",
            "bokeh\n",
            "bokeh-1.0.4.dist-info\n",
            "boto\n",
            "boto-2.49.0.dist-info\n",
            "boto3\n",
            "boto3-1.10.7.dist-info\n",
            "botocore\n",
            "botocore-1.13.7.dist-info\n",
            "bottleneck\n",
            "Bottleneck-1.2.1.dist-info\n",
            "branca\n",
            "branca-0.3.1.dist-info\n",
            "bs4\n",
            "bs4-0.0.1.dist-info\n",
            "bson\n",
            "bz2file-0.98.dist-info\n",
            "bz2file.py\n",
            "cachetools\n",
            "cachetools-3.1.1.dist-info\n",
            "certifi\n",
            "certifi-2019.9.11.dist-info\n",
            "cffi\n",
            "cffi-1.13.1.dist-info\n",
            "_cffi_backend.cpython-36m-x86_64-linux-gnu.so\n",
            "chainer\n",
            "chainer-6.5.0.dist-info\n",
            "chainermn\n",
            "chainerx\n",
            "chardet\n",
            "chardet-3.0.4.dist-info\n",
            "chart_studio\n",
            "chart_studio-1.0.0.dist-info\n",
            "chess\n",
            "click\n",
            "Click-7.0.dist-info\n",
            "client\n",
            "cloudpickle\n",
            "cloudpickle-1.2.2.dist-info\n",
            "cmake\n",
            "cmake-3.12.0.dist-info\n",
            "colab\n",
            "colorlover\n",
            "colorlover-0.3.0.dist-info\n",
            "community\n",
            "community-1.0.0b1.dist-info\n",
            "contextlib2-0.5.5.dist-info\n",
            "contextlib2.py\n",
            "convertdate\n",
            "convertdate-2.2.0.dist-info\n",
            "coverage\n",
            "coverage-3.7.1.dist-info\n",
            "coveralls\n",
            "coveralls-0.5.dist-info\n",
            "crcmod\n",
            "crcmod-1.7.dist-info\n",
            "cufflinks\n",
            "cufflinks-0.17.0.dist-info\n",
            "cupy\n",
            "cupy_cuda100-6.5.0.dist-info\n",
            "cupyx\n",
            "cv2\n",
            "_cvxcore.cpython-36m-x86_64-linux-gnu.so\n",
            "cvxopt\n",
            "cvxopt-1.2.3.dist-info\n",
            "cvxpy\n",
            "cvxpy-1.0.25.dist-info\n",
            "cycler-0.10.0.dist-info\n",
            "cycler.py\n",
            "cymem\n",
            "cymem-2.0.2.dist-info\n",
            "Cython\n",
            "Cython-0.29.13.dist-info\n",
            "cython.py\n",
            "daft-0.0.4.dist-info\n",
            "daft.py\n",
            "dask\n",
            "dask-1.1.5.dist-info\n",
            "dataclasses-0.7.dist-info\n",
            "dataclasses.py\n",
            "datascience\n",
            "datascience-0.10.6.dist-info\n",
            "dateutil\n",
            "decorator-4.4.1.dist-info\n",
            "decorator.py\n",
            "defusedxml\n",
            "defusedxml-0.6.0.dist-info\n",
            "descartes\n",
            "descartes-1.1.0.dist-info\n",
            "dill\n",
            "dill-0.3.1.1.dist-info\n",
            "distributed\n",
            "distributed-1.25.3.dist-info\n",
            "django\n",
            "Django-2.2.6.dist-info\n",
            "dlib-19.16.0.dist-info\n",
            "dlib.cpython-36m-x86_64-linux-gnu.so\n",
            "dm_sonnet-1.35.dist-info\n",
            "docopt-0.6.2.dist-info\n",
            "docopt.py\n",
            "docs\n",
            "docutils\n",
            "docutils-0.15.2.dist-info\n",
            "dopamine\n",
            "dopamine_rl-1.0.5.dist-info\n",
            "dot_parser.py\n",
            "earthengine_api-0.1.204.dist-info\n",
            "easydict\n",
            "easydict-1.9.dist-info\n",
            "easy_install.py\n",
            "ecos\n",
            "ecos-2.0.7.post1.dist-info\n",
            "_ecos.cpython-36m-x86_64-linux-gnu.so\n",
            "editdistance\n",
            "editdistance-0.5.3.dist-info\n",
            "ee\n",
            "en_core_web_sm\n",
            "en_core_web_sm-2.1.0.dist-info\n",
            "entrypoints-0.3.dist-info\n",
            "entrypoints.py\n",
            "et_xmlfile\n",
            "et_xmlfile-1.0.1.dist-info\n",
            "examples\n",
            "fa2\n",
            "fa2-0.3.5.dist-info\n",
            "fancyimpute\n",
            "fancyimpute-0.4.3.dist-info\n",
            "fastai\n",
            "fastai-0.7.0.dist-info\n",
            "fastcache\n",
            "fastcache-1.1.0.dist-info\n",
            "fastdtw\n",
            "fastdtw-0.3.4.dist-info\n",
            "fastprogress\n",
            "fastprogress-0.1.21.dist-info\n",
            "fastrlock\n",
            "fastrlock-0.4.dist-info\n",
            "fbprophet\n",
            "fbprophet-0.5.dist-info\n",
            "feather\n",
            "feather_format-0.4.0.dist-info\n",
            "featuretools\n",
            "featuretools-0.4.1.dist-info\n",
            "filelock-3.0.12.dist-info\n",
            "filelock.py\n",
            "fix_yahoo_finance\n",
            "fix_yahoo_finance-0.0.22.dist-info\n",
            "flask\n",
            "Flask-1.1.1.dist-info\n",
            "folium\n",
            "folium-0.8.3.dist-info\n",
            "fsspec\n",
            "fsspec-0.5.2.dist-info\n",
            "future\n",
            "future-0.16.0.dist-info\n",
            "gast\n",
            "gast-0.2.2.dist-info\n",
            "gdown\n",
            "gdown-3.6.4.dist-info\n",
            "gensim\n",
            "gensim-3.6.0.dist-info\n",
            "geographiclib\n",
            "geographiclib-1.50.dist-info\n",
            "geopy\n",
            "geopy-1.17.0.dist-info\n",
            "gevent\n",
            "gevent-1.4.0.dist-info\n",
            "gin\n",
            "gin_config-0.2.1.dist-info\n",
            "github2pypi\n",
            "glob2\n",
            "glob2-0.7.dist-info\n",
            "google\n",
            "google-2.0.2.dist-info\n",
            "googleapiclient\n",
            "google_api_core-1.14.3.dist-info\n",
            "google_api_core-1.14.3-py3.6-nspkg.pth\n",
            "google_api_python_client-1.7.11.dist-info\n",
            "googleapis_common_protos-1.6.0.dist-info\n",
            "googleapis_common_protos-1.6.0-py3.6-nspkg.pth\n",
            "google_auth-1.4.2.dist-info\n",
            "google_auth-1.4.2-py2.7-nspkg.pth\n",
            "google_auth_httplib2-0.0.3.dist-info\n",
            "google_auth_httplib2.py\n",
            "google_auth_oauthlib\n",
            "google_auth_oauthlib-0.4.1.dist-info\n",
            "google_cloud_bigquery-1.21.0.dist-info\n",
            "google_cloud_bigquery-1.21.0-py3.6-nspkg.pth\n",
            "google_cloud_core-1.0.3.dist-info\n",
            "google_cloud_core-1.0.3-py3.6-nspkg.pth\n",
            "google_cloud_datastore-1.8.0.dist-info\n",
            "google_cloud_datastore-1.8.0-py3.6-nspkg.pth\n",
            "google_cloud_language-1.2.0.dist-info\n",
            "google_cloud_language-1.2.0-py3.6-nspkg.pth\n",
            "google_cloud_storage-1.16.2.dist-info\n",
            "google_cloud_storage-1.16.2-py3.7-nspkg.pth\n",
            "google_cloud_translate-1.5.0.dist-info\n",
            "google_cloud_translate-1.5.0-py3.6-nspkg.pth\n",
            "google_colab-1.0.0.dist-info\n",
            "google_colab-1.0.0-py3.6-nspkg.pth\n",
            "google_drive_downloader\n",
            "googledrivedownloader-0.4.dist-info\n",
            "google_pasta-0.1.7.dist-info\n",
            "google_resumable_media-0.4.1.dist-info\n",
            "google_resumable_media-0.4.1-py3.6-nspkg.pth\n",
            "googlesearch\n",
            "graph_nets\n",
            "graph_nets-1.0.4.dist-info\n",
            "graphviz\n",
            "graphviz-0.10.1.dist-info\n",
            "greenlet-0.4.15.dist-info\n",
            "greenlet.cpython-36m-x86_64-linux-gnu.so\n",
            "gridfs\n",
            "grpc\n",
            "grpcio-1.15.0.dist-info\n",
            "gspread\n",
            "gspread-3.0.1.dist-info\n",
            "gspread_dataframe-3.0.3.dist-info\n",
            "gspread_dataframe.py\n",
            "gunicorn\n",
            "gunicorn-19.9.0.dist-info\n",
            "gym\n",
            "gym-0.15.3.dist-info\n",
            "h5py\n",
            "h5py-2.8.0.dist-info\n",
            "HeapDict-1.0.1.dist-info\n",
            "heapdict.py\n",
            "helper\n",
            "holidays-0.9.11.dist-info\n",
            "holidays.py\n",
            "html5lib\n",
            "html5lib-1.0.1.dist-info\n",
            "httpimport-0.5.18.dist-info\n",
            "httpimport.py\n",
            "httplib2\n",
            "httplib2-0.11.3.dist-info\n",
            "humanize\n",
            "humanize-0.5.1.dist-info\n",
            "hyperopt\n",
            "hyperopt-0.1.2.dist-info\n",
            "ideep4py\n",
            "ideep4py-2.0.0.post3.dist-info\n",
            "idna\n",
            "idna-2.8.dist-info\n",
            "image\n",
            "image-1.5.27.dist-info\n",
            "imageio\n",
            "imageio-2.4.1.dist-info\n",
            "imagesize-1.1.0.dist-info\n",
            "imagesize.py\n",
            "imbalanced_learn-0.4.3.dist-info\n",
            "imblearn\n",
            "imblearn-0.0.dist-info\n",
            "imgaug\n",
            "imgaug-0.2.9.dist-info\n",
            "importlib_metadata\n",
            "importlib_metadata-0.23.dist-info\n",
            "imutils\n",
            "imutils-0.5.3.dist-info\n",
            "inflect-2.1.0.dist-info\n",
            "inflect.py\n",
            "intel_openmp-2019.0.dist-info\n",
            "intervaltree\n",
            "intervaltree-2.1.0.dist-info\n",
            "ipykernel\n",
            "ipykernel-4.6.1.dist-info\n",
            "ipykernel_launcher.py\n",
            "IPython\n",
            "ipython-5.5.0.dist-info\n",
            "ipython_genutils\n",
            "ipython_genutils-0.2.0.dist-info\n",
            "ipython_sql-0.3.9.dist-info\n",
            "ipywidgets\n",
            "ipywidgets-7.5.1.dist-info\n",
            "isoweek-1.3.3.dist-info\n",
            "isoweek.py\n",
            "itsdangerous\n",
            "itsdangerous-1.1.0.dist-info\n",
            "jax\n",
            "jax-0.1.46.dist-info\n",
            "jaxlib\n",
            "jaxlib-0.1.26.dist-info\n",
            "jdcal-1.4.1.dist-info\n",
            "jdcal.py\n",
            "jedi\n",
            "jedi-0.15.1.dist-info\n",
            "jieba\n",
            "jieba-0.39.dist-info\n",
            "jinja2\n",
            "Jinja2-2.10.3.dist-info\n",
            "jmespath\n",
            "jmespath-0.9.4.dist-info\n",
            "joblib\n",
            "joblib-0.14.0.dist-info\n",
            "jpeg4py\n",
            "jpeg4py-0.1.4.dist-info\n",
            "jsonschema\n",
            "jsonschema-2.6.0.dist-info\n",
            "jupyter-1.0.0.dist-info\n",
            "jupyter_client\n",
            "jupyter_client-5.3.4.dist-info\n",
            "jupyter_console\n",
            "jupyter_console-5.2.0.dist-info\n",
            "jupyter_core\n",
            "jupyter_core-4.6.1.dist-info\n",
            "jupyter.py\n",
            "kaggle\n",
            "kaggle-1.5.6.dist-info\n",
            "kapre\n",
            "kapre-0.1.3.1.dist-info\n",
            "keras\n",
            "Keras-2.2.5.dist-info\n",
            "keras_applications\n",
            "Keras_Applications-1.0.8.dist-info\n",
            "keras_preprocessing\n",
            "Keras_Preprocessing-1.1.0.dist-info\n",
            "keras_vis-0.4.1.dist-info\n",
            "kfac\n",
            "kfac-0.2.0.dist-info\n",
            "kiwisolver-1.1.0.dist-info\n",
            "kiwisolver.cpython-36m-x86_64-linux-gnu.so\n",
            "knnimpute\n",
            "knnimpute-0.1.0.dist-info\n",
            "libfuturize\n",
            "libpasteurize\n",
            "librosa\n",
            "librosa-0.6.3.dist-info\n",
            "lightgbm\n",
            "lightgbm-2.2.3.dist-info\n",
            "llvmlite\n",
            "llvmlite-0.30.0.dist-info\n",
            "lmdb\n",
            "lmdb-0.97.dist-info\n",
            "lucid\n",
            "lucid-0.3.8.dist-info\n",
            "lunardate-0.2.0.dist-info\n",
            "lunardate.py\n",
            "lxml\n",
            "lxml-4.2.6.dist-info\n",
            "magenta\n",
            "magenta-0.3.19.dist-info\n",
            "markdown\n",
            "Markdown-3.1.1.dist-info\n",
            "markupsafe\n",
            "MarkupSafe-1.1.1.dist-info\n",
            "matplotlib\n",
            "matplotlib-3.1.1.dist-info\n",
            "matplotlib-3.1.1-py3.6-nspkg.pth\n",
            "matplotlib_venn\n",
            "matplotlib_venn-0.11.5.dist-info\n",
            "mesh_tensorflow\n",
            "mesh_tensorflow-0.1.4.dist-info\n",
            "mido\n",
            "mido-1.2.6.dist-info\n",
            "mir_eval\n",
            "mir_eval-0.5.dist-info\n",
            "missingno\n",
            "missingno-0.4.2.dist-info\n",
            "mistune-0.8.4.dist-info\n",
            "mistune.py\n",
            "mizani\n",
            "mizani-0.5.4.dist-info\n",
            "mkl-2019.0.dist-info\n",
            "mlxtend\n",
            "mlxtend-0.14.0.dist-info\n",
            "more_itertools\n",
            "more_itertools-7.2.0.dist-info\n",
            "moviepy\n",
            "moviepy-0.2.3.5.dist-info\n",
            "mpi4py\n",
            "mpi4py-3.0.2.dist-info\n",
            "mpl_toolkits\n",
            "mpmath\n",
            "mpmath-1.1.0.dist-info\n",
            "msgpack\n",
            "msgpack-0.5.6.dist-info\n",
            "multiprocess\n",
            "_multiprocess\n",
            "multiprocess-0.70.9.dist-info\n",
            "multitasking\n",
            "multitasking-0.0.9.dist-info\n",
            "murmurhash\n",
            "murmurhash-1.0.2.dist-info\n",
            "music21\n",
            "music21-5.5.0.dist-info\n",
            "natsort\n",
            "natsort-5.5.0.dist-info\n",
            "nbconvert\n",
            "nbconvert-5.6.1.dist-info\n",
            "nbformat\n",
            "nbformat-4.4.0.dist-info\n",
            "networkx\n",
            "networkx-2.4.dist-info\n",
            "nibabel\n",
            "nibabel-2.3.3.dist-info\n",
            "nisext\n",
            "nltk\n",
            "nltk-3.2.5.dist-info\n",
            "notebook\n",
            "notebook-5.2.2.dist-info\n",
            "np_utils\n",
            "np_utils-0.5.11.1.dist-info\n",
            "numba\n",
            "numba-0.40.1.dist-info\n",
            "numexpr\n",
            "numexpr-2.7.0.dist-info\n",
            "numpy\n",
            "numpy-1.17.3.dist-info\n",
            "nvidia_ml_py3-7.352.0.dist-info\n",
            "nvidia_smi.py\n",
            "oauth2client\n",
            "oauth2client-4.1.3.dist-info\n",
            "oauthlib\n",
            "oauthlib-3.1.0.dist-info\n",
            "okgrade\n",
            "okgrade-0.4.3.dist-info\n",
            "olefile\n",
            "olefile-0.46.dist-info\n",
            "opencv_contrib_python-3.4.3.18.dist-info\n",
            "opencv_python-3.4.7.28.dist-info\n",
            "OpenGL\n",
            "openpyxl\n",
            "openpyxl-2.5.9.dist-info\n",
            "opt_einsum\n",
            "opt_einsum-3.1.0.dist-info\n",
            "osqp\n",
            "osqp-0.6.1.dist-info\n",
            "osqppurepy\n",
            "packaging\n",
            "packaging-19.2.dist-info\n",
            "palettable\n",
            "palettable-3.3.0.dist-info\n",
            "pandas\n",
            "pandas-0.25.3.dist-info\n",
            "pandas_datareader\n",
            "pandas_datareader-0.7.4.dist-info\n",
            "pandas_gbq\n",
            "pandas_gbq-0.11.0.dist-info\n",
            "pandas_profiling\n",
            "pandas_profiling-1.4.1.dist-info\n",
            "pandas_summary\n",
            "pandas_summary-0.0.7.dist-info\n",
            "pandocfilters-1.4.2.dist-info\n",
            "pandocfilters.py\n",
            "parso\n",
            "parso-0.5.1.dist-info\n",
            "past\n",
            "pasta\n",
            "pathlib-1.0.1.dist-info\n",
            "pathlib.py\n",
            "patsy\n",
            "patsy-0.5.1.dist-info\n",
            "pexpect\n",
            "pexpect-4.7.0.dist-info\n",
            "pickleshare-0.7.5.dist-info\n",
            "pickleshare.py\n",
            "PIL\n",
            "Pillow-4.3.0.dist-info\n",
            "pip\n",
            "pip-19.3.1.dist-info\n",
            "piptools\n",
            "pip_tools-4.2.0.dist-info\n",
            "pkg_resources\n",
            "plac-0.9.6.dist-info\n",
            "plac_core.py\n",
            "plac_ext.py\n",
            "plac.py\n",
            "plac_tk.py\n",
            "plotly\n",
            "plotly-4.1.1.dist-info\n",
            "_plotly_future_\n",
            "_plotly_utils\n",
            "plotlywidget\n",
            "plotnine\n",
            "plotnine-0.5.1.dist-info\n",
            "pluggy\n",
            "pluggy-0.7.1.dist-info\n",
            "png.py\n",
            "pngsuite.py\n",
            "portpicker-1.2.0.dist-info\n",
            "portpicker.py\n",
            "prefetch_generator\n",
            "prefetch_generator-1.0.1.dist-info\n",
            "preshed\n",
            "preshed-2.0.1.dist-info\n",
            "pretty_midi\n",
            "pretty_midi-0.2.8.dist-info\n",
            "prettytable-0.7.2.dist-info\n",
            "prettytable.py\n",
            "progressbar\n",
            "progressbar2-3.38.0.dist-info\n",
            "prometheus_client\n",
            "prometheus_client-0.7.1.dist-info\n",
            "promise\n",
            "promise-2.2.1.dist-info\n",
            "prompt_toolkit\n",
            "prompt_toolkit-1.0.18.dist-info\n",
            "protobuf-3.10.0.dist-info\n",
            "protobuf-3.10.0-py3.6-nspkg.pth\n",
            "psutil\n",
            "psutil-5.4.8.dist-info\n",
            "psycopg2\n",
            "psycopg2-2.7.6.1.dist-info\n",
            "ptyprocess\n",
            "ptyprocess-0.6.0.dist-info\n",
            "pvectorc.cpython-36m-x86_64-linux-gnu.so\n",
            "py\n",
            "py-1.8.0.dist-info\n",
            "pyarrow\n",
            "pyarrow-0.14.1.dist-info\n",
            "pyasn1\n",
            "pyasn1-0.4.7.dist-info\n",
            "pyasn1_modules\n",
            "pyasn1_modules-0.2.7.dist-info\n",
            "__pycache__\n",
            "pycocotools\n",
            "pycocotools-2.0.0.dist-info\n",
            "pycparser\n",
            "pycparser-2.19.dist-info\n",
            "pydata_google_auth\n",
            "pydata_google_auth-0.1.3.dist-info\n",
            "pydot-1.3.0.dist-info\n",
            "pydot_ng\n",
            "pydot_ng-2.0.0.dist-info\n",
            "pydotplus\n",
            "pydotplus-2.0.2.dist-info\n",
            "pydot.py\n",
            "pydrive\n",
            "PyDrive-1.3.1.dist-info\n",
            "pyemd\n",
            "pyemd-0.5.1.dist-info\n",
            "pyglet\n",
            "pyglet-1.3.2.dist-info\n",
            "pygments\n",
            "Pygments-2.1.3.dist-info\n",
            "pylab.py\n",
            "pymc3\n",
            "pymc3-3.7.dist-info\n",
            "pymeeus\n",
            "PyMeeus-0.3.6.dist-info\n",
            "pymongo\n",
            "pymongo-3.9.0.dist-info\n",
            "pymystem3\n",
            "pymystem3-0.2.0.dist-info\n",
            "pynvml.py\n",
            "PyOpenGL-3.1.0.dist-info\n",
            "pyparsing-2.4.2.dist-info\n",
            "pyparsing.py\n",
            "pypng-0.0.20.dist-info\n",
            "pyrsistent\n",
            "pyrsistent-0.15.5.dist-info\n",
            "_pyrsistent_version.py\n",
            "pysndfile\n",
            "pysndfile-1.3.8.dist-info\n",
            "PySocks-1.7.1.dist-info\n",
            "pystan\n",
            "pystan-2.19.1.1.dist-info\n",
            "_pytest\n",
            "pytest-3.6.4.dist-info\n",
            "pytest.py\n",
            "python_chess-0.23.11.dist-info\n",
            "python_dateutil-2.6.1.dist-info\n",
            "python_louvain-0.13.dist-info\n",
            "python_rtmidi-1.3.1.dist-info\n",
            "python_slugify-4.0.0.dist-info\n",
            "python_utils\n",
            "python_utils-2.3.0.dist-info\n",
            "pytz\n",
            "pytz-2018.9.dist-info\n",
            "PyWavelets-1.1.1.dist-info\n",
            "pywt\n",
            "pyximport\n",
            "PyYAML-3.13.dist-info\n",
            "pyzmq-17.0.0.dist-info\n",
            "qtconsole\n",
            "qtconsole-4.5.5.dist-info\n",
            "requests\n",
            "requests-2.21.0.dist-info\n",
            "requests_oauthlib\n",
            "requests_oauthlib-1.2.0.dist-info\n",
            "resampy\n",
            "resampy-0.2.2.dist-info\n",
            "retrying-1.3.3.dist-info\n",
            "retrying.py\n",
            "rpy2\n",
            "rpy2-2.9.5.dist-info\n",
            "rsa\n",
            "rsa-4.0.dist-info\n",
            "rtmidi\n",
            "s3fs\n",
            "s3fs-0.3.5.dist-info\n",
            "s3transfer\n",
            "s3transfer-0.2.1.dist-info\n",
            "scikit_image-0.15.0.dist-info\n",
            "scikit_learn-0.21.3.dist-info\n",
            "scipy\n",
            "scipy-1.3.1.dist-info\n",
            "scs\n",
            "scs-2.1.1.post2.dist-info\n",
            "_scs_direct.cpython-36m-x86_64-linux-gnu.so\n",
            "_scs_indirect.cpython-36m-x86_64-linux-gnu.so\n",
            "_scs_python.cpython-36m-x86_64-linux-gnu.so\n",
            "seaborn\n",
            "seaborn-0.9.0.dist-info\n",
            "semantic_version\n",
            "semantic_version-2.8.2.dist-info\n",
            "send2trash\n",
            "Send2Trash-1.5.0.dist-info\n",
            "setuptools\n",
            "setuptools-41.4.0.dist-info\n",
            "setuptools_git\n",
            "setuptools_git-1.2.dist-info\n",
            "shapely\n",
            "Shapely-1.6.4.post2.dist-info\n",
            "simplegeneric-0.8.1.dist-info\n",
            "simplegeneric.py\n",
            "six-1.12.0.dist-info\n",
            "six.py\n",
            "skimage\n",
            "sklearn\n",
            "sklearn-0.0.dist-info\n",
            "sklearn_pandas\n",
            "sklearn_pandas-1.8.0.dist-info\n",
            "slugify\n",
            "smart_open\n",
            "smart_open-1.8.4.dist-info\n",
            "snowballstemmer\n",
            "snowballstemmer-2.0.0.dist-info\n",
            "sockshandler.py\n",
            "socks.py\n",
            "sonnet\n",
            "sortedcontainers\n",
            "sortedcontainers-2.1.0.dist-info\n",
            "spacy\n",
            "spacy-2.1.9.dist-info\n",
            "sphinx\n",
            "Sphinx-1.8.5.dist-info\n",
            "sphinxcontrib\n",
            "sphinxcontrib_websupport-1.1.2.dist-info\n",
            "sphinxcontrib_websupport-1.1.2-py3.7-nspkg.pth\n",
            "sql\n",
            "sqlalchemy\n",
            "SQLAlchemy-1.3.10.dist-info\n",
            "sqlparse\n",
            "sqlparse-0.3.0.dist-info\n",
            "srsly\n",
            "srsly-0.2.0.dist-info\n",
            "stable_baselines\n",
            "stable_baselines-2.2.1.dist-info\n",
            "statsmodels\n",
            "statsmodels-0.10.1.dist-info\n",
            "sympy\n",
            "sympy-1.1.1.dist-info\n",
            "tables\n",
            "tables-3.4.4.dist-info\n",
            "tabulate-0.8.5.dist-info\n",
            "tabulate.py\n",
            "tblib\n",
            "tblib-1.5.0.dist-info\n",
            "tensor2tensor\n",
            "tensor2tensor-1.14.1.dist-info\n",
            "tensorboard\n",
            "tensorboard-1.15.0.dist-info\n",
            "tensorboardcolab\n",
            "tensorboardcolab-0.0.22.dist-info\n",
            "tensorflow\n",
            "tensorflow-1.15.0.dist-info\n",
            "tensorflow_core\n",
            "tensorflow_datasets\n",
            "tensorflow_datasets-1.3.0.dist-info\n",
            "tensorflow_estimator\n",
            "tensorflow_estimator-1.15.1.dist-info\n",
            "tensorflow_gan\n",
            "tensorflow_gan-2.0.0.dist-info\n",
            "tensorflow_hub\n",
            "tensorflow_hub-0.7.0.dist-info\n",
            "tensorflow_metadata\n",
            "tensorflow_metadata-0.15.0.dist-info\n",
            "tensorflow_privacy\n",
            "tensorflow_privacy-0.2.2.dist-info\n",
            "tensorflow_probability\n",
            "tensorflow_probability-0.7.0.dist-info\n",
            "termcolor-1.1.0.dist-info\n",
            "termcolor.py\n",
            "terminado\n",
            "terminado-0.8.2.dist-info\n",
            "test\n",
            "testpath\n",
            "testpath-0.4.2.dist-info\n",
            "test_png.py\n",
            "tests\n",
            "textblob\n",
            "textblob-0.15.3.dist-info\n",
            "textgenrnn\n",
            "textgenrnn-1.4.1.dist-info\n",
            "text_unidecode\n",
            "text_unidecode-1.3.dist-info\n",
            "tflearn\n",
            "tflearn-0.3.2.dist-info\n",
            "theano\n",
            "Theano-1.0.4.dist-info\n",
            "thinc\n",
            "thinc-7.0.8.dist-info\n",
            "tlz\n",
            "toolz\n",
            "toolz-0.10.0.dist-info\n",
            "torch\n",
            "torch-0.3.1.dist-info\n",
            "torchsummary\n",
            "torchsummary-1.5.1.dist-info\n",
            "torchtext\n",
            "torchtext-0.2.3.dist-info\n",
            "torchvision\n",
            "torchvision-0.2.2.dist-info\n",
            "tornado\n",
            "tornado-4.5.3.dist-info\n",
            "tqdm\n",
            "tqdm-4.19.9.dist-info\n",
            "traitlets\n",
            "traitlets-4.3.3.dist-info\n",
            "tweepy\n",
            "tweepy-3.6.0.dist-info\n",
            "typing-3.6.6.dist-info\n",
            "typing_extensions-3.6.6.dist-info\n",
            "typing_extensions.py\n",
            "typing.py\n",
            "tzlocal\n",
            "tzlocal-1.5.1.dist-info\n",
            "umap\n",
            "umap_learn-0.3.10.dist-info\n",
            "uritemplate\n",
            "uritemplate-3.0.0.dist-info\n",
            "urllib3\n",
            "urllib3-1.24.3.dist-info\n",
            "vega_datasets\n",
            "vega_datasets-0.7.0.dist-info\n",
            "vis\n",
            "wasabi\n",
            "wasabi-0.3.0.dist-info\n",
            "wcwidth\n",
            "wcwidth-0.1.7.dist-info\n",
            "webencodings\n",
            "webencodings-0.5.1.dist-info\n",
            "werkzeug\n",
            "Werkzeug-0.16.0.dist-info\n",
            "wheel\n",
            "wheel-0.33.6.dist-info\n",
            "widgetsnbextension\n",
            "widgetsnbextension-3.5.1.dist-info\n",
            "wordcloud\n",
            "wordcloud-1.5.0.dist-info\n",
            "wrapt\n",
            "wrapt-1.11.2.dist-info\n",
            "xarray\n",
            "xarray-0.11.3.dist-info\n",
            "xgboost\n",
            "xgboost-0.90.dist-info\n",
            "xlrd\n",
            "xlrd-1.1.0.dist-info\n",
            "xlwt\n",
            "xlwt-1.3.0.dist-info\n",
            "yaml\n",
            "yellowbrick\n",
            "yellowbrick-0.9.1.dist-info\n",
            "zict\n",
            "zict-1.0.0.dist-info\n",
            "zipp-0.6.0.dist-info\n",
            "zipp.py\n",
            "zmq\n",
            "zmq-0.0.0.dist-info\n"
          ],
          "name": "stdout"
        }
      ]
    },
    {
      "cell_type": "code",
      "metadata": {
        "id": "g3imCxAp0Hig",
        "colab_type": "code",
        "colab": {
          "base_uri": "https://localhost:8080/",
          "height": 34
        },
        "outputId": "eddebea4-334b-40ab-8662-def13e824747"
      },
      "source": [
        ""
      ],
      "execution_count": 22,
      "outputs": [
        {
          "output_type": "stream",
          "text": [
            "0.3.1\n"
          ],
          "name": "stdout"
        }
      ]
    },
    {
      "cell_type": "code",
      "metadata": {
        "id": "TVyr5ZNZFE-m",
        "colab_type": "code",
        "colab": {}
      },
      "source": [
        "dl = iter(md.trn_dl)"
      ],
      "execution_count": 0,
      "outputs": []
    },
    {
      "cell_type": "code",
      "metadata": {
        "id": "JO_HikuNKZ5Y",
        "colab_type": "code",
        "colab": {
          "base_uri": "https://localhost:8080/",
          "height": 68
        },
        "outputId": "8ce60669-00ef-48ea-b16a-8d194494c5d1"
      },
      "source": [
        "ymb"
      ],
      "execution_count": 85,
      "outputs": [
        {
          "output_type": "execute_result",
          "data": {
            "text/plain": [
              "tensor([3, 8, 6, 9, 6, 4, 5, 3, 8, 4, 5, 2, 3, 8, 4, 8, 1, 5, 0, 5, 9, 7, 4, 1,\n",
              "        0, 3, 0, 6, 2, 9, 9, 4, 1, 3, 6, 8, 0, 7, 7, 6, 8, 9, 0, 3, 8, 3, 7, 7,\n",
              "        8, 4, 4, 1, 2, 9, 8, 1, 1, 0, 6, 6, 5, 0, 1, 1], device='cuda:0')"
            ]
          },
          "metadata": {
            "tags": []
          },
          "execution_count": 85
        }
      ]
    },
    {
      "cell_type": "code",
      "metadata": {
        "id": "gP3Ur4G1KVOD",
        "colab_type": "code",
        "colab": {}
      },
      "source": [
        "vxmb = Variable(xmb.cuda())"
      ],
      "execution_count": 0,
      "outputs": []
    },
    {
      "cell_type": "code",
      "metadata": {
        "id": "dYsS2j2oKjFz",
        "colab_type": "code",
        "colab": {
          "base_uri": "https://localhost:8080/",
          "height": 394
        },
        "outputId": "601fd1c7-1f7b-4181-db67-5c72e623b7ea"
      },
      "source": [
        "vxmb"
      ],
      "execution_count": 91,
      "outputs": [
        {
          "output_type": "error",
          "ename": "RuntimeError",
          "evalue": "ignored",
          "traceback": [
            "\u001b[0;31m---------------------------------------------------------------------------\u001b[0m",
            "\u001b[0;31mRuntimeError\u001b[0m                              Traceback (most recent call last)",
            "\u001b[0;32m/usr/local/lib/python3.6/dist-packages/IPython/core/formatters.py\u001b[0m in \u001b[0;36m__call__\u001b[0;34m(self, obj)\u001b[0m\n\u001b[1;32m    697\u001b[0m                 \u001b[0mtype_pprinters\u001b[0m\u001b[0;34m=\u001b[0m\u001b[0mself\u001b[0m\u001b[0;34m.\u001b[0m\u001b[0mtype_printers\u001b[0m\u001b[0;34m,\u001b[0m\u001b[0;34m\u001b[0m\u001b[0;34m\u001b[0m\u001b[0m\n\u001b[1;32m    698\u001b[0m                 deferred_pprinters=self.deferred_printers)\n\u001b[0;32m--> 699\u001b[0;31m             \u001b[0mprinter\u001b[0m\u001b[0;34m.\u001b[0m\u001b[0mpretty\u001b[0m\u001b[0;34m(\u001b[0m\u001b[0mobj\u001b[0m\u001b[0;34m)\u001b[0m\u001b[0;34m\u001b[0m\u001b[0;34m\u001b[0m\u001b[0m\n\u001b[0m\u001b[1;32m    700\u001b[0m             \u001b[0mprinter\u001b[0m\u001b[0;34m.\u001b[0m\u001b[0mflush\u001b[0m\u001b[0;34m(\u001b[0m\u001b[0;34m)\u001b[0m\u001b[0;34m\u001b[0m\u001b[0;34m\u001b[0m\u001b[0m\n\u001b[1;32m    701\u001b[0m             \u001b[0;32mreturn\u001b[0m \u001b[0mstream\u001b[0m\u001b[0;34m.\u001b[0m\u001b[0mgetvalue\u001b[0m\u001b[0;34m(\u001b[0m\u001b[0;34m)\u001b[0m\u001b[0;34m\u001b[0m\u001b[0;34m\u001b[0m\u001b[0m\n",
            "\u001b[0;32m/usr/local/lib/python3.6/dist-packages/IPython/lib/pretty.py\u001b[0m in \u001b[0;36mpretty\u001b[0;34m(self, obj)\u001b[0m\n\u001b[1;32m    396\u001b[0m                             \u001b[0;32mif\u001b[0m \u001b[0mcallable\u001b[0m\u001b[0;34m(\u001b[0m\u001b[0mmeth\u001b[0m\u001b[0;34m)\u001b[0m\u001b[0;34m:\u001b[0m\u001b[0;34m\u001b[0m\u001b[0;34m\u001b[0m\u001b[0m\n\u001b[1;32m    397\u001b[0m                                 \u001b[0;32mreturn\u001b[0m \u001b[0mmeth\u001b[0m\u001b[0;34m(\u001b[0m\u001b[0mobj\u001b[0m\u001b[0;34m,\u001b[0m \u001b[0mself\u001b[0m\u001b[0;34m,\u001b[0m \u001b[0mcycle\u001b[0m\u001b[0;34m)\u001b[0m\u001b[0;34m\u001b[0m\u001b[0;34m\u001b[0m\u001b[0m\n\u001b[0;32m--> 398\u001b[0;31m             \u001b[0;32mreturn\u001b[0m \u001b[0m_default_pprint\u001b[0m\u001b[0;34m(\u001b[0m\u001b[0mobj\u001b[0m\u001b[0;34m,\u001b[0m \u001b[0mself\u001b[0m\u001b[0;34m,\u001b[0m \u001b[0mcycle\u001b[0m\u001b[0;34m)\u001b[0m\u001b[0;34m\u001b[0m\u001b[0;34m\u001b[0m\u001b[0m\n\u001b[0m\u001b[1;32m    399\u001b[0m         \u001b[0;32mfinally\u001b[0m\u001b[0;34m:\u001b[0m\u001b[0;34m\u001b[0m\u001b[0;34m\u001b[0m\u001b[0m\n\u001b[1;32m    400\u001b[0m             \u001b[0mself\u001b[0m\u001b[0;34m.\u001b[0m\u001b[0mend_group\u001b[0m\u001b[0;34m(\u001b[0m\u001b[0;34m)\u001b[0m\u001b[0;34m\u001b[0m\u001b[0;34m\u001b[0m\u001b[0m\n",
            "\u001b[0;32m/usr/local/lib/python3.6/dist-packages/IPython/lib/pretty.py\u001b[0m in \u001b[0;36m_default_pprint\u001b[0;34m(obj, p, cycle)\u001b[0m\n\u001b[1;32m    516\u001b[0m     \u001b[0;32mif\u001b[0m \u001b[0m_safe_getattr\u001b[0m\u001b[0;34m(\u001b[0m\u001b[0mklass\u001b[0m\u001b[0;34m,\u001b[0m \u001b[0;34m'__repr__'\u001b[0m\u001b[0;34m,\u001b[0m \u001b[0;32mNone\u001b[0m\u001b[0;34m)\u001b[0m \u001b[0;32mnot\u001b[0m \u001b[0;32min\u001b[0m \u001b[0m_baseclass_reprs\u001b[0m\u001b[0;34m:\u001b[0m\u001b[0;34m\u001b[0m\u001b[0;34m\u001b[0m\u001b[0m\n\u001b[1;32m    517\u001b[0m         \u001b[0;31m# A user-provided repr. Find newlines and replace them with p.break_()\u001b[0m\u001b[0;34m\u001b[0m\u001b[0;34m\u001b[0m\u001b[0;34m\u001b[0m\u001b[0m\n\u001b[0;32m--> 518\u001b[0;31m         \u001b[0m_repr_pprint\u001b[0m\u001b[0;34m(\u001b[0m\u001b[0mobj\u001b[0m\u001b[0;34m,\u001b[0m \u001b[0mp\u001b[0m\u001b[0;34m,\u001b[0m \u001b[0mcycle\u001b[0m\u001b[0;34m)\u001b[0m\u001b[0;34m\u001b[0m\u001b[0;34m\u001b[0m\u001b[0m\n\u001b[0m\u001b[1;32m    519\u001b[0m         \u001b[0;32mreturn\u001b[0m\u001b[0;34m\u001b[0m\u001b[0;34m\u001b[0m\u001b[0m\n\u001b[1;32m    520\u001b[0m     \u001b[0mp\u001b[0m\u001b[0;34m.\u001b[0m\u001b[0mbegin_group\u001b[0m\u001b[0;34m(\u001b[0m\u001b[0;36m1\u001b[0m\u001b[0;34m,\u001b[0m \u001b[0;34m'<'\u001b[0m\u001b[0;34m)\u001b[0m\u001b[0;34m\u001b[0m\u001b[0;34m\u001b[0m\u001b[0m\n",
            "\u001b[0;32m/usr/local/lib/python3.6/dist-packages/IPython/lib/pretty.py\u001b[0m in \u001b[0;36m_repr_pprint\u001b[0;34m(obj, p, cycle)\u001b[0m\n\u001b[1;32m    707\u001b[0m     \u001b[0;34m\"\"\"A pprint that just redirects to the normal repr function.\"\"\"\u001b[0m\u001b[0;34m\u001b[0m\u001b[0;34m\u001b[0m\u001b[0m\n\u001b[1;32m    708\u001b[0m     \u001b[0;31m# Find newlines and replace them with p.break_()\u001b[0m\u001b[0;34m\u001b[0m\u001b[0;34m\u001b[0m\u001b[0;34m\u001b[0m\u001b[0m\n\u001b[0;32m--> 709\u001b[0;31m     \u001b[0moutput\u001b[0m \u001b[0;34m=\u001b[0m \u001b[0mrepr\u001b[0m\u001b[0;34m(\u001b[0m\u001b[0mobj\u001b[0m\u001b[0;34m)\u001b[0m\u001b[0;34m\u001b[0m\u001b[0;34m\u001b[0m\u001b[0m\n\u001b[0m\u001b[1;32m    710\u001b[0m     \u001b[0;32mfor\u001b[0m \u001b[0midx\u001b[0m\u001b[0;34m,\u001b[0m\u001b[0moutput_line\u001b[0m \u001b[0;32min\u001b[0m \u001b[0menumerate\u001b[0m\u001b[0;34m(\u001b[0m\u001b[0moutput\u001b[0m\u001b[0;34m.\u001b[0m\u001b[0msplitlines\u001b[0m\u001b[0;34m(\u001b[0m\u001b[0;34m)\u001b[0m\u001b[0;34m)\u001b[0m\u001b[0;34m:\u001b[0m\u001b[0;34m\u001b[0m\u001b[0;34m\u001b[0m\u001b[0m\n\u001b[1;32m    711\u001b[0m         \u001b[0;32mif\u001b[0m \u001b[0midx\u001b[0m\u001b[0;34m:\u001b[0m\u001b[0;34m\u001b[0m\u001b[0;34m\u001b[0m\u001b[0m\n",
            "\u001b[0;32m/usr/local/lib/python3.6/dist-packages/torch/tensor.py\u001b[0m in \u001b[0;36m__repr__\u001b[0;34m(self)\u001b[0m\n\u001b[1;32m    112\u001b[0m         \u001b[0mThe\u001b[0m \u001b[0mhook\u001b[0m \u001b[0mwill\u001b[0m \u001b[0mbe\u001b[0m \u001b[0mcalled\u001b[0m \u001b[0mevery\u001b[0m \u001b[0mtime\u001b[0m \u001b[0ma\u001b[0m \u001b[0mgradient\u001b[0m \u001b[0;32mwith\u001b[0m \u001b[0mrespect\u001b[0m \u001b[0mto\u001b[0m \u001b[0mthe\u001b[0m\u001b[0;34m\u001b[0m\u001b[0;34m\u001b[0m\u001b[0m\n\u001b[1;32m    113\u001b[0m         \u001b[0mTensor\u001b[0m \u001b[0;32mis\u001b[0m \u001b[0mcomputed\u001b[0m\u001b[0;34m.\u001b[0m \u001b[0mThe\u001b[0m \u001b[0mhook\u001b[0m \u001b[0mshould\u001b[0m \u001b[0mhave\u001b[0m \u001b[0mthe\u001b[0m \u001b[0mfollowing\u001b[0m \u001b[0msignature\u001b[0m\u001b[0;34m:\u001b[0m\u001b[0;34m:\u001b[0m\u001b[0;34m\u001b[0m\u001b[0;34m\u001b[0m\u001b[0m\n\u001b[0;32m--> 114\u001b[0;31m \u001b[0;34m\u001b[0m\u001b[0m\n\u001b[0m\u001b[1;32m    115\u001b[0m             \u001b[0mhook\u001b[0m\u001b[0;34m(\u001b[0m\u001b[0mgrad\u001b[0m\u001b[0;34m)\u001b[0m \u001b[0;34m->\u001b[0m \u001b[0mTensor\u001b[0m \u001b[0;32mor\u001b[0m \u001b[0;32mNone\u001b[0m\u001b[0;34m\u001b[0m\u001b[0;34m\u001b[0m\u001b[0m\n\u001b[1;32m    116\u001b[0m \u001b[0;34m\u001b[0m\u001b[0m\n",
            "\u001b[0;32m/usr/local/lib/python3.6/dist-packages/torch/_tensor_str.py\u001b[0m in \u001b[0;36m_str\u001b[0;34m(self)\u001b[0m\n",
            "\u001b[0;32m/usr/local/lib/python3.6/dist-packages/torch/_tensor_str.py\u001b[0m in \u001b[0;36m_tensor_str\u001b[0;34m(self, indent)\u001b[0m\n\u001b[1;32m    207\u001b[0m     \u001b[0mlast_line_len\u001b[0m \u001b[0;34m=\u001b[0m \u001b[0mlen\u001b[0m\u001b[0;34m(\u001b[0m\u001b[0mtensor_str\u001b[0m\u001b[0;34m)\u001b[0m \u001b[0;34m-\u001b[0m \u001b[0mtensor_str\u001b[0m\u001b[0;34m.\u001b[0m\u001b[0mrfind\u001b[0m\u001b[0;34m(\u001b[0m\u001b[0;34m'\\n'\u001b[0m\u001b[0;34m)\u001b[0m \u001b[0;34m+\u001b[0m \u001b[0;36m1\u001b[0m\u001b[0;34m\u001b[0m\u001b[0;34m\u001b[0m\u001b[0m\n\u001b[1;32m    208\u001b[0m     \u001b[0;32mfor\u001b[0m \u001b[0msuffix\u001b[0m \u001b[0;32min\u001b[0m \u001b[0msuffixes\u001b[0m\u001b[0;34m:\u001b[0m\u001b[0;34m\u001b[0m\u001b[0;34m\u001b[0m\u001b[0m\n\u001b[0;32m--> 209\u001b[0;31m         \u001b[0msuffix_len\u001b[0m \u001b[0;34m=\u001b[0m \u001b[0mlen\u001b[0m\u001b[0;34m(\u001b[0m\u001b[0msuffix\u001b[0m\u001b[0;34m)\u001b[0m\u001b[0;34m\u001b[0m\u001b[0;34m\u001b[0m\u001b[0m\n\u001b[0m\u001b[1;32m    210\u001b[0m         \u001b[0;32mif\u001b[0m \u001b[0mforce_newline\u001b[0m \u001b[0;32mor\u001b[0m \u001b[0mlast_line_len\u001b[0m \u001b[0;34m+\u001b[0m \u001b[0msuffix_len\u001b[0m \u001b[0;34m+\u001b[0m \u001b[0;36m2\u001b[0m \u001b[0;34m>\u001b[0m \u001b[0mPRINT_OPTS\u001b[0m\u001b[0;34m.\u001b[0m\u001b[0mlinewidth\u001b[0m\u001b[0;34m:\u001b[0m\u001b[0;34m\u001b[0m\u001b[0;34m\u001b[0m\u001b[0m\n\u001b[1;32m    211\u001b[0m             \u001b[0mtensor_strs\u001b[0m\u001b[0;34m.\u001b[0m\u001b[0mappend\u001b[0m\u001b[0;34m(\u001b[0m\u001b[0;34m',\\n'\u001b[0m \u001b[0;34m+\u001b[0m \u001b[0;34m' '\u001b[0m \u001b[0;34m*\u001b[0m \u001b[0mindent\u001b[0m \u001b[0;34m+\u001b[0m \u001b[0msuffix\u001b[0m\u001b[0;34m)\u001b[0m\u001b[0;34m\u001b[0m\u001b[0;34m\u001b[0m\u001b[0m\n",
            "\u001b[0;32m/usr/local/lib/python3.6/dist-packages/torch/_tensor_str.py\u001b[0m in \u001b[0;36mget_summarized_data\u001b[0;34m(self)\u001b[0m\n\u001b[1;32m    240\u001b[0m     \u001b[0mprefix\u001b[0m \u001b[0;34m=\u001b[0m \u001b[0;34m'tensor('\u001b[0m\u001b[0;34m\u001b[0m\u001b[0;34m\u001b[0m\u001b[0m\n\u001b[1;32m    241\u001b[0m     \u001b[0mindent\u001b[0m \u001b[0;34m=\u001b[0m \u001b[0mlen\u001b[0m\u001b[0;34m(\u001b[0m\u001b[0mprefix\u001b[0m\u001b[0;34m)\u001b[0m\u001b[0;34m\u001b[0m\u001b[0;34m\u001b[0m\u001b[0m\n\u001b[0;32m--> 242\u001b[0;31m \u001b[0;34m\u001b[0m\u001b[0m\n\u001b[0m\u001b[1;32m    243\u001b[0m     \u001b[0msuffixes\u001b[0m \u001b[0;34m=\u001b[0m \u001b[0;34m[\u001b[0m\u001b[0;34m]\u001b[0m\u001b[0;34m\u001b[0m\u001b[0;34m\u001b[0m\u001b[0m\n\u001b[1;32m    244\u001b[0m     \u001b[0;32mif\u001b[0m \u001b[0;32mnot\u001b[0m \u001b[0mtorch\u001b[0m\u001b[0;34m.\u001b[0m\u001b[0m_C\u001b[0m\u001b[0;34m.\u001b[0m\u001b[0m_is_default_type_cuda\u001b[0m\u001b[0;34m(\u001b[0m\u001b[0;34m)\u001b[0m\u001b[0;34m:\u001b[0m\u001b[0;34m\u001b[0m\u001b[0;34m\u001b[0m\u001b[0m\n",
            "\u001b[0;32m/usr/local/lib/python3.6/dist-packages/torch/_tensor_str.py\u001b[0m in \u001b[0;36m<listcomp>\u001b[0;34m(.0)\u001b[0m\n\u001b[1;32m    240\u001b[0m     \u001b[0mprefix\u001b[0m \u001b[0;34m=\u001b[0m \u001b[0;34m'tensor('\u001b[0m\u001b[0;34m\u001b[0m\u001b[0;34m\u001b[0m\u001b[0m\n\u001b[1;32m    241\u001b[0m     \u001b[0mindent\u001b[0m \u001b[0;34m=\u001b[0m \u001b[0mlen\u001b[0m\u001b[0;34m(\u001b[0m\u001b[0mprefix\u001b[0m\u001b[0;34m)\u001b[0m\u001b[0;34m\u001b[0m\u001b[0;34m\u001b[0m\u001b[0m\n\u001b[0;32m--> 242\u001b[0;31m \u001b[0;34m\u001b[0m\u001b[0m\n\u001b[0m\u001b[1;32m    243\u001b[0m     \u001b[0msuffixes\u001b[0m \u001b[0;34m=\u001b[0m \u001b[0;34m[\u001b[0m\u001b[0;34m]\u001b[0m\u001b[0;34m\u001b[0m\u001b[0;34m\u001b[0m\u001b[0m\n\u001b[1;32m    244\u001b[0m     \u001b[0;32mif\u001b[0m \u001b[0;32mnot\u001b[0m \u001b[0mtorch\u001b[0m\u001b[0;34m.\u001b[0m\u001b[0m_C\u001b[0m\u001b[0;34m.\u001b[0m\u001b[0m_is_default_type_cuda\u001b[0m\u001b[0;34m(\u001b[0m\u001b[0;34m)\u001b[0m\u001b[0;34m:\u001b[0m\u001b[0;34m\u001b[0m\u001b[0;34m\u001b[0m\u001b[0m\n",
            "\u001b[0;32m/usr/local/lib/python3.6/dist-packages/torch/_tensor_str.py\u001b[0m in \u001b[0;36mget_summarized_data\u001b[0;34m(self)\u001b[0m\n\u001b[1;32m    233\u001b[0m                for i in range(len(self) - PRINT_OPTS.edgeitems, len(self))])\n\u001b[1;32m    234\u001b[0m         \u001b[0;32mreturn\u001b[0m \u001b[0mtorch\u001b[0m\u001b[0;34m.\u001b[0m\u001b[0mstack\u001b[0m\u001b[0;34m(\u001b[0m\u001b[0;34m[\u001b[0m\u001b[0mget_summarized_data\u001b[0m\u001b[0;34m(\u001b[0m\u001b[0mx\u001b[0m\u001b[0;34m)\u001b[0m \u001b[0;32mfor\u001b[0m \u001b[0mx\u001b[0m \u001b[0;32min\u001b[0m \u001b[0;34m(\u001b[0m\u001b[0mstart\u001b[0m \u001b[0;34m+\u001b[0m \u001b[0mend\u001b[0m\u001b[0;34m)\u001b[0m\u001b[0;34m]\u001b[0m\u001b[0;34m)\u001b[0m\u001b[0;34m\u001b[0m\u001b[0;34m\u001b[0m\u001b[0m\n\u001b[0;32m--> 235\u001b[0;31m     \u001b[0;32melse\u001b[0m\u001b[0;34m:\u001b[0m\u001b[0;34m\u001b[0m\u001b[0;34m\u001b[0m\u001b[0m\n\u001b[0m\u001b[1;32m    236\u001b[0m         \u001b[0;32mreturn\u001b[0m \u001b[0mtorch\u001b[0m\u001b[0;34m.\u001b[0m\u001b[0mstack\u001b[0m\u001b[0;34m(\u001b[0m\u001b[0;34m[\u001b[0m\u001b[0mget_summarized_data\u001b[0m\u001b[0;34m(\u001b[0m\u001b[0mx\u001b[0m\u001b[0;34m)\u001b[0m \u001b[0;32mfor\u001b[0m \u001b[0mx\u001b[0m \u001b[0;32min\u001b[0m \u001b[0mself\u001b[0m\u001b[0;34m]\u001b[0m\u001b[0;34m)\u001b[0m\u001b[0;34m\u001b[0m\u001b[0;34m\u001b[0m\u001b[0m\n\u001b[1;32m    237\u001b[0m \u001b[0;34m\u001b[0m\u001b[0m\n",
            "\u001b[0;31mRuntimeError\u001b[0m: Error in dlopen or dlsym: libcaffe2_nvrtc.so: cannot open shared object file: No such file or directory"
          ]
        }
      ]
    },
    {
      "cell_type": "code",
      "metadata": {
        "id": "CArkGSOaE29q",
        "colab_type": "code",
        "colab": {}
      },
      "source": [
        "preds = predict(net, md.val_ds)"
      ],
      "execution_count": 0,
      "outputs": []
    },
    {
      "cell_type": "code",
      "metadata": {
        "id": "l1GvYBO3544_",
        "colab_type": "code",
        "colab": {
          "base_uri": "https://localhost:8080/",
          "height": 34
        },
        "outputId": "a4387f99-cae3-4351-8841-383813630470"
      },
      "source": [
        "preds"
      ],
      "execution_count": 27,
      "outputs": [
        {
          "output_type": "execute_result",
          "data": {
            "text/plain": [
              "array([-4.46255, -3.1195 , -2.16499, ..., -3.19441, -0.7758 , -2.29745], dtype=float32)"
            ]
          },
          "metadata": {
            "tags": []
          },
          "execution_count": 27
        }
      ]
    }
  ]
}