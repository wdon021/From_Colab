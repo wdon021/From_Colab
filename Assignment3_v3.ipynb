{
  "nbformat": 4,
  "nbformat_minor": 0,
  "metadata": {
    "colab": {
      "name": "Assignment3_v3.ipynb",
      "provenance": [],
      "authorship_tag": "ABX9TyOA5VBs3yAmbBBCE9mgzJoI",
      "include_colab_link": true
    },
    "kernelspec": {
      "name": "python3",
      "display_name": "Python 3"
    }
  },
  "cells": [
    {
      "cell_type": "markdown",
      "metadata": {
        "id": "view-in-github",
        "colab_type": "text"
      },
      "source": [
        "<a href=\"https://colab.research.google.com/github/wdon021/From_Colab/blob/master/Assignment3_v3.ipynb\" target=\"_parent\"><img src=\"https://colab.research.google.com/assets/colab-badge.svg\" alt=\"Open In Colab\"/></a>"
      ]
    },
    {
      "cell_type": "code",
      "metadata": {
        "id": "ZkFgHLK5YjMQ",
        "colab_type": "code",
        "colab": {}
      },
      "source": [
        "# tutorial\n",
        "# normal tensors only instantiated when a graph is run and are immediately deleted afterward\n",
        "# variable survive across multiple executions of a graph, allow you to modify the graph, allow you to add such parameters or nodes to the graph that are trainable. - used for weights and biases.\n",
        "# Placeholder allow you to feed input on the run. Allow computational graph to take inputs as parameters. - holding the input data and class labels.\n"
      ],
      "execution_count": 1,
      "outputs": []
    },
    {
      "cell_type": "code",
      "metadata": {
        "id": "sgpxWqYewnLq",
        "colab_type": "code",
        "colab": {
          "base_uri": "https://localhost:8080/",
          "height": 54
        },
        "outputId": "c643a112-f7d5-4300-dfa3-8b15c00599b1"
      },
      "source": [
        "import numpy as np\n",
        "import pandas as pd\n",
        "import seaborn as sns\n",
        "# import scipy.misc as smp\n",
        "from PIL import Image as im\n",
        "import matplotlib.pyplot as plt\n",
        "%matplotlib inline\n",
        "from IPython.display import Image, display\n",
        "from sklearn.model_selection import train_test_split\n",
        "from sklearn.metrics import confusion_matrix\n",
        "from keras.models import Sequential\n",
        "from keras.layers import Conv2D, Lambda, MaxPooling2D\n",
        "from keras.layers import Dense, Dropout, Flatten\n",
        "from keras.layers.normalization import BatchNormalization\n",
        "from keras.preprocessing.image import ImageDataGenerator\n",
        "from keras.utils.np_utils import to_categorical\n",
        "import tensorflow as tf\n",
        "from tensorflow import keras\n",
        "from tensorflow.keras import layers\n",
        "from tensorflow.keras import regularizers"
      ],
      "execution_count": 2,
      "outputs": [
        {
          "output_type": "stream",
          "text": [
            "/usr/local/lib/python3.6/dist-packages/statsmodels/tools/_testing.py:19: FutureWarning: pandas.util.testing is deprecated. Use the functions in the public API at pandas.testing instead.\n",
            "  import pandas.util.testing as tm\n"
          ],
          "name": "stderr"
        }
      ]
    },
    {
      "cell_type": "markdown",
      "metadata": {
        "id": "evffgVSP6SkE",
        "colab_type": "text"
      },
      "source": [
        "Generate Dataset"
      ]
    },
    {
      "cell_type": "code",
      "metadata": {
        "id": "Zmh3S7c2CMXn",
        "colab_type": "code",
        "colab": {}
      },
      "source": [
        "def create_circle_random(size = 28, radius = 5, color = 255):\n",
        "  k = np.random.random_sample(size=2)\n",
        "  col_random = np.int(16*k[0])+6\n",
        "  row_random = np.int(16*k[1])+6\n",
        "  data = np.zeros((size, size), dtype = np.uint8)\n",
        "  ci,cj = row_random, col_random\n",
        "  cr = radius\n",
        "  if(((col_random+cr)>=28) | ((col_random-cr)<1)):\n",
        "    print(\"col_random is out of bound\")\n",
        "  if(((row_random+cr)>=28) | ((row_random-cr)<1)):\n",
        "    print(\"row_random is out of bound\")\n",
        "  I,J = np.meshgrid(np.arange(data.shape[0]), np.arange(data.shape[1]))\n",
        "  # basic formula for a circle (x - a)**2 + (y - b)**2 = r**2\n",
        "  # calculate the radius\n",
        "  dist = np.sqrt((I-ci)**2 +(J-cj)**2)\n",
        "  # Assign value of any for those points within radius\n",
        "  data[np.where(dist<cr)] = color\n",
        "  # img = im.fromarray(data)\n",
        "  return data.flatten()"
      ],
      "execution_count": 3,
      "outputs": []
    },
    {
      "cell_type": "code",
      "metadata": {
        "id": "bpWzjuyasc2g",
        "colab_type": "code",
        "colab": {}
      },
      "source": [
        "def rect_x_y(height, width):\n",
        "  k = np.random.random_sample(size=2)\n",
        "  start_x = np.int(27*k[0])\n",
        "  start_y = np.int(27*k[1])\n",
        "  rows = start_x + height \n",
        "  cols = start_y + width\n",
        "  return start_x, start_y, rows, cols"
      ],
      "execution_count": 4,
      "outputs": []
    },
    {
      "cell_type": "code",
      "metadata": {
        "id": "ppRAVxtJ5k4v",
        "colab_type": "code",
        "colab": {}
      },
      "source": [
        "def rect_random(size, color):\n",
        "  data = np.zeros((size, size), dtype = np.uint8)\n",
        "  # x1, y1, x2, y2 = 0, 0, 0, 0\n",
        "  x1, y1, x2, y2 = rect_x_y(4, 8)\n",
        "  # print([x1, y1, x2, y2 ])\n",
        "  while((x2 >=28)|(y2 >=28)):\n",
        "    x1, y1, x2, y2 = rect_x_y(4, 8)\n",
        "  # print([x1, y1, x2, y2 ])\n",
        "  data[x1:x2, y1:y2] = color\n",
        "  # img = im.fromarray(data)\n",
        "  return data.flatten()\n",
        "  # return img"
      ],
      "execution_count": 5,
      "outputs": []
    },
    {
      "cell_type": "code",
      "metadata": {
        "id": "ugQ2KdQh5nAh",
        "colab_type": "code",
        "colab": {}
      },
      "source": [
        "def triang_ran(size, color, diagonals = -1):\n",
        "  data = np.zeros((size, size), dtype = np.uint8)\n",
        "  # define a rectangle\n",
        "  start_x, start_y, rows, cols = rect_x_y(8, 8)\n",
        "  # print([start_x, start_y, rows, cols])\n",
        "  while((rows >=28)|(cols >=28)):\n",
        "    start_x, start_y, rows, cols = rect_x_y(8, 8)\n",
        "  # print([start_x, start_y, rows, cols])\n",
        "  data[start_x:rows, start_y:cols] = color\n",
        "  # return lower triangle of rectangle\n",
        "  data[start_x:rows, start_y:cols] = np.tril(data[start_x:rows, start_y:cols], diagonals)\n",
        "  # return upper half triangle of rectangle\n",
        "  # data[start_x:rows, start_y:cols] = np.triu(data[start_x:rows, start_y:cols], diagonals)\n",
        "  # img = im.fromarray(data)\n",
        "  # return img\n",
        "  return data.flatten()"
      ],
      "execution_count": 6,
      "outputs": []
    },
    {
      "cell_type": "code",
      "metadata": {
        "id": "ulhtg_YW5sjm",
        "colab_type": "code",
        "colab": {}
      },
      "source": [
        "def random_shape():\n",
        "  data = np.array([])\n",
        "  name = \"\"\n",
        "  prob = np.random.random_sample()\n",
        "  if(prob<= 0.33333333333333333):\n",
        "    data = create_circle_random(28, 5, 255)\n",
        "    name = \"C\"\n",
        "  elif((prob> 0.33333333333333333) & (prob<= 0.66666666666666666)):\n",
        "    data = rect_random(28, 255)\n",
        "    name = \"R\"\n",
        "  else:\n",
        "    data = triang_ran(28, 255)\n",
        "    name = 'T'\n",
        "  return data, name"
      ],
      "execution_count": 7,
      "outputs": []
    },
    {
      "cell_type": "code",
      "metadata": {
        "id": "pY5qyvVd5uuC",
        "colab_type": "code",
        "colab": {}
      },
      "source": [
        "def random_generate(size):\n",
        "  shape_vect = []\n",
        "  shape_name = []\n",
        "  for i in range(size):\n",
        "    s_vect, s_name = random_shape()\n",
        "    shape_vect.append(s_vect)\n",
        "    shape_name.append(s_name)\n",
        "  num_2d_shape = np.array(shape_vect).reshape(-1, 784)\n",
        "  return num_2d_shape, shape_name"
      ],
      "execution_count": 8,
      "outputs": []
    },
    {
      "cell_type": "code",
      "metadata": {
        "id": "oc0o0BJE5y6i",
        "colab_type": "code",
        "colab": {}
      },
      "source": [
        "train_shape, train_name =  random_generate(3000)\n",
        "test_shape, test_name =  random_generate(200)"
      ],
      "execution_count": 9,
      "outputs": []
    },
    {
      "cell_type": "markdown",
      "metadata": {
        "id": "GDr4tcRH6XPE",
        "colab_type": "text"
      },
      "source": [
        "Data transform"
      ]
    },
    {
      "cell_type": "code",
      "metadata": {
        "id": "NWj7K5yC6MiQ",
        "colab_type": "code",
        "colab": {}
      },
      "source": [
        "# so the max = 1, and min = 0\n",
        "train_shape_N = train_shape/255.0\n",
        "test_shape_N = test_shape/255.0"
      ],
      "execution_count": 10,
      "outputs": []
    },
    {
      "cell_type": "code",
      "metadata": {
        "id": "t57VZYCS7Fg1",
        "colab_type": "code",
        "colab": {}
      },
      "source": [
        "# Tensorflow expects a certain input shape for CNN\n",
        "# (<number of images>, <image x_dim>, <image y_dim>, <number of channels>)\n",
        "# gray-scale image has only 1 channel\n",
        "train_shape_R = train_shape_N.reshape(-1, 28, 28, 1)\n",
        "test_shape_R = test_shape_N.reshape(-1, 28, 28, 1)"
      ],
      "execution_count": 11,
      "outputs": []
    },
    {
      "cell_type": "markdown",
      "metadata": {
        "id": "HtCcHy4f7k29",
        "colab_type": "text"
      },
      "source": [
        "Label Encoding + one hot encoding the y variable"
      ]
    },
    {
      "cell_type": "code",
      "metadata": {
        "id": "bantDW497iGT",
        "colab_type": "code",
        "colab": {}
      },
      "source": [
        "# Mapping \n",
        "shape = ['C', \"T\", \"R\"]\n",
        "mapping = {}\n",
        "for x in range(len(shape)):\n",
        "  mapping[shape[x]] = x"
      ],
      "execution_count": 12,
      "outputs": []
    },
    {
      "cell_type": "code",
      "metadata": {
        "id": "RK4InMRG7vM_",
        "colab_type": "code",
        "colab": {}
      },
      "source": [
        "# Integer representation\n",
        "for x in range(len(train_name)):\n",
        "  train_name[x] = mapping[train_name[x]]"
      ],
      "execution_count": 13,
      "outputs": []
    },
    {
      "cell_type": "code",
      "metadata": {
        "id": "hLUNK24L7v0t",
        "colab_type": "code",
        "colab": {}
      },
      "source": [
        "for x in range(len(test_name)):\n",
        "  test_name[x] = mapping[test_name[x]]"
      ],
      "execution_count": 14,
      "outputs": []
    },
    {
      "cell_type": "code",
      "metadata": {
        "id": "4CAif7s77xd9",
        "colab_type": "code",
        "colab": {}
      },
      "source": [
        "# one hot encoding\n",
        "y = to_categorical(train_name)\n",
        "y_actual = to_categorical(test_name)"
      ],
      "execution_count": 15,
      "outputs": []
    },
    {
      "cell_type": "markdown",
      "metadata": {
        "id": "0RuiiWfo8CtW",
        "colab_type": "text"
      },
      "source": [
        "split training and validation set"
      ]
    },
    {
      "cell_type": "code",
      "metadata": {
        "id": "iLndjZYP8Gi9",
        "colab_type": "code",
        "colab": {}
      },
      "source": [
        "X_train, X_test, y_train, y_test = train_test_split(train_shape_R, y, test_size = 0.2, random_state = 0)"
      ],
      "execution_count": 16,
      "outputs": []
    },
    {
      "cell_type": "markdown",
      "metadata": {
        "id": "mxMOpOysCFGp",
        "colab_type": "text"
      },
      "source": [
        "Train validation preparation"
      ]
    },
    {
      "cell_type": "code",
      "metadata": {
        "id": "DpiYNxBwCJaQ",
        "colab_type": "code",
        "colab": {}
      },
      "source": [
        "batch_sizes = 64\n",
        "train_dataset = tf.data.Dataset.from_tensor_slices((X_train, y_train))\n",
        "train_dataset = train_dataset.shuffle(buffer_size=3000).batch(batch_sizes)\n",
        "val_dataset = tf.data.Dataset.from_tensor_slices((X_test, y_test))\n",
        "val_dataset = val_dataset.batch(batch_sizes)"
      ],
      "execution_count": 17,
      "outputs": []
    },
    {
      "cell_type": "markdown",
      "metadata": {
        "id": "5iRxA94c8QFD",
        "colab_type": "text"
      },
      "source": [
        "Define base model for convolutional neural network"
      ]
    },
    {
      "cell_type": "code",
      "metadata": {
        "id": "W4RHZQVo8azw",
        "colab_type": "code",
        "colab": {}
      },
      "source": [
        "inputs = keras.Input(shape = (28, 28, 1), name = 'shape')\n",
        "x1 = Conv2D(filters = 20, kernel_size= (3*3), strides=(1, 1), padding = \"valid\", activation='relu', \n",
        "            kernel_initializer='glorot_uniform', use_bias=True, bias_initializer='glorot_uniform', kernel_regularizer=None)(inputs)\n",
        "x2 = MaxPooling2D(pool_size=(2, 2), strides=None, padding='valid')(x1)\n",
        "x3 = Flatten()(x2)\n",
        "x4 = layers.Dense(10, activation = 'relu', kernel_initializer='glorot_uniform', use_bias=True, bias_initializer=\"glorot_uniform\", kernel_regularizer=None)(x3)\n",
        "outputs = layers.Dense(3, activation = 'softmax')(x4)\n",
        "model = keras.Model(inputs = inputs, outputs = outputs) "
      ],
      "execution_count": 33,
      "outputs": []
    },
    {
      "cell_type": "markdown",
      "metadata": {
        "id": "NGb3IrMSGTpm",
        "colab_type": "text"
      },
      "source": [
        "Base model explain\n",
        "1. Input $28*28 = 756$\n",
        "2. Convolution layer: Filter size = $3*3$, filter number = $20$, padding = valid (no padding), stride = $1$(center every element when possible)\n",
        "3. Convolution output = $26*26 * 20(filters)$: use formula\n",
        "$$ \\frac{n+2*p-f}{s} +1 $$ n = 28(dimension of input), p= 0 (no padding), f = 3 (filter size), s = 1 (stride)   \n",
        "4. Max pooling layers: Then use max pooling, which has kernel size = $2*2$, and default stride = kernel size.\n",
        "5. Max pooling output: $13*13 * 20(channels)$ \n",
        "6. Flattern output: $13*13*20 = 3380$ input neurons for fully connect network.\n",
        "\n",
        "Weight size:\n",
        "1. For convolution layer: $3*3 * 20(filters)$\n",
        "2. 20 biases for each filter matrix.\n",
        "3. Max pooling and flatten has no weight or bias to tune.\n",
        "3. For hidden layer: after flattern input have 3380 neurons and size of this hidden layer $ = 10$, so weight matrix would be $3380 * 10$ then plus a bias vector size = 10 \n",
        "4. For output layer: Last hidden layer has size of 10, and output layer has size of 3 ( Cycle, triange, rectangle), so the weight matrix is $10*3$ with a bias vector size = 3."
      ]
    },
    {
      "cell_type": "markdown",
      "metadata": {
        "id": "MORpFQs-CT6E",
        "colab_type": "text"
      },
      "source": [
        "Fitting model"
      ]
    },
    {
      "cell_type": "code",
      "metadata": {
        "id": "VCkMjK3pX7tV",
        "colab_type": "code",
        "colab": {}
      },
      "source": [
        "optimizer = keras.optimizers.Adam(learning_rate=1e-3)"
      ],
      "execution_count": 34,
      "outputs": []
    },
    {
      "cell_type": "code",
      "metadata": {
        "id": "r35qydk1Cava",
        "colab_type": "code",
        "colab": {}
      },
      "source": [
        "@tf.function\n",
        "def train_step(x, y):\n",
        "  with tf.GradientTape() as tape:\n",
        "      logits = model(x, training = True)\n",
        "      # loss_value = tf.reduce_mean(tf.nn.softmax_cross_entropy_with_logits(logits= logits, labels = y))  \n",
        "      loss_value = tf.reduce_mean(tf.keras.losses.categorical_crossentropy(y, logits)) \n",
        "      # print(loss_value)\n",
        "  grads = tape.gradient(loss_value, model.trainable_weights)  \n",
        "  # print(grads)  \n",
        "  optimizer.apply_gradients(zip(grads, model.trainable_weights))\n",
        "  correct_pred = tf.equal(tf.argmax(logits, 1), tf.argmax(y, 1))\n",
        "  train_acc = tf.reduce_mean(tf.cast(correct_pred, tf.float32))\n",
        "  return loss_value, train_acc"
      ],
      "execution_count": 37,
      "outputs": []
    },
    {
      "cell_type": "code",
      "metadata": {
        "id": "LtFUqqotCbzT",
        "colab_type": "code",
        "colab": {}
      },
      "source": [
        "@tf.function\n",
        "def test_step(x, y):\n",
        "  val_logits = model(x, training = False)\n",
        "  # val_loss_value = tf.reduce_mean(tf.nn.softmax_cross_entropy_with_logits(logits= val_logits, labels = y))\n",
        "  val_loss_value = tf.reduce_mean(tf.keras.losses.categorical_crossentropy(y, val_logits)) \n",
        "  val_correct_pred = tf.equal(tf.argmax(val_logits, 1), tf.argmax(y, 1)) # if they are equal\n",
        "  val_accuracy = tf.reduce_mean(tf.cast(val_correct_pred, tf.float32))\n",
        "  return val_loss_value, val_accuracy"
      ],
      "execution_count": 36,
      "outputs": []
    },
    {
      "cell_type": "code",
      "metadata": {
        "id": "TS1_1lwVCfHk",
        "colab_type": "code",
        "colab": {}
      },
      "source": [
        "epochs = 10\n",
        "inputs = keras.Input(shape = (28, 28, 1), name = 'shape')\n",
        "x1 = Conv2D(filters = 20, kernel_size= (3*3), strides=(1, 1), padding = \"valid\", activation='relu', \n",
        "            kernel_initializer='glorot_uniform', use_bias=True, bias_initializer='glorot_uniform', kernel_regularizer=None)(inputs)\n",
        "x2 = MaxPooling2D(pool_size=(2, 2), strides=None, padding='valid')(x1)\n",
        "x3 = Flatten()(x2)\n",
        "x4 = layers.Dense(10, activation = 'relu', kernel_initializer='glorot_uniform', use_bias=True, bias_initializer=\"glorot_uniform\", kernel_regularizer=None)(x3)\n",
        "outputs = layers.Dense(3, activation = 'softmax')(x4)\n",
        "model = keras.Model(inputs = inputs, outputs = outputs) \n",
        "\n",
        "train_loss = []\n",
        "test_loss = []\n",
        "train_accuracy = []\n",
        "test_accuracy = []\n",
        "for epoch in range(epochs):\n",
        "  print(\"\\n==============start of epoch %d\" %(epoch,))\n",
        "  for step, (x_batch_train, y_batch_train) in enumerate(train_dataset):\n",
        "    loss_value, train_acc = train_step(x_batch_train, y_batch_train)\n",
        "    \n",
        "    if step % 4 ==0:\n",
        "      print(\n",
        "          \"Training loss (for one batch) at step %d: %.4f\"\n",
        "           %(step, float(loss_value))\n",
        "      )\n",
        "      print(\"Seen so far: %s samples\" % ((step+1)*100))\n",
        "\n",
        "  for x_batch_val, y_batch_val in val_dataset:\n",
        "    val_loss, val_accuracy = test_step(x_batch_val, y_batch_val)\n",
        "  print(\"validation acc: %.4f\" %(float(val_accuracy),))\n",
        "  train_loss.append(loss_value)\n",
        "  test_loss.append(val_loss)\n",
        "  train_accuracy.append(train_acc)\n",
        "  test_accuracy.append(val_accuracy)"
      ],
      "execution_count": null,
      "outputs": []
    },
    {
      "cell_type": "code",
      "metadata": {
        "id": "Vw0W2jFYTufU",
        "colab_type": "code",
        "colab": {}
      },
      "source": [
        "def loss_accuracy(train_loss, test_loss, train_accuracy, test_accuracy, title):\n",
        "  fig, ax = plt.subplots(2, 1, figsize = (12, 10))\n",
        "  plt.title(title)\n",
        "  ax[0].plot(train_loss, color = 'b', label = \"Training loss\")\n",
        "  ax[0].plot(test_loss, color = 'r', label = 'validation loss', axes = ax[0])\n",
        "  legend = ax[0].legend(loc = 'best', shadow = True)\n",
        "  ax[1].plot(train_accuracy, color = 'b', label = 'Training accuracy')\n",
        "  ax[1].plot( test_accuracy, color = 'r', label = 'validation accuracy')\n",
        "  ax[1].set_xlabel(\"Epoch\")\n",
        "  legend = ax[1].legend(loc = 'best', shadow = True)\n",
        "  plt.show()"
      ],
      "execution_count": 39,
      "outputs": []
    },
    {
      "cell_type": "code",
      "metadata": {
        "id": "ig3riwFiVHrC",
        "colab_type": "code",
        "colab": {}
      },
      "source": [
        "loss_accuracy(train_loss, test_loss, train_accuracy, test_accuracy, title = 'baseline')"
      ],
      "execution_count": null,
      "outputs": []
    },
    {
      "cell_type": "markdown",
      "metadata": {
        "id": "Hh0r_1EyTVJs",
        "colab_type": "text"
      },
      "source": [
        "Using 10 epochs, we can see the training accuracy is getting better as epoch increase but test accuracy is not, sign of overfitting."
      ]
    },
    {
      "cell_type": "code",
      "metadata": {
        "id": "oZO7jRkbXQZX",
        "colab_type": "code",
        "colab": {
          "base_uri": "https://localhost:8080/",
          "height": 225
        },
        "outputId": "d1ad42f3-e560-4322-919c-02f83a7510e6"
      },
      "source": [
        "fig = plt.figure(figsize=(3, 3))\n",
        "y_pred = model.predict(test_shape_R)\n",
        "Y_pred = np.argmax(y_pred, 1)\n",
        "Y_test = np.argmax(y_actual, 1)\n",
        "\n",
        "mat = confusion_matrix(Y_test, Y_pred)\n",
        "\n",
        "sns.heatmap(mat.T, square=True, annot=True, cbar= False, cmap=plt.cm.Blues)\n",
        "plt.xlabel('Predicted Values')\n",
        "plt.ylabel('True Values')\n",
        "plt.show()"
      ],
      "execution_count": 46,
      "outputs": [
        {
          "output_type": "display_data",
          "data": {
            "image/png": "[encoded data removed]",
            "text/plain": [
              "<Figure size 216x216 with 1 Axes>"
            ]
          },
          "metadata": {
            "tags": [],
            "needs_background": "light"
          }
        }
      ]
    },
    {
      "cell_type": "code",
      "metadata": {
        "id": "nWtSzIZWZe8W",
        "colab_type": "code",
        "colab": {
          "base_uri": "https://localhost:8080/",
          "height": 35
        },
        "outputId": "710a0cd3-5335-4605-91fa-c3341e46de31"
      },
      "source": [
        "mapping"
      ],
      "execution_count": 86,
      "outputs": [
        {
          "output_type": "execute_result",
          "data": {
            "text/plain": [
              "{'C': 0, 'R': 2, 'T': 1}"
            ]
          },
          "metadata": {
            "tags": []
          },
          "execution_count": 86
        }
      ]
    },
    {
      "cell_type": "code",
      "metadata": {
        "id": "i9jcIWhUZgyw",
        "colab_type": "code",
        "colab": {
          "base_uri": "https://localhost:8080/",
          "height": 820
        },
        "outputId": "ae4adc25-b696-442e-b4cd-8c9f90230806"
      },
      "source": [
        "y_pred = model.predict(test_shape_R)\n",
        "X_test__ = test_shape_R.reshape(test_shape_R.shape[0], 28, 28)\n",
        "\n",
        "fig, axis = plt.subplots(4, 4, figsize = (12, 14))\n",
        "for i, ax in enumerate(axis.flat):\n",
        "  ax.imshow(X_test__[i], cmap = 'binary')\n",
        "  ax.set(title = f'Real Number is {y_actual[i].argmax()}\\n Predict Number is {y_pred[i].argmax()}')"
      ],
      "execution_count": 88,
      "outputs": [
        {
          "output_type": "display_data",
          "data": {
            "image/png": "[encoded data removed]",
            "text/plain": [
              "<Figure size 864x1008 with 16 Axes>"
            ]
          },
          "metadata": {
            "tags": [],
            "needs_background": "light"
          }
        }
      ]
    },
    {
      "cell_type": "markdown",
      "metadata": {
        "id": "Kt0I9o5ebQxw",
        "colab_type": "text"
      },
      "source": [
        "Tuning number of epochs "
      ]
    },
    {
      "cell_type": "code",
      "metadata": {
        "id": "EfHI7nHhaXlP",
        "colab_type": "code",
        "colab": {}
      },
      "source": [
        "epochs = 100\n",
        "inputs = keras.Input(shape = (28, 28, 1), name = 'shape')\n",
        "x1 = Conv2D(filters = 20, kernel_size= (3*3), strides=(1, 1), padding = \"valid\", activation='relu', \n",
        "            kernel_initializer='glorot_uniform', use_bias=True, bias_initializer='glorot_uniform', kernel_regularizer=None)(inputs)\n",
        "x2 = MaxPooling2D(pool_size=(2, 2), strides=None, padding='valid')(x1)\n",
        "x3 = Flatten()(x2)\n",
        "x4 = layers.Dense(10, activation = 'relu', kernel_initializer='glorot_uniform', use_bias=True, bias_initializer=\"glorot_uniform\", kernel_regularizer=None)(x3)\n",
        "outputs = layers.Dense(3, activation = 'softmax')(x4)\n",
        "model = keras.Model(inputs = inputs, outputs = outputs) \n",
        "\n",
        "train_loss = []\n",
        "test_loss = []\n",
        "train_accuracy = []\n",
        "test_accuracy = []\n",
        "for epoch in range(epochs):\n",
        "  print(\"\\n==============start of epoch %d\" %(epoch,))\n",
        "  for step, (x_batch_train, y_batch_train) in enumerate(train_dataset):\n",
        "    with tf.GradientTape() as tape:\n",
        "      logits = model(x_batch_train, training = True)\n",
        "      # loss_value = tf.reduce_mean(tf.nn.softmax_cross_entropy_with_logits(logits= logits, labels = y))  \n",
        "      loss_value = tf.reduce_mean(tf.keras.losses.categorical_crossentropy(y_batch_train, logits)) \n",
        "      # print(loss_value)\n",
        "    grads = tape.gradient(loss_value, model.trainable_weights)  \n",
        "    # print(grads)  \n",
        "    optimizer.apply_gradients(zip(grads, model.trainable_weights))\n",
        "    correct_pred = tf.equal(tf.argmax(logits, 1), tf.argmax(y_batch_train, 1))\n",
        "    train_acc = tf.reduce_mean(tf.cast(correct_pred, tf.float32))\n",
        "    \n",
        "    if step % 4 ==0:\n",
        "      print(\n",
        "          \"Training loss (for one batch) at step %d: %.4f\"\n",
        "           %(step, float(loss_value))\n",
        "      )\n",
        "      print(\"Seen so far: %s samples\" % ((step+1)*batch_sizes))\n",
        "\n",
        "  for x_batch_val, y_batch_val in val_dataset:\n",
        "    val_logits = model(x_batch_val, training = False)\n",
        "  # val_loss_value = tf.reduce_mean(tf.nn.softmax_cross_entropy_with_logits(logits= val_logits, labels = y))\n",
        "    val_loss_value = tf.reduce_mean(tf.keras.losses.categorical_crossentropy(y_batch_val, val_logits)) \n",
        "    val_correct_pred = tf.equal(tf.argmax(val_logits, 1), tf.argmax(y_batch_val, 1)) # if they are equal\n",
        "    val_accuracy = tf.reduce_mean(tf.cast(val_correct_pred, tf.float32))\n",
        "  print(\"validation acc: %.4f\" %(float(val_accuracy),))\n",
        "  train_loss.append(loss_value)\n",
        "  test_loss.append(val_loss)\n",
        "  train_accuracy.append(train_acc)\n",
        "  test_accuracy.append(val_accuracy)"
      ],
      "execution_count": null,
      "outputs": []
    },
    {
      "cell_type": "code",
      "metadata": {
        "id": "-mnzJetMfCBC",
        "colab_type": "code",
        "colab": {
          "base_uri": "https://localhost:8080/",
          "height": 606
        },
        "outputId": "0e8fa44e-c0b6-420b-fd68-d2ee566b86de"
      },
      "source": [
        "loss_accuracy(train_loss, test_loss, train_accuracy, test_accuracy, title = '100 epochs')"
      ],
      "execution_count": 48,
      "outputs": [
        {
          "output_type": "display_data",
          "data": {
            "image/png": "[encoded data removed]",
            "text/plain": [
              "<Figure size 864x720 with 2 Axes>"
            ]
          },
          "metadata": {
            "tags": [],
            "needs_background": "light"
          }
        }
      ]
    },
    {
      "cell_type": "markdown",
      "metadata": {
        "id": "s2SpIQWcfKru",
        "colab_type": "text"
      },
      "source": [
        "Colcusion: as we can see, we dont need 100 epochs, accuracy for training and validation reaches to 1 within 20 epochs so use epoch = 20"
      ]
    },
    {
      "cell_type": "markdown",
      "metadata": {
        "id": "3NYLT_31tip6",
        "colab_type": "text"
      },
      "source": [
        "#### Tuning minibatch\n",
        "- (10, 30, 50, 70, 100, 200, 500)"
      ]
    },
    {
      "cell_type": "code",
      "metadata": {
        "id": "Crn21Q69fJq3",
        "colab_type": "code",
        "colab": {}
      },
      "source": [
        "epochs = 20\n",
        "train_loss_sum = []\n",
        "test_loss_sum = []\n",
        "train_accuracy_sum = []\n",
        "test_accuracy_sum = []\n",
        "for batchSize in (10, 30, 50, 70, 100, 200, 500):\n",
        "  batch_sizes = batchSize\n",
        "  train_dataset = tf.data.Dataset.from_tensor_slices((X_train, y_train))\n",
        "  train_dataset = train_dataset.shuffle(buffer_size=3000).batch(batch_sizes)\n",
        "  val_dataset = tf.data.Dataset.from_tensor_slices((X_test, y_test))\n",
        "  val_dataset = val_dataset.batch(batch_sizes)\n",
        "\n",
        "  inputs = keras.Input(shape = (28, 28, 1), name = 'shape')\n",
        "  x1 = Conv2D(filters = 20, kernel_size= (3*3), strides=(1, 1), padding = \"valid\", activation='relu', \n",
        "              kernel_initializer='glorot_uniform', use_bias=True, bias_initializer='glorot_uniform', kernel_regularizer=None)(inputs)\n",
        "  x2 = MaxPooling2D(pool_size=(2, 2), strides=None, padding='valid')(x1)\n",
        "  x3 = Flatten()(x2)\n",
        "  x4 = layers.Dense(10, activation = 'relu', kernel_initializer='glorot_uniform', use_bias=True, bias_initializer=\"glorot_uniform\", kernel_regularizer=None)(x3)\n",
        "  outputs = layers.Dense(3, activation = 'softmax')(x4)\n",
        "  model = keras.Model(inputs = inputs, outputs = outputs) \n",
        "\n",
        "  train_loss = []\n",
        "  test_loss = []\n",
        "  train_accuracy = []\n",
        "  test_accuracy = []\n",
        "  for epoch in range(epochs):\n",
        "    print(\"\\n==============start of epoch %d\" %(epoch,))\n",
        "    for step, (x_batch_train, y_batch_train) in enumerate(train_dataset):\n",
        "      with tf.GradientTape() as tape:\n",
        "        logits = model(x_batch_train, training = True)\n",
        "        # loss_value = tf.reduce_mean(tf.nn.softmax_cross_entropy_with_logits(logits= logits, labels = y))  \n",
        "        loss_value = tf.reduce_mean(tf.keras.losses.categorical_crossentropy(y_batch_train, logits)) \n",
        "        # print(loss_value)\n",
        "      grads = tape.gradient(loss_value, model.trainable_weights)  \n",
        "      # print(grads)  \n",
        "      optimizer.apply_gradients(zip(grads, model.trainable_weights))\n",
        "      correct_pred = tf.equal(tf.argmax(logits, 1), tf.argmax(y_batch_train, 1))\n",
        "      train_acc = tf.reduce_mean(tf.cast(correct_pred, tf.float32))\n",
        "\n",
        "    for x_batch_val, y_batch_val in val_dataset:\n",
        "      val_logits = model(x_batch_val, training = False)\n",
        "    # val_loss_value = tf.reduce_mean(tf.nn.softmax_cross_entropy_with_logits(logits= val_logits, labels = y))\n",
        "      val_loss_value = tf.reduce_mean(tf.keras.losses.categorical_crossentropy(y_batch_val, val_logits)) \n",
        "      val_correct_pred = tf.equal(tf.argmax(val_logits, 1), tf.argmax(y_batch_val, 1)) # if they are equal\n",
        "      val_accuracy = tf.reduce_mean(tf.cast(val_correct_pred, tf.float32))\n",
        "    train_loss.append(loss_value)\n",
        "    test_loss.append(val_loss)\n",
        "    train_accuracy.append(train_acc)\n",
        "    test_accuracy.append(val_accuracy)\n",
        "  train_loss_sum.append(train_loss)\n",
        "  test_loss_sum.append(test_loss)\n",
        "  train_accuracy_sum.append(train_accuracy)\n",
        "  test_accuracy_sum.append(test_accuracy)\n",
        "  "
      ],
      "execution_count": null,
      "outputs": []
    },
    {
      "cell_type": "code",
      "metadata": {
        "id": "mvrXbCMzx8sD",
        "colab_type": "code",
        "colab": {
          "base_uri": "https://localhost:8080/",
          "height": 299
        },
        "outputId": "66a561ee-032d-47aa-fe6f-9d593faf6cba"
      },
      "source": [
        "for i in range(len(train_loss_sum)):\n",
        "  plt.title('grid tuning mini-batch Training loss')\n",
        "  plt.plot(train_loss_sum[i], label = (10, 30, 50, 70, 100, 200, 500)[i])\n",
        "plt.legend()\n",
        "plt.figure()\n",
        "plt.show()"
      ],
      "execution_count": 73,
      "outputs": [
        {
          "output_type": "display_data",
          "data": {
            "image/png": "[encoded data removed]",
            "text/plain": [
              "<Figure size 432x288 with 1 Axes>"
            ]
          },
          "metadata": {
            "tags": [],
            "needs_background": "light"
          }
        },
        {
          "output_type": "display_data",
          "data": {
            "text/plain": [
              "<Figure size 432x288 with 0 Axes>"
            ]
          },
          "metadata": {
            "tags": []
          }
        }
      ]
    },
    {
      "cell_type": "code",
      "metadata": {
        "id": "nyxyDtuf0LFl",
        "colab_type": "code",
        "colab": {
          "base_uri": "https://localhost:8080/",
          "height": 299
        },
        "outputId": "2e464af7-5912-4473-fd59-e18ee67a2936"
      },
      "source": [
        "for i in range(len(test_accuracy_sum)):\n",
        "  plt.title('grid tune mini-batch validation accuracy')\n",
        "  plt.plot(test_accuracy_sum[i], label = (10, 30, 50, 70, 100, 200, 500)[i])\n",
        "plt.legend()\n",
        "plt.figure()\n",
        "plt.show()"
      ],
      "execution_count": 74,
      "outputs": [
        {
          "output_type": "display_data",
          "data": {
            "image/png": "[encoded data removed]",
            "text/plain": [
              "<Figure size 432x288 with 1 Axes>"
            ]
          },
          "metadata": {
            "tags": [],
            "needs_background": "light"
          }
        },
        {
          "output_type": "display_data",
          "data": {
            "text/plain": [
              "<Figure size 432x288 with 0 Axes>"
            ]
          },
          "metadata": {
            "tags": []
          }
        }
      ]
    },
    {
      "cell_type": "markdown",
      "metadata": {
        "id": "9U-kxttG2MON",
        "colab_type": "text"
      },
      "source": [
        "Conclusion mini-batch tuning\n",
        "- batch-size between 30 - 50 has better than larger batch size.\n",
        "- Will choose 50, too small is not taking benefit from the acceleration algorithm, too large network is not update the weights often enough."
      ]
    },
    {
      "cell_type": "markdown",
      "metadata": {
        "id": "zNhLecMi3bh-",
        "colab_type": "text"
      },
      "source": [
        ""
      ]
    },
    {
      "cell_type": "code",
      "metadata": {
        "id": "y1W2JwD81Ov_",
        "colab_type": "code",
        "colab": {}
      },
      "source": [
        ""
      ],
      "execution_count": null,
      "outputs": []
    }
  ]
}