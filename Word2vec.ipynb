{
  "nbformat": 4,
  "nbformat_minor": 0,
  "metadata": {
    "colab": {
      "name": "Word2vec.ipynb",
      "provenance": [],
      "include_colab_link": true
    },
    "kernelspec": {
      "name": "python3",
      "display_name": "Python 3"
    }
  },
  "cells": [
    {
      "cell_type": "markdown",
      "metadata": {
        "id": "view-in-github",
        "colab_type": "text"
      },
      "source": [
        "<a href=\"https://colab.research.google.com/github/wdon021/From_Colab/blob/master/Word2vec.ipynb\" target=\"_parent\"><img src=\"https://colab.research.google.com/assets/colab-badge.svg\" alt=\"Open In Colab\"/></a>"
      ]
    },
    {
      "cell_type": "code",
      "metadata": {
        "id": "Ees6X_Gje63e",
        "colab_type": "code",
        "outputId": "276372c7-c325-4b4d-97c8-f658f49f344b",
        "colab": {
          "base_uri": "https://localhost:8080/",
          "height": 34
        }
      },
      "source": [
        "from google.colab import drive\n",
        "drive.mount('/content/gdrive/')"
      ],
      "execution_count": 2,
      "outputs": [
        {
          "output_type": "stream",
          "text": [
            "Drive already mounted at /content/gdrive/; to attempt to forcibly remount, call drive.mount(\"/content/gdrive/\", force_remount=True).\n"
          ],
          "name": "stdout"
        }
      ]
    },
    {
      "cell_type": "code",
      "metadata": {
        "id": "Oucrt1Q0fpic",
        "colab_type": "code",
        "colab": {}
      },
      "source": [
        "PATH = \"/content/gdrive/My Drive/Fastai/\"\n",
        "import pandas as pd\n",
        "h1b_raw = pd.read_csv(f'{PATH}H-1B_Disclosure_RAW_Data_FY18.csv', delimiter=',', engine='python')"
      ],
      "execution_count": 0,
      "outputs": []
    },
    {
      "cell_type": "code",
      "metadata": {
        "id": "8YysAuZArWR4",
        "colab_type": "code",
        "colab": {}
      },
      "source": [
        "import re"
      ],
      "execution_count": 0,
      "outputs": []
    },
    {
      "cell_type": "code",
      "metadata": {
        "id": "VfmqEBVAnMhT",
        "colab_type": "code",
        "colab": {}
      },
      "source": [
        "def removeAllPunctuations(g):\n",
        "  g = g.str.replace(\".\", \" \")\n",
        "  g= g.str.replace(\",\",\" \")\n",
        "  g= g.str.replace(\"'\",\"\")\n",
        "  g= g.str.replace(\"-\",\" \")\n",
        "  g= g.str.replace(\"/\",\" \")\n",
        "  g= g.str.replace(\":\",\" \")\n",
        "  g= g.str.replace(\";\",\" \")\n",
        "  g= g.str.replace('\"',\"\")\n",
        "  g= g.str.replace(\"*\",\"\")\n",
        "  g= g.str.replace(\"?\",\" \")\n",
        "  g= g.str.replace(\"&\",\" and \")\n",
        "  g= g.str.replace(\"+\",\" \")\n",
        "  g= g.str.replace(\"[\",\" \")\n",
        "  g= g.str.replace(\"]\",\" \")\n",
        "  g= g.str.replace(\"(\",\" \")\n",
        "  g= g.str.replace(\")\",\" \")\n",
        "  g= g.str.replace(\"<\",\" \")\n",
        "  g= g.str.replace(\">\",\" \")\n",
        "  g= g.str.replace(\"=\",\" \")\n",
        "  g= g.str.replace(\",\",\" \")\n",
        "  g= g.str.replace(\"{\",\" \")\n",
        "  g= g.str.replace(\"}\",\" \")  \n",
        "  # g= re.sub( '\\s+', ' ', g ).strip()\n",
        "  return g"
      ],
      "execution_count": 0,
      "outputs": []
    },
    {
      "cell_type": "code",
      "metadata": {
        "id": "_b5mwTCgrBmF",
        "colab_type": "code",
        "colab": {}
      },
      "source": [
        "# h1b_raw['JOB_TITLE'] = removeAllPunctuations(h1b_raw['JOB_TITLE'])"
      ],
      "execution_count": 0,
      "outputs": []
    },
    {
      "cell_type": "code",
      "metadata": {
        "id": "C5rDjCBMuDK0",
        "colab_type": "code",
        "colab": {}
      },
      "source": [
        "job = list(h1b_raw['JOB_TITLE'].str.lower().astype('category').cat.categories)"
      ],
      "execution_count": 0,
      "outputs": []
    },
    {
      "cell_type": "code",
      "metadata": {
        "id": "nVvxwj3Vs7v0",
        "colab_type": "code",
        "colab": {}
      },
      "source": [
        "from gensim.models.doc2vec import Doc2Vec, TaggedDocument\n",
        "from nltk.tokenize import word_tokenize"
      ],
      "execution_count": 0,
      "outputs": []
    },
    {
      "cell_type": "code",
      "metadata": {
        "id": "yoEUumXSiqwP",
        "colab_type": "code",
        "colab": {}
      },
      "source": [
        "from nltk import word_tokenize"
      ],
      "execution_count": 0,
      "outputs": []
    },
    {
      "cell_type": "code",
      "metadata": {
        "id": "iDqwossywXke",
        "colab_type": "code",
        "colab": {}
      },
      "source": [
        "import nltk"
      ],
      "execution_count": 0,
      "outputs": []
    },
    {
      "cell_type": "code",
      "metadata": {
        "id": "D49iQ3I-wWDA",
        "colab_type": "code",
        "outputId": "e725fbe4-8348-4876-a4fb-645b02fe2106",
        "colab": {
          "base_uri": "https://localhost:8080/",
          "height": 68
        }
      },
      "source": [
        "nltk.download('punkt')"
      ],
      "execution_count": 11,
      "outputs": [
        {
          "output_type": "stream",
          "text": [
            "[nltk_data] Downloading package punkt to /root/nltk_data...\n",
            "[nltk_data]   Unzipping tokenizers/punkt.zip.\n"
          ],
          "name": "stdout"
        },
        {
          "output_type": "execute_result",
          "data": {
            "text/plain": [
              "True"
            ]
          },
          "metadata": {
            "tags": []
          },
          "execution_count": 11
        }
      ]
    },
    {
      "cell_type": "code",
      "metadata": {
        "id": "wnRYduhay88f",
        "colab_type": "code",
        "colab": {}
      },
      "source": [
        "from gensim.models import word2vec, Phrases"
      ],
      "execution_count": 0,
      "outputs": []
    },
    {
      "cell_type": "code",
      "metadata": {
        "id": "K8ljYFKkft3G",
        "colab_type": "code",
        "colab": {}
      },
      "source": [
        "tagged_data = [TaggedDocument(words=word_tokenize(_d.lower()), tags=[str(i)]) for i, _d in enumerate(job)]"
      ],
      "execution_count": 0,
      "outputs": []
    },
    {
      "cell_type": "code",
      "metadata": {
        "id": "6t8AJycnf91F",
        "colab_type": "code",
        "colab": {}
      },
      "source": [
        "max_epochs = 200\n",
        "vec_size = 120\n",
        "alpha = 0.025"
      ],
      "execution_count": 0,
      "outputs": []
    },
    {
      "cell_type": "code",
      "metadata": {
        "id": "e5ty-TQOgH83",
        "colab_type": "code",
        "outputId": "d766c72c-7520-4e4a-ed1a-8e74bc87ee1a",
        "colab": {
          "base_uri": "https://localhost:8080/",
          "height": 51
        }
      },
      "source": [
        "model = Doc2Vec(size=vec_size,\n",
        "                alpha=alpha,\n",
        "                min_alpha=0.00025,\n",
        "                min_count=1,\n",
        "                dm=0) # 1 preseres the word order, 0 doesn't preserve any word order"
      ],
      "execution_count": 21,
      "outputs": [
        {
          "output_type": "stream",
          "text": [
            "/usr/local/lib/python3.6/dist-packages/gensim/models/doc2vec.py:570: UserWarning: The parameter `size` is deprecated, will be removed in 4.0.0, use `vector_size` instead.\n",
            "  warnings.warn(\"The parameter `size` is deprecated, will be removed in 4.0.0, use `vector_size` instead.\")\n"
          ],
          "name": "stderr"
        }
      ]
    },
    {
      "cell_type": "code",
      "metadata": {
        "id": "VHmbjFJvgaF6",
        "colab_type": "code",
        "colab": {}
      },
      "source": [
        "model.build_vocab(tagged_data)"
      ],
      "execution_count": 0,
      "outputs": []
    },
    {
      "cell_type": "code",
      "metadata": {
        "id": "L8_p54kRgq2u",
        "colab_type": "code",
        "outputId": "57b011a1-8d13-48c4-dfff-1f22ac337766",
        "colab": {
          "base_uri": "https://localhost:8080/",
          "height": 306
        }
      },
      "source": [
        "for epoch in range(max_epochs):\n",
        "  print('iteration {0}'.format(epoch))\n",
        "  model.train(tagged_data,\n",
        "              total_examples=model.corpus_count,\n",
        "              epochs=model.iter)\n",
        "  # decrease the learning rate\n",
        "  model.alpha -= 0.0002\n",
        "  \n",
        "model.save(f'{PATH}doc_100_no_clean.model')\n",
        "print(\"model Saved\")"
      ],
      "execution_count": 0,
      "outputs": [
        {
          "output_type": "stream",
          "text": [
            "iteration 0\n"
          ],
          "name": "stdout"
        },
        {
          "output_type": "stream",
          "text": [
            "/usr/local/lib/python3.6/dist-packages/ipykernel_launcher.py:5: DeprecationWarning: Call to deprecated `iter` (Attribute will be removed in 4.0.0, use self.epochs instead).\n",
            "  \"\"\"\n"
          ],
          "name": "stderr"
        },
        {
          "output_type": "stream",
          "text": [
            "iteration 1\n",
            "iteration 2\n",
            "iteration 3\n",
            "iteration 4\n",
            "iteration 5\n",
            "iteration 6\n",
            "iteration 7\n",
            "iteration 8\n",
            "iteration 9\n",
            "iteration 10\n",
            "iteration 11\n",
            "iteration 12\n",
            "iteration 13\n",
            "iteration 14\n"
          ],
          "name": "stdout"
        }
      ]
    },
    {
      "cell_type": "code",
      "metadata": {
        "id": "PCvuS33gxN_W",
        "colab_type": "code",
        "outputId": "109312cf-4c2e-4079-cda6-0c04c9d9b925",
        "colab": {
          "base_uri": "https://localhost:8080/",
          "height": 71
        }
      },
      "source": [
        "model = Doc2Vec.load(f'{PATH}doc_100.model')"
      ],
      "execution_count": 16,
      "outputs": [
        {
          "output_type": "stream",
          "text": [
            "/usr/local/lib/python3.6/dist-packages/smart_open/smart_open_lib.py:402: UserWarning: This function is deprecated, use smart_open.open instead. See the migration notes for details: https://github.com/RaRe-Technologies/smart_open/blob/master/README.rst#migrating-to-the-new-open-function\n",
            "  'See the migration notes for details: %s' % _MIGRATION_NOTES_URL\n"
          ],
          "name": "stderr"
        }
      ]
    },
    {
      "cell_type": "code",
      "metadata": {
        "id": "rikPCfwxkFp1",
        "colab_type": "code",
        "colab": {}
      },
      "source": [
        "job_vec = list()"
      ],
      "execution_count": 0,
      "outputs": []
    },
    {
      "cell_type": "code",
      "metadata": {
        "id": "dxSZzKLGitv4",
        "colab_type": "code",
        "colab": {}
      },
      "source": [
        "for jobvec in range(0, len(job)):\n",
        "  job_vec.append(model.docvecs[jobvec])"
      ],
      "execution_count": 0,
      "outputs": []
    },
    {
      "cell_type": "code",
      "metadata": {
        "id": "glftRHsXmaMD",
        "colab_type": "code",
        "colab": {}
      },
      "source": [
        "doc2vector = pd.DataFrame(job_vec, index= job)"
      ],
      "execution_count": 0,
      "outputs": []
    },
    {
      "cell_type": "code",
      "metadata": {
        "id": "FU1v_bjangQh",
        "colab_type": "code",
        "outputId": "80f4ded4-7f8d-469c-c1bd-5be16a1ab548",
        "colab": {
          "base_uri": "https://localhost:8080/",
          "height": 34
        }
      },
      "source": [
        "doc2vector.shape"
      ],
      "execution_count": 20,
      "outputs": [
        {
          "output_type": "execute_result",
          "data": {
            "text/plain": [
              "(104574, 100)"
            ]
          },
          "metadata": {
            "tags": []
          },
          "execution_count": 20
        }
      ]
    },
    {
      "cell_type": "code",
      "metadata": {
        "id": "wPEZFSO6w9LM",
        "colab_type": "code",
        "outputId": "a751b961-1429-4ad1-ab2b-3dc6e0a063cf",
        "colab": {
          "base_uri": "https://localhost:8080/",
          "height": 340
        }
      },
      "source": [
        "!pip install hdbscan"
      ],
      "execution_count": 21,
      "outputs": [
        {
          "output_type": "stream",
          "text": [
            "Collecting hdbscan\n",
            "\u001b[?25l  Downloading https://files.pythonhosted.org/packages/18/35/a117860dd7f38eb1a77e4e30ac69a63c45c5a6356f503874fbe80fc464b7/hdbscan-0.8.23.tar.gz (4.9MB)\n",
            "\u001b[K     |████████████████████████████████| 4.9MB 5.1MB/s \n",
            "\u001b[?25h  Installing build dependencies ... \u001b[?25l\u001b[?25hdone\n",
            "  Getting requirements to build wheel ... \u001b[?25l\u001b[?25hdone\n",
            "    Preparing wheel metadata ... \u001b[?25l\u001b[?25hdone\n",
            "Requirement already satisfied: joblib in /usr/local/lib/python3.6/dist-packages (from hdbscan) (0.14.0)\n",
            "Requirement already satisfied: scipy>=0.9 in /usr/local/lib/python3.6/dist-packages (from hdbscan) (1.3.3)\n",
            "Requirement already satisfied: scikit-learn>=0.17 in /usr/local/lib/python3.6/dist-packages (from hdbscan) (0.21.3)\n",
            "Requirement already satisfied: six in /usr/local/lib/python3.6/dist-packages (from hdbscan) (1.12.0)\n",
            "Requirement already satisfied: cython>=0.27 in /usr/local/lib/python3.6/dist-packages (from hdbscan) (0.29.14)\n",
            "Requirement already satisfied: numpy>=1.16.0 in /usr/local/lib/python3.6/dist-packages (from hdbscan) (1.17.4)\n",
            "Building wheels for collected packages: hdbscan\n",
            "  Building wheel for hdbscan (PEP 517) ... \u001b[?25l\u001b[?25hdone\n",
            "  Created wheel for hdbscan: filename=hdbscan-0.8.23-cp36-cp36m-linux_x86_64.whl size=2332189 sha256=8db9420f9186573814354c9436616726643885d1d70c1e05d873aaf09cc6f497\n",
            "  Stored in directory: /root/.cache/pip/wheels/1e/2a/69/0cdd5414624312666718f7526b0ab39cad65cea1c1b3892768\n",
            "Successfully built hdbscan\n",
            "Installing collected packages: hdbscan\n",
            "Successfully installed hdbscan-0.8.23\n"
          ],
          "name": "stdout"
        }
      ]
    },
    {
      "cell_type": "code",
      "metadata": {
        "id": "26cbvNXEw-dz",
        "colab_type": "code",
        "colab": {}
      },
      "source": [
        "import hdbscan"
      ],
      "execution_count": 0,
      "outputs": []
    },
    {
      "cell_type": "code",
      "metadata": {
        "id": "jaml4h6xxAl9",
        "colab_type": "code",
        "colab": {}
      },
      "source": [
        "clusterer = hdbscan.HDBSCAN(metric='manhattan',  min_cluster_size=10)\n",
        "clusterer.fit(doc2vector)\n",
        "doc2vector['label'] = clusterer.labels_\n",
        "doc2vector.to_csv(f'{PATH}hdbscan_100.csv')"
      ],
      "execution_count": 0,
      "outputs": []
    },
    {
      "cell_type": "code",
      "metadata": {
        "id": "-RjGEC470RUn",
        "colab_type": "code",
        "outputId": "11e7e4ed-c61a-4142-a968-a87e90cde1a3",
        "colab": {
          "base_uri": "https://localhost:8080/",
          "height": 221
        }
      },
      "source": [
        "doc2vector['label'].value_counts()"
      ],
      "execution_count": 24,
      "outputs": [
        {
          "output_type": "execute_result",
          "data": {
            "text/plain": [
              "-1      94299\n",
              " 191     3886\n",
              " 100      168\n",
              " 189      138\n",
              " 108      112\n",
              "        ...  \n",
              " 139       10\n",
              " 265       10\n",
              " 59        10\n",
              " 187       10\n",
              " 84        10\n",
              "Name: label, Length: 289, dtype: int64"
            ]
          },
          "metadata": {
            "tags": []
          },
          "execution_count": 24
        }
      ]
    },
    {
      "cell_type": "code",
      "metadata": {
        "id": "UQc9PzNmnOb3",
        "colab_type": "code",
        "colab": {}
      },
      "source": [
        "import numpy as np\n",
        "from sklearn.cluster import KMeans"
      ],
      "execution_count": 0,
      "outputs": []
    },
    {
      "cell_type": "code",
      "metadata": {
        "id": "oaPGmGqJnZHo",
        "colab_type": "code",
        "outputId": "43f3af2b-39b9-4bda-eb39-2113e8959852",
        "colab": {
          "base_uri": "https://localhost:8080/",
          "height": 68
        }
      },
      "source": [
        "kmean = KMeans(n_clusters=2000)\n",
        "kmean.fit(doc2vector)"
      ],
      "execution_count": 26,
      "outputs": [
        {
          "output_type": "execute_result",
          "data": {
            "text/plain": [
              "KMeans(algorithm='auto', copy_x=True, init='k-means++', max_iter=300,\n",
              "       n_clusters=2000, n_init=10, n_jobs=None, precompute_distances='auto',\n",
              "       random_state=None, tol=0.0001, verbose=0)"
            ]
          },
          "metadata": {
            "tags": []
          },
          "execution_count": 26
        }
      ]
    },
    {
      "cell_type": "code",
      "metadata": {
        "id": "_JyXu-wLoCK-",
        "colab_type": "code",
        "colab": {}
      },
      "source": [
        "doc2vector['label'] = kmean.labels_\n",
        "doc2vector.to_csv(f'{PATH}kmean_100vec.csv')"
      ],
      "execution_count": 0,
      "outputs": []
    },
    {
      "cell_type": "code",
      "metadata": {
        "id": "B5nlQaUH16n1",
        "colab_type": "code",
        "colab": {}
      },
      "source": [
        "docvec = model.docvecs[1]"
      ],
      "execution_count": 0,
      "outputs": []
    },
    {
      "cell_type": "code",
      "metadata": {
        "id": "4hHY3YfC1_Yl",
        "colab_type": "code",
        "colab": {}
      },
      "source": [
        "print(docvec)"
      ],
      "execution_count": 0,
      "outputs": []
    },
    {
      "cell_type": "code",
      "metadata": {
        "id": "DBjIS5RT0bEI",
        "colab_type": "code",
        "colab": {}
      },
      "source": [
        "similar_doc = model.docvecs.most_similar('0')"
      ],
      "execution_count": 0,
      "outputs": []
    },
    {
      "cell_type": "code",
      "metadata": {
        "id": "exBqWP6y1RSE",
        "colab_type": "code",
        "colab": {}
      },
      "source": [
        "model.vocabulary."
      ],
      "execution_count": 0,
      "outputs": []
    },
    {
      "cell_type": "code",
      "metadata": {
        "id": "a-YA9hZ21UKs",
        "colab_type": "code",
        "colab": {}
      },
      "source": [
        "job['66796']"
      ],
      "execution_count": 0,
      "outputs": []
    },
    {
      "cell_type": "code",
      "metadata": {
        "id": "1ueFWEVv0i0N",
        "colab_type": "code",
        "colab": {}
      },
      "source": [
        "print(similar_doc)"
      ],
      "execution_count": 0,
      "outputs": []
    },
    {
      "cell_type": "code",
      "metadata": {
        "id": "KMMk453LyqJ4",
        "colab_type": "code",
        "colab": {}
      },
      "source": [
        "trigram_sentences_project = []\n",
        "bigram = Phrases(sentence_stream, min_count=1, delimiter=b' ')\n",
        "trigram = Phrases(bigram[sentence_stream], min_count=1, delimiter=b' ')"
      ],
      "execution_count": 0,
      "outputs": []
    },
    {
      "cell_type": "code",
      "metadata": {
        "id": "lHYd54LFziyd",
        "colab_type": "code",
        "colab": {}
      },
      "source": [
        "for sent in sentence_stream:\n",
        "  bigrams_ = bigram[sent]\n",
        "  trigrams_ = trigram[bigram[sent]]\n",
        "  trigram_sentences_project.append(trigrams_)"
      ],
      "execution_count": 0,
      "outputs": []
    },
    {
      "cell_type": "code",
      "metadata": {
        "id": "IoOnE1Vv0Puc",
        "colab_type": "code",
        "colab": {}
      },
      "source": [
        "num_features = 10 # Word vector demensionality\n",
        "min_word_count = 1 # minumum word count\n",
        "num_workers = 4 # number of threads to run in parallel\n",
        "context = 5 # context window size\n",
        "downsampling = 1e-3 #downsample setting for frequent "
      ],
      "execution_count": 0,
      "outputs": []
    },
    {
      "cell_type": "code",
      "metadata": {
        "id": "OR2xIWOY0unP",
        "colab_type": "code",
        "colab": {}
      },
      "source": [
        "model = word2vec.Word2Vec(min_count=10, window=2, size=100, sample=6e-5, alpha=0.05, min_alpha=0.0007, negative=20)"
      ],
      "execution_count": 0,
      "outputs": []
    },
    {
      "cell_type": "code",
      "metadata": {
        "id": "GFrmy44W9hpy",
        "colab_type": "code",
        "colab": {}
      },
      "source": [
        "model.build_vocab(trigram_sentences_project, progress_per=1000)"
      ],
      "execution_count": 0,
      "outputs": []
    },
    {
      "cell_type": "code",
      "metadata": {
        "id": "hcPdNnI49sZh",
        "colab_type": "code",
        "colab": {}
      },
      "source": [
        "model.train(trigram_sentences_project, total_examples=model.corpus_count, epochs=30, report_delay=1)"
      ],
      "execution_count": 0,
      "outputs": []
    },
    {
      "cell_type": "code",
      "metadata": {
        "id": "fin6Vt5C-Cr7",
        "colab_type": "code",
        "colab": {}
      },
      "source": [
        "model.wv.most_similar('scientist')"
      ],
      "execution_count": 0,
      "outputs": []
    },
    {
      "cell_type": "code",
      "metadata": {
        "id": "YQO3ZdZEEtKg",
        "colab_type": "code",
        "colab": {}
      },
      "source": [
        "vocab = list(model.wv.vocab.keys())"
      ],
      "execution_count": 0,
      "outputs": []
    },
    {
      "cell_type": "code",
      "metadata": {
        "id": "2gAYoc66EziM",
        "colab_type": "code",
        "colab": {}
      },
      "source": [
        "print(vocab[:10])"
      ],
      "execution_count": 0,
      "outputs": []
    },
    {
      "cell_type": "code",
      "metadata": {
        "id": "h1en8hKxLovr",
        "colab_type": "code",
        "colab": {}
      },
      "source": [
        "job[0]"
      ],
      "execution_count": 0,
      "outputs": []
    },
    {
      "cell_type": "code",
      "metadata": {
        "id": "tGzDpNmPL0W8",
        "colab_type": "code",
        "colab": {}
      },
      "source": [
        "trigram_sentences_project"
      ],
      "execution_count": 0,
      "outputs": []
    },
    {
      "cell_type": "code",
      "metadata": {
        "id": "OGp3j-xDJxxM",
        "colab_type": "code",
        "colab": {}
      },
      "source": [
        "model.wv['&nbsp;application integration']"
      ],
      "execution_count": 0,
      "outputs": []
    },
    {
      "cell_type": "code",
      "metadata": {
        "id": "sWHNEg-aOcXu",
        "colab_type": "code",
        "colab": {}
      },
      "source": [
        "job[0]"
      ],
      "execution_count": 0,
      "outputs": []
    },
    {
      "cell_type": "code",
      "metadata": {
        "id": "pR7Og45VN_Nk",
        "colab_type": "code",
        "colab": {}
      },
      "source": [
        "for :\n",
        "  print(i)"
      ],
      "execution_count": 0,
      "outputs": []
    }
  ]
}