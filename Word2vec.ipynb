{
  "nbformat": 4,
  "nbformat_minor": 0,
  "metadata": {
    "colab": {
      "name": "Word2vec.ipynb",
      "provenance": [],
      "include_colab_link": true
    },
    "kernelspec": {
      "name": "python3",
      "display_name": "Python 3"
    }
  },
  "cells": [
    {
      "cell_type": "markdown",
      "metadata": {
        "id": "view-in-github",
        "colab_type": "text"
      },
      "source": [
        "<a href=\"https://colab.research.google.com/github/wdon021/From_Colab/blob/master/Word2vec.ipynb\" target=\"_parent\"><img src=\"https://colab.research.google.com/assets/colab-badge.svg\" alt=\"Open In Colab\"/></a>"
      ]
    },
    {
      "cell_type": "code",
      "metadata": {
        "id": "Ees6X_Gje63e",
        "colab_type": "code",
        "outputId": "51584bdd-5318-4d5c-dbef-9465762b7c92",
        "colab": {
          "base_uri": "https://localhost:8080/",
          "height": 122
        }
      },
      "source": [
        "from google.colab import drive\n",
        "drive.mount('/content/gdrive/')"
      ],
      "execution_count": 1,
      "outputs": [
        {
          "output_type": "stream",
          "text": [
            "Go to this URL in a browser: https://accounts.google.com/o/oauth2/auth?client_id=947318989803-6bn6qk8qdgf4n4g3pfee6491hc0brc4i.apps.googleusercontent.com&redirect_uri=urn%3aietf%3awg%3aoauth%3a2.0%3aoob&response_type=code&scope=email%20https%3a%2f%2fwww.googleapis.com%2fauth%2fdocs.test%20https%3a%2f%2fwww.googleapis.com%2fauth%2fdrive%20https%3a%2f%2fwww.googleapis.com%2fauth%2fdrive.photos.readonly%20https%3a%2f%2fwww.googleapis.com%2fauth%2fpeopleapi.readonly\n",
            "\n",
            "Enter your authorization code:\n",
            "··········\n",
            "Mounted at /content/gdrive/\n"
          ],
          "name": "stdout"
        }
      ]
    },
    {
      "cell_type": "code",
      "metadata": {
        "id": "Oucrt1Q0fpic",
        "colab_type": "code",
        "colab": {}
      },
      "source": [
        "PATH = \"/content/gdrive/My Drive/Fastai/\"\n",
        "import pandas as pd\n",
        "h1b_raw = pd.read_csv(f'{PATH}H-1B_Disclosure_RAW_Data_FY18.csv', delimiter=',', engine='python')"
      ],
      "execution_count": 0,
      "outputs": []
    },
    {
      "cell_type": "code",
      "metadata": {
        "id": "VVm40m-Cf_23",
        "colab_type": "code",
        "colab": {}
      },
      "source": [
        "job = list(h1b_raw['JOB_TITLE'].str.lower().astype('category').cat.categories)"
      ],
      "execution_count": 0,
      "outputs": []
    },
    {
      "cell_type": "code",
      "metadata": {
        "id": "yoEUumXSiqwP",
        "colab_type": "code",
        "colab": {}
      },
      "source": [
        "from nltk import word_tokenize"
      ],
      "execution_count": 0,
      "outputs": []
    },
    {
      "cell_type": "code",
      "metadata": {
        "id": "iDqwossywXke",
        "colab_type": "code",
        "colab": {}
      },
      "source": [
        "import nltk"
      ],
      "execution_count": 0,
      "outputs": []
    },
    {
      "cell_type": "code",
      "metadata": {
        "id": "D49iQ3I-wWDA",
        "colab_type": "code",
        "colab": {
          "base_uri": "https://localhost:8080/",
          "height": 68
        },
        "outputId": "94a0d2df-4917-48b8-ba68-e39178ab0277"
      },
      "source": [
        "nltk.download('punkt')"
      ],
      "execution_count": 17,
      "outputs": [
        {
          "output_type": "stream",
          "text": [
            "[nltk_data] Downloading package punkt to /root/nltk_data...\n",
            "[nltk_data]   Unzipping tokenizers/punkt.zip.\n"
          ],
          "name": "stdout"
        },
        {
          "output_type": "execute_result",
          "data": {
            "text/plain": [
              "True"
            ]
          },
          "metadata": {
            "tags": []
          },
          "execution_count": 17
        }
      ]
    },
    {
      "cell_type": "code",
      "metadata": {
        "id": "itPS7LYUxIbH",
        "colab_type": "code",
        "colab": {}
      },
      "source": [
        "job_token = []"
      ],
      "execution_count": 0,
      "outputs": []
    },
    {
      "cell_type": "code",
      "metadata": {
        "id": "gO9gVc8_xshK",
        "colab_type": "code",
        "colab": {}
      },
      "source": [
        "import re"
      ],
      "execution_count": 0,
      "outputs": []
    },
    {
      "cell_type": "code",
      "metadata": {
        "id": "CLWD69orwtJ3",
        "colab_type": "code",
        "colab": {
          "base_uri": "https://localhost:8080/",
          "height": 214
        },
        "outputId": "0503b228-9e73-401c-c1f0-affb35a69466"
      },
      "source": [
        "for i in range(len(job)):\n",
        "  sentences = [word.lower() for word in job if re.match('[a-zA-z]+', word)]\n",
        "  job_token.append(sentences)"
      ],
      "execution_count": 21,
      "outputs": [
        {
          "output_type": "error",
          "ename": "NameError",
          "evalue": "ignored",
          "traceback": [
            "\u001b[0;31m---------------------------------------------------------------------------\u001b[0m",
            "\u001b[0;31mNameError\u001b[0m                                 Traceback (most recent call last)",
            "\u001b[0;32m<ipython-input-21-4d2b109caddc>\u001b[0m in \u001b[0;36m<module>\u001b[0;34m()\u001b[0m\n\u001b[0;32m----> 1\u001b[0;31m \u001b[0;32mfor\u001b[0m \u001b[0mi\u001b[0m \u001b[0;32min\u001b[0m \u001b[0mrange\u001b[0m\u001b[0;34m(\u001b[0m\u001b[0mlen\u001b[0m\u001b[0;34m(\u001b[0m\u001b[0msentences\u001b[0m\u001b[0;34m)\u001b[0m\u001b[0;34m)\u001b[0m\u001b[0;34m:\u001b[0m\u001b[0;34m\u001b[0m\u001b[0;34m\u001b[0m\u001b[0m\n\u001b[0m\u001b[1;32m      2\u001b[0m   \u001b[0msentences\u001b[0m \u001b[0;34m=\u001b[0m \u001b[0;34m[\u001b[0m\u001b[0;34m]\u001b[0m\u001b[0;34m\u001b[0m\u001b[0;34m\u001b[0m\u001b[0m\n\u001b[1;32m      3\u001b[0m   \u001b[0msentences\u001b[0m \u001b[0;34m=\u001b[0m \u001b[0;34m[\u001b[0m\u001b[0mword\u001b[0m\u001b[0;34m.\u001b[0m\u001b[0mlower\u001b[0m\u001b[0;34m(\u001b[0m\u001b[0;34m)\u001b[0m \u001b[0;32mfor\u001b[0m \u001b[0mword\u001b[0m \u001b[0;32min\u001b[0m \u001b[0msentences\u001b[0m \u001b[0;32mif\u001b[0m \u001b[0mre\u001b[0m\u001b[0;34m.\u001b[0m\u001b[0mmatch\u001b[0m\u001b[0;34m(\u001b[0m\u001b[0;34m'[a-zA-z]+'\u001b[0m\u001b[0;34m,\u001b[0m \u001b[0mword\u001b[0m\u001b[0;34m)\u001b[0m\u001b[0;34m]\u001b[0m\u001b[0;34m\u001b[0m\u001b[0;34m\u001b[0m\u001b[0m\n\u001b[1;32m      4\u001b[0m   \u001b[0mjob_token\u001b[0m\u001b[0;34m.\u001b[0m\u001b[0mappend\u001b[0m\u001b[0;34m(\u001b[0m\u001b[0msentences\u001b[0m\u001b[0;34m)\u001b[0m\u001b[0;34m\u001b[0m\u001b[0;34m\u001b[0m\u001b[0m\n",
            "\u001b[0;31mNameError\u001b[0m: name 'sentences' is not defined"
          ]
        }
      ]
    },
    {
      "cell_type": "code",
      "metadata": {
        "id": "rRWeT1KwjRIK",
        "colab_type": "code",
        "colab": {}
      },
      "source": [
        "import gensim"
      ],
      "execution_count": 0,
      "outputs": []
    },
    {
      "cell_type": "code",
      "metadata": {
        "id": "EFYdy1wJyF6R",
        "colab_type": "code",
        "colab": {}
      },
      "source": [
        ""
      ],
      "execution_count": 0,
      "outputs": []
    },
    {
      "cell_type": "code",
      "metadata": {
        "id": "Q_DlNPI9jqGv",
        "colab_type": "code",
        "colab": {
          "base_uri": "https://localhost:8080/",
          "height": 183
        },
        "outputId": "a2b80262-9750-44fe-d660-f100569332e8"
      },
      "source": [
        "model = gensim.models.Word2Vec(job, size=100, window=10, min_count=2, iter=10,workers= 4)"
      ],
      "execution_count": 12,
      "outputs": [
        {
          "output_type": "error",
          "ename": "TypeError",
          "evalue": "ignored",
          "traceback": [
            "\u001b[0;31m---------------------------------------------------------------------------\u001b[0m",
            "\u001b[0;31mTypeError\u001b[0m                                 Traceback (most recent call last)",
            "\u001b[0;32m<ipython-input-12-1bad7bed4150>\u001b[0m in \u001b[0;36m<module>\u001b[0;34m()\u001b[0m\n\u001b[0;32m----> 1\u001b[0;31m \u001b[0mmodel\u001b[0m \u001b[0;34m=\u001b[0m \u001b[0mgensim\u001b[0m\u001b[0;34m.\u001b[0m\u001b[0mmodels\u001b[0m\u001b[0;34m.\u001b[0m\u001b[0mWord2Vec\u001b[0m\u001b[0;34m(\u001b[0m\u001b[0mjob\u001b[0m\u001b[0;34m,\u001b[0m \u001b[0msize\u001b[0m\u001b[0;34m=\u001b[0m\u001b[0;36m100\u001b[0m\u001b[0;34m,\u001b[0m \u001b[0mwindow\u001b[0m\u001b[0;34m=\u001b[0m\u001b[0;36m10\u001b[0m\u001b[0;34m,\u001b[0m \u001b[0mmin_count\u001b[0m\u001b[0;34m=\u001b[0m\u001b[0;36m2\u001b[0m\u001b[0;34m,\u001b[0m \u001b[0miter\u001b[0m\u001b[0;34m=\u001b[0m\u001b[0;36m10\u001b[0m\u001b[0;34m,\u001b[0m\u001b[0mworkers\u001b[0m\u001b[0;34m=\u001b[0m \u001b[0;36m4\u001b[0m\u001b[0;34m,\u001b[0m \u001b[0msentences\u001b[0m\u001b[0;34m=\u001b[0m\u001b[0;34m'LineSentence'\u001b[0m\u001b[0;34m)\u001b[0m\u001b[0;34m\u001b[0m\u001b[0;34m\u001b[0m\u001b[0m\n\u001b[0m",
            "\u001b[0;31mTypeError\u001b[0m: __init__() got multiple values for argument 'sentences'"
          ]
        }
      ]
    },
    {
      "cell_type": "code",
      "metadata": {
        "id": "6wwE5J1ZnOl3",
        "colab_type": "code",
        "outputId": "f143e985-f73e-46ab-c566-cf5ea223e360",
        "colab": {
          "base_uri": "https://localhost:8080/",
          "height": 34
        }
      },
      "source": [
        "model.train(job, total_examples=len(job), epochs=10)"
      ],
      "execution_count": 11,
      "outputs": [
        {
          "output_type": "execute_result",
          "data": {
            "text/plain": [
              "(6633188, 32976060)"
            ]
          },
          "metadata": {
            "tags": []
          },
          "execution_count": 11
        }
      ]
    },
    {
      "cell_type": "code",
      "metadata": {
        "id": "xEvrMT5brVy9",
        "colab_type": "code",
        "outputId": "ca41e49a-ad8e-4b45-e457-92db5fdedb9e",
        "colab": {
          "base_uri": "https://localhost:8080/",
          "height": 374
        }
      },
      "source": [
        "model.wv['d']"
      ],
      "execution_count": 10,
      "outputs": [
        {
          "output_type": "execute_result",
          "data": {
            "text/plain": [
              "array([ 0.2909782 ,  0.13431372,  1.0106313 ,  1.3775482 ,  0.3329845 ,\n",
              "       -0.7085401 ,  0.45684057,  0.60879993,  0.06423777, -0.25076243,\n",
              "       -0.71982837, -0.5133624 ,  0.23305754,  1.1272373 ,  0.065159  ,\n",
              "       -0.6006753 , -0.30339855, -0.27369767, -0.16146241, -0.55340666,\n",
              "        1.1996415 , -0.02632387,  0.6098023 ,  0.18985446,  0.6925645 ,\n",
              "        0.7084513 , -0.4839045 ,  0.3338435 , -1.7647196 , -0.95533043,\n",
              "       -0.6502572 , -0.15763338, -0.7510123 , -0.42122856, -1.056317  ,\n",
              "       -0.8785498 , -0.20806986, -0.96120816, -0.4606142 , -0.58940786,\n",
              "        0.01498588, -1.0392706 ,  0.1990665 ,  0.33466122, -0.79947436,\n",
              "       -0.2310825 ,  0.13071287, -0.4488748 , -0.542914  ,  0.52713585,\n",
              "       -1.0479342 ,  0.56969494,  0.02852423, -0.25841254, -0.03070776,\n",
              "       -0.42457658,  0.9144899 , -0.04501978,  0.1910019 , -0.7226273 ,\n",
              "        0.29832387, -0.21808824, -0.41680345,  0.30039018,  0.36924815,\n",
              "       -0.19602035,  0.5386436 , -0.7903752 ,  0.10246119,  0.79270667,\n",
              "        0.04550755, -0.55459136, -0.4550644 , -0.22821574, -0.04376711,\n",
              "        0.302738  ,  0.476959  , -0.64708394,  0.20490244, -0.45305172,\n",
              "       -0.09535256, -0.13160875, -0.44757757,  0.3496349 , -0.12553723,\n",
              "        0.5628382 ,  0.34099323, -0.14184174, -0.3194078 , -0.2704833 ,\n",
              "       -0.17065094, -1.4783189 , -0.10493054, -0.1848361 , -0.2918859 ,\n",
              "       -0.26307422,  0.65638065, -0.8548701 ,  1.0971764 ,  0.71581125],\n",
              "      dtype=float32)"
            ]
          },
          "metadata": {
            "tags": []
          },
          "execution_count": 10
        }
      ]
    },
    {
      "cell_type": "code",
      "metadata": {
        "id": "WsdzE0h9tHQs",
        "colab_type": "code",
        "colab": {}
      },
      "source": [
        "word"
      ],
      "execution_count": 0,
      "outputs": []
    },
    {
      "cell_type": "code",
      "metadata": {
        "id": "i7owappHrPd8",
        "colab_type": "code",
        "outputId": "6577e73f-6d74-4dc8-e219-ec8025dfce7c",
        "colab": {
          "base_uri": "https://localhost:8080/",
          "height": 238
        }
      },
      "source": [
        "model.wv.vectors"
      ],
      "execution_count": 0,
      "outputs": [
        {
          "output_type": "execute_result",
          "data": {
            "text/plain": [
              "array([[ 0.11929723,  0.3678056 ,  0.05952489, ...,  0.27391693,\n",
              "         0.4366963 ,  0.29420707],\n",
              "       [ 0.99929094, -0.76015294,  0.00310122, ...,  0.21632332,\n",
              "        -0.27968535, -0.37598258],\n",
              "       [-0.41941473, -0.1189682 ,  0.39461368, ...,  0.48888555,\n",
              "        -0.16593394, -0.04809809],\n",
              "       ...,\n",
              "       [ 0.04336734,  0.01619808,  0.03425115, ...,  0.00517803,\n",
              "        -0.05098329,  0.05543505],\n",
              "       [ 0.06409856,  0.02634461, -0.023928  , ...,  0.02177242,\n",
              "        -0.04479816,  0.02385304],\n",
              "       [-0.01888218, -0.00165699, -0.02916861, ...,  0.01988879,\n",
              "        -0.00457954,  0.02924143]], dtype=float32)"
            ]
          },
          "metadata": {
            "tags": []
          },
          "execution_count": 39
        }
      ]
    },
    {
      "cell_type": "code",
      "metadata": {
        "id": "096MHJn-neYi",
        "colab_type": "code",
        "outputId": "13879d21-05c7-49db-8646-8dea5e759dc8",
        "colab": {
          "base_uri": "https://localhost:8080/",
          "height": 34
        }
      },
      "source": [
        "model.wv.vectors.shape"
      ],
      "execution_count": 0,
      "outputs": [
        {
          "output_type": "execute_result",
          "data": {
            "text/plain": [
              "(60, 100)"
            ]
          },
          "metadata": {
            "tags": []
          },
          "execution_count": 38
        }
      ]
    },
    {
      "cell_type": "code",
      "metadata": {
        "id": "_J-QKgfdnkyR",
        "colab_type": "code",
        "outputId": "62656bca-ce8e-421b-d7d9-316e9fa84f72",
        "colab": {
          "base_uri": "https://localhost:8080/",
          "height": 34
        }
      },
      "source": [
        "word_vectors"
      ],
      "execution_count": 0,
      "outputs": [
        {
          "output_type": "execute_result",
          "data": {
            "text/plain": [
              "<gensim.models.keyedvectors.Word2VecKeyedVectors at 0x7f11fa2363c8>"
            ]
          },
          "metadata": {
            "tags": []
          },
          "execution_count": 31
        }
      ]
    }
  ]
}