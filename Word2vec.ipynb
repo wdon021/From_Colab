{
  "nbformat": 4,
  "nbformat_minor": 0,
  "metadata": {
    "colab": {
      "name": "Word2vec.ipynb",
      "provenance": [],
      "include_colab_link": true
    },
    "kernelspec": {
      "name": "python3",
      "display_name": "Python 3"
    }
  },
  "cells": [
    {
      "cell_type": "markdown",
      "metadata": {
        "id": "view-in-github",
        "colab_type": "text"
      },
      "source": [
        "<a href=\"https://colab.research.google.com/github/wdon021/From_Colab/blob/master/Word2vec.ipynb\" target=\"_parent\"><img src=\"https://colab.research.google.com/assets/colab-badge.svg\" alt=\"Open In Colab\"/></a>"
      ]
    },
    {
      "cell_type": "code",
      "metadata": {
        "id": "Ees6X_Gje63e",
        "colab_type": "code",
        "outputId": "708fe84b-9028-47d3-96ce-c54dae462657",
        "colab": {
          "base_uri": "https://localhost:8080/",
          "height": 34
        }
      },
      "source": [
        "from google.colab import drive\n",
        "drive.mount('/content/gdrive/')"
      ],
      "execution_count": 8,
      "outputs": [
        {
          "output_type": "stream",
          "text": [
            "Drive already mounted at /content/gdrive/; to attempt to forcibly remount, call drive.mount(\"/content/gdrive/\", force_remount=True).\n"
          ],
          "name": "stdout"
        }
      ]
    },
    {
      "cell_type": "code",
      "metadata": {
        "id": "Oucrt1Q0fpic",
        "colab_type": "code",
        "colab": {}
      },
      "source": [
        "PATH = \"/content/gdrive/My Drive/Fastai/\"\n",
        "import pandas as pd\n",
        "h1b_raw = pd.read_csv(f'{PATH}H-1B_Disclosure_RAW_Data_FY18.csv', delimiter=',', engine='python')"
      ],
      "execution_count": 0,
      "outputs": []
    },
    {
      "cell_type": "code",
      "metadata": {
        "id": "cxxpzVSvwTO6",
        "colab_type": "code",
        "colab": {}
      },
      "source": [
        "PATH = \"/content/gdrive/My Drive/Fastai/\""
      ],
      "execution_count": 0,
      "outputs": []
    },
    {
      "cell_type": "code",
      "metadata": {
        "id": "8YysAuZArWR4",
        "colab_type": "code",
        "colab": {}
      },
      "source": [
        "import re"
      ],
      "execution_count": 0,
      "outputs": []
    },
    {
      "cell_type": "code",
      "metadata": {
        "id": "VfmqEBVAnMhT",
        "colab_type": "code",
        "colab": {}
      },
      "source": [
        "def removeAllPunctuations(g):\n",
        "  g = g.str.replace(\".\", \" \")\n",
        "  g= g.str.replace(\",\",\" \")\n",
        "  g= g.str.replace(\"'\",\"\")\n",
        "  g= g.str.replace(\"-\",\" \")\n",
        "  g= g.str.replace(\"/\",\" \")\n",
        "  g= g.str.replace(\":\",\" \")\n",
        "  g= g.str.replace(\";\",\" \")\n",
        "  g= g.str.replace('\"',\"\")\n",
        "  g= g.str.replace(\"*\",\"\")\n",
        "  g= g.str.replace(\"?\",\" \")\n",
        "  g= g.str.replace(\"&\",\" and \")\n",
        "  g= g.str.replace(\"+\",\" \")\n",
        "  g= g.str.replace(\"[\",\" \")\n",
        "  g= g.str.replace(\"]\",\" \")\n",
        "  g= g.str.replace(\"(\",\" \")\n",
        "  g= g.str.replace(\")\",\" \")\n",
        "  g= g.str.replace(\"<\",\" \")\n",
        "  g= g.str.replace(\">\",\" \")\n",
        "  g= g.str.replace(\"=\",\" \")\n",
        "  g= g.str.replace(\",\",\" \")\n",
        "  g= g.str.replace(\"{\",\" \")\n",
        "  g= g.str.replace(\"}\",\" \")  \n",
        "  # g= re.sub( '\\s+', ' ', g ).strip()\n",
        "  return g"
      ],
      "execution_count": 0,
      "outputs": []
    },
    {
      "cell_type": "code",
      "metadata": {
        "id": "_b5mwTCgrBmF",
        "colab_type": "code",
        "colab": {}
      },
      "source": [
        "h1b_raw['JOB_TITLE'] = removeAllPunctuations(h1b_raw['JOB_TITLE'])"
      ],
      "execution_count": 0,
      "outputs": []
    },
    {
      "cell_type": "code",
      "metadata": {
        "id": "yTljKKJ3CDGc",
        "colab_type": "code",
        "colab": {}
      },
      "source": [
        "h1b_raw['JOB_TITLE'] = h1b_raw['JOB_TITLE'].str.replace('[{}]'.format(string.punctuation), '')"
      ],
      "execution_count": 0,
      "outputs": []
    },
    {
      "cell_type": "code",
      "metadata": {
        "id": "C5rDjCBMuDK0",
        "colab_type": "code",
        "colab": {}
      },
      "source": [
        "job = list(h1b_raw['JOB_TITLE'].str.lower().astype('category').cat.categories)"
      ],
      "execution_count": 0,
      "outputs": []
    },
    {
      "cell_type": "code",
      "metadata": {
        "id": "nVvxwj3Vs7v0",
        "colab_type": "code",
        "colab": {}
      },
      "source": [
        "from gensim.models.doc2vec import Doc2Vec, TaggedDocument\n",
        "from nltk.tokenize import word_tokenize"
      ],
      "execution_count": 0,
      "outputs": []
    },
    {
      "cell_type": "code",
      "metadata": {
        "id": "yoEUumXSiqwP",
        "colab_type": "code",
        "colab": {}
      },
      "source": [
        "from nltk import word_tokenize"
      ],
      "execution_count": 0,
      "outputs": []
    },
    {
      "cell_type": "code",
      "metadata": {
        "id": "iDqwossywXke",
        "colab_type": "code",
        "colab": {}
      },
      "source": [
        "import nltk"
      ],
      "execution_count": 0,
      "outputs": []
    },
    {
      "cell_type": "code",
      "metadata": {
        "id": "D49iQ3I-wWDA",
        "colab_type": "code",
        "outputId": "fbef2adc-6156-4079-b9b0-50aeeeac68d6",
        "colab": {
          "base_uri": "https://localhost:8080/",
          "height": 68
        }
      },
      "source": [
        "nltk.download('punkt')"
      ],
      "execution_count": 56,
      "outputs": [
        {
          "output_type": "stream",
          "text": [
            "[nltk_data] Downloading package punkt to /root/nltk_data...\n",
            "[nltk_data]   Unzipping tokenizers/punkt.zip.\n"
          ],
          "name": "stdout"
        },
        {
          "output_type": "execute_result",
          "data": {
            "text/plain": [
              "True"
            ]
          },
          "metadata": {
            "tags": []
          },
          "execution_count": 56
        }
      ]
    },
    {
      "cell_type": "code",
      "metadata": {
        "id": "wnRYduhay88f",
        "colab_type": "code",
        "colab": {}
      },
      "source": [
        "from gensim.models import word2vec, Phrases"
      ],
      "execution_count": 0,
      "outputs": []
    },
    {
      "cell_type": "code",
      "metadata": {
        "id": "K8ljYFKkft3G",
        "colab_type": "code",
        "colab": {}
      },
      "source": [
        "tagged_data = [TaggedDocument(words=word_tokenize(_d.lower()), tags=[str(i)]) for i, _d in enumerate(job)]"
      ],
      "execution_count": 0,
      "outputs": []
    },
    {
      "cell_type": "code",
      "metadata": {
        "id": "6t8AJycnf91F",
        "colab_type": "code",
        "colab": {}
      },
      "source": [
        "max_epochs = 200\n",
        "vec_size = 120\n",
        "alpha = 0.025"
      ],
      "execution_count": 0,
      "outputs": []
    },
    {
      "cell_type": "code",
      "metadata": {
        "id": "e5ty-TQOgH83",
        "colab_type": "code",
        "outputId": "1b161d73-8484-49c1-addc-cad242321163",
        "colab": {
          "base_uri": "https://localhost:8080/",
          "height": 51
        }
      },
      "source": [
        "model = Doc2Vec(size=vec_size,\n",
        "                alpha=alpha,\n",
        "                min_alpha=0.00025,\n",
        "                min_count=1,\n",
        "                dm=0) # 1 preseres the word order, 0 doesn't preserve any word order"
      ],
      "execution_count": 60,
      "outputs": [
        {
          "output_type": "stream",
          "text": [
            "/usr/local/lib/python3.6/dist-packages/gensim/models/doc2vec.py:570: UserWarning: The parameter `size` is deprecated, will be removed in 4.0.0, use `vector_size` instead.\n",
            "  warnings.warn(\"The parameter `size` is deprecated, will be removed in 4.0.0, use `vector_size` instead.\")\n"
          ],
          "name": "stderr"
        }
      ]
    },
    {
      "cell_type": "code",
      "metadata": {
        "id": "VHmbjFJvgaF6",
        "colab_type": "code",
        "colab": {}
      },
      "source": [
        "model.build_vocab(tagged_data)"
      ],
      "execution_count": 0,
      "outputs": []
    },
    {
      "cell_type": "code",
      "metadata": {
        "id": "L8_p54kRgq2u",
        "colab_type": "code",
        "outputId": "bab7afd3-b715-4fee-dff8-0c41edaec2fd",
        "colab": {
          "base_uri": "https://localhost:8080/",
          "height": 1000
        }
      },
      "source": [
        "for epoch in range(max_epochs):\n",
        "  print('iteration {0}'.format(epoch))\n",
        "  model.train(tagged_data,\n",
        "              total_examples=model.corpus_count,\n",
        "              epochs=model.iter)\n",
        "  # decrease the learning rate\n",
        "  model.alpha -= 0.0002\n",
        "  \n",
        "model.save(f'{PATH}doc_120_good_clean.model')\n",
        "print(\"model Saved\")"
      ],
      "execution_count": 23,
      "outputs": [
        {
          "output_type": "stream",
          "text": [
            "iteration 0\n"
          ],
          "name": "stdout"
        },
        {
          "output_type": "stream",
          "text": [
            "/usr/local/lib/python3.6/dist-packages/ipykernel_launcher.py:5: DeprecationWarning: Call to deprecated `iter` (Attribute will be removed in 4.0.0, use self.epochs instead).\n",
            "  \"\"\"\n"
          ],
          "name": "stderr"
        },
        {
          "output_type": "stream",
          "text": [
            "iteration 1\n",
            "iteration 2\n",
            "iteration 3\n",
            "iteration 4\n",
            "iteration 5\n",
            "iteration 6\n",
            "iteration 7\n",
            "iteration 8\n",
            "iteration 9\n",
            "iteration 10\n",
            "iteration 11\n",
            "iteration 12\n",
            "iteration 13\n",
            "iteration 14\n",
            "iteration 15\n",
            "iteration 16\n",
            "iteration 17\n",
            "iteration 18\n",
            "iteration 19\n",
            "iteration 20\n",
            "iteration 21\n",
            "iteration 22\n",
            "iteration 23\n",
            "iteration 24\n",
            "iteration 25\n",
            "iteration 26\n",
            "iteration 27\n",
            "iteration 28\n",
            "iteration 29\n",
            "iteration 30\n",
            "iteration 31\n",
            "iteration 32\n",
            "iteration 33\n",
            "iteration 34\n",
            "iteration 35\n",
            "iteration 36\n",
            "iteration 37\n",
            "iteration 38\n",
            "iteration 39\n",
            "iteration 40\n",
            "iteration 41\n",
            "iteration 42\n",
            "iteration 43\n",
            "iteration 44\n",
            "iteration 45\n",
            "iteration 46\n",
            "iteration 47\n",
            "iteration 48\n",
            "iteration 49\n",
            "iteration 50\n",
            "iteration 51\n",
            "iteration 52\n",
            "iteration 53\n",
            "iteration 54\n",
            "iteration 55\n",
            "iteration 56\n",
            "iteration 57\n",
            "iteration 58\n",
            "iteration 59\n",
            "iteration 60\n",
            "iteration 61\n",
            "iteration 62\n",
            "iteration 63\n",
            "iteration 64\n",
            "iteration 65\n",
            "iteration 66\n",
            "iteration 67\n",
            "iteration 68\n",
            "iteration 69\n",
            "iteration 70\n",
            "iteration 71\n",
            "iteration 72\n",
            "iteration 73\n",
            "iteration 74\n",
            "iteration 75\n",
            "iteration 76\n",
            "iteration 77\n",
            "iteration 78\n",
            "iteration 79\n",
            "iteration 80\n",
            "iteration 81\n",
            "iteration 82\n",
            "iteration 83\n",
            "iteration 84\n",
            "iteration 85\n",
            "iteration 86\n",
            "iteration 87\n",
            "iteration 88\n",
            "iteration 89\n",
            "iteration 90\n",
            "iteration 91\n",
            "iteration 92\n",
            "iteration 93\n",
            "iteration 94\n",
            "iteration 95\n",
            "iteration 96\n",
            "iteration 97\n",
            "iteration 98\n",
            "iteration 99\n",
            "iteration 100\n",
            "iteration 101\n",
            "iteration 102\n",
            "iteration 103\n",
            "iteration 104\n",
            "iteration 105\n",
            "iteration 106\n",
            "iteration 107\n",
            "iteration 108\n",
            "iteration 109\n",
            "iteration 110\n",
            "iteration 111\n",
            "iteration 112\n",
            "iteration 113\n",
            "iteration 114\n",
            "iteration 115\n",
            "iteration 116\n",
            "iteration 117\n",
            "iteration 118\n",
            "iteration 119\n",
            "iteration 120\n",
            "iteration 121\n",
            "iteration 122\n",
            "iteration 123\n",
            "iteration 124\n",
            "iteration 125\n",
            "iteration 126\n",
            "iteration 127\n",
            "iteration 128\n",
            "iteration 129\n",
            "iteration 130\n",
            "iteration 131\n",
            "iteration 132\n",
            "iteration 133\n",
            "iteration 134\n",
            "iteration 135\n",
            "iteration 136\n",
            "iteration 137\n",
            "iteration 138\n",
            "iteration 139\n",
            "iteration 140\n",
            "iteration 141\n",
            "iteration 142\n",
            "iteration 143\n",
            "iteration 144\n",
            "iteration 145\n",
            "iteration 146\n",
            "iteration 147\n",
            "iteration 148\n",
            "iteration 149\n",
            "iteration 150\n",
            "iteration 151\n",
            "iteration 152\n",
            "iteration 153\n",
            "iteration 154\n",
            "iteration 155\n",
            "iteration 156\n",
            "iteration 157\n",
            "iteration 158\n",
            "iteration 159\n",
            "iteration 160\n",
            "iteration 161\n",
            "iteration 162\n",
            "iteration 163\n",
            "iteration 164\n",
            "iteration 165\n",
            "iteration 166\n",
            "iteration 167\n",
            "iteration 168\n",
            "iteration 169\n",
            "iteration 170\n",
            "iteration 171\n",
            "iteration 172\n",
            "iteration 173\n",
            "iteration 174\n",
            "iteration 175\n",
            "iteration 176\n",
            "iteration 177\n",
            "iteration 178\n",
            "iteration 179\n",
            "iteration 180\n",
            "iteration 181\n",
            "iteration 182\n",
            "iteration 183\n",
            "iteration 184\n",
            "iteration 185\n",
            "iteration 186\n",
            "iteration 187\n",
            "iteration 188\n",
            "iteration 189\n",
            "iteration 190\n",
            "iteration 191\n",
            "iteration 192\n",
            "iteration 193\n",
            "iteration 194\n",
            "iteration 195\n",
            "iteration 196\n",
            "iteration 197\n",
            "iteration 198\n",
            "iteration 199\n"
          ],
          "name": "stdout"
        },
        {
          "output_type": "stream",
          "text": [
            "/usr/local/lib/python3.6/dist-packages/smart_open/smart_open_lib.py:402: UserWarning: This function is deprecated, use smart_open.open instead. See the migration notes for details: https://github.com/RaRe-Technologies/smart_open/blob/master/README.rst#migrating-to-the-new-open-function\n",
            "  'See the migration notes for details: %s' % _MIGRATION_NOTES_URL\n"
          ],
          "name": "stderr"
        },
        {
          "output_type": "stream",
          "text": [
            "model Saved\n"
          ],
          "name": "stdout"
        }
      ]
    },
    {
      "cell_type": "code",
      "metadata": {
        "id": "PCvuS33gxN_W",
        "colab_type": "code",
        "outputId": "a510faa7-0052-477b-e5f2-edd3984a1ba0",
        "colab": {
          "base_uri": "https://localhost:8080/",
          "height": 71
        }
      },
      "source": [
        "model = Doc2Vec.load(f'{PATH}doc_100_no_clean.model')"
      ],
      "execution_count": 5,
      "outputs": [
        {
          "output_type": "stream",
          "text": [
            "/usr/local/lib/python3.6/dist-packages/smart_open/smart_open_lib.py:402: UserWarning: This function is deprecated, use smart_open.open instead. See the migration notes for details: https://github.com/RaRe-Technologies/smart_open/blob/master/README.rst#migrating-to-the-new-open-function\n",
            "  'See the migration notes for details: %s' % _MIGRATION_NOTES_URL\n"
          ],
          "name": "stderr"
        }
      ]
    },
    {
      "cell_type": "code",
      "metadata": {
        "id": "rikPCfwxkFp1",
        "colab_type": "code",
        "colab": {}
      },
      "source": [
        "job_vec = list()"
      ],
      "execution_count": 0,
      "outputs": []
    },
    {
      "cell_type": "code",
      "metadata": {
        "id": "dxSZzKLGitv4",
        "colab_type": "code",
        "colab": {}
      },
      "source": [
        "for jobvec in range(0, len(job)):\n",
        "  job_vec.append(model.docvecs[jobvec])"
      ],
      "execution_count": 0,
      "outputs": []
    },
    {
      "cell_type": "code",
      "metadata": {
        "id": "glftRHsXmaMD",
        "colab_type": "code",
        "colab": {}
      },
      "source": [
        "doc2vector = pd.DataFrame(job_vec, index= job)"
      ],
      "execution_count": 0,
      "outputs": []
    },
    {
      "cell_type": "code",
      "metadata": {
        "id": "FU1v_bjangQh",
        "colab_type": "code",
        "outputId": "b028703f-e4db-4bd7-8277-c93340934546",
        "colab": {
          "base_uri": "https://localhost:8080/",
          "height": 34
        }
      },
      "source": [
        "doc2vector.shape"
      ],
      "execution_count": 22,
      "outputs": [
        {
          "output_type": "execute_result",
          "data": {
            "text/plain": [
              "(105856, 120)"
            ]
          },
          "metadata": {
            "tags": []
          },
          "execution_count": 22
        }
      ]
    },
    {
      "cell_type": "code",
      "metadata": {
        "id": "wPEZFSO6w9LM",
        "colab_type": "code",
        "outputId": "dd0c6010-4ce0-4311-8383-969d83a46840",
        "colab": {
          "base_uri": "https://localhost:8080/",
          "height": 340
        }
      },
      "source": [
        "!pip install hdbscan"
      ],
      "execution_count": 23,
      "outputs": [
        {
          "output_type": "stream",
          "text": [
            "Collecting hdbscan\n",
            "\u001b[?25l  Downloading https://files.pythonhosted.org/packages/18/35/a117860dd7f38eb1a77e4e30ac69a63c45c5a6356f503874fbe80fc464b7/hdbscan-0.8.23.tar.gz (4.9MB)\n",
            "\u001b[K     |████████████████████████████████| 4.9MB 2.5MB/s \n",
            "\u001b[?25h  Installing build dependencies ... \u001b[?25l\u001b[?25hdone\n",
            "  Getting requirements to build wheel ... \u001b[?25l\u001b[?25hdone\n",
            "    Preparing wheel metadata ... \u001b[?25l\u001b[?25hdone\n",
            "Requirement already satisfied: six in /usr/local/lib/python3.6/dist-packages (from hdbscan) (1.12.0)\n",
            "Requirement already satisfied: joblib in /usr/local/lib/python3.6/dist-packages (from hdbscan) (0.14.0)\n",
            "Requirement already satisfied: scipy>=0.9 in /usr/local/lib/python3.6/dist-packages (from hdbscan) (1.3.3)\n",
            "Requirement already satisfied: cython>=0.27 in /usr/local/lib/python3.6/dist-packages (from hdbscan) (0.29.14)\n",
            "Requirement already satisfied: scikit-learn>=0.17 in /usr/local/lib/python3.6/dist-packages (from hdbscan) (0.21.3)\n",
            "Requirement already satisfied: numpy>=1.16.0 in /usr/local/lib/python3.6/dist-packages (from hdbscan) (1.17.4)\n",
            "Building wheels for collected packages: hdbscan\n",
            "  Building wheel for hdbscan (PEP 517) ... \u001b[?25l\u001b[?25hdone\n",
            "  Created wheel for hdbscan: filename=hdbscan-0.8.23-cp36-cp36m-linux_x86_64.whl size=2332161 sha256=271c89f54282e496d67b3787ac5cf04e2ababf081321136e5ee9c209802f830f\n",
            "  Stored in directory: /root/.cache/pip/wheels/1e/2a/69/0cdd5414624312666718f7526b0ab39cad65cea1c1b3892768\n",
            "Successfully built hdbscan\n",
            "Installing collected packages: hdbscan\n",
            "Successfully installed hdbscan-0.8.23\n"
          ],
          "name": "stdout"
        }
      ]
    },
    {
      "cell_type": "code",
      "metadata": {
        "id": "26cbvNXEw-dz",
        "colab_type": "code",
        "colab": {}
      },
      "source": [
        "import hdbscan"
      ],
      "execution_count": 0,
      "outputs": []
    },
    {
      "cell_type": "code",
      "metadata": {
        "id": "jaml4h6xxAl9",
        "colab_type": "code",
        "colab": {}
      },
      "source": [
        "clusterer = hdbscan.HDBSCAN(metric='manhattan',  min_cluster_size=10, leaf_size=20)\n",
        "clusterer.fit(doc2vector)\n",
        "doc2vector['label'] = clusterer.labels_\n",
        "doc2vector.to_csv(f'{PATH}hdbscan_120.csv')"
      ],
      "execution_count": 0,
      "outputs": []
    },
    {
      "cell_type": "code",
      "metadata": {
        "id": "-RjGEC470RUn",
        "colab_type": "code",
        "outputId": "11e7e4ed-c61a-4142-a968-a87e90cde1a3",
        "colab": {
          "base_uri": "https://localhost:8080/",
          "height": 221
        }
      },
      "source": [
        "doc2vector['label'].value_counts()"
      ],
      "execution_count": 24,
      "outputs": [
        {
          "output_type": "execute_result",
          "data": {
            "text/plain": [
              "-1      94299\n",
              " 191     3886\n",
              " 100      168\n",
              " 189      138\n",
              " 108      112\n",
              "        ...  \n",
              " 139       10\n",
              " 265       10\n",
              " 59        10\n",
              " 187       10\n",
              " 84        10\n",
              "Name: label, Length: 289, dtype: int64"
            ]
          },
          "metadata": {
            "tags": []
          },
          "execution_count": 24
        }
      ]
    },
    {
      "cell_type": "code",
      "metadata": {
        "id": "UQc9PzNmnOb3",
        "colab_type": "code",
        "colab": {}
      },
      "source": [
        "import numpy as np\n",
        "from sklearn.cluster import KMeans"
      ],
      "execution_count": 0,
      "outputs": []
    },
    {
      "cell_type": "code",
      "metadata": {
        "id": "oaPGmGqJnZHo",
        "colab_type": "code",
        "outputId": "ef3dde8c-488c-42cf-ed06-b39fd0c2f648",
        "colab": {
          "base_uri": "https://localhost:8080/",
          "height": 357
        }
      },
      "source": [
        "kmean = KMeans(n_clusters=2000,  n_init=50, max_iter=600)\n",
        "kmean.fit(doc2vector)"
      ],
      "execution_count": 32,
      "outputs": [
        {
          "output_type": "error",
          "ename": "KeyboardInterrupt",
          "evalue": "ignored",
          "traceback": [
            "\u001b[0;31m---------------------------------------------------------------------------\u001b[0m",
            "\u001b[0;31mKeyboardInterrupt\u001b[0m                         Traceback (most recent call last)",
            "\u001b[0;32m<ipython-input-32-9dceaaa583ad>\u001b[0m in \u001b[0;36m<module>\u001b[0;34m()\u001b[0m\n\u001b[1;32m      1\u001b[0m \u001b[0mkmean\u001b[0m \u001b[0;34m=\u001b[0m \u001b[0mKMeans\u001b[0m\u001b[0;34m(\u001b[0m\u001b[0mn_clusters\u001b[0m\u001b[0;34m=\u001b[0m\u001b[0;36m2000\u001b[0m\u001b[0;34m,\u001b[0m  \u001b[0mn_init\u001b[0m\u001b[0;34m=\u001b[0m\u001b[0;36m50\u001b[0m\u001b[0;34m,\u001b[0m \u001b[0mmax_iter\u001b[0m\u001b[0;34m=\u001b[0m\u001b[0;36m600\u001b[0m\u001b[0;34m)\u001b[0m\u001b[0;34m\u001b[0m\u001b[0;34m\u001b[0m\u001b[0m\n\u001b[0;32m----> 2\u001b[0;31m \u001b[0mkmean\u001b[0m\u001b[0;34m.\u001b[0m\u001b[0mfit\u001b[0m\u001b[0;34m(\u001b[0m\u001b[0mdoc2vector\u001b[0m\u001b[0;34m)\u001b[0m\u001b[0;34m\u001b[0m\u001b[0;34m\u001b[0m\u001b[0m\n\u001b[0m",
            "\u001b[0;32m/usr/local/lib/python3.6/dist-packages/sklearn/cluster/k_means_.py\u001b[0m in \u001b[0;36mfit\u001b[0;34m(self, X, y, sample_weight)\u001b[0m\n\u001b[1;32m    970\u001b[0m                 \u001b[0mtol\u001b[0m\u001b[0;34m=\u001b[0m\u001b[0mself\u001b[0m\u001b[0;34m.\u001b[0m\u001b[0mtol\u001b[0m\u001b[0;34m,\u001b[0m \u001b[0mrandom_state\u001b[0m\u001b[0;34m=\u001b[0m\u001b[0mrandom_state\u001b[0m\u001b[0;34m,\u001b[0m \u001b[0mcopy_x\u001b[0m\u001b[0;34m=\u001b[0m\u001b[0mself\u001b[0m\u001b[0;34m.\u001b[0m\u001b[0mcopy_x\u001b[0m\u001b[0;34m,\u001b[0m\u001b[0;34m\u001b[0m\u001b[0;34m\u001b[0m\u001b[0m\n\u001b[1;32m    971\u001b[0m                 \u001b[0mn_jobs\u001b[0m\u001b[0;34m=\u001b[0m\u001b[0mself\u001b[0m\u001b[0;34m.\u001b[0m\u001b[0mn_jobs\u001b[0m\u001b[0;34m,\u001b[0m \u001b[0malgorithm\u001b[0m\u001b[0;34m=\u001b[0m\u001b[0mself\u001b[0m\u001b[0;34m.\u001b[0m\u001b[0malgorithm\u001b[0m\u001b[0;34m,\u001b[0m\u001b[0;34m\u001b[0m\u001b[0;34m\u001b[0m\u001b[0m\n\u001b[0;32m--> 972\u001b[0;31m                 return_n_iter=True)\n\u001b[0m\u001b[1;32m    973\u001b[0m         \u001b[0;32mreturn\u001b[0m \u001b[0mself\u001b[0m\u001b[0;34m\u001b[0m\u001b[0;34m\u001b[0m\u001b[0m\n\u001b[1;32m    974\u001b[0m \u001b[0;34m\u001b[0m\u001b[0m\n",
            "\u001b[0;32m/usr/local/lib/python3.6/dist-packages/sklearn/cluster/k_means_.py\u001b[0m in \u001b[0;36mk_means\u001b[0;34m(X, n_clusters, sample_weight, init, precompute_distances, n_init, max_iter, verbose, tol, random_state, copy_x, n_jobs, algorithm, return_n_iter)\u001b[0m\n\u001b[1;32m    379\u001b[0m                 \u001b[0mverbose\u001b[0m\u001b[0;34m=\u001b[0m\u001b[0mverbose\u001b[0m\u001b[0;34m,\u001b[0m \u001b[0mprecompute_distances\u001b[0m\u001b[0;34m=\u001b[0m\u001b[0mprecompute_distances\u001b[0m\u001b[0;34m,\u001b[0m\u001b[0;34m\u001b[0m\u001b[0;34m\u001b[0m\u001b[0m\n\u001b[1;32m    380\u001b[0m                 \u001b[0mtol\u001b[0m\u001b[0;34m=\u001b[0m\u001b[0mtol\u001b[0m\u001b[0;34m,\u001b[0m \u001b[0mx_squared_norms\u001b[0m\u001b[0;34m=\u001b[0m\u001b[0mx_squared_norms\u001b[0m\u001b[0;34m,\u001b[0m\u001b[0;34m\u001b[0m\u001b[0;34m\u001b[0m\u001b[0m\n\u001b[0;32m--> 381\u001b[0;31m                 random_state=random_state)\n\u001b[0m\u001b[1;32m    382\u001b[0m             \u001b[0;31m# determine if these results are the best so far\u001b[0m\u001b[0;34m\u001b[0m\u001b[0;34m\u001b[0m\u001b[0;34m\u001b[0m\u001b[0m\n\u001b[1;32m    383\u001b[0m             \u001b[0;32mif\u001b[0m \u001b[0mbest_inertia\u001b[0m \u001b[0;32mis\u001b[0m \u001b[0;32mNone\u001b[0m \u001b[0;32mor\u001b[0m \u001b[0minertia\u001b[0m \u001b[0;34m<\u001b[0m \u001b[0mbest_inertia\u001b[0m\u001b[0;34m:\u001b[0m\u001b[0;34m\u001b[0m\u001b[0;34m\u001b[0m\u001b[0m\n",
            "\u001b[0;32m/usr/local/lib/python3.6/dist-packages/sklearn/cluster/k_means_.py\u001b[0m in \u001b[0;36m_kmeans_single_elkan\u001b[0;34m(X, sample_weight, n_clusters, max_iter, init, verbose, x_squared_norms, random_state, tol, precompute_distances)\u001b[0m\n\u001b[1;32m    443\u001b[0m     centers, labels, n_iter = k_means_elkan(X, checked_sample_weight,\n\u001b[1;32m    444\u001b[0m                                             \u001b[0mn_clusters\u001b[0m\u001b[0;34m,\u001b[0m \u001b[0mcenters\u001b[0m\u001b[0;34m,\u001b[0m \u001b[0mtol\u001b[0m\u001b[0;34m=\u001b[0m\u001b[0mtol\u001b[0m\u001b[0;34m,\u001b[0m\u001b[0;34m\u001b[0m\u001b[0;34m\u001b[0m\u001b[0m\n\u001b[0;32m--> 445\u001b[0;31m                                             max_iter=max_iter, verbose=verbose)\n\u001b[0m\u001b[1;32m    446\u001b[0m     \u001b[0;32mif\u001b[0m \u001b[0msample_weight\u001b[0m \u001b[0;32mis\u001b[0m \u001b[0;32mNone\u001b[0m\u001b[0;34m:\u001b[0m\u001b[0;34m\u001b[0m\u001b[0;34m\u001b[0m\u001b[0m\n\u001b[1;32m    447\u001b[0m         \u001b[0minertia\u001b[0m \u001b[0;34m=\u001b[0m \u001b[0mnp\u001b[0m\u001b[0;34m.\u001b[0m\u001b[0msum\u001b[0m\u001b[0;34m(\u001b[0m\u001b[0;34m(\u001b[0m\u001b[0mX\u001b[0m \u001b[0;34m-\u001b[0m \u001b[0mcenters\u001b[0m\u001b[0;34m[\u001b[0m\u001b[0mlabels\u001b[0m\u001b[0;34m]\u001b[0m\u001b[0;34m)\u001b[0m \u001b[0;34m**\u001b[0m \u001b[0;36m2\u001b[0m\u001b[0;34m,\u001b[0m \u001b[0mdtype\u001b[0m\u001b[0;34m=\u001b[0m\u001b[0mnp\u001b[0m\u001b[0;34m.\u001b[0m\u001b[0mfloat64\u001b[0m\u001b[0;34m)\u001b[0m\u001b[0;34m\u001b[0m\u001b[0;34m\u001b[0m\u001b[0m\n",
            "\u001b[0;32msklearn/cluster/_k_means_elkan.pyx\u001b[0m in \u001b[0;36msklearn.cluster._k_means_elkan.k_means_elkan\u001b[0;34m()\u001b[0m\n",
            "\u001b[0;32m/usr/local/lib/python3.6/dist-packages/numpy/core/numeric.py\u001b[0m in \u001b[0;36mones\u001b[0;34m(shape, dtype, order)\u001b[0m\n\u001b[1;32m    164\u001b[0m \u001b[0;34m\u001b[0m\u001b[0m\n\u001b[1;32m    165\u001b[0m \u001b[0;34m\u001b[0m\u001b[0m\n\u001b[0;32m--> 166\u001b[0;31m \u001b[0;34m@\u001b[0m\u001b[0mset_module\u001b[0m\u001b[0;34m(\u001b[0m\u001b[0;34m'numpy'\u001b[0m\u001b[0;34m)\u001b[0m\u001b[0;34m\u001b[0m\u001b[0;34m\u001b[0m\u001b[0m\n\u001b[0m\u001b[1;32m    167\u001b[0m \u001b[0;32mdef\u001b[0m \u001b[0mones\u001b[0m\u001b[0;34m(\u001b[0m\u001b[0mshape\u001b[0m\u001b[0;34m,\u001b[0m \u001b[0mdtype\u001b[0m\u001b[0;34m=\u001b[0m\u001b[0;32mNone\u001b[0m\u001b[0;34m,\u001b[0m \u001b[0morder\u001b[0m\u001b[0;34m=\u001b[0m\u001b[0;34m'C'\u001b[0m\u001b[0;34m)\u001b[0m\u001b[0;34m:\u001b[0m\u001b[0;34m\u001b[0m\u001b[0;34m\u001b[0m\u001b[0m\n\u001b[1;32m    168\u001b[0m     \"\"\"\n",
            "\u001b[0;31mKeyboardInterrupt\u001b[0m: "
          ]
        }
      ]
    },
    {
      "cell_type": "code",
      "metadata": {
        "id": "_JyXu-wLoCK-",
        "colab_type": "code",
        "colab": {
          "base_uri": "https://localhost:8080/",
          "height": 180
        },
        "outputId": "4ee47024-7d2f-4b0e-c7c5-e3ad7bcb6725"
      },
      "source": [
        "doc2vector['label'] = kmean.labels_\n",
        "doc2vector.to_csv(f'{PATH}kmean_120vec.csv')"
      ],
      "execution_count": 33,
      "outputs": [
        {
          "output_type": "error",
          "ename": "AttributeError",
          "evalue": "ignored",
          "traceback": [
            "\u001b[0;31m---------------------------------------------------------------------------\u001b[0m",
            "\u001b[0;31mAttributeError\u001b[0m                            Traceback (most recent call last)",
            "\u001b[0;32m<ipython-input-33-0ca2da0e6f87>\u001b[0m in \u001b[0;36m<module>\u001b[0;34m()\u001b[0m\n\u001b[0;32m----> 1\u001b[0;31m \u001b[0mdoc2vector\u001b[0m\u001b[0;34m[\u001b[0m\u001b[0;34m'label'\u001b[0m\u001b[0;34m]\u001b[0m \u001b[0;34m=\u001b[0m \u001b[0mkmean\u001b[0m\u001b[0;34m.\u001b[0m\u001b[0mlabels_\u001b[0m\u001b[0;34m\u001b[0m\u001b[0;34m\u001b[0m\u001b[0m\n\u001b[0m\u001b[1;32m      2\u001b[0m \u001b[0mdoc2vector\u001b[0m\u001b[0;34m.\u001b[0m\u001b[0mto_csv\u001b[0m\u001b[0;34m(\u001b[0m\u001b[0;34mf'{PATH}kmean_120vec.csv'\u001b[0m\u001b[0;34m)\u001b[0m\u001b[0;34m\u001b[0m\u001b[0;34m\u001b[0m\u001b[0m\n",
            "\u001b[0;31mAttributeError\u001b[0m: 'KMeans' object has no attribute 'labels_'"
          ]
        }
      ]
    },
    {
      "cell_type": "code",
      "metadata": {
        "id": "B5nlQaUH16n1",
        "colab_type": "code",
        "colab": {}
      },
      "source": [
        "docvec = model.docvecs[1]"
      ],
      "execution_count": 0,
      "outputs": []
    },
    {
      "cell_type": "code",
      "metadata": {
        "id": "4hHY3YfC1_Yl",
        "colab_type": "code",
        "colab": {}
      },
      "source": [
        "print(docvec)"
      ],
      "execution_count": 0,
      "outputs": []
    },
    {
      "cell_type": "code",
      "metadata": {
        "id": "DBjIS5RT0bEI",
        "colab_type": "code",
        "colab": {}
      },
      "source": [
        "similar_doc = model.docvecs.most_similar('0')"
      ],
      "execution_count": 0,
      "outputs": []
    },
    {
      "cell_type": "code",
      "metadata": {
        "id": "exBqWP6y1RSE",
        "colab_type": "code",
        "colab": {}
      },
      "source": [
        "model.vocabulary."
      ],
      "execution_count": 0,
      "outputs": []
    },
    {
      "cell_type": "code",
      "metadata": {
        "id": "a-YA9hZ21UKs",
        "colab_type": "code",
        "colab": {}
      },
      "source": [
        "job['66796']"
      ],
      "execution_count": 0,
      "outputs": []
    },
    {
      "cell_type": "code",
      "metadata": {
        "id": "1ueFWEVv0i0N",
        "colab_type": "code",
        "colab": {}
      },
      "source": [
        "print(similar_doc)"
      ],
      "execution_count": 0,
      "outputs": []
    },
    {
      "cell_type": "code",
      "metadata": {
        "id": "KMMk453LyqJ4",
        "colab_type": "code",
        "colab": {}
      },
      "source": [
        "trigram_sentences_project = []\n",
        "bigram = Phrases(sentence_stream, min_count=1, delimiter=b' ')\n",
        "trigram = Phrases(bigram[sentence_stream], min_count=1, delimiter=b' ')"
      ],
      "execution_count": 0,
      "outputs": []
    },
    {
      "cell_type": "code",
      "metadata": {
        "id": "lHYd54LFziyd",
        "colab_type": "code",
        "colab": {}
      },
      "source": [
        "for sent in sentence_stream:\n",
        "  bigrams_ = bigram[sent]\n",
        "  trigrams_ = trigram[bigram[sent]]\n",
        "  trigram_sentences_project.append(trigrams_)"
      ],
      "execution_count": 0,
      "outputs": []
    },
    {
      "cell_type": "code",
      "metadata": {
        "id": "IoOnE1Vv0Puc",
        "colab_type": "code",
        "colab": {}
      },
      "source": [
        "num_features = 10 # Word vector demensionality\n",
        "min_word_count = 1 # minumum word count\n",
        "num_workers = 4 # number of threads to run in parallel\n",
        "context = 5 # context window size\n",
        "downsampling = 1e-3 #downsample setting for frequent "
      ],
      "execution_count": 0,
      "outputs": []
    },
    {
      "cell_type": "code",
      "metadata": {
        "id": "OR2xIWOY0unP",
        "colab_type": "code",
        "colab": {}
      },
      "source": [
        "model = word2vec.Word2Vec(min_count=10, window=2, size=100, sample=6e-5, alpha=0.05, min_alpha=0.0007, negative=20)"
      ],
      "execution_count": 0,
      "outputs": []
    },
    {
      "cell_type": "code",
      "metadata": {
        "id": "GFrmy44W9hpy",
        "colab_type": "code",
        "colab": {}
      },
      "source": [
        "model.build_vocab(trigram_sentences_project, progress_per=1000)"
      ],
      "execution_count": 0,
      "outputs": []
    },
    {
      "cell_type": "code",
      "metadata": {
        "id": "hcPdNnI49sZh",
        "colab_type": "code",
        "colab": {}
      },
      "source": [
        "model.train(trigram_sentences_project, total_examples=model.corpus_count, epochs=30, report_delay=1)"
      ],
      "execution_count": 0,
      "outputs": []
    },
    {
      "cell_type": "code",
      "metadata": {
        "id": "fin6Vt5C-Cr7",
        "colab_type": "code",
        "colab": {}
      },
      "source": [
        "model.wv.most_similar('scientist')"
      ],
      "execution_count": 0,
      "outputs": []
    },
    {
      "cell_type": "code",
      "metadata": {
        "id": "YQO3ZdZEEtKg",
        "colab_type": "code",
        "colab": {}
      },
      "source": [
        "vocab = list(model.wv.vocab.keys())"
      ],
      "execution_count": 0,
      "outputs": []
    },
    {
      "cell_type": "code",
      "metadata": {
        "id": "2gAYoc66EziM",
        "colab_type": "code",
        "colab": {}
      },
      "source": [
        "print(vocab[:10])"
      ],
      "execution_count": 0,
      "outputs": []
    },
    {
      "cell_type": "code",
      "metadata": {
        "id": "h1en8hKxLovr",
        "colab_type": "code",
        "colab": {}
      },
      "source": [
        "job[0]"
      ],
      "execution_count": 0,
      "outputs": []
    },
    {
      "cell_type": "code",
      "metadata": {
        "id": "tGzDpNmPL0W8",
        "colab_type": "code",
        "colab": {}
      },
      "source": [
        "trigram_sentences_project"
      ],
      "execution_count": 0,
      "outputs": []
    },
    {
      "cell_type": "code",
      "metadata": {
        "id": "OGp3j-xDJxxM",
        "colab_type": "code",
        "colab": {}
      },
      "source": [
        "model.wv['&nbsp;application integration']"
      ],
      "execution_count": 0,
      "outputs": []
    },
    {
      "cell_type": "code",
      "metadata": {
        "id": "sWHNEg-aOcXu",
        "colab_type": "code",
        "colab": {}
      },
      "source": [
        "job[0]"
      ],
      "execution_count": 0,
      "outputs": []
    },
    {
      "cell_type": "code",
      "metadata": {
        "id": "pR7Og45VN_Nk",
        "colab_type": "code",
        "colab": {}
      },
      "source": [
        "for :\n",
        "  print(i)"
      ],
      "execution_count": 0,
      "outputs": []
    }
  ]
}