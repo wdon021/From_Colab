{
  "nbformat": 4,
  "nbformat_minor": 0,
  "metadata": {
    "colab": {
      "name": "Assignment3.ipynb",
      "provenance": [],
      "authorship_tag": "ABX9TyObbeGpJhiZZ19EPiXmKxGx",
      "include_colab_link": true
    },
    "kernelspec": {
      "name": "python3",
      "display_name": "Python 3"
    }
  },
  "cells": [
    {
      "cell_type": "markdown",
      "metadata": {
        "id": "view-in-github",
        "colab_type": "text"
      },
      "source": [
        "<a href=\"https://colab.research.google.com/github/wdon021/From_Colab/blob/master/Assignment3.ipynb\" target=\"_parent\"><img src=\"https://colab.research.google.com/assets/colab-badge.svg\" alt=\"Open In Colab\"/></a>"
      ]
    },
    {
      "cell_type": "code",
      "metadata": {
        "id": "L2pvx1GqHzRE",
        "colab_type": "code",
        "colab": {}
      },
      "source": [
        "import numpy as np\n",
        "# import scipy.misc as smp\n",
        "from PIL import Image as im\n",
        "import matplotlib.pyplot as plt\n",
        "%matplotlib inline\n",
        "from IPython.display import Image, display"
      ],
      "execution_count": 2,
      "outputs": []
    },
    {
      "cell_type": "markdown",
      "metadata": {
        "id": "lpyb1gVVarao",
        "colab_type": "text"
      },
      "source": [
        "# circle"
      ]
    },
    {
      "cell_type": "code",
      "metadata": {
        "id": "JvbpAa5KK_Co",
        "colab_type": "code",
        "colab": {}
      },
      "source": [
        "# Test for circle function out of bound\n",
        "# for i in range(333):\n",
        "#   k = np.random.random_sample(size=2)\n",
        "#   col_random = np.int(16*k[0])+6\n",
        "#   row_random = np.int(16*k[1])+6\n",
        "#   cr = 5\n",
        "#   print(\"col_max{0}, col_min{1}, row_max{2}, row_min{3}\".format(col_random+cr, col_random-cr, row_random+cr, row_random-cr))\n",
        "#   if(((col_random+cr)>=28) | ((col_random-cr)<1)):\n",
        "#     print(\"col_random is out of bound\")\n",
        "#   if(((row_random+cr)>=28) | ((row_random-cr)<1)):\n",
        "#     print(\"row_random is out of bound\")"
      ],
      "execution_count": null,
      "outputs": []
    },
    {
      "cell_type": "code",
      "metadata": {
        "id": "mO1tK9l2zRun",
        "colab_type": "code",
        "colab": {}
      },
      "source": [
        "def create_circle_random(size = 28, radius = 5, color = 255):\n",
        "  k = np.random.random_sample(size=2)\n",
        "  col_random = np.int(16*k[0])+6\n",
        "  row_random = np.int(16*k[1])+6\n",
        "  data = np.zeros((size, size), dtype = np.uint8)\n",
        "  ci,cj = row_random, col_random\n",
        "  cr = radius\n",
        "  if(((col_random+cr)>=28) | ((col_random-cr)<1)):\n",
        "    print(\"col_random is out of bound\")\n",
        "  if(((row_random+cr)>=28) | ((row_random-cr)<1)):\n",
        "    print(\"row_random is out of bound\")\n",
        "  I,J = np.meshgrid(np.arange(data.shape[0]), np.arange(data.shape[1]))\n",
        "  # basic formula for a circle (x - a)**2 + (y - b)**2 = r**2\n",
        "  # calculate the radius\n",
        "  dist = np.sqrt((I-ci)**2 +(J-cj)**2)\n",
        "  # Assign value of any for those points within radius\n",
        "  data[np.where(dist<cr)] = color\n",
        "  # img = im.fromarray(data)\n",
        "  return data.flatten()"
      ],
      "execution_count": 167,
      "outputs": []
    },
    {
      "cell_type": "code",
      "metadata": {
        "id": "B1TyktDTbGmP",
        "colab_type": "code",
        "colab": {}
      },
      "source": [
        "def create_circle(size, rows, cols, radius, color):\n",
        "  data = np.zeros((size, size), dtype = np.uint8)\n",
        "  ci,cj = rows, cols\n",
        "  cr = radius\n",
        "  I,J = np.meshgrid(np.arange(data.shape[0]), np.arange(data.shape[1]))\n",
        "  # basic formula for a circle (x - a)**2 + (y - b)**2 = r**2\n",
        "  # calculate the radius\n",
        "  dist = np.sqrt((I-ci)**2 +(J-cj)**2)\n",
        "  # Assign value of any for those points within radius\n",
        "  data[np.where(dist<cr)] = color\n",
        "  img = im.fromarray(data)\n",
        "  return data, img"
      ],
      "execution_count": null,
      "outputs": []
    },
    {
      "cell_type": "code",
      "metadata": {
        "id": "YNLJIIFecnRm",
        "colab_type": "code",
        "colab": {}
      },
      "source": [
        "plot1, img1 = create_circle(28, 15, 10, 5, 255)"
      ],
      "execution_count": null,
      "outputs": []
    },
    {
      "cell_type": "code",
      "metadata": {
        "id": "x1aVk3_Er1zx",
        "colab_type": "code",
        "colab": {
          "base_uri": "https://localhost:8080/",
          "height": 45
        },
        "outputId": "20b5a208-31a7-4221-86b5-3605f3ce8a65"
      },
      "source": [
        "img1"
      ],
      "execution_count": null,
      "outputs": [
        {
          "output_type": "execute_result",
          "data": {
            "image/png": "[encoded data removed]",
            "text/plain": [
              "<PIL.Image.Image image mode=L size=28x28 at 0x7F6788868160>"
            ]
          },
          "metadata": {
            "tags": []
          },
          "execution_count": 8
        }
      ]
    },
    {
      "cell_type": "code",
      "metadata": {
        "id": "IoiOHK7SXsXr",
        "colab_type": "code",
        "colab": {
          "base_uri": "https://localhost:8080/",
          "height": 265
        },
        "outputId": "585a55af-4a93-46c5-8271-7015c1214844"
      },
      "source": [
        "fig = plt.figure()\n",
        "ax = fig.add_subplot(111)\n",
        "ax.pcolormesh(plot1)\n",
        "ax.set_aspect('equal')\n",
        "plt.show()"
      ],
      "execution_count": null,
      "outputs": [
        {
          "output_type": "display_data",
          "data": {
            "image/png": "[encoded data removed]",
            "text/plain": [
              "<Figure size 432x288 with 1 Axes>"
            ]
          },
          "metadata": {
            "tags": [],
            "needs_background": "light"
          }
        }
      ]
    },
    {
      "cell_type": "markdown",
      "metadata": {
        "id": "Ig7t7uo3uMMH",
        "colab_type": "text"
      },
      "source": [
        "### Rectangle\n"
      ]
    },
    {
      "cell_type": "code",
      "metadata": {
        "id": "jc4myRE9uPhE",
        "colab_type": "code",
        "colab": {}
      },
      "source": [
        "def rect(size, start_x, start_y, color):\n",
        "  data = np.zeros((size, size), dtype = np.uint8)\n",
        "  rows = start_x + 4 \n",
        "  cols = start_y + 8\n",
        "  data[start_x:rows, start_y:cols] = color\n",
        "  img = im.fromarray(data)\n",
        "  return data,img"
      ],
      "execution_count": null,
      "outputs": []
    },
    {
      "cell_type": "code",
      "metadata": {
        "id": "wgd7QfkGow-x",
        "colab_type": "code",
        "colab": {}
      },
      "source": [
        "def rect_x_y(height, width):\n",
        "  k = np.random.random_sample(size=2)\n",
        "  start_x = np.int(27*k[0])\n",
        "  start_y = np.int(27*k[1])\n",
        "  rows = start_x + height \n",
        "  cols = start_y + width\n",
        "  return start_x, start_y, rows, cols\n"
      ],
      "execution_count": 117,
      "outputs": []
    },
    {
      "cell_type": "code",
      "metadata": {
        "id": "bOxFdXZnpDUR",
        "colab_type": "code",
        "colab": {}
      },
      "source": [
        "def rect_random(size, color):\n",
        "  data = np.zeros((size, size), dtype = np.uint8)\n",
        "  # x1, y1, x2, y2 = 0, 0, 0, 0\n",
        "  x1, y1, x2, y2 = rect_x_y(4, 8)\n",
        "  # print([x1, y1, x2, y2 ])\n",
        "  while((x2 >=28)|(y2 >=28)):\n",
        "    x1, y1, x2, y2 = rect_x_y(4, 8)\n",
        "  # print([x1, y1, x2, y2 ])\n",
        "  data[x1:x2, y1:y2] = color\n",
        "  # img = im.fromarray(data)\n",
        "  return data.flatten()\n",
        "  # return img"
      ],
      "execution_count": 179,
      "outputs": []
    },
    {
      "cell_type": "code",
      "metadata": {
        "id": "6UbFsNXWxw0Z",
        "colab_type": "code",
        "colab": {
          "base_uri": "https://localhost:8080/",
          "height": 78
        },
        "outputId": "0591bb41-fa3e-40df-bb0c-503aee88457a"
      },
      "source": [
        "rect_random(28, 255)"
      ],
      "execution_count": 131,
      "outputs": [
        {
          "output_type": "stream",
          "text": [
            "[3, 22, 7, 30]\n",
            "[5, 17, 9, 25]\n"
          ],
          "name": "stdout"
        },
        {
          "output_type": "execute_result",
          "data": {
            "image/png": "[encoded data removed]",
            "text/plain": [
              "<PIL.Image.Image image mode=L size=28x28 at 0x7F1737631E48>"
            ]
          },
          "metadata": {
            "tags": []
          },
          "execution_count": 131
        }
      ]
    },
    {
      "cell_type": "code",
      "metadata": {
        "id": "H2E4l3Ca0ii6",
        "colab_type": "code",
        "colab": {
          "base_uri": "https://localhost:8080/",
          "height": 265
        },
        "outputId": "41612710-55ba-4206-c1ee-b3e3d6cff4b7"
      },
      "source": [
        "fig = plt.figure()\n",
        "ax = fig.add_subplot(111)\n",
        "ax.pcolormesh(recData)\n",
        "ax.set_aspect('equal')\n",
        "plt.show()"
      ],
      "execution_count": null,
      "outputs": [
        {
          "output_type": "display_data",
          "data": {
            "image/png": "[encoded data removed]",
            "text/plain": [
              "<Figure size 432x288 with 1 Axes>"
            ]
          },
          "metadata": {
            "tags": [],
            "needs_background": "light"
          }
        }
      ]
    },
    {
      "cell_type": "markdown",
      "metadata": {
        "id": "LrU5jBXTwfGo",
        "colab_type": "text"
      },
      "source": [
        "### Triangles"
      ]
    },
    {
      "cell_type": "code",
      "metadata": {
        "id": "8uvARweQ0bmP",
        "colab_type": "code",
        "colab": {}
      },
      "source": [
        "def triangle(size, start_x, start_y, color, diagonals = -1):\n",
        "  data = np.zeros((size, size), dtype = np.uint8)\n",
        "  # define a rectangle\n",
        "  rows = start_x + 8 \n",
        "  cols = start_y + 8\n",
        "  data[start_x:rows, start_y:cols] = color\n",
        "  # return lower triangle of rectangle\n",
        "  data[start_x:rows, start_y:cols] = np.tril(data[start_x:rows, start_y:cols], diagonals)\n",
        "  # return upper half triangle of rectangle\n",
        "  # data[start_x:rows, start_y:cols] = np.triu(data[start_x:rows, start_y:cols], diagonals)\n",
        "  img = im.fromarray(data)\n",
        "  return data, img"
      ],
      "execution_count": null,
      "outputs": []
    },
    {
      "cell_type": "code",
      "metadata": {
        "id": "ZzbSGpChyV5W",
        "colab_type": "code",
        "colab": {}
      },
      "source": [
        "def triang_ran(size, color, diagonals = -1):\n",
        "  data = np.zeros((size, size), dtype = np.uint8)\n",
        "  # define a rectangle\n",
        "  start_x, start_y, rows, cols = rect_x_y(8, 8)\n",
        "  # print([start_x, start_y, rows, cols])\n",
        "  while((rows >=28)|(cols >=28)):\n",
        "    start_x, start_y, rows, cols = rect_x_y(8, 8)\n",
        "  # print([start_x, start_y, rows, cols])\n",
        "  data[start_x:rows, start_y:cols] = color\n",
        "  # return lower triangle of rectangle\n",
        "  data[start_x:rows, start_y:cols] = np.tril(data[start_x:rows, start_y:cols], diagonals)\n",
        "  # return upper half triangle of rectangle\n",
        "  # data[start_x:rows, start_y:cols] = np.triu(data[start_x:rows, start_y:cols], diagonals)\n",
        "  # img = im.fromarray(data)\n",
        "  # return img\n",
        "  return data.flatten()"
      ],
      "execution_count": 171,
      "outputs": []
    },
    {
      "cell_type": "code",
      "metadata": {
        "id": "MITEtUK72BvP",
        "colab_type": "code",
        "colab": {}
      },
      "source": [
        "triaData, triaImg = triangle(28, 10, 12, 255)"
      ],
      "execution_count": null,
      "outputs": []
    },
    {
      "cell_type": "code",
      "metadata": {
        "id": "aetlegqG2NKG",
        "colab_type": "code",
        "colab": {
          "base_uri": "https://localhost:8080/",
          "height": 45
        },
        "outputId": "57b95046-1aff-46d5-eaf3-a6ddb4d980de"
      },
      "source": [
        "triaImg"
      ],
      "execution_count": null,
      "outputs": [
        {
          "output_type": "execute_result",
          "data": {
            "image/png": "[encoded data removed]",
            "text/plain": [
              "<PIL.Image.Image image mode=L size=28x28 at 0x7F67885E1908>"
            ]
          },
          "metadata": {
            "tags": []
          },
          "execution_count": 53
        }
      ]
    },
    {
      "cell_type": "markdown",
      "metadata": {
        "id": "MT59RdtiM08i",
        "colab_type": "text"
      },
      "source": [
        "### Random generate "
      ]
    },
    {
      "cell_type": "code",
      "metadata": {
        "id": "YXaTpFdBMyGX",
        "colab_type": "code",
        "colab": {}
      },
      "source": [
        "def random_shape():\n",
        "  data = np.array([])\n",
        "  name = \"\"\n",
        "  prob = np.random.random_sample()\n",
        "  if(prob<= 0.33333333333333333):\n",
        "    data = create_circle_random(28, 5, 255)\n",
        "    name = \"C\"\n",
        "  elif((prob> 0.33333333333333333) & (prob<= 0.66666666666666666)):\n",
        "    data = rect_random(28, 255)\n",
        "    name = \"R\"\n",
        "  else:\n",
        "    data = triang_ran(28, 255)\n",
        "    name = 'T'\n",
        "  return data, name"
      ],
      "execution_count": 201,
      "outputs": []
    },
    {
      "cell_type": "code",
      "metadata": {
        "id": "ZzVLkp6RQDz7",
        "colab_type": "code",
        "colab": {}
      },
      "source": [
        "shape_vect = []\n",
        "shape_name = []"
      ],
      "execution_count": 208,
      "outputs": []
    },
    {
      "cell_type": "code",
      "metadata": {
        "id": "Qg7zselBQJhF",
        "colab_type": "code",
        "colab": {}
      },
      "source": [
        "for i in range(10):\n",
        "  s_vect, s_name = random_shape()\n",
        "  shape_vect.append(s_vect)\n",
        "  shape_name.append(s_name)"
      ],
      "execution_count": 209,
      "outputs": []
    },
    {
      "cell_type": "code",
      "metadata": {
        "id": "ksu4XHXwSL9T",
        "colab_type": "code",
        "colab": {
          "base_uri": "https://localhost:8080/",
          "height": 34
        },
        "outputId": "761b44b5-723a-4319-c02f-7438aca58bc4"
      },
      "source": [
        "shape_name"
      ],
      "execution_count": 210,
      "outputs": [
        {
          "output_type": "execute_result",
          "data": {
            "text/plain": [
              "['R', 'R', 'T', 'T', 'C', 'R', 'C', 'T', 'C', 'C']"
            ]
          },
          "metadata": {
            "tags": []
          },
          "execution_count": 210
        }
      ]
    }
  ]
}