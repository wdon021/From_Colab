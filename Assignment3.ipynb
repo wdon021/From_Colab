{
  "nbformat": 4,
  "nbformat_minor": 0,
  "metadata": {
    "colab": {
      "name": "Assignment3.ipynb",
      "provenance": [],
      "authorship_tag": "ABX9TyMeU6BNSVwKxAgK80XUnvJB",
      "include_colab_link": true
    },
    "kernelspec": {
      "name": "python3",
      "display_name": "Python 3"
    }
  },
  "cells": [
    {
      "cell_type": "markdown",
      "metadata": {
        "id": "view-in-github",
        "colab_type": "text"
      },
      "source": [
        "<a href=\"https://colab.research.google.com/github/wdon021/From_Colab/blob/master/Assignment3.ipynb\" target=\"_parent\"><img src=\"https://colab.research.google.com/assets/colab-badge.svg\" alt=\"Open In Colab\"/></a>"
      ]
    },
    {
      "cell_type": "code",
      "metadata": {
        "id": "L2pvx1GqHzRE",
        "colab_type": "code",
        "colab": {}
      },
      "source": [
        "import numpy as np\n",
        "# import scipy.misc as smp\n",
        "from PIL import Image as im\n",
        "import matplotlib.pyplot as plt\n",
        "%matplotlib inline\n",
        "from IPython.display import Image, display\n",
        "import pandas as pd"
      ],
      "execution_count": null,
      "outputs": []
    },
    {
      "cell_type": "markdown",
      "metadata": {
        "id": "lpyb1gVVarao",
        "colab_type": "text"
      },
      "source": [
        "# circle"
      ]
    },
    {
      "cell_type": "code",
      "metadata": {
        "id": "JvbpAa5KK_Co",
        "colab_type": "code",
        "colab": {}
      },
      "source": [
        "# Test for circle function out of bound\n",
        "# for i in range(333):\n",
        "#   k = np.random.random_sample(size=2)\n",
        "#   col_random = np.int(16*k[0])+6\n",
        "#   row_random = np.int(16*k[1])+6\n",
        "#   cr = 5\n",
        "#   print(\"col_max{0}, col_min{1}, row_max{2}, row_min{3}\".format(col_random+cr, col_random-cr, row_random+cr, row_random-cr))\n",
        "#   if(((col_random+cr)>=28) | ((col_random-cr)<1)):\n",
        "#     print(\"col_random is out of bound\")\n",
        "#   if(((row_random+cr)>=28) | ((row_random-cr)<1)):\n",
        "#     print(\"row_random is out of bound\")"
      ],
      "execution_count": null,
      "outputs": []
    },
    {
      "cell_type": "code",
      "metadata": {
        "id": "mO1tK9l2zRun",
        "colab_type": "code",
        "colab": {}
      },
      "source": [
        "def create_circle_random(size = 28, radius = 5, color = 255):\n",
        "  k = np.random.random_sample(size=2)\n",
        "  col_random = np.int(16*k[0])+6\n",
        "  row_random = np.int(16*k[1])+6\n",
        "  data = np.zeros((size, size), dtype = np.uint8)\n",
        "  ci,cj = row_random, col_random\n",
        "  cr = radius\n",
        "  if(((col_random+cr)>=28) | ((col_random-cr)<1)):\n",
        "    print(\"col_random is out of bound\")\n",
        "  if(((row_random+cr)>=28) | ((row_random-cr)<1)):\n",
        "    print(\"row_random is out of bound\")\n",
        "  I,J = np.meshgrid(np.arange(data.shape[0]), np.arange(data.shape[1]))\n",
        "  # basic formula for a circle (x - a)**2 + (y - b)**2 = r**2\n",
        "  # calculate the radius\n",
        "  dist = np.sqrt((I-ci)**2 +(J-cj)**2)\n",
        "  # Assign value of any for those points within radius\n",
        "  data[np.where(dist<cr)] = color\n",
        "  # img = im.fromarray(data)\n",
        "  return data.flatten()"
      ],
      "execution_count": null,
      "outputs": []
    },
    {
      "cell_type": "code",
      "metadata": {
        "id": "B1TyktDTbGmP",
        "colab_type": "code",
        "colab": {}
      },
      "source": [
        "def create_circle(size, rows, cols, radius, color):\n",
        "  data = np.zeros((size, size), dtype = np.uint8)\n",
        "  ci,cj = rows, cols\n",
        "  cr = radius\n",
        "  I,J = np.meshgrid(np.arange(data.shape[0]), np.arange(data.shape[1]))\n",
        "  # basic formula for a circle (x - a)**2 + (y - b)**2 = r**2\n",
        "  # calculate the radius\n",
        "  dist = np.sqrt((I-ci)**2 +(J-cj)**2)\n",
        "  # Assign value of any for those points within radius\n",
        "  data[np.where(dist<cr)] = color\n",
        "  img = im.fromarray(data)\n",
        "  return data, img"
      ],
      "execution_count": null,
      "outputs": []
    },
    {
      "cell_type": "code",
      "metadata": {
        "id": "Am0M-tnKKect",
        "colab_type": "code",
        "colab": {
          "base_uri": "https://localhost:8080/",
          "height": 45
        },
        "outputId": "8c5dc20b-ca05-4032-f7e8-d5beae5a1cc6"
      },
      "source": [
        "size, rows, cols, radius, color = 28, 15, 10, 5, 255\n",
        "data = np.zeros((size, size), dtype = np.uint8)\n",
        "ci,cj = rows, cols\n",
        "cr = radius\n",
        "I,J = np.meshgrid(np.arange(data.shape[0]), np.arange(data.shape[1]))\n",
        "# basic formula for a circle (x - a)**2 + (y - b)**2 = r**2\n",
        "# calculate the radius\n",
        "dist = np.sqrt((I-ci)**2 +(J-cj)**2)\n",
        "# Assign value of any for those points within radius\n",
        "data[np.where(dist<cr)] = 255\n",
        "img = im.fromarray(data)\n",
        "img"
      ],
      "execution_count": null,
      "outputs": [
        {
          "output_type": "execute_result",
          "data": {
            "image/png": "[encoded data removed]",
            "text/plain": [
              "<PIL.Image.Image image mode=L size=28x28 at 0x7F2F062AE160>"
            ]
          },
          "metadata": {
            "tags": []
          },
          "execution_count": 19
        }
      ]
    },
    {
      "cell_type": "code",
      "metadata": {
        "id": "HxbpoR3EKiWu",
        "colab_type": "code",
        "colab": {
          "base_uri": "https://localhost:8080/",
          "height": 50
        },
        "outputId": "df10872c-0f08-4480-c3c1-f2e0585e53a0"
      },
      "source": [
        "rotates3 = rotate(data, angle = np.random.random()*365)\n",
        "img3 = im.fromarray(rotates3)\n",
        "img3"
      ],
      "execution_count": null,
      "outputs": [
        {
          "output_type": "execute_result",
          "data": {
            "image/png": "[encoded data removed]",
            "text/plain": [
              "<PIL.Image.Image image mode=L size=33x33 at 0x7F2F062A3E80>"
            ]
          },
          "metadata": {
            "tags": []
          },
          "execution_count": 30
        }
      ]
    },
    {
      "cell_type": "code",
      "metadata": {
        "id": "DB7jE1P2OfZi",
        "colab_type": "code",
        "colab": {
          "base_uri": "https://localhost:8080/",
          "height": 45
        },
        "outputId": "f1b3912c-5f79-4d60-811a-49c84eda4afa"
      },
      "source": [
        "size, rows, cols, radius, color = 28, 15, 10, 5, 255\n",
        "data = np.zeros((size, size, 3), dtype = np.uint8)\n",
        "ci,cj = rows, cols\n",
        "cr = radius\n",
        "I,J = np.meshgrid(np.arange(data.shape[0]), np.arange(data.shape[1]))\n",
        "# basic formula for a circle (x - a)**2 + (y - b)**2 = r**2\n",
        "# calculate the radius\n",
        "dist = np.sqrt((I-ci)**2 +(J-cj)**2)\n",
        "# Assign value of any for those points within radius\n",
        "data[np.where(dist<cr)] = [30, 128,255]\n",
        "img = im.fromarray(data)\n",
        "img"
      ],
      "execution_count": null,
      "outputs": [
        {
          "output_type": "execute_result",
          "data": {
            "image/png": "[encoded data removed]",
            "text/plain": [
              "<PIL.Image.Image image mode=RGB size=28x28 at 0x7F1433B5D710>"
            ]
          },
          "metadata": {
            "tags": []
          },
          "execution_count": 55
        }
      ]
    },
    {
      "cell_type": "code",
      "metadata": {
        "id": "dXM_CMdfG0ci",
        "colab_type": "code",
        "colab": {
          "base_uri": "https://localhost:8080/",
          "height": 199
        },
        "outputId": "c1d303ef-eaeb-4de1-8af1-da6f5fa56acb"
      },
      "source": [
        "np.where(dist<cr)"
      ],
      "execution_count": null,
      "outputs": [
        {
          "output_type": "execute_result",
          "data": {
            "text/plain": [
              "(array([ 6,  6,  6,  6,  6,  7,  7,  7,  7,  7,  7,  7,  8,  8,  8,  8,  8,\n",
              "         8,  8,  8,  8,  9,  9,  9,  9,  9,  9,  9,  9,  9, 10, 10, 10, 10,\n",
              "        10, 10, 10, 10, 10, 11, 11, 11, 11, 11, 11, 11, 11, 11, 12, 12, 12,\n",
              "        12, 12, 12, 12, 12, 12, 13, 13, 13, 13, 13, 13, 13, 14, 14, 14, 14,\n",
              "        14]),\n",
              " array([13, 14, 15, 16, 17, 12, 13, 14, 15, 16, 17, 18, 11, 12, 13, 14, 15,\n",
              "        16, 17, 18, 19, 11, 12, 13, 14, 15, 16, 17, 18, 19, 11, 12, 13, 14,\n",
              "        15, 16, 17, 18, 19, 11, 12, 13, 14, 15, 16, 17, 18, 19, 11, 12, 13,\n",
              "        14, 15, 16, 17, 18, 19, 12, 13, 14, 15, 16, 17, 18, 13, 14, 15, 16,\n",
              "        17]))"
            ]
          },
          "metadata": {
            "tags": []
          },
          "execution_count": 50
        }
      ]
    },
    {
      "cell_type": "code",
      "metadata": {
        "id": "d_0YuMKAPg0k",
        "colab_type": "code",
        "colab": {}
      },
      "source": [
        "data.shape"
      ],
      "execution_count": null,
      "outputs": []
    },
    {
      "cell_type": "code",
      "metadata": {
        "id": "qLuVM2RT2Qn7",
        "colab_type": "code",
        "colab": {
          "base_uri": "https://localhost:8080/",
          "height": 529
        },
        "outputId": "aacfc604-a848-4ea6-d29b-6a13a2833a11"
      },
      "source": [
        "rgbArray = np.zeros((512,512), 'uint8')\n",
        "# image_r = np.round(np.random.random()*500)\n",
        "# image_g = np.round(np.random.random()*500)\n",
        "# image_b = np.round(np.random.random()*500)\n",
        "# rgbArray[100:150, 100:250, :] = [255, 128,255]\n",
        "# rgbArray[100:150, 100:250, :] = [image_r, image_g, image_b]\n",
        "rgbArray[100:150, 100:250] = 255\n",
        "# rgbArray[100:150, 200:250, 1] = image_g\n",
        "# rgbArray[100:150, 200:250, 2] = image_b\n",
        "img = im.fromarray(rgbArray)\n",
        "img"
      ],
      "execution_count": null,
      "outputs": [
        {
          "output_type": "execute_result",
          "data": {
            "image/png": "[encoded data removed]",
            "text/plain": [
              "<PIL.Image.Image image mode=L size=512x512 at 0x7F89789D6390>"
            ]
          },
          "metadata": {
            "tags": []
          },
          "execution_count": 2
        }
      ]
    },
    {
      "cell_type": "code",
      "metadata": {
        "id": "WcHfFN_f4hEF",
        "colab_type": "code",
        "colab": {}
      },
      "source": [
        "from scipy.ndimage.interpolation import rotate"
      ],
      "execution_count": null,
      "outputs": []
    },
    {
      "cell_type": "code",
      "metadata": {
        "id": "pCeyPG1iOPBu",
        "colab_type": "code",
        "colab": {}
      },
      "source": [
        "from scipy.ndimage import rotate"
      ],
      "execution_count": null,
      "outputs": []
    },
    {
      "cell_type": "code",
      "metadata": {
        "id": "TVvEJ5OH9sKH",
        "colab_type": "code",
        "colab": {
          "base_uri": "https://localhost:8080/",
          "height": 35
        },
        "outputId": "f2e0543e-21fc-419e-c1fd-c2929e698815"
      },
      "source": [
        "np.random.random()*365"
      ],
      "execution_count": null,
      "outputs": [
        {
          "output_type": "execute_result",
          "data": {
            "text/plain": [
              "107.40757556842942"
            ]
          },
          "metadata": {
            "tags": []
          },
          "execution_count": 9
        }
      ]
    },
    {
      "cell_type": "code",
      "metadata": {
        "id": "elr2txPJ14s9",
        "colab_type": "code",
        "colab": {
          "base_uri": "https://localhost:8080/",
          "height": 529
        },
        "outputId": "5fe61032-776f-4ca0-d821-f4107d809e31"
      },
      "source": [
        "\n",
        "rotates2 = rotate(rgbArray, angle = np.random.random()*365, reshape=False)\n",
        "img2 = im.fromarray(rotates2)\n",
        "img2"
      ],
      "execution_count": null,
      "outputs": [
        {
          "output_type": "execute_result",
          "data": {
            "image/png": "[encoded data removed]",
            "text/plain": [
              "<PIL.Image.Image image mode=L size=512x512 at 0x7F8977C74AC8>"
            ]
          },
          "metadata": {
            "tags": []
          },
          "execution_count": 4
        }
      ]
    },
    {
      "cell_type": "code",
      "metadata": {
        "id": "0gpBy4k8OSal",
        "colab_type": "code",
        "colab": {
          "base_uri": "https://localhost:8080/",
          "height": 290
        },
        "outputId": "540422b6-7373-4ec3-cad4-aed68433ca4b"
      },
      "source": [
        "np.unique(rotates2)"
      ],
      "execution_count": null,
      "outputs": [
        {
          "output_type": "execute_result",
          "data": {
            "text/plain": [
              "array([  0,   1,   2,   3,   4,   5,   6,   7,   8,   9,  10,  11,  12,\n",
              "        14,  15,  16,  18,  19,  20,  22,  23,  24,  26,  27,  29,  30,\n",
              "        31,  32,  33,  34,  35,  36,  37,  38,  39,  45,  46,  47,  48,\n",
              "        49,  50,  51,  53,  54,  55,  56,  58,  60,  61,  63,  64,  65,\n",
              "        67,  68,  70,  72,  73,  74,  75,  77,  79,  81,  82,  83,  84,\n",
              "        85,  86,  88,  90,  91,  92,  93,  94,  98, 100, 101, 102, 104,\n",
              "       106, 107, 108, 109, 110, 111, 112, 113, 115, 117, 119, 121, 123,\n",
              "       125, 127, 128, 130, 132, 134, 136, 138, 139, 140, 142, 143, 144,\n",
              "       145, 146, 147, 148, 149, 150, 151, 153, 155, 156, 159, 161, 162,\n",
              "       163, 164, 165, 167, 169, 170, 171, 172, 173, 174, 175, 176, 178,\n",
              "       180, 181, 182, 183, 185, 187, 188, 189, 190, 192, 193, 194, 195,\n",
              "       197, 199, 200, 201, 202, 204, 205, 206, 207, 208, 209, 210, 211,\n",
              "       216, 217, 218, 219, 220, 221, 222, 223, 224, 225, 226, 227, 228,\n",
              "       229, 231, 232, 233, 235, 236, 237, 239, 240, 241, 243, 244, 245,\n",
              "       246, 247, 248, 249, 250, 251, 252, 253, 254, 255], dtype=uint8)"
            ]
          },
          "metadata": {
            "tags": []
          },
          "execution_count": 5
        }
      ]
    },
    {
      "cell_type": "code",
      "metadata": {
        "id": "IoiOHK7SXsXr",
        "colab_type": "code",
        "colab": {
          "base_uri": "https://localhost:8080/",
          "height": 265
        },
        "outputId": "585a55af-4a93-46c5-8271-7015c1214844"
      },
      "source": [
        "fig = plt.figure()\n",
        "ax = fig.add_subplot(111)\n",
        "ax.pcolormesh(plot1)\n",
        "ax.set_aspect('equal')\n",
        "plt.show()"
      ],
      "execution_count": null,
      "outputs": [
        {
          "output_type": "display_data",
          "data": {
            "image/png": "[encoded data removed]",
            "text/plain": [
              "<Figure size 432x288 with 1 Axes>"
            ]
          },
          "metadata": {
            "tags": [],
            "needs_background": "light"
          }
        }
      ]
    },
    {
      "cell_type": "markdown",
      "metadata": {
        "id": "Ig7t7uo3uMMH",
        "colab_type": "text"
      },
      "source": [
        "### Rectangle\n"
      ]
    },
    {
      "cell_type": "code",
      "metadata": {
        "id": "jc4myRE9uPhE",
        "colab_type": "code",
        "colab": {}
      },
      "source": [
        "def rect(size, start_x, start_y, color):\n",
        "  data = np.zeros((size, size), dtype = np.uint8)\n",
        "  rows = start_x + 4 \n",
        "  cols = start_y + 8\n",
        "  data[start_x:rows, start_y:cols] = color\n",
        "  img = im.fromarray(data)\n",
        "  return data,img"
      ],
      "execution_count": null,
      "outputs": []
    },
    {
      "cell_type": "code",
      "metadata": {
        "id": "wgd7QfkGow-x",
        "colab_type": "code",
        "colab": {}
      },
      "source": [
        "def rect_x_y(height, width):\n",
        "  k = np.random.random_sample(size=2)\n",
        "  start_x = np.int(20*k[0])\n",
        "  start_y = np.int(20*k[1])\n",
        "  rows = start_x + height \n",
        "  cols = start_y + width\n",
        "  return start_x, start_y, rows, cols\n"
      ],
      "execution_count": null,
      "outputs": []
    },
    {
      "cell_type": "code",
      "metadata": {
        "id": "bOxFdXZnpDUR",
        "colab_type": "code",
        "colab": {}
      },
      "source": [
        "def rect_random(size, color):\n",
        "  data = np.zeros((size, size), dtype = np.uint8)\n",
        "  # x1, y1, x2, y2 = 0, 0, 0, 0\n",
        "  x1, y1, x2, y2 = rect_x_y(4, 8)\n",
        "  # print([x1, y1, x2, y2 ])\n",
        "  while((x2 >=28)|(y2 >=28)):\n",
        "    x1, y1, x2, y2 = rect_x_y(4, 8)\n",
        "  # print([x1, y1, x2, y2 ])\n",
        "  data[x1:x2, y1:y2] = color\n",
        "  # img = im.fromarray(data)\n",
        "  return data.flatten()\n",
        "  # return img"
      ],
      "execution_count": null,
      "outputs": []
    },
    {
      "cell_type": "code",
      "metadata": {
        "id": "hJ-N_8DPAFCW",
        "colab_type": "code",
        "colab": {}
      },
      "source": [
        "def rect_random_angle(size, color):\n",
        "  data = np.zeros((size, size), dtype = np.uint8)\n",
        "  # x1, y1, x2, y2 = 0, 0, 0, 0\n",
        "  x1, y1, x2, y2 = rect_x_y(4, 8)\n",
        "  print([x1, y1, x2, y2 ])\n",
        "  while((x2 >=28)|(y2 >=28)):\n",
        "    x1, y1, x2, y2 = rect_x_y(4, 8)\n",
        "  print([x1, y1, x2, y2 ])\n",
        "  data[x1:x2, y1:y2] = color\n",
        "  rotates2 = rotate(data, angle = np.random.random()*365, reshape=False)\n",
        "  img = im.fromarray(rotates2)\n",
        "  # return data.flatten()\n",
        "  return img"
      ],
      "execution_count": null,
      "outputs": []
    },
    {
      "cell_type": "code",
      "metadata": {
        "id": "yUMjpTcdAndZ",
        "colab_type": "code",
        "colab": {
          "base_uri": "https://localhost:8080/",
          "height": 81
        },
        "outputId": "2192c4b4-5c02-4e45-8e01-bd2d4b781baa"
      },
      "source": [
        "rect_random_angle(28, 255)"
      ],
      "execution_count": null,
      "outputs": [
        {
          "output_type": "stream",
          "text": [
            "[4, 10, 8, 18]\n",
            "[4, 10, 8, 18]\n"
          ],
          "name": "stdout"
        },
        {
          "output_type": "execute_result",
          "data": {
            "image/png": "[encoded data removed]",
            "text/plain": [
              "<PIL.Image.Image image mode=L size=28x28 at 0x7F2EFE4B4B70>"
            ]
          },
          "metadata": {
            "tags": []
          },
          "execution_count": 294
        }
      ]
    },
    {
      "cell_type": "code",
      "metadata": {
        "id": "6UbFsNXWxw0Z",
        "colab_type": "code",
        "colab": {
          "base_uri": "https://localhost:8080/",
          "height": 45
        },
        "outputId": "5c350c19-6986-45ab-866a-060f14a3728c"
      },
      "source": [
        "size = 28\n",
        "color = 255\n",
        "data = np.zeros((size, size), dtype = np.uint8)\n",
        "# x1, y1, x2, y2 = 0, 0, 0, 0\n",
        "x1, y1, x2, y2 = rect_x_y(4, 8)\n",
        "# print([x1, y1, x2, y2 ])\n",
        "while((x2 >=28)|(y2 >=28)):\n",
        "  x1, y1, x2, y2 = rect_x_y(4, 8)\n",
        "# print([x1, y1, x2, y2 ])\n",
        "data[x1:x2, y1:y2] = color\n",
        "img = im.fromarray(data)\n",
        "img"
      ],
      "execution_count": null,
      "outputs": [
        {
          "output_type": "execute_result",
          "data": {
            "image/png": "[encoded data removed]",
            "text/plain": [
              "<PIL.Image.Image image mode=L size=28x28 at 0x7F2EFE5293C8>"
            ]
          },
          "metadata": {
            "tags": []
          },
          "execution_count": 300
        }
      ]
    },
    {
      "cell_type": "code",
      "metadata": {
        "id": "1qkyxonOPI8_",
        "colab_type": "code",
        "colab": {
          "base_uri": "https://localhost:8080/",
          "height": 45
        },
        "outputId": "2d16f574-b9d1-4669-d609-5ebb2ee4e718"
      },
      "source": [
        "rotates33 = np.rot90(data,2)\n",
        "img2 = im.fromarray(rotates33)\n",
        "img2"
      ],
      "execution_count": null,
      "outputs": [
        {
          "output_type": "execute_result",
          "data": {
            "image/png": "[encoded data removed]",
            "text/plain": [
              "<PIL.Image.Image image mode=L size=28x28 at 0x7F2EFE4BE748>"
            ]
          },
          "metadata": {
            "tags": []
          },
          "execution_count": 303
        }
      ]
    },
    {
      "cell_type": "code",
      "metadata": {
        "id": "xIXeBs6kPxxr",
        "colab_type": "code",
        "colab": {
          "base_uri": "https://localhost:8080/",
          "height": 35
        },
        "outputId": "3ef2315f-4dd9-47c6-baa7-438cd4d125a4"
      },
      "source": [
        "rotates33.shape"
      ],
      "execution_count": null,
      "outputs": [
        {
          "output_type": "execute_result",
          "data": {
            "text/plain": [
              "(28, 28)"
            ]
          },
          "metadata": {
            "tags": []
          },
          "execution_count": 304
        }
      ]
    },
    {
      "cell_type": "code",
      "metadata": {
        "id": "Rn-aoOU8Lits",
        "colab_type": "code",
        "colab": {
          "base_uri": "https://localhost:8080/",
          "height": 45
        },
        "outputId": "04df86dd-ac98-41c9-e748-cd2679bbe0c0"
      },
      "source": [
        "rotates2 = rotate(data, angle = np.random.random()*365, reshape=False, mode= 'constant')\n",
        "img = im.fromarray(rotates2)\n",
        "img"
      ],
      "execution_count": null,
      "outputs": [
        {
          "output_type": "execute_result",
          "data": {
            "image/png": "[encoded data removed]",
            "text/plain": [
              "<PIL.Image.Image image mode=L size=28x28 at 0x7F2F06170710>"
            ]
          },
          "metadata": {
            "tags": []
          },
          "execution_count": 299
        }
      ]
    },
    {
      "cell_type": "code",
      "metadata": {
        "id": "CWvp2YA1NUFk",
        "colab_type": "code",
        "colab": {
          "base_uri": "https://localhost:8080/",
          "height": 1000
        },
        "outputId": "a6a8cbd2-a02a-45bc-a628-4b23a5a22ed0"
      },
      "source": [
        "rotates2"
      ],
      "execution_count": null,
      "outputs": [
        {
          "output_type": "execute_result",
          "data": {
            "text/plain": [
              "array([[  0,   0,   0,   0,   0,   0,   0,   0,   0,   0,   0,   0,   0,\n",
              "          0,   0,   0,   0,   0,   0,   0,   0,   0,   0,   0,   0,   0,\n",
              "          0,   0],\n",
              "       [  0,   0,   0,   0,   0,   0,   0,   0,   0,   0,   0,   0,   0,\n",
              "          0,   0,   0,   0,   0,   0,   0,   0,   0,   0,   0,   0,   0,\n",
              "          0,   0],\n",
              "       [  0,   0,   0,   0,   0,   0,   0,   0,   0,   0,   0,   0,   0,\n",
              "          0,   0,   0,   0,   0,   0,   0,   0,   0,   0,   0,   0,   0,\n",
              "          0,   0],\n",
              "       [  0,   0,   0,   0,   0,   0,   0,   0,   0,   0,   0,   0,   0,\n",
              "          0,   0,   0,   0,   0,   0,   0,   0,   0,   0,   0,   0,   0,\n",
              "          0,   0],\n",
              "       [  0,   0,   0,   0,   0,   0,   0,   0,   0,   0,   0,   0,   0,\n",
              "          0,   0,   0,   0,   0,   0,   0,   0,   0,   0,   0,   0,   0,\n",
              "          0,   0],\n",
              "       [  0,   0,   0,   0,   0,   0,   0,   0,   0,   0,   0,   0,   0,\n",
              "          0,   0,   0,   0,   0,   0,   0,   0,   0,   0,   0,   0,   0,\n",
              "          0,   0],\n",
              "       [  0,   0,   0,   0,   0,   0,   0,   0,   0,   0,   0,   0,   0,\n",
              "          0,   0,   0,   0,   0,   0,   0,   0,   0,   0,   0,   0,   0,\n",
              "          0,   0],\n",
              "       [  0,   0,   0,   0,   0,   0,   0,   0,   0,   0,   0,   0,   0,\n",
              "          0,   0,   0,   0,   0,   0,   0,   0,   0,   0,   0,   0,   0,\n",
              "          0,   0],\n",
              "       [  0,   0,   0,   0,   0,   0,   0,   0,   0,   0,   0,   0,   0,\n",
              "          0,   0,   0,   0,   0,   0,   0,   0,   0,   0,   0,   0,   0,\n",
              "          0,   0],\n",
              "       [  0,   0,   0,   0,   0,   0,   0,   0,   0,   0,   0,   0,   0,\n",
              "          0,   0,   0,   0,   0,   0,   0,   0,   0,   0,   0,   0,   0,\n",
              "          0,   0],\n",
              "       [  0,   0,   0,   0,   0,   0,   0,   0,   0,   0,   0,   0,   0,\n",
              "          0,   0,   0,   0,   0,   0,   0,   0,   0,   0,   0,   0,   0,\n",
              "          0,   0],\n",
              "       [  0,   0,   0,   0,   0,   0,   0,   0,   0,   0,   0,   0,   0,\n",
              "          0,   0,   0,   0,   0,   0,   0,   0,   0,   0,   0,   0,   0,\n",
              "          0,   0],\n",
              "       [  0,   0,   0,   0,   0,   0,   0,   0,   0,   0,   0,   0,   0,\n",
              "          0,   0,   0,   0,   0,   0,   0,   0,   0,   0,   0,   0,   0,\n",
              "          0,   0],\n",
              "       [  0,   0,   0,   0,   0,   0,   0,   0,   0,   0,   0,   0,   0,\n",
              "          0,   0,   0,   0,   0,   0,   0,   0,   0,   0,   0,   0,   0,\n",
              "          0,   0],\n",
              "       [  0,   0,   0,   0,   0,   0,   0,   0,   0,   0,   0,   0,   0,\n",
              "          0,   0,   0,   0,   0,   0,   0,   0,   0,   0,   0,   0,   0,\n",
              "          0,   0],\n",
              "       [  0,   0,   0,   0,   0,   0,   0,   0,   0,   0,   0,   0,   0,\n",
              "          0,   0,   0,   0,   0,   0,   0,   0,   0,   0,   0,   0,   0,\n",
              "          0,   0],\n",
              "       [  0,   0,   0,   0,   0,   0,   0,   0,   0,   0,   0,   0,   0,\n",
              "          0,   0,   0,   0,   0,   1,   2,   2,   0,   0,   0,   0,   0,\n",
              "          0,   0],\n",
              "       [  0,   0,   0,   0,   0,   0,   0,   0,   0,   0,   0,   0,   0,\n",
              "          0,   0,   1,   2,   1,   0,   0,   0,   0,   3,   0,   0,   0,\n",
              "          0,   0],\n",
              "       [  0,   0,   0,   0,   0,   0,   0,   0,   0,   0,   0,   0,   0,\n",
              "          0,   0,   0,   0,   0,   3,  10,  11,   2,   0,   4,   0,   0,\n",
              "          1,   0],\n",
              "       [  0,   0,   0,   0,   0,   0,   0,   0,   0,   0,   0,   0,   0,\n",
              "          1,   0,   6,  11,  10,   0,   0,   0,   0,  41,   0,   0,   2,\n",
              "          0,   1],\n",
              "       [  0,   0,   0,   0,   0,   0,   0,   0,   0,   0,   0,   0,   0,\n",
              "          0,   1,   0,   0,   0,   3,  68, 154, 222, 255,  67,   0,   9,\n",
              "          0,   2],\n",
              "       [  0,   0,   0,   0,   0,   0,   0,   0,   0,   0,   0,   0,   0,\n",
              "          0,   2,  18, 103, 175, 255, 255, 255, 255, 255, 129,   0,  12,\n",
              "          0,   2],\n",
              "       [  0,   0,   0,   0,   0,   0,   0,   0,   0,   0,   0,   0,   0,\n",
              "          6,   0, 133, 255, 255, 255, 235, 233, 232, 255, 249,   0,   5,\n",
              "          0,   0],\n",
              "       [  0,   0,   0,   0,   0,   0,   0,   0,   0,   0,   0,   2,   0,\n",
              "          9,   0,  45, 254, 225, 248, 255, 255, 255, 243, 185,  12,   0,\n",
              "          0,   0],\n",
              "       [  0,   0,   0,   0,   0,   0,   0,   0,   0,   0,   0,   0,   0,\n",
              "          0,   2,   0, 255, 255, 255, 228, 142,  61,   0,   0,   0,   0,\n",
              "          0,   0],\n",
              "       [  0,   0,   0,   0,   0,   0,   0,   0,   0,   0,   0,   0,   2,\n",
              "          0,  14,   0, 122, 127,  34,   0,   0,   0,   0,   0,   0,   0,\n",
              "          0,   0],\n",
              "       [  0,   0,   0,   0,   0,   0,   0,   0,   0,   0,   0,   0,   2,\n",
              "          0,   4,   0,   0,   0,   0,   0,   0,   0,   0,   0,   0,   0,\n",
              "          0,   0],\n",
              "       [  0,   0,   0,   0,   0,   0,   0,   0,   0,   0,   0,   0,   0,\n",
              "          0,   0,   0,   0,   0,   0,   0,   0,   0,   0,   0,   0,   0,\n",
              "          0,   0]], dtype=uint8)"
            ]
          },
          "metadata": {
            "tags": []
          },
          "execution_count": 246
        }
      ]
    },
    {
      "cell_type": "code",
      "metadata": {
        "id": "QOJBIoirLdXq",
        "colab_type": "code",
        "colab": {}
      },
      "source": [
        "rotates2[np.where(rotates2 != 0)] = 255"
      ],
      "execution_count": null,
      "outputs": []
    },
    {
      "cell_type": "code",
      "metadata": {
        "id": "H2E4l3Ca0ii6",
        "colab_type": "code",
        "colab": {
          "base_uri": "https://localhost:8080/",
          "height": 265
        },
        "outputId": "41612710-55ba-4206-c1ee-b3e3d6cff4b7"
      },
      "source": [
        "fig = plt.figure()\n",
        "ax = fig.add_subplot(111)\n",
        "ax.pcolormesh(recData)\n",
        "ax.set_aspect('equal')\n",
        "plt.show()"
      ],
      "execution_count": null,
      "outputs": [
        {
          "output_type": "display_data",
          "data": {
            "image/png": "[encoded data removed]",
            "text/plain": [
              "<Figure size 432x288 with 1 Axes>"
            ]
          },
          "metadata": {
            "tags": [],
            "needs_background": "light"
          }
        }
      ]
    },
    {
      "cell_type": "markdown",
      "metadata": {
        "id": "LrU5jBXTwfGo",
        "colab_type": "text"
      },
      "source": [
        "### Triangles"
      ]
    },
    {
      "cell_type": "code",
      "metadata": {
        "id": "8uvARweQ0bmP",
        "colab_type": "code",
        "colab": {}
      },
      "source": [
        "def triangle(size, start_x, start_y, color, diagonals = -1):\n",
        "  data = np.zeros((size, size), dtype = np.uint8)\n",
        "  # define a rectangle\n",
        "  rows = start_x + 8 \n",
        "  cols = start_y + 8\n",
        "  data[start_x:rows, start_y:cols] = color\n",
        "  # return lower triangle of rectangle\n",
        "  data[start_x:rows, start_y:cols] = np.tril(data[start_x:rows, start_y:cols], diagonals)\n",
        "  # return upper half triangle of rectangle\n",
        "  # data[start_x:rows, start_y:cols] = np.triu(data[start_x:rows, start_y:cols], diagonals)\n",
        "  img = im.fromarray(data)\n",
        "  return data, img"
      ],
      "execution_count": null,
      "outputs": []
    },
    {
      "cell_type": "code",
      "metadata": {
        "id": "FplHpwYT7EZV",
        "colab_type": "code",
        "colab": {
          "base_uri": "https://localhost:8080/",
          "height": 273
        },
        "outputId": "e5dce883-5ce2-4f4b-8ac8-71147477b2f6"
      },
      "source": [
        "size, start_x, start_y, color, diagonals = 256, 100, 120, 255, -1\n",
        "data = np.zeros((size, size), dtype = np.uint8)\n",
        "# define a rectangle\n",
        "rows = start_x + 30\n",
        "cols = start_y + 30\n",
        "data[start_x:rows, start_y:cols] = color\n",
        "# return lower triangle of rectangle\n",
        "data[start_x:rows, start_y:cols] = np.tril(data[start_x:rows, start_y:cols], diagonals)\n",
        "# data[start_x:rows, start_y:cols, 2] = np.tril(data[start_x:rows, start_y:cols, 2], diagonals)\n",
        "# data[start_x:rows, start_y:cols, 0] = np.tril(data[start_x:rows, start_y:cols, 0], diagonals)\n",
        "# return upper half triangle of rectangle\n",
        "# data[start_x:rows, start_y:cols] = np.triu(data[start_x:rows, start_y:cols], diagonals)\n",
        "img = im.fromarray(data)\n",
        "img"
      ],
      "execution_count": null,
      "outputs": [
        {
          "output_type": "execute_result",
          "data": {
            "image/png": "[encoded data removed]",
            "text/plain": [
              "<PIL.Image.Image image mode=L size=256x256 at 0x7F2F06247128>"
            ]
          },
          "metadata": {
            "tags": []
          },
          "execution_count": 34
        }
      ]
    },
    {
      "cell_type": "code",
      "metadata": {
        "id": "UZ_yG5w6-4RM",
        "colab_type": "code",
        "colab": {
          "base_uri": "https://localhost:8080/",
          "height": 273
        },
        "outputId": "6e232164-532c-4746-e476-43711ae27c6e"
      },
      "source": [
        "rotates4 = rotate(data, angle = np.random.random()*365, reshape=False)\n",
        "img4 = im.fromarray(rotates4)\n",
        "img4"
      ],
      "execution_count": null,
      "outputs": [
        {
          "output_type": "execute_result",
          "data": {
            "image/png": "[encoded data removed]",
            "text/plain": [
              "<PIL.Image.Image image mode=L size=256x256 at 0x7F2F0625A2E8>"
            ]
          },
          "metadata": {
            "tags": []
          },
          "execution_count": 64
        }
      ]
    },
    {
      "cell_type": "code",
      "metadata": {
        "id": "co54QMAa_ETK",
        "colab_type": "code",
        "colab": {}
      },
      "source": [
        "def rect_x_y(height, width):\n",
        "  k = np.random.random_sample(size=2)\n",
        "  start_x = np.int(14*k[0])\n",
        "  start_y = np.int(14*k[1])\n",
        "  rows = start_x + height \n",
        "  cols = start_y + width\n",
        "  return start_x, start_y, rows, cols"
      ],
      "execution_count": null,
      "outputs": []
    },
    {
      "cell_type": "code",
      "metadata": {
        "id": "ZzbSGpChyV5W",
        "colab_type": "code",
        "colab": {}
      },
      "source": [
        "def triang_ran(size, color, diagonals = -1):\n",
        "  data = np.zeros((size, size), dtype = np.uint8)\n",
        "  # define a rectangle\n",
        "  start_x, start_y, rows, cols = rect_x_y(8, 8)\n",
        "  # print([start_x, start_y, rows, cols])\n",
        "  while((rows >=28)|(cols >=28)):\n",
        "    start_x, start_y, rows, cols = rect_x_y(8, 8)\n",
        "  # print([start_x, start_y, rows, cols])\n",
        "  data[start_x:rows, start_y:cols] = color\n",
        "  # return lower triangle of rectangle\n",
        "  if(np.random.random()>0.5):\n",
        "    data[start_x:rows, start_y:cols] = np.tril(data[start_x:rows, start_y:cols], diagonals)\n",
        "  else:\n",
        "    data[start_x:rows, start_y:cols] = np.triu(data[start_x:rows, start_y:cols], diagonals)\n",
        "\n",
        "  rotated = rotate(data, angle = np.random.random()*365, reshape=False)\n",
        "  # return upper half triangle of rectangle\n",
        "  img = im.fromarray(rotated)\n",
        "  return rotated.shape, img\n",
        "\n",
        "  # return data.flatten()"
      ],
      "execution_count": null,
      "outputs": []
    },
    {
      "cell_type": "code",
      "metadata": {
        "id": "PKpmj3oWDes3",
        "colab_type": "code",
        "colab": {
          "base_uri": "https://localhost:8080/",
          "height": 35
        },
        "outputId": "bc7861bf-a958-4616-aef8-b2ea4b743a67"
      },
      "source": [
        "triang_ran(28, 255)"
      ],
      "execution_count": null,
      "outputs": [
        {
          "output_type": "execute_result",
          "data": {
            "text/plain": [
              "((28, 28), <PIL.Image.Image image mode=L size=28x28 at 0x7F2F061B0AC8>)"
            ]
          },
          "metadata": {
            "tags": []
          },
          "execution_count": 231
        }
      ]
    },
    {
      "cell_type": "code",
      "metadata": {
        "id": "aetlegqG2NKG",
        "colab_type": "code",
        "colab": {
          "base_uri": "https://localhost:8080/",
          "height": 45
        },
        "outputId": "57b95046-1aff-46d5-eaf3-a6ddb4d980de"
      },
      "source": [
        "triaImg"
      ],
      "execution_count": null,
      "outputs": [
        {
          "output_type": "execute_result",
          "data": {
            "image/png": "[encoded data removed]",
            "text/plain": [
              "<PIL.Image.Image image mode=L size=28x28 at 0x7F67885E1908>"
            ]
          },
          "metadata": {
            "tags": []
          },
          "execution_count": 53
        }
      ]
    },
    {
      "cell_type": "markdown",
      "metadata": {
        "id": "MT59RdtiM08i",
        "colab_type": "text"
      },
      "source": [
        "### Random generate "
      ]
    },
    {
      "cell_type": "code",
      "metadata": {
        "id": "YXaTpFdBMyGX",
        "colab_type": "code",
        "colab": {}
      },
      "source": [
        "def random_shape():\n",
        "  data = np.array([])\n",
        "  name = \"\"\n",
        "  prob = np.random.random_sample()\n",
        "  if(prob<= 0.33333333333333333):\n",
        "    data = create_circle_random(28, 5, 255)\n",
        "    name = \"C\"\n",
        "  elif((prob> 0.33333333333333333) & (prob<= 0.66666666666666666)):\n",
        "    data = rect_random(28, 255)\n",
        "    name = \"R\"\n",
        "  else:\n",
        "    data = triang_ran(28, 255)\n",
        "    name = 'T'\n",
        "  return data, name"
      ],
      "execution_count": null,
      "outputs": []
    },
    {
      "cell_type": "markdown",
      "metadata": {
        "id": "5FIeXPgC5P8N",
        "colab_type": "text"
      },
      "source": [
        "#### Load data"
      ]
    },
    {
      "cell_type": "code",
      "metadata": {
        "id": "Qg7zselBQJhF",
        "colab_type": "code",
        "colab": {}
      },
      "source": [
        "# img = im.fromarray(np.reshape(shape_vect[0], (-1, 28)))\n",
        "# img"
      ],
      "execution_count": null,
      "outputs": []
    },
    {
      "cell_type": "code",
      "metadata": {
        "id": "S8vMzwPT5YLh",
        "colab_type": "code",
        "colab": {}
      },
      "source": [
        "def random_generate(size):\n",
        "  shape_vect = []\n",
        "  shape_name = []\n",
        "  for i in range(size):\n",
        "    s_vect, s_name = random_shape()\n",
        "    shape_vect.append(s_vect)\n",
        "    shape_name.append(s_name)\n",
        "  num_2d_shape = np.array(shape_vect).reshape(-1, 784)\n",
        "  return num_2d_shape, shape_name"
      ],
      "execution_count": null,
      "outputs": []
    },
    {
      "cell_type": "code",
      "metadata": {
        "id": "36CRFkml5vW8",
        "colab_type": "code",
        "colab": {}
      },
      "source": [
        "train_shape, train_name =  random_generate(1000)"
      ],
      "execution_count": null,
      "outputs": []
    },
    {
      "cell_type": "code",
      "metadata": {
        "id": "gRWU0X8S6Bk9",
        "colab_type": "code",
        "colab": {}
      },
      "source": [
        "test_shape, test_name =  random_generate(200)"
      ],
      "execution_count": null,
      "outputs": []
    },
    {
      "cell_type": "markdown",
      "metadata": {
        "id": "ATIF1bZfxc7g",
        "colab_type": "text"
      },
      "source": [
        "### Simple example of CNN"
      ]
    },
    {
      "cell_type": "code",
      "metadata": {
        "id": "NYUGkyRpC90s",
        "colab_type": "code",
        "colab": {}
      },
      "source": [
        "from keras.utils.np_utils import to_categorical"
      ],
      "execution_count": null,
      "outputs": []
    },
    {
      "cell_type": "markdown",
      "metadata": {
        "id": "6TEa39Z56KjK",
        "colab_type": "text"
      },
      "source": [
        "Normalization  CNN converg faster on [0..1] data than on [0..255]."
      ]
    },
    {
      "cell_type": "code",
      "metadata": {
        "id": "ax_g6LSzBJDK",
        "colab_type": "code",
        "colab": {}
      },
      "source": [
        "train_shape_N = train_shape/255.0\n",
        "test_shape_N = test_shape/255.0"
      ],
      "execution_count": null,
      "outputs": []
    },
    {
      "cell_type": "markdown",
      "metadata": {
        "id": "6SDthUeOBaJI",
        "colab_type": "text"
      },
      "source": [
        "Reshape"
      ]
    },
    {
      "cell_type": "code",
      "metadata": {
        "id": "dhhvZNClBYM0",
        "colab_type": "code",
        "colab": {}
      },
      "source": [
        "train_shape_R = train_shape_N.reshape(-1, 28, 28, 1)"
      ],
      "execution_count": null,
      "outputs": []
    },
    {
      "cell_type": "code",
      "metadata": {
        "id": "yOT_8BcACmpn",
        "colab_type": "code",
        "colab": {}
      },
      "source": [
        "test_shape_R = test_shape_N.reshape(-1, 28, 28, 1)"
      ],
      "execution_count": null,
      "outputs": []
    },
    {
      "cell_type": "markdown",
      "metadata": {
        "id": "n83mkBxOCy95",
        "colab_type": "text"
      },
      "source": [
        "Label encoding"
      ]
    },
    {
      "cell_type": "code",
      "metadata": {
        "id": "4f-dPZtHDqkd",
        "colab_type": "code",
        "colab": {}
      },
      "source": [
        "shape = ['C', \"T\", \"R\"]"
      ],
      "execution_count": null,
      "outputs": []
    },
    {
      "cell_type": "code",
      "metadata": {
        "id": "EjPPLW5FDj93",
        "colab_type": "code",
        "colab": {}
      },
      "source": [
        "# Mapping \n",
        "mapping = {}\n",
        "for x in range(len(shape)):\n",
        "  mapping[shape[x]] = x"
      ],
      "execution_count": null,
      "outputs": []
    },
    {
      "cell_type": "code",
      "metadata": {
        "id": "0wiau5mHGfoi",
        "colab_type": "code",
        "colab": {
          "base_uri": "https://localhost:8080/",
          "height": 34
        },
        "outputId": "b2c45609-6de6-402a-9b1f-78993c04819c"
      },
      "source": [
        "mapping"
      ],
      "execution_count": null,
      "outputs": [
        {
          "output_type": "execute_result",
          "data": {
            "text/plain": [
              "{'C': 0, 'R': 2, 'T': 1}"
            ]
          },
          "metadata": {
            "tags": []
          },
          "execution_count": 69
        }
      ]
    },
    {
      "cell_type": "code",
      "metadata": {
        "id": "OaNLdNdKD7aQ",
        "colab_type": "code",
        "colab": {}
      },
      "source": [
        "# Integer representation\n",
        "for x in range(len(train_name)):\n",
        "  train_name[x] = mapping[train_name[x]]"
      ],
      "execution_count": null,
      "outputs": []
    },
    {
      "cell_type": "code",
      "metadata": {
        "id": "KrPCnNEdCyIh",
        "colab_type": "code",
        "colab": {}
      },
      "source": [
        "y = to_categorical(train_name)"
      ],
      "execution_count": null,
      "outputs": []
    },
    {
      "cell_type": "markdown",
      "metadata": {
        "id": "7vw5xbbSEtIK",
        "colab_type": "text"
      },
      "source": [
        "split training and validation set"
      ]
    },
    {
      "cell_type": "code",
      "metadata": {
        "id": "hV1g4VpxFEgQ",
        "colab_type": "code",
        "colab": {}
      },
      "source": [
        "from sklearn.model_selection import train_test_split"
      ],
      "execution_count": null,
      "outputs": []
    },
    {
      "cell_type": "code",
      "metadata": {
        "id": "GVOxbAM9EhfT",
        "colab_type": "code",
        "colab": {}
      },
      "source": [
        "X_train, X_test, y_train, y_test = train_test_split(train_shape_R, y, test_size = 0.2, random_state = 0)"
      ],
      "execution_count": null,
      "outputs": []
    },
    {
      "cell_type": "markdown",
      "metadata": {
        "id": "b7Z634FBFjoC",
        "colab_type": "text"
      },
      "source": [
        "Data visualization"
      ]
    },
    {
      "cell_type": "code",
      "metadata": {
        "id": "WEgo_CD3FagV",
        "colab_type": "code",
        "colab": {}
      },
      "source": [
        "X_train__ = X_train.reshape(X_train.shape[0], 28, 28)"
      ],
      "execution_count": null,
      "outputs": []
    },
    {
      "cell_type": "code",
      "metadata": {
        "id": "xylfwaKuF8bY",
        "colab_type": "code",
        "colab": {
          "base_uri": "https://localhost:8080/",
          "height": 307
        },
        "outputId": "147b0b68-afcc-413d-fcbd-f724028fc624"
      },
      "source": [
        "fig, axis = plt.subplots(1, 4, figsize = (20, 10))\n",
        "for i, ax in enumerate(axis.flat):\n",
        "  ax.imshow(X_train__[i], cmap = 'binary')\n",
        "  digit = y_train[i].argmax()\n",
        "  ax.set(title = f\"real number is {digit}\")"
      ],
      "execution_count": null,
      "outputs": [
        {
          "output_type": "display_data",
          "data": {
            "image/png": "[encoded data removed]",
            "text/plain": [
              "<Figure size 1440x720 with 4 Axes>"
            ]
          },
          "metadata": {
            "tags": [],
            "needs_background": "light"
          }
        }
      ]
    },
    {
      "cell_type": "markdown",
      "metadata": {
        "id": "m0tJtOH3GlYy",
        "colab_type": "text"
      },
      "source": [
        "normalization"
      ]
    },
    {
      "cell_type": "code",
      "metadata": {
        "id": "-OTYvaaLGk8S",
        "colab_type": "code",
        "colab": {}
      },
      "source": [
        "mean = np.mean(X_train)\n",
        "std = np.std(X_train)\n",
        "def standardize(x):\n",
        "  return(x - mean)/std"
      ],
      "execution_count": null,
      "outputs": []
    },
    {
      "cell_type": "code",
      "metadata": {
        "id": "p-A7Q6YLGeMZ",
        "colab_type": "code",
        "colab": {}
      },
      "source": [
        "epoch = 10\n",
        "batch_sizes = 10"
      ],
      "execution_count": null,
      "outputs": []
    },
    {
      "cell_type": "markdown",
      "metadata": {
        "id": "CQH3QZhPl7_M",
        "colab_type": "text"
      },
      "source": [
        "Define the model\n",
        "Conv (filter)\n",
        "32 filters for the 2* conv2D layers\n",
        "64 filters for the two second layers\n",
        "128 filters for two third layers \n",
        "256 for the last ones\n",
        "\n",
        "Pooling\n",
        "\n",
        "Maxpooling 2D - Downsampling filter\n",
        "- reduce overfitting\n",
        "\n",
        "Convolutional + pooling layers allow CNN to combine local features and learn more global features of image.\n",
        "\n",
        "Flatten layer - Convert the final feature maps into a one single 1D vector. - Allow you make use of fully connected layer.\n"
      ]
    },
    {
      "cell_type": "code",
      "metadata": {
        "id": "pExiCQARgj6J",
        "colab_type": "code",
        "colab": {
          "base_uri": "https://localhost:8080/",
          "height": 70
        },
        "outputId": "38fac74d-f1b5-4fd4-8651-16d941702b6b"
      },
      "source": [
        "from keras.models import Sequential\n",
        "from keras.layers import Conv2D, Lambda, MaxPooling2D\n",
        "from keras.layers import Dense, Dropout, Flatten\n",
        "from keras.layers.normalization import BatchNormalization\n",
        "from keras.preprocessing.image import ImageDataGenerator\n",
        "from sklearn.metrics import confusion_matrix\n",
        "import seaborn as sns"
      ],
      "execution_count": null,
      "outputs": [
        {
          "output_type": "stream",
          "text": [
            "/usr/local/lib/python3.6/dist-packages/statsmodels/tools/_testing.py:19: FutureWarning: pandas.util.testing is deprecated. Use the functions in the public API at pandas.testing instead.\n",
            "  import pandas.util.testing as tm\n"
          ],
          "name": "stderr"
        }
      ]
    },
    {
      "cell_type": "code",
      "metadata": {
        "id": "ICFVxs0hotSw",
        "colab_type": "code",
        "colab": {}
      },
      "source": [
        "model = Sequential()\n",
        "model.add(Conv2D(filters=64, kernel_size= (3, 3), activation=\"relu\", input_shape = (28, 28, 1)))\n",
        "model.add(Conv2D(filters=64, kernel_size= (3, 3), activation=\"relu\", input_shape = (28, 28, 1)))"
      ],
      "execution_count": null,
      "outputs": []
    },
    {
      "cell_type": "code",
      "metadata": {
        "id": "PJQbdtoNpQBB",
        "colab_type": "code",
        "colab": {}
      },
      "source": [
        "model.add(MaxPooling2D(pool_size = (2, 2)))\n",
        "model.add(BatchNormalization())\n",
        "model.add(Conv2D(filters=128, kernel_size=(3, 3), activation = 'relu'))\n",
        "model.add(Conv2D(filters=128, kernel_size=(3, 3), activation = 'relu'))\n",
        "\n",
        "model.add(MaxPooling2D(pool_size= (2, 2)))\n",
        "model.add(BatchNormalization())\n",
        "model.add(Conv2D(filters=256, kernel_size=(3, 3), activation = 'relu'))"
      ],
      "execution_count": null,
      "outputs": []
    },
    {
      "cell_type": "code",
      "metadata": {
        "id": "aCbnHcTXrTug",
        "colab_type": "code",
        "colab": {}
      },
      "source": [
        "model.add(MaxPooling2D(pool_size=(2, 2)))"
      ],
      "execution_count": null,
      "outputs": []
    },
    {
      "cell_type": "code",
      "metadata": {
        "id": "UQwtnBpjroUX",
        "colab_type": "code",
        "colab": {}
      },
      "source": [
        "model.add(Flatten())\n",
        "model.add(BatchNormalization())\n",
        "model.add(Dense(3, activation= \"softmax\"))\n",
        "model.compile(loss= \"categorical_crossentropy\", optimizer='adam', metrics=['accuracy'])"
      ],
      "execution_count": null,
      "outputs": []
    },
    {
      "cell_type": "markdown",
      "metadata": {
        "id": "spzd5JkAurrb",
        "colab_type": "text"
      },
      "source": [
        "Data augmentation\n",
        "- alter the training data with small transformation to reproduce the variations occuring when drawing the rectangle?\n",
        "- alter the training data in ways that change the array representation while keeping the label the same.\n",
        "- Popular augmentations: grayscales, horizontal flips, vertical flips, random crops, color jitters, translation, rotations."
      ]
    },
    {
      "cell_type": "code",
      "metadata": {
        "id": "mc3jv_SGnV1c",
        "colab_type": "code",
        "colab": {}
      },
      "source": [
        "datagen = ImageDataGenerator(featurewise_center=False, samplewise_center = False,\n",
        "                             featurewise_std_normalization =False, samplewise_std_normalization = False,\n",
        "                             zca_whitening = False, rotation_range = 10, horizontal_flip = True, vertical_flip = True)"
      ],
      "execution_count": null,
      "outputs": []
    },
    {
      "cell_type": "markdown",
      "metadata": {
        "id": "SW_O9Ipdpx-0",
        "colab_type": "text"
      },
      "source": [
        "- Randomly rotate some training images by 10%\n",
        "- randomly horizontal flip some training image\n",
        "- randomly vertical flip some training image\n",
        "- I did not apply zoom in nor shift image hirzontally or vertically, because object has random position in the image, some very near the side, zoom in or shift images may make the object dispear."
      ]
    },
    {
      "cell_type": "code",
      "metadata": {
        "id": "xU29qzEgukLl",
        "colab_type": "code",
        "colab": {}
      },
      "source": [
        "# transform the image data\n",
        "train_gen = datagen.flow(X_train, y_train, batch_size=batch_sizes)\n",
        "test_gen = datagen.flow(X_test, y_test, batch_size=batch_sizes)"
      ],
      "execution_count": null,
      "outputs": []
    },
    {
      "cell_type": "markdown",
      "metadata": {
        "id": "P01Q-DNXpoW1",
        "colab_type": "text"
      },
      "source": [
        "#### Model training"
      ]
    },
    {
      "cell_type": "code",
      "metadata": {
        "id": "bNQ1sT0bpuT0",
        "colab_type": "code",
        "colab": {}
      },
      "source": [
        "history = model.fit_generator(generator=train_gen, epochs= epoch, steps_per_epoch= X_train.shape[0] // batch_sizes, validation_data=test_gen, validation_steps = X_test.shape[0] // batch_sizes)"
      ],
      "execution_count": null,
      "outputs": []
    },
    {
      "cell_type": "markdown",
      "metadata": {
        "id": "URuzKxKXmMTd",
        "colab_type": "text"
      },
      "source": [
        "Plot CNN model"
      ]
    },
    {
      "cell_type": "code",
      "metadata": {
        "id": "v-bOZlwDmLyr",
        "colab_type": "code",
        "colab": {}
      },
      "source": [
        "from keras.utils.vis_utils import plot_model"
      ],
      "execution_count": null,
      "outputs": []
    },
    {
      "cell_type": "code",
      "metadata": {
        "id": "ZWAm3nu6mSWv",
        "colab_type": "code",
        "colab": {
          "base_uri": "https://localhost:8080/",
          "height": 1000
        },
        "outputId": "deb6ac7a-8c74-4382-a4fc-21c637b0a3fd"
      },
      "source": [
        "plot_model(model, to_file='model_plot.png', show_shapes=True, show_layer_names=True)"
      ],
      "execution_count": null,
      "outputs": [
        {
          "output_type": "execute_result",
          "data": {
            "image/png": "[encoded data removed]",
            "text/plain": [
              "<IPython.core.display.Image object>"
            ]
          },
          "metadata": {
            "tags": []
          },
          "execution_count": 37
        }
      ]
    },
    {
      "cell_type": "markdown",
      "metadata": {
        "id": "OltLyAZxnLke",
        "colab_type": "text"
      },
      "source": [
        "Evaluate the model"
      ]
    },
    {
      "cell_type": "markdown",
      "metadata": {
        "id": "zaeduySGnPI9",
        "colab_type": "text"
      },
      "source": [
        "Training and validation curves"
      ]
    },
    {
      "cell_type": "code",
      "metadata": {
        "id": "IcluraA9mllE",
        "colab_type": "code",
        "colab": {
          "base_uri": "https://localhost:8080/",
          "height": 592
        },
        "outputId": "0c1e6b46-a3db-4c20-f7ee-d9b5f70343f1"
      },
      "source": [
        "fig, ax = plt.subplots(2, 1, figsize = (18, 10))\n",
        "ax[0].plot(history.history['loss'], color = 'b', label = \"Training loss\")\n",
        "ax[0].plot(history.history['val_loss'], color = 'r', label = 'validation loss', axes = ax[0])\n",
        "legend = ax[0].legend(loc = 'best', shadow = True)\n",
        "ax[1].plot(history.history['accuracy'], color = 'b', label = 'Training accuracy')\n",
        "ax[1].plot(history.history['val_accuracy'], color = 'r', label = 'validation accuracy')\n",
        "legend = ax[1].legend(loc = 'best', shadow = True)"
      ],
      "execution_count": null,
      "outputs": [
        {
          "output_type": "display_data",
          "data": {
            "image/png": "[encoded data removed]",
            "text/plain": [
              "<Figure size 1296x720 with 2 Axes>"
            ]
          },
          "metadata": {
            "tags": [],
            "needs_background": "light"
          }
        }
      ]
    },
    {
      "cell_type": "markdown",
      "metadata": {
        "id": "O2P4XMEapSEW",
        "colab_type": "text"
      },
      "source": [
        "Confusion matrix"
      ]
    },
    {
      "cell_type": "code",
      "metadata": {
        "id": "yCwswke0pRTG",
        "colab_type": "code",
        "colab": {
          "base_uri": "https://localhost:8080/",
          "height": 225
        },
        "outputId": "0490225d-10f0-4295-f2d4-59c42508be6e"
      },
      "source": [
        "fig = plt.figure(figsize=(3, 3))\n",
        "y_pred = model.predict(X_test)\n",
        "Y_pred = np.argmax(y_pred, 1)\n",
        "Y_test = np.argmax(y_test, 1)\n",
        "\n",
        "mat = confusion_matrix(Y_test, Y_pred)\n",
        "\n",
        "sns.heatmap(mat.T, square=True, annot=True, cbar= False, cmap=plt.cm.Blues)\n",
        "plt.xlabel('Predicted Values')\n",
        "plt.ylabel('True Values')\n",
        "plt.show()"
      ],
      "execution_count": null,
      "outputs": [
        {
          "output_type": "display_data",
          "data": {
            "image/png": "[encoded data removed]",
            "text/plain": [
              "<Figure size 216x216 with 1 Axes>"
            ]
          },
          "metadata": {
            "tags": [],
            "needs_background": "light"
          }
        }
      ]
    },
    {
      "cell_type": "code",
      "metadata": {
        "id": "-XXrdUsJrZIU",
        "colab_type": "code",
        "colab": {
          "base_uri": "https://localhost:8080/",
          "height": 34
        },
        "outputId": "a4f2b0e7-4fa6-4caa-dc17-103468f0d498"
      },
      "source": [
        "mapping"
      ],
      "execution_count": null,
      "outputs": [
        {
          "output_type": "execute_result",
          "data": {
            "text/plain": [
              "{'C': 0, 'R': 2, 'T': 1}"
            ]
          },
          "metadata": {
            "tags": []
          },
          "execution_count": 44
        }
      ]
    },
    {
      "cell_type": "markdown",
      "metadata": {
        "id": "PmRdk7TEsHg7",
        "colab_type": "text"
      },
      "source": [
        "Prediction "
      ]
    },
    {
      "cell_type": "code",
      "metadata": {
        "id": "51ccoFvTsaUd",
        "colab_type": "code",
        "colab": {
          "base_uri": "https://localhost:8080/",
          "height": 820
        },
        "outputId": "49201a36-b5f5-4416-95b7-7fc6f84a5f17"
      },
      "source": [
        "y_pred = model.predict(X_test)\n",
        "X_test__ = X_test.reshape(X_test.shape[0], 28, 28)\n",
        "\n",
        "fig, axis = plt.subplots(4, 4, figsize = (12, 14))\n",
        "for i, ax in enumerate(axis.flat):\n",
        "  ax.imshow(X_test__[i], cmap = 'binary')\n",
        "  ax.set(title = f'Real Number is {y_test[i].argmax()}\\n Predict Number is {y_pred[i].argmax()}')"
      ],
      "execution_count": null,
      "outputs": [
        {
          "output_type": "display_data",
          "data": {
            "image/png": "[encoded data removed]",
            "text/plain": [
              "<Figure size 864x1008 with 16 Axes>"
            ]
          },
          "metadata": {
            "tags": [],
            "needs_background": "light"
          }
        }
      ]
    },
    {
      "cell_type": "markdown",
      "metadata": {
        "id": "3cYKCibKOfAQ",
        "colab_type": "text"
      },
      "source": [
        "new rec"
      ]
    },
    {
      "cell_type": "code",
      "metadata": {
        "id": "2HzXlZMpOdQf",
        "colab_type": "code",
        "colab": {}
      },
      "source": [
        "import numpy as np\n",
        "import matplotlib.pyplot as plt\n",
        "\n",
        "# Python Imaging Library imports\n",
        "from PIL import Image, ImageDraw"
      ],
      "execution_count": 1,
      "outputs": []
    },
    {
      "cell_type": "code",
      "metadata": {
        "id": "ewWiT_9SPWtT",
        "colab_type": "code",
        "colab": {}
      },
      "source": [
        "def get_rect(x, y, width, height, angle):\n",
        "  rect = np.array([(0, 0), (width, 0), (width, height), (0, height), (0, 0)])\n",
        "  theta = (np.pi / 180.0) * angle\n",
        "  R = np.array([[np.cos(theta), -np.sin(theta)], [np.sin(theta), np.cos(theta)]])\n",
        "  offset = np.array([x, y])\n",
        "  transformed_rect = np.dot(rect, R) + offset\n",
        "  return transformed_rect"
      ],
      "execution_count": 12,
      "outputs": []
    },
    {
      "cell_type": "code",
      "metadata": {
        "id": "XkaW-xhZUdo4",
        "colab_type": "code",
        "colab": {}
      },
      "source": [
        "def rec_angle(size, x, y, width, height, angle):\n",
        "  data = np.zeros((size, size), dtype = np.uint8)\n",
        "  img = Image.fromarray(data)\n",
        "  draw = ImageDraw.Draw(img)\n",
        "  rect = get_rect(x = x, y = y, width = width, height = height, angle = angle)\n",
        "  rect1 = rect[0:4]\n",
        "  draw.polygon([tuple(p) for p in rect1], fill= 255)\n",
        "  # new_data = np.asarray(img)\n",
        "  return img\n"
      ],
      "execution_count": 52,
      "outputs": []
    },
    {
      "cell_type": "code",
      "metadata": {
        "id": "HZIou2ukVO8q",
        "colab_type": "code",
        "colab": {}
      },
      "source": [
        "rec_angle(x = 200, y = 300, width = 20, height = 80, angle = 32)"
      ],
      "execution_count": null,
      "outputs": []
    },
    {
      "cell_type": "code",
      "metadata": {
        "id": "rSn1g1BXSSVs",
        "colab_type": "code",
        "colab": {}
      },
      "source": [
        "size =512\n",
        "data = np.zeros((size, size), dtype = np.uint8)"
      ],
      "execution_count": 13,
      "outputs": []
    },
    {
      "cell_type": "code",
      "metadata": {
        "id": "TAt2sCfqTnIw",
        "colab_type": "code",
        "colab": {
          "base_uri": "https://localhost:8080/",
          "height": 529
        },
        "outputId": "a1ff6fa2-c5a4-4eaa-b7b0-4652076e6cb5"
      },
      "source": [
        "img = Image.fromarray(data)\n",
        "draw = ImageDraw.Draw(img)\n",
        "rect = get_rect(x = 200, y = 300, width = 20, height = 80, angle = 32)\n",
        "rect1 = rect[0:4]\n",
        "draw.polygon([tuple(p) for p in rect1], fill= 255)\n",
        "img"
      ],
      "execution_count": 44,
      "outputs": [
        {
          "output_type": "execute_result",
          "data": {
            "image/png": "[encoded data removed]",
            "text/plain": [
              "<PIL.Image.Image image mode=L size=512x512 at 0x7FAAB889A780>"
            ]
          },
          "metadata": {
            "tags": []
          },
          "execution_count": 44
        }
      ]
    },
    {
      "cell_type": "code",
      "metadata": {
        "id": "KwMXWDXCaB0c",
        "colab_type": "code",
        "colab": {
          "base_uri": "https://localhost:8080/",
          "height": 35
        },
        "outputId": "48898e5a-594e-4efd-ea01-d62c9982ad0c"
      },
      "source": [
        "np.unique(img)\n",
        "new_data = np.asarray(img)"
      ],
      "execution_count": 39,
      "outputs": [
        {
          "output_type": "execute_result",
          "data": {
            "text/plain": [
              "array([  0, 255], dtype=uint8)"
            ]
          },
          "metadata": {
            "tags": []
          },
          "execution_count": 39
        }
      ]
    },
    {
      "cell_type": "code",
      "metadata": {
        "id": "5yqEMPCMUMnw",
        "colab_type": "code",
        "colab": {
          "base_uri": "https://localhost:8080/",
          "height": 529
        },
        "outputId": "82fcf23e-a135-45d5-b340-cd50832eed32"
      },
      "source": [
        "img = Image.fromarray(data)\n",
        "draw = ImageDraw.Draw(img)\n",
        "rect = get_rect(x = 100, y = 300, width = 80, height = 80, angle = 190)\n",
        "tri = rect[0:3]\n",
        "draw.polygon([tuple(p) for p in tri], fill= 255)\n",
        "img"
      ],
      "execution_count": 50,
      "outputs": [
        {
          "output_type": "execute_result",
          "data": {
            "image/png": "[encoded data removed]",
            "text/plain": [
              "<PIL.Image.Image image mode=L size=512x512 at 0x7FAAB8997F28>"
            ]
          },
          "metadata": {
            "tags": []
          },
          "execution_count": 50
        }
      ]
    }
  ]
}