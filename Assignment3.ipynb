{
  "nbformat": 4,
  "nbformat_minor": 0,
  "metadata": {
    "colab": {
      "name": "Assignment3.ipynb",
      "provenance": [],
      "authorship_tag": "ABX9TyMphgYy4xi75/1ws5yJl7Ne",
      "include_colab_link": true
    },
    "kernelspec": {
      "name": "python3",
      "display_name": "Python 3"
    }
  },
  "cells": [
    {
      "cell_type": "markdown",
      "metadata": {
        "id": "view-in-github",
        "colab_type": "text"
      },
      "source": [
        "<a href=\"https://colab.research.google.com/github/wdon021/From_Colab/blob/master/Assignment3.ipynb\" target=\"_parent\"><img src=\"https://colab.research.google.com/assets/colab-badge.svg\" alt=\"Open In Colab\"/></a>"
      ]
    },
    {
      "cell_type": "code",
      "metadata": {
        "id": "L2pvx1GqHzRE",
        "colab_type": "code",
        "colab": {}
      },
      "source": [
        "import numpy as np\n",
        "# import scipy.misc as smp\n",
        "from PIL import Image as im\n",
        "import matplotlib.pyplot as plt\n",
        "%matplotlib inline\n",
        "from IPython.display import Image, display"
      ],
      "execution_count": 1,
      "outputs": []
    },
    {
      "cell_type": "markdown",
      "metadata": {
        "id": "lpyb1gVVarao",
        "colab_type": "text"
      },
      "source": [
        "# circle"
      ]
    },
    {
      "cell_type": "code",
      "metadata": {
        "id": "B1TyktDTbGmP",
        "colab_type": "code",
        "colab": {}
      },
      "source": [
        "def create_circle(size, rows, cols, radius, color):\n",
        "  data = np.zeros((size, size), dtype = np.uint8)\n",
        "  ci,cj = rows, cols\n",
        "  cr = radius\n",
        "  I,J = np.meshgrid(np.arange(data.shape[0]), np.arange(data.shape[1]))\n",
        "  # basic formula for a circle (x - a)**2 + (y - b)**2 = r**2\n",
        "  # calculate the radius\n",
        "  dist = np.sqrt((I-ci)**2 +(J-cj)**2)\n",
        "  # Assign value of any for those points within radius\n",
        "  data[np.where(dist<cr)] = color\n",
        "  img = im.fromarray(data)\n",
        "  return data, img"
      ],
      "execution_count": 2,
      "outputs": []
    },
    {
      "cell_type": "code",
      "metadata": {
        "id": "YNLJIIFecnRm",
        "colab_type": "code",
        "colab": {}
      },
      "source": [
        "plot1, img1 = create_circle(400, 132, 145, 20, 255)"
      ],
      "execution_count": 3,
      "outputs": []
    },
    {
      "cell_type": "code",
      "metadata": {
        "id": "IoiOHK7SXsXr",
        "colab_type": "code",
        "colab": {
          "base_uri": "https://localhost:8080/",
          "height": 269
        },
        "outputId": "73492dc8-9df4-4f12-df58-ab878defe044"
      },
      "source": [
        "fig = plt.figure()\n",
        "ax = fig.add_subplot(111)\n",
        "ax.pcolormesh(plot1)\n",
        "ax.set_aspect('equal')\n",
        "plt.show()"
      ],
      "execution_count": 59,
      "outputs": [
        {
          "output_type": "display_data",
          "data": {
            "image/png": "[encoded data removed]",
            "text/plain": [
              "<Figure size 432x288 with 1 Axes>"
            ]
          },
          "metadata": {
            "tags": [],
            "needs_background": "light"
          }
        }
      ]
    }
  ]
}