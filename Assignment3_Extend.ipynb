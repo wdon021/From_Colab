{
  "nbformat": 4,
  "nbformat_minor": 0,
  "metadata": {
    "colab": {
      "name": "Assignment3_Extend.ipynb",
      "provenance": [],
      "authorship_tag": "ABX9TyMWTiraKWtgwY66EgexGh4E",
      "include_colab_link": true
    },
    "kernelspec": {
      "name": "python3",
      "display_name": "Python 3"
    }
  },
  "cells": [
    {
      "cell_type": "markdown",
      "metadata": {
        "id": "view-in-github",
        "colab_type": "text"
      },
      "source": [
        "<a href=\"https://colab.research.google.com/github/wdon021/From_Colab/blob/master/Assignment3_Extend.ipynb\" target=\"_parent\"><img src=\"https://colab.research.google.com/assets/colab-badge.svg\" alt=\"Open In Colab\"/></a>"
      ]
    },
    {
      "cell_type": "code",
      "metadata": {
        "id": "SrWisMJJuu5W",
        "colab_type": "code",
        "colab": {}
      },
      "source": [
        "import numpy as np\n",
        "# import scipy.misc as smp\n",
        "from PIL import Image as im\n",
        "import matplotlib.pyplot as plt\n",
        "%matplotlib inline\n",
        "from IPython.display import Image, display\n",
        "import pandas as pd\n",
        "from scipy.ndimage.interpolation import rotate\n",
        "from PIL import ImageDraw"
      ],
      "execution_count": 1,
      "outputs": []
    },
    {
      "cell_type": "markdown",
      "metadata": {
        "id": "zBsk7xXvvHt1",
        "colab_type": "text"
      },
      "source": [
        "Circle (randomly)\n",
        "- default\n",
        "- rotated blur circle\n",
        "- different size"
      ]
    },
    {
      "cell_type": "code",
      "metadata": {
        "id": "hCkUm2xEvG3d",
        "colab_type": "code",
        "colab": {}
      },
      "source": [
        "def create_circle_random(size = 28, radius = 5, color = 255):\n",
        "  k = np.random.random_sample(size=2)\n",
        "  col_random = np.int(16*k[0])+6\n",
        "  row_random = np.int(16*k[1])+6\n",
        "  data = np.zeros((size, size), dtype = np.uint8)\n",
        "  ci,cj = row_random, col_random\n",
        "  cr = radius\n",
        "  # cr = round(np.round(radius+np.random.random()))\n",
        "  # if(np.random.random()>0.5):\n",
        "  #   cr = np.round(radius-np.random.random()*2)\n",
        "  if(((col_random+cr)>=28) | ((col_random-cr)<1)):\n",
        "    print(\"col_random is out of bound\")\n",
        "  if(((row_random+cr)>=28) | ((row_random-cr)<1)):\n",
        "    print(\"row_random is out of bound\")\n",
        "  I,J = np.meshgrid(np.arange(data.shape[0]), np.arange(data.shape[1]))\n",
        "  # basic formula for a circle (x - a)**2 + (y - b)**2 = r**2\n",
        "  # calculate the radius\n",
        "  dist = np.sqrt((I-ci)**2 +(J-cj)**2)\n",
        "  # Assign value of any for those points within radius\n",
        "  data[np.where(dist<cr)] = color\n",
        "  if(np.random.random()>0.5):\n",
        "    data = rotate(data, angle = np.random.random()*365, reshape=False)\n",
        "  # img = im.fromarray(data)\n",
        "  return data.flatten()"
      ],
      "execution_count": 2,
      "outputs": []
    },
    {
      "cell_type": "markdown",
      "metadata": {
        "id": "jx3qyg9-xpqG",
        "colab_type": "text"
      },
      "source": [
        "Rectangle\n",
        "- default\n",
        "- numpy.rotate"
      ]
    },
    {
      "cell_type": "code",
      "metadata": {
        "id": "LEZJiq6PxryG",
        "colab_type": "code",
        "colab": {}
      },
      "source": [
        "def rect_x_y(height, width):\n",
        "  k = np.random.random_sample(size=2)\n",
        "  start_x = np.int(20*k[0])\n",
        "  start_y = np.int(20*k[1])\n",
        "  rows = start_x + height \n",
        "  cols = start_y + width\n",
        "  return start_x, start_y, rows, cols"
      ],
      "execution_count": 3,
      "outputs": []
    },
    {
      "cell_type": "code",
      "metadata": {
        "id": "JMO1fDWBO0eh",
        "colab_type": "code",
        "colab": {}
      },
      "source": [
        "def get_rect(x, y, width, height, angle):\n",
        "  rect = np.array([(0, 0), (width, 0), (width, height), (0, height), (0, 0)])\n",
        "  theta = (np.pi / 180.0) * angle\n",
        "  R = np.array([[np.cos(theta), -np.sin(theta)], [np.sin(theta), np.cos(theta)]])\n",
        "  offset = np.array([x, y])\n",
        "  transformed_rect = np.dot(rect, R) + offset\n",
        "  return transformed_rect"
      ],
      "execution_count": 4,
      "outputs": []
    },
    {
      "cell_type": "code",
      "metadata": {
        "id": "aD9JI77sO_2b",
        "colab_type": "code",
        "colab": {}
      },
      "source": [
        "def rec_angle(size, x, y, width, height):\n",
        "  angles = np.round(np.random.random()*365)\n",
        "  data = np.zeros((size, size), dtype = np.uint8)\n",
        "  img = im.fromarray(data)\n",
        "  draw = ImageDraw.Draw(img)\n",
        "  rect = get_rect(x = x, y = y, width = width, height = height, angle = angles)\n",
        "  # rect1 = rect[0:4]\n",
        "  draw.polygon([tuple(p) for p in rect], fill= 255)\n",
        "  new_data = np.asarray(img)\n",
        "  return new_data"
      ],
      "execution_count": 5,
      "outputs": []
    },
    {
      "cell_type": "code",
      "metadata": {
        "id": "QHHTPNJCx7fr",
        "colab_type": "code",
        "colab": {}
      },
      "source": [
        "def rect_random(size, color):\n",
        "  data = np.zeros((size, size), dtype = np.uint8)\n",
        "  # x1, y1, x2, y2 = 0, 0, 0, 0\n",
        "  x1, y1, x2, y2 = rect_x_y(4, 8)\n",
        "  # print([x1, y1, x2, y2 ])\n",
        "  while((x2 >=28)|(y2 >=28)):\n",
        "    x1, y1, x2, y2 = rect_x_y(4, 8)\n",
        "  # print([x1, y1, x2, y2 ])\n",
        "  data[x1:x2, y1:y2] = color\n",
        "  data = np.rot90(data, k=np.round(np.random.random()*3))\n",
        "  if(np.random.random()>0.5):\n",
        "    data = rotate(data, angle = np.round(np.random.random()*365), reshape=False)\n",
        "  # img = im.fromarray(data)\n",
        "  # return data.flatten()\n",
        "  return data"
      ],
      "execution_count": 6,
      "outputs": []
    },
    {
      "cell_type": "code",
      "metadata": {
        "id": "L4clvgKvbqDH",
        "colab_type": "code",
        "colab": {}
      },
      "source": [
        "def combine_rect(sizes):\n",
        "  data = np.zeros((sizes, sizes), dtype = np.uint8)\n",
        "  if(np.random.random()<= 0.33333333333333333):\n",
        "    data = rec_angle(size = sizes, x = 14+np.round(np.random.uniform(-1,1)*3), y =14+np.round(np.random.uniform(-1,1)*3),  width = 4, height = 8)\n",
        "  else:\n",
        "    data = rect_random(sizes, 255)\n",
        "  # img = im.fromarray(data)\n",
        "  return data.flatten()"
      ],
      "execution_count": 7,
      "outputs": []
    },
    {
      "cell_type": "markdown",
      "metadata": {
        "id": "WQEajUy5c6bS",
        "colab_type": "text"
      },
      "source": [
        "Triangle\n",
        "- default\n",
        "- np.rotate\n",
        "- interploration.rotate\n",
        "- draw.polygon"
      ]
    },
    {
      "cell_type": "code",
      "metadata": {
        "id": "Sz6RGBqmjTTf",
        "colab_type": "code",
        "colab": {}
      },
      "source": [
        "def triang_ang(sizes, x, y):\n",
        "  data = np.zeros((sizes, sizes), dtype = np.uint8)\n",
        "  img = im.fromarray(data)\n",
        "  draw = ImageDraw.Draw(img)\n",
        "  rect = get_rect(x = x, y = y, width = 8, height = 8, angle = round(np.random.random()*365))\n",
        "  tri = rect[0:3]\n",
        "  draw.polygon([tuple(p) for p in tri], fill= 255)\n",
        "  new_data = np.asarray(img)\n",
        "  return new_data"
      ],
      "execution_count": 8,
      "outputs": []
    },
    {
      "cell_type": "code",
      "metadata": {
        "id": "Y3xXrWutyFCf",
        "colab_type": "code",
        "colab": {}
      },
      "source": [
        "def triang_ran(size, color, diagonals = -1):\n",
        "  data = np.zeros((size, size), dtype = np.uint8)\n",
        "  # define a rectangle\n",
        "  start_x, start_y, rows, cols = rect_x_y(8, 8)\n",
        "  # print([start_x, start_y, rows, cols])\n",
        "  while((rows >=28)|(cols >=28)):\n",
        "    start_x, start_y, rows, cols = rect_x_y(8, 8)\n",
        "  # print([start_x, start_y, rows, cols])\n",
        "  data[start_x:rows, start_y:cols] = color\n",
        "  # return lower triangle of rectangle\n",
        "  if(np.random.random()>=0.5):\n",
        "    data[start_x:rows, start_y:cols] = np.tril(data[start_x:rows, start_y:cols], diagonals)\n",
        "  else:\n",
        "    data[start_x:rows, start_y:cols] = np.triu(data[start_x:rows, start_y:cols], diagonals)\n",
        "  data = np.rot90(data, k=np.floor(np.random.uniform(0,4)))\n",
        "  if(np.random.random()<0.5):\n",
        "    data = rotate(data, angle = np.round(np.random.random()*365), reshape=False)\n",
        "  # img = im.fromarray(data)\n",
        "  return data\n",
        "  # return data.flatten()"
      ],
      "execution_count": 9,
      "outputs": []
    },
    {
      "cell_type": "code",
      "metadata": {
        "id": "aN_UJ8WRmFHd",
        "colab_type": "code",
        "colab": {}
      },
      "source": [
        "def combine_trian(sizes):\n",
        "  data = np.zeros((sizes, sizes), dtype = np.uint8)\n",
        "  if(np.random.random()<= 0.33333333333333333):\n",
        "    data = triang_ang(sizes =sizes, x = 14+np.round(np.random.uniform(-1,1)*3), y =14+np.round(np.random.uniform(-1,1)*3))\n",
        "  else:\n",
        "    data = triang_ran(sizes, 255)\n",
        "  # img = im.fromarray(data)\n",
        "  return data.flatten()"
      ],
      "execution_count": 10,
      "outputs": []
    },
    {
      "cell_type": "code",
      "metadata": {
        "id": "KuDFzjZu_Vo8",
        "colab_type": "code",
        "colab": {}
      },
      "source": [
        "def random_shape():\n",
        "  data = np.array([])\n",
        "  name = \"\"\n",
        "  prob = np.random.random_sample()\n",
        "  # print(prob)\n",
        "  if(prob<= 0.33333333333333333):\n",
        "    data = create_circle_random(size = 28,radius= (5+np.round(np.random.uniform(-1,1))))\n",
        "    name = \"C\"\n",
        "  elif((prob> 0.33333333333333333) & (prob<= 0.66666666666666666)):\n",
        "    data = combine_rect(sizes = 28)\n",
        "    name = \"R\"\n",
        "  else:\n",
        "    data = combine_trian(sizes = 28)\n",
        "    name = 'T'\n",
        "  return data, name\n"
      ],
      "execution_count": 14,
      "outputs": []
    },
    {
      "cell_type": "code",
      "metadata": {
        "id": "-iPKe4BdBEsx",
        "colab_type": "code",
        "colab": {}
      },
      "source": [
        "def random_generate(size):\n",
        "  shape_vect = []\n",
        "  shape_name = []\n",
        "  for i in range(size):\n",
        "    s_vect, s_name = random_shape()\n",
        "    shape_vect.append(s_vect)\n",
        "    shape_name.append(s_name)\n",
        "  num_2d_shape = np.array(shape_vect).reshape(-1, 784)\n",
        "  return num_2d_shape, shape_name"
      ],
      "execution_count": 15,
      "outputs": []
    },
    {
      "cell_type": "markdown",
      "metadata": {
        "id": "UNNJ-wlFUwsO",
        "colab_type": "text"
      },
      "source": [
        "##### Visulization of Extended"
      ]
    },
    {
      "cell_type": "code",
      "metadata": {
        "id": "9aRQ0xeAT01v",
        "colab_type": "code",
        "colab": {
          "base_uri": "https://localhost:8080/",
          "height": 626
        },
        "outputId": "846317e7-62ef-460c-81a3-c88acd59ae1a"
      },
      "source": [
        "train_shape, train_name =  random_generate(size = 20)\n",
        "train_shape__ = train_shape.reshape(train_shape.shape[0], 28, 28)\n",
        "fig, axis = plt.subplots(4, 5, figsize = (20, 10))\n",
        "for i, ax in enumerate(axis.flat):\n",
        "  ax.imshow(train_shape__[i], cmap = 'binary')\n",
        "  # digit = y_train[i].argmax()\n",
        "  ax.set(title = f\"real number is {train_name[i]}\")"
      ],
      "execution_count": 27,
      "outputs": [
        {
          "output_type": "stream",
          "text": [
            "col_random is out of bound\n"
          ],
          "name": "stdout"
        },
        {
          "output_type": "display_data",
          "data": {
            "image/png": "[encoded data removed]",
            "text/plain": [
              "<Figure size 1440x720 with 20 Axes>"
            ]
          },
          "metadata": {
            "tags": [],
            "needs_background": "light"
          }
        }
      ]
    },
    {
      "cell_type": "markdown",
      "metadata": {
        "id": "U7sw7PZL_S1J",
        "colab_type": "text"
      },
      "source": [
        "Idea behind Extend\n",
        "- Blur image, different size, different orientation and distortion.\n",
        "  - some looks like hand drawing or mouse drag drawing on the computer.\n",
        "- We don't want model to trained on just few \"identities\" or features of objects.\n",
        "- CNN has to trains the convolution kernels \"intelligently\".\n",
        "- We want model to recognise and understand the \"concept\" of the triangle, rectangle and circle.\n",
        "- We want CNN to recognize the distorted object as human eye can recognize them.\n"
      ]
    },
    {
      "cell_type": "code",
      "metadata": {
        "id": "o_Q1JagYZkho",
        "colab_type": "code",
        "colab": {}
      },
      "source": [
        ""
      ],
      "execution_count": null,
      "outputs": []
    }
  ]
}