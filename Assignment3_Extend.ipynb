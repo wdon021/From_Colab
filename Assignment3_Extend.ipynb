{
  "nbformat": 4,
  "nbformat_minor": 0,
  "metadata": {
    "colab": {
      "name": "Assignment3_Extend.ipynb",
      "provenance": [],
      "authorship_tag": "ABX9TyPljUx8aQ3svsT02jsp5lOJ",
      "include_colab_link": true
    },
    "kernelspec": {
      "name": "python3",
      "display_name": "Python 3"
    }
  },
  "cells": [
    {
      "cell_type": "markdown",
      "metadata": {
        "id": "view-in-github",
        "colab_type": "text"
      },
      "source": [
        "<a href=\"https://colab.research.google.com/github/wdon021/From_Colab/blob/master/Assignment3_Extend.ipynb\" target=\"_parent\"><img src=\"https://colab.research.google.com/assets/colab-badge.svg\" alt=\"Open In Colab\"/></a>"
      ]
    },
    {
      "cell_type": "code",
      "metadata": {
        "id": "SrWisMJJuu5W",
        "colab_type": "code",
        "colab": {}
      },
      "source": [
        "import numpy as np\n",
        "# import scipy.misc as smp\n",
        "from PIL import Image as im\n",
        "import matplotlib.pyplot as plt\n",
        "%matplotlib inline\n",
        "from IPython.display import Image, display\n",
        "import pandas as pd\n",
        "from scipy.ndimage.interpolation import rotate\n",
        "from PIL import ImageDraw"
      ],
      "execution_count": 2,
      "outputs": []
    },
    {
      "cell_type": "markdown",
      "metadata": {
        "id": "zBsk7xXvvHt1",
        "colab_type": "text"
      },
      "source": [
        "Circle (randomly)\n",
        "- default\n",
        "- rotated blur circle\n",
        "- different size"
      ]
    },
    {
      "cell_type": "code",
      "metadata": {
        "id": "hCkUm2xEvG3d",
        "colab_type": "code",
        "colab": {}
      },
      "source": [
        "def create_circle_random(size = 28, radius = 5, color = 255):\n",
        "  k = np.random.random_sample(size=2)\n",
        "  col_random = np.int(16*k[0])+6\n",
        "  row_random = np.int(16*k[1])+6\n",
        "  data = np.zeros((size, size), dtype = np.uint8)\n",
        "  ci,cj = row_random, col_random\n",
        "  cr = radius\n",
        "  # cr = round(np.round(radius+np.random.random()))\n",
        "  # if(np.random.random()>0.5):\n",
        "  #   cr = np.round(radius-np.random.random()*2)\n",
        "  if(((col_random+cr)>=28) | ((col_random-cr)<1)):\n",
        "    print(\"col_random is out of bound\")\n",
        "  if(((row_random+cr)>=28) | ((row_random-cr)<1)):\n",
        "    print(\"row_random is out of bound\")\n",
        "  I,J = np.meshgrid(np.arange(data.shape[0]), np.arange(data.shape[1]))\n",
        "  # basic formula for a circle (x - a)**2 + (y - b)**2 = r**2\n",
        "  # calculate the radius\n",
        "  dist = np.sqrt((I-ci)**2 +(J-cj)**2)\n",
        "  # Assign value of any for those points within radius\n",
        "  data[np.where(dist<cr)] = color\n",
        "  if(np.random.random()>0.5):\n",
        "    data = rotate(data, angle = np.random.random()*365, reshape=False)\n",
        "  img = im.fromarray(data)\n",
        "  return img"
      ],
      "execution_count": 127,
      "outputs": []
    },
    {
      "cell_type": "code",
      "metadata": {
        "id": "0R8AhK87r-fx",
        "colab_type": "code",
        "colab": {
          "base_uri": "https://localhost:8080/",
          "height": 334
        },
        "outputId": "0f6cfdcd-4ebe-4ed1-9e7d-745facb002e5"
      },
      "source": [
        "img = create_circle_random(size = 280,radius= (50+np.round(np.random.uniform(-1,1)*5)))\n",
        "img"
      ],
      "execution_count": 265,
      "outputs": [
        {
          "output_type": "stream",
          "text": [
            "col_random is out of bound\n",
            "row_random is out of bound\n"
          ],
          "name": "stdout"
        },
        {
          "output_type": "execute_result",
          "data": {
            "image/png": "[encoded data removed]",
            "text/plain": [
              "<PIL.Image.Image image mode=L size=280x280 at 0x7FF542D7C828>"
            ]
          },
          "metadata": {
            "tags": []
          },
          "execution_count": 265
        }
      ]
    },
    {
      "cell_type": "markdown",
      "metadata": {
        "id": "jx3qyg9-xpqG",
        "colab_type": "text"
      },
      "source": [
        "Rectangle\n",
        "- default\n",
        "- numpy.rotate"
      ]
    },
    {
      "cell_type": "code",
      "metadata": {
        "id": "LEZJiq6PxryG",
        "colab_type": "code",
        "colab": {}
      },
      "source": [
        "def rect_x_y(height, width):\n",
        "  k = np.random.random_sample(size=2)\n",
        "  start_x = np.int(20*k[0])\n",
        "  start_y = np.int(20*k[1])\n",
        "  rows = start_x + height \n",
        "  cols = start_y + width\n",
        "  return start_x, start_y, rows, cols"
      ],
      "execution_count": 76,
      "outputs": []
    },
    {
      "cell_type": "code",
      "metadata": {
        "id": "JMO1fDWBO0eh",
        "colab_type": "code",
        "colab": {}
      },
      "source": [
        "def get_rect(x, y, width, height, angle):\n",
        "  rect = np.array([(0, 0), (width, 0), (width, height), (0, height), (0, 0)])\n",
        "  theta = (np.pi / 180.0) * angle\n",
        "  R = np.array([[np.cos(theta), -np.sin(theta)], [np.sin(theta), np.cos(theta)]])\n",
        "  offset = np.array([x, y])\n",
        "  transformed_rect = np.dot(rect, R) + offset\n",
        "  return transformed_rect"
      ],
      "execution_count": 183,
      "outputs": []
    },
    {
      "cell_type": "code",
      "metadata": {
        "id": "aD9JI77sO_2b",
        "colab_type": "code",
        "colab": {}
      },
      "source": [
        "def rec_angle(size, x, y, width, height):\n",
        "  angles = np.round(np.random.random()*365)\n",
        "  data = np.zeros((size, size), dtype = np.uint8)\n",
        "  img = im.fromarray(data)\n",
        "  draw = ImageDraw.Draw(img)\n",
        "  rect = get_rect(x = x, y = y, width = width, height = height, angle = angles)\n",
        "  # rect1 = rect[0:4]\n",
        "  draw.polygon([tuple(p) for p in rect], fill= 255)\n",
        "  new_data = np.asarray(img)\n",
        "  return new_data"
      ],
      "execution_count": 266,
      "outputs": []
    },
    {
      "cell_type": "code",
      "metadata": {
        "id": "QHHTPNJCx7fr",
        "colab_type": "code",
        "colab": {}
      },
      "source": [
        "def rect_random(size, color):\n",
        "  data = np.zeros((size, size), dtype = np.uint8)\n",
        "  # x1, y1, x2, y2 = 0, 0, 0, 0\n",
        "  x1, y1, x2, y2 = rect_x_y(4, 8)\n",
        "  # print([x1, y1, x2, y2 ])\n",
        "  while((x2 >=28)|(y2 >=28)):\n",
        "    x1, y1, x2, y2 = rect_x_y(4, 8)\n",
        "  # print([x1, y1, x2, y2 ])\n",
        "  data[x1:x2, y1:y2] = color\n",
        "  data = np.rot90(data, k=np.round(np.random.random()*3))\n",
        "  if(np.random.random()>0.5):\n",
        "    data = rotate(data, angle = np.round(np.random.random()*365), reshape=False)\n",
        "  # img = im.fromarray(data)\n",
        "  # return data.flatten()\n",
        "  return data"
      ],
      "execution_count": 267,
      "outputs": []
    },
    {
      "cell_type": "code",
      "metadata": {
        "id": "L4clvgKvbqDH",
        "colab_type": "code",
        "colab": {}
      },
      "source": [
        "def combine_rect():\n",
        "  data = np.zeros((size, size), dtype = np.uint8)\n",
        "  if(np.random.random()<= 0.33333333333333333):\n",
        "    data = rec_angle(size = 28, x = 14+np.round(np.random.uniform(-1,1)*3), y =14+np.round(np.random.uniform(-1,1)*3),  width = 4, height = 8)\n",
        "  else:\n",
        "    data = rect_random(28, 255)\n",
        "  img = im.fromarray(data)\n",
        "  return img"
      ],
      "execution_count": 397,
      "outputs": []
    },
    {
      "cell_type": "markdown",
      "metadata": {
        "id": "WQEajUy5c6bS",
        "colab_type": "text"
      },
      "source": [
        "Triangle\n",
        "- default\n",
        "- np.rotate\n",
        "- interploration.rotate\n",
        "- draw.polygon"
      ]
    },
    {
      "cell_type": "code",
      "metadata": {
        "id": "Sz6RGBqmjTTf",
        "colab_type": "code",
        "colab": {}
      },
      "source": [
        "def triang_ang(sizes, x, y):\n",
        "  data = np.zeros((sizes, sizes), dtype = np.uint8)\n",
        "  img = im.fromarray(data)\n",
        "  draw = ImageDraw.Draw(img)\n",
        "  rect = get_rect(x = x, y = y, width = 8, height = 8, angle = round(np.random.random()*365))\n",
        "  tri = rect[0:3]\n",
        "  draw.polygon([tuple(p) for p in tri], fill= 255)\n",
        "  new_data = np.asarray(img)\n",
        "  return new_data"
      ],
      "execution_count": 398,
      "outputs": []
    },
    {
      "cell_type": "code",
      "metadata": {
        "id": "nXZjlQu8lHrh",
        "colab_type": "code",
        "colab": {}
      },
      "source": [
        "triang_ang(sizes = 28, x = 14+np.round(np.random.uniform(-1,1)*3), y =14+np.round(np.random.uniform(-1,1)*3))"
      ],
      "execution_count": null,
      "outputs": []
    },
    {
      "cell_type": "code",
      "metadata": {
        "id": "Y3xXrWutyFCf",
        "colab_type": "code",
        "colab": {}
      },
      "source": [
        "def triang_ran(size, color, diagonals = -1):\n",
        "  data = np.zeros((size, size), dtype = np.uint8)\n",
        "  # define a rectangle\n",
        "  start_x, start_y, rows, cols = rect_x_y(8, 8)\n",
        "  # print([start_x, start_y, rows, cols])\n",
        "  while((rows >=28)|(cols >=28)):\n",
        "    start_x, start_y, rows, cols = rect_x_y(8, 8)\n",
        "  # print([start_x, start_y, rows, cols])\n",
        "  data[start_x:rows, start_y:cols] = color\n",
        "  # return lower triangle of rectangle\n",
        "  if(np.random.random()>=0.5):\n",
        "    data[start_x:rows, start_y:cols] = np.tril(data[start_x:rows, start_y:cols], diagonals)\n",
        "  else:\n",
        "    data[start_x:rows, start_y:cols] = np.triu(data[start_x:rows, start_y:cols], diagonals)\n",
        "  data = np.rot90(data, k=np.floor(np.random.uniform(0,4)))\n",
        "  if(np.random.random()<0.5):\n",
        "    data = rotate(data, angle = np.round(np.random.random()*365), reshape=False)\n",
        "  # img = im.fromarray(data)\n",
        "  return data\n",
        "  # return data.flatten()"
      ],
      "execution_count": 401,
      "outputs": []
    },
    {
      "cell_type": "code",
      "metadata": {
        "id": "kKCVm5PzepSC",
        "colab_type": "code",
        "colab": {
          "base_uri": "https://localhost:8080/",
          "height": 45
        },
        "outputId": "4ab54697-808e-4bef-abb9-1aea7bbd081a"
      },
      "source": [
        "triang_ran(28, 255)"
      ],
      "execution_count": 395,
      "outputs": [
        {
          "output_type": "execute_result",
          "data": {
            "image/png": "[encoded data removed]",
            "text/plain": [
              "<PIL.Image.Image image mode=L size=28x28 at 0x7FF54AABE668>"
            ]
          },
          "metadata": {
            "tags": []
          },
          "execution_count": 395
        }
      ]
    },
    {
      "cell_type": "code",
      "metadata": {
        "id": "aN_UJ8WRmFHd",
        "colab_type": "code",
        "colab": {}
      },
      "source": [
        "def combine_trian():\n",
        "  data = np.zeros((size, size), dtype = np.uint8)\n",
        "  if(np.random.random()<= 0.33333333333333333):\n",
        "    data = triang_ang(sizes = 28, x = 14+np.round(np.random.uniform(-1,1)*3), y =14+np.round(np.random.uniform(-1,1)*3))\n",
        "  else:\n",
        "    data = triang_ran(28, 255)\n",
        "  img = im.fromarray(data)\n",
        "  return img"
      ],
      "execution_count": 402,
      "outputs": []
    },
    {
      "cell_type": "code",
      "metadata": {
        "id": "T8Sy6ZMcmjMz",
        "colab_type": "code",
        "colab": {
          "base_uri": "https://localhost:8080/",
          "height": 45
        },
        "outputId": "846ddd14-a878-4695-e9cd-45a1bfa4208f"
      },
      "source": [
        "combine_trian()"
      ],
      "execution_count": 404,
      "outputs": [
        {
          "output_type": "execute_result",
          "data": {
            "image/png": "[encoded data removed]",
            "text/plain": [
              "<PIL.Image.Image image mode=L size=28x28 at 0x7FF542E07940>"
            ]
          },
          "metadata": {
            "tags": []
          },
          "execution_count": 404
        }
      ]
    }
  ]
}